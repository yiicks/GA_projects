{
 "cells": [
  {
   "cell_type": "markdown",
   "id": "a170532d",
   "metadata": {
    "id": "3Rzbk6F3nzyk"
   },
   "source": [
    "# Maps\n",
    "Additional visualizations using maps and datasets.<br><br>\n",
    "*WNV: West Nile Virus*\n",
    "\n",
    "*Data sources: [Kaggle -- Link](https://www.kaggle.com/c/predict-west-nile-virus/)*"
   ]
  },
  {
   "cell_type": "markdown",
   "id": "5fe0cad2",
   "metadata": {},
   "source": [
    "## Organization\n",
    "**Across the Project**\n",
    "1. [Cleaning, Exploratory Visualizations, and Export]('./01_cleaning_eda.ipynb')\n",
    "2. **Maps (Visualizations) (Current Notebook)**\n",
    "3. [Models and Conclusions]('./03_models.ipynb')\n",
    "\n",
    "**Within this Notebook**\n",
    "1. [Import](#Import)\n",
    "1. [Mapping](#Mapping)\n",
    "1. [Mapping: Dataframes](#Map-Dataframes)\n",
    "1. [Map Plot 1: 2011 WNV vs Sprays](#Plot-1:-2011-WNV-vs-Sprays)\n",
    "1. [Map Plot 2: 2013 WNV vs Sprays](#Plot-2:-2011-WNV-vs-Sprays)\n",
    "1. [Map Plot 3: 2011 Number of Mosquitoes and WNV areas](#Plot-3:-2011-Number-of-Mosquitoes-(Blue)-vs-WNV-detected-(Cyan))\n",
    "1. [Map Plot 4: 2011 Number of Mosquitoes and WNV areas](#Plot-4:-2013-Number-of-Mosquitoes-(Pink)-vs-WNV-detected-(Red))\n",
    "1. [Map Plot 5: (GIF) 2013 mosquitoes over time](#Plot-5:-2013-Number-of-Mosquitoes-over-time)\n",
    "1. [Map Plot 5: (GIF) 2013 Locations where WNV is detected over time](#Plot-6:-2013-Locations-where-WNV-is-detected-over-time)"
   ]
  },
  {
   "cell_type": "markdown",
   "id": "c978befe",
   "metadata": {},
   "source": [
    "## Summary of Findings\n",
    "\n",
    "1. Using maps in visualization are effective in expressing relative proximity and size. This was useful in illustrating mosquito vectors and presence of West Nile virus clusters within these vectors.\n",
    "1. By stitching map overlays into GIF loops, they also provide a way to interpret changes over time.\n",
    "1. However, while chronological changes are easy to read, the underlying causality and correlation between datasets available are less obvious. For example,  when dealing with many clusters, are not as effective in helping readers discern correlation accurately."
   ]
  },
  {
   "cell_type": "markdown",
   "id": "9a3b36ec",
   "metadata": {
    "id": "Yod8jj-_QwbV"
   },
   "source": [
    "#### Import"
   ]
  },
  {
   "cell_type": "code",
   "execution_count": null,
   "id": "c4787d3f",
   "metadata": {
    "colab": {
     "base_uri": "https://localhost:8080/"
    },
    "id": "yccs9vD1Nv9K",
    "outputId": "86ab9530-1295-4070-be1b-7399c4b63a23"
   },
   "outputs": [],
   "source": [
    "import pandas as pd\n",
    "import matplotlib.pyplot as plt\n",
    "import numpy as np\n",
    "import seaborn as sns\n",
    "# !pip install Pillow\n",
    "import PIL"
   ]
  },
  {
   "cell_type": "code",
   "execution_count": null,
   "id": "df46e19d",
   "metadata": {},
   "outputs": [],
   "source": [
    "# %reset"
   ]
  },
  {
   "cell_type": "markdown",
   "id": "dc2ee5bc",
   "metadata": {
    "id": "m_VXRMpSQ5c_"
   },
   "source": [
    "#### Import Datasets"
   ]
  },
  {
   "cell_type": "code",
   "execution_count": null,
   "id": "a6f3998e",
   "metadata": {
    "id": "D0uJ6S4RNwhk"
   },
   "outputs": [],
   "source": [
    "# Import datasets\n",
    "train_df = pd.read_csv('../datasets/final_train.csv', parse_dates=['date'], index_col=['date'])\n",
    "spray_df = pd.read_csv('../datasets/spray_clean.csv', parse_dates=['date'], index_col=['date'])"
   ]
  },
  {
   "cell_type": "code",
   "execution_count": null,
   "id": "9f2a0682",
   "metadata": {},
   "outputs": [],
   "source": [
    "train_df = train_df.drop(columns='Unnamed: 0')"
   ]
  },
  {
   "cell_type": "code",
   "execution_count": null,
   "id": "68db617e",
   "metadata": {},
   "outputs": [],
   "source": [
    "train_df.head().T"
   ]
  },
  {
   "cell_type": "code",
   "execution_count": null,
   "id": "47420cfd",
   "metadata": {},
   "outputs": [],
   "source": [
    "# view spray df\n",
    "spray_df.head().T"
   ]
  },
  {
   "cell_type": "code",
   "execution_count": null,
   "id": "1e764039",
   "metadata": {},
   "outputs": [],
   "source": [
    "# check Datetime Index\n",
    "train_df.index"
   ]
  },
  {
   "cell_type": "code",
   "execution_count": null,
   "id": "22736e4d",
   "metadata": {},
   "outputs": [],
   "source": [
    "# check Datetime Index\n",
    "spray_df.index"
   ]
  },
  {
   "cell_type": "markdown",
   "id": "16b165d8",
   "metadata": {},
   "source": [
    "[Back to top](#Organization)"
   ]
  },
  {
   "cell_type": "markdown",
   "id": "cf24bf5b",
   "metadata": {},
   "source": [
    "### Mapping"
   ]
  },
  {
   "cell_type": "markdown",
   "id": "1855fea6",
   "metadata": {},
   "source": [
    "#### Mapping function"
   ]
  },
  {
   "cell_type": "code",
   "execution_count": null,
   "id": "d1d93120",
   "metadata": {},
   "outputs": [],
   "source": [
    "# Define mapping function\n",
    "# Adapted code; Credit: https://www.kaggle.com/jbobtaylor/show-map-image-in-python\n",
    "def chicago_map_plot(lats1, longs1, fig_title, output_path,\n",
    "                     color1='r', color2='b', \n",
    "                     lats2=[], longs2=[], \n",
    "                     size1=20, size2=20,\n",
    "                     marker1='x', marker2=',',\n",
    "                     alpha1=0.02, alpha2=0.02,\n",
    "                     map_size=(16,10), \n",
    "                     map_base_filepath = '../datasets/mapdata_copyright_openstreetmap_contributors.txt',\n",
    "                     intersection = [41.909614, -87.746134],  # intersection of IL64 / IL50 from Google Earth\n",
    "                     **kwargs):\n",
    "    # initialize map coordinates\n",
    "    origin = [41.6, -88.0]      # lat/long of origin (lower left corner)\n",
    "    upperRight = [42.1, -87.5]  # lat/long of upper right corner\n",
    "    # load map\n",
    "    mapdata = np.loadtxt(map_base_filepath)\n",
    "\n",
    "\n",
    "# if any data generation needed\n",
    "# numPoints = 50\n",
    "# lats = (upperRight[0] - origin[0]) * np.random.random_sample(numPoints) + origin[0]\n",
    "# longs = (upperRight[1] - origin[1]) * np.random.random_sample(numPoints) + origin[1]\n",
    "\n",
    "# co-ordinates of blue dot (origin / intersection / reference point)\n",
    "    plt.figure(figsize=map_size)\n",
    "    plt.scatter(x=intersection[1], y=intersection[0], c='black', s=60, marker='s', **kwargs)\n",
    "\n",
    "    # generate plot\n",
    "    \n",
    "    plt.imshow(mapdata,\n",
    "               cmap=plt.get_cmap('gray'),\n",
    "               extent=[\n",
    "                   origin[1],\n",
    "                   upperRight[1],\n",
    "                   origin[0],\n",
    "                   upperRight[0]\n",
    "               ])\n",
    "    # generate red points\n",
    "    plt.scatter(x=longs1, y=lats1, c=color1, s=size1, marker=marker1, alpha=alpha1, **kwargs)\n",
    "\n",
    "    # generate blue points\n",
    "    plt.scatter(x=longs2, y=lats2, c=color2, s=size2, marker=marker2, alpha=alpha2, **kwargs)\n",
    "\n",
    "    #plt.show()\n",
    "    plt.title(fig_title)\n",
    "    plt.tight_layout()\n",
    "    plt.savefig(output_path)"
   ]
  },
  {
   "cell_type": "code",
   "execution_count": null,
   "id": "caf23eb7",
   "metadata": {},
   "outputs": [],
   "source": [
    "# creating gif-ify function\n",
    "# Source credit: https://www.blog.pythonlibrary.org/2021/06/23/creating-an-animated-gif-with-python/\n",
    "\n",
    "import glob\n",
    "from PIL import Image\n",
    "\n",
    "def make_gif(frame_folder,\n",
    "             output_filepath,\n",
    "             time_per_frame=1000,\n",
    "             loops=0,\n",
    "             gif_frame_filetype = 'jpg'):\n",
    "    # form list of Image objects\n",
    "    frames = [Image.open(image) for image in glob.glob(f\"{frame_folder}/*.{gif_frame_filetype}\")]\n",
    "    frames[0].save(\n",
    "        output_filepath,\n",
    "        format=\"GIF\",\n",
    "        append_images=frames,\n",
    "        save_all=True,\n",
    "        duration=time_per_frame,  # in ms\n",
    "        loop=loops                # number of times to loop\n",
    "    )"
   ]
  },
  {
   "cell_type": "markdown",
   "id": "23e558c4",
   "metadata": {},
   "source": [
    "[Back to top](#Organization)"
   ]
  },
  {
   "cell_type": "markdown",
   "id": "67c1c258",
   "metadata": {},
   "source": [
    "#### Map Dataframes"
   ]
  },
  {
   "cell_type": "markdown",
   "id": "80b6ab16",
   "metadata": {},
   "source": [
    "Generate relevant dataframes for plotting."
   ]
  },
  {
   "cell_type": "code",
   "execution_count": null,
   "id": "4673b7de",
   "metadata": {},
   "outputs": [],
   "source": [
    "wnv_train_df = train_df[['latitude', 'longitude', 'wnvpresent']][train_df['wnvpresent'] == 1]"
   ]
  },
  {
   "cell_type": "code",
   "execution_count": null,
   "id": "00d192fe",
   "metadata": {},
   "outputs": [],
   "source": [
    "wnv_train_df"
   ]
  },
  {
   "cell_type": "code",
   "execution_count": null,
   "id": "0aa36895",
   "metadata": {
    "scrolled": true
   },
   "outputs": [],
   "source": [
    "totalmozzies_lat_long = train_df[['nummosquitos', 'latitude', 'longitude']]"
   ]
  },
  {
   "cell_type": "code",
   "execution_count": null,
   "id": "a72ed78b",
   "metadata": {},
   "outputs": [],
   "source": [
    "totalmozzies_lat_long.sample(5)"
   ]
  },
  {
   "cell_type": "code",
   "execution_count": null,
   "id": "907a2c43",
   "metadata": {},
   "outputs": [],
   "source": [
    "# explore rows beyond map boundaries\n",
    "spray_df[spray_df['latitude'] > 42.1]"
   ]
  },
  {
   "cell_type": "code",
   "execution_count": null,
   "id": "169b67ae",
   "metadata": {},
   "outputs": [],
   "source": [
    "# drop rows beyond map boundaries\n",
    "spray_df_map = spray_df.drop(index=spray_df[spray_df['latitude'] > 42.1].index)"
   ]
  },
  {
   "cell_type": "markdown",
   "id": "355f826a",
   "metadata": {},
   "source": [
    "[Back to top](#Organization)"
   ]
  },
  {
   "cell_type": "markdown",
   "id": "12d191ba",
   "metadata": {},
   "source": [
    "## Visualizations"
   ]
  },
  {
   "cell_type": "markdown",
   "id": "53fe1416",
   "metadata": {},
   "source": [
    "Code to plot files attached, although not embedded so as to keep notebook file size small."
   ]
  },
  {
   "cell_type": "markdown",
   "id": "a1442129",
   "metadata": {},
   "source": [
    "#### Plot 1: 2011 WNV vs Sprays"
   ]
  },
  {
   "cell_type": "markdown",
   "id": "8a8fbf78",
   "metadata": {},
   "source": [
    "- 2011 sprays were concentrated only one area, indicating the city may have focused efforts on an arbitrary large cluster with WNV.\n",
    "- WNV clusters spread out across Chicago, not just the downtown."
   ]
  },
  {
   "cell_type": "code",
   "execution_count": null,
   "id": "abe6fe40",
   "metadata": {
    "scrolled": true
   },
   "outputs": [],
   "source": [
    "chicago_map_plot(lats1=wnv_train_df.loc['2011']['latitude'],\n",
    "                 longs1=wnv_train_df.loc['2011']['longitude'],\n",
    "                 alpha1=1, size1=1000, marker1 = '$wnv$',\n",
    "                 alpha2=0.02, size2=1000, marker2='x',\n",
    "                 lats2=spray_df_map.loc['2011']['latitude'],\n",
    "                 longs2=spray_df_map.loc['2011']['longitude'],\n",
    "                 map_size=(16,20),\n",
    "                 fig_title='WNV in 2011 (Red) vs Sprays in 2011 (Blue)',\n",
    "                 output_path='../images/map_wnv_2011_vs_sprays_2011.png')"
   ]
  },
  {
   "cell_type": "markdown",
   "id": "9ba457a5",
   "metadata": {},
   "source": [
    "![WNV vs Sprays 2011](../images/map_wnv_2011_vs_sprays_2011.png \"WNV vs Sprays 2011\")"
   ]
  },
  {
   "cell_type": "markdown",
   "id": "feaf7f08",
   "metadata": {},
   "source": [
    "[Back to top](#Organization)"
   ]
  },
  {
   "cell_type": "markdown",
   "id": "87380687",
   "metadata": {},
   "source": [
    "#### Plot 2: 2013 WNV vs Sprays"
   ]
  },
  {
   "cell_type": "markdown",
   "id": "45b72303",
   "metadata": {},
   "source": [
    "- 2013 sprays were spread out across more clusters but it is not clear from map visualizations that there were effective results.\n",
    "- However, from plots of spray times and mosquito populations in the previous [notebook](#Organization), the sprays did not seem to show clear effectiveness in managing mosquito vectors."
   ]
  },
  {
   "cell_type": "code",
   "execution_count": null,
   "id": "8c8395b0",
   "metadata": {
    "scrolled": true
   },
   "outputs": [],
   "source": [
    "chicago_map_plot(lats1=wnv_train_df.loc['2013']['latitude'],\n",
    "                 longs1=wnv_train_df.loc['2013']['longitude'],\n",
    "                 alpha1=1, size1=1000, marker1 = '$wnv$',\n",
    "                 alpha2=0.02, size2=1000, marker2='x',\n",
    "                 lats2=spray_df_map.loc['2013']['latitude'],\n",
    "                 longs2=spray_df_map.loc['2013']['longitude'],\n",
    "                 map_size=(16,20),\n",
    "                 fig_title='WNV in 2013 (Red) vs Sprays in 2013 (Blue)',\n",
    "                 output_path='../images/map_wnv_2013_vs_sprays_2013.png')"
   ]
  },
  {
   "cell_type": "markdown",
   "id": "4bf000ea",
   "metadata": {},
   "source": [
    "![WNV vs Sprays 2013](../images/map_wnv_2013_vs_sprays_2013.png \"WNV vs Sprays 2011\")"
   ]
  },
  {
   "cell_type": "markdown",
   "id": "b80f93ca",
   "metadata": {},
   "source": [
    "[Back to top](#Organization)"
   ]
  },
  {
   "cell_type": "markdown",
   "id": "9cb7422a",
   "metadata": {},
   "source": [
    "#### Plot 3: 2011 Number of Mosquitoes (Blue) vs WNV detected (Cyan)"
   ]
  },
  {
   "cell_type": "markdown",
   "id": "3fabf564",
   "metadata": {},
   "source": [
    "- WNV appears in a number of mosquito clusters, but there are still many clusters where WNV was not detected (at least in 2011)."
   ]
  },
  {
   "cell_type": "code",
   "execution_count": null,
   "id": "a72b6541",
   "metadata": {},
   "outputs": [],
   "source": [
    "chicago_map_plot(lats2=wnv_train_df.loc['2011']['latitude'],\n",
    "                 longs2=wnv_train_df.loc['2011']['longitude'],\n",
    "                 alpha2=1, size2=1000, marker2 = '$wnv$', color2='cyan',\n",
    "                 alpha1=0.3, color1='blue', marker1='o',\n",
    "                 size1=[\n",
    "                     5*i for i in totalmozzies_lat_long.loc['2011']['nummosquitos']\n",
    "                 ],\n",
    "                 lats1=totalmozzies_lat_long['2011']['latitude'],\n",
    "                 longs1=totalmozzies_lat_long['2011']['longitude'],\n",
    "                 map_size=(16,20),\n",
    "                 fig_title='2011 Number of Mosquitoes (Blue) vs WNV detected (Cyan)',\n",
    "                 output_path='../images/map_2011nummozzies_vs_wnv.png')"
   ]
  },
  {
   "cell_type": "markdown",
   "id": "4c73982a",
   "metadata": {},
   "source": [
    "![2011 Number of Mosquitoes (Blue) vs WNV detected (Cyan)](../images/map_2011nummozzies_vs_wnv.png \"2011 Number of Mosquitoes (Blue) vs WNV detected (Cyan)\")"
   ]
  },
  {
   "cell_type": "markdown",
   "id": "13f4ef0b",
   "metadata": {},
   "source": [
    "[Back to top](#Organization)"
   ]
  },
  {
   "cell_type": "markdown",
   "id": "b1e017f6",
   "metadata": {},
   "source": [
    "#### Plot 4: 2013 Number of Mosquitoes (Pink) vs WNV detected (Red)"
   ]
  },
  {
   "cell_type": "markdown",
   "id": "8fab76f3",
   "metadata": {},
   "source": [
    "- WNV seems to have spread to most mosquito clusters since 2011."
   ]
  },
  {
   "cell_type": "code",
   "execution_count": null,
   "id": "00243691",
   "metadata": {},
   "outputs": [],
   "source": [
    "chicago_map_plot(lats2=wnv_train_df.loc['2013']['latitude'],\n",
    "                 longs2=wnv_train_df.loc['2013']['longitude'],\n",
    "                 alpha2=1, size2=1000, marker2 = '$wnv$', color2='red',\n",
    "                 alpha1=0.3, color1='pink', marker1='o',\n",
    "                 size1=[\n",
    "                     5*i for i in totalmozzies_lat_long.loc['2013']['nummosquitos']\n",
    "                 ],\n",
    "                 lats1=totalmozzies_lat_long['2013']['latitude'],\n",
    "                 longs1=totalmozzies_lat_long['2013']['longitude'],\n",
    "                 map_size=(16,20),\n",
    "                 fig_title='2013 Number of Mosquitoes (Pink) vs WNV detected (Red)',\n",
    "                 output_path='../images/map_2013nummozzies_vs_wnv.png')"
   ]
  },
  {
   "cell_type": "markdown",
   "id": "38d71798",
   "metadata": {},
   "source": [
    "![2013 Number of Mosquitoes (Pink) vs WNV detected (Red)](../images/map_2013nummozzies_vs_wnv.png \"2013 Number of Mosquitoes (Pink) vs WNV detected (Red)\")"
   ]
  },
  {
   "cell_type": "markdown",
   "id": "075704cd",
   "metadata": {},
   "source": [
    "[Back to top](#Organization)"
   ]
  },
  {
   "cell_type": "markdown",
   "id": "a221c041",
   "metadata": {},
   "source": [
    "#### Plot 5: 2013 Number of Mosquitoes over time"
   ]
  },
  {
   "cell_type": "code",
   "execution_count": null,
   "id": "45d5dcd5",
   "metadata": {
    "scrolled": true
   },
   "outputs": [],
   "source": [
    "for i in [date for date in totalmozzies_lat_long.loc['2013'].index.unique()]:\n",
    "    year = '2013'\n",
    "    chicago_map_plot(lats1=totalmozzies_lat_long.loc[i]['latitude'],\n",
    "                     longs1=totalmozzies_lat_long.loc[i]['longitude'],\n",
    "                     alpha1=1,\n",
    "                     map_size=(16,20), marker1='o',\n",
    "                     size1=[\n",
    "                         3*i for i in totalmozzies_lat_long['2013'].loc[i]['nummosquitos']\n",
    "                     ],\n",
    "                     fig_title=f'Mozzies (in red) on {year}-{str([i])}',\n",
    "                     output_path=f'../images/gif_frames/total_mozzies_yr{year}_{str(i)[:10]}.jpg')"
   ]
  },
  {
   "cell_type": "code",
   "execution_count": null,
   "id": "867908dd",
   "metadata": {},
   "outputs": [],
   "source": [
    "if __name__ == '__main__':\n",
    "    make_gif(frame_folder='../images/gif_frames/',\n",
    "             output_filepath='../images/total_mozzies_2013_over_time.gif')"
   ]
  },
  {
   "cell_type": "markdown",
   "id": "72b5f79e",
   "metadata": {},
   "source": [
    "Taking a GIF loop of 2013 mosquito vector development; some observations below:\n",
    "- Growth in vectors peak in July / August then wanes towards the end of September,\n",
    "- A few large inland mosquito vectors; these may be worth investigating further to see if sprays will be effective to manage those clusters. Notably, there is still natural waning of mosquito population towards winter time.\n",
    "- Vectors seem to have developed along the coast but this could also be related to how traps were laid."
   ]
  },
  {
   "cell_type": "markdown",
   "id": "bfa3b120",
   "metadata": {},
   "source": [
    "![2013 mozzies over time](../images/total_mozzies_2013_over_time.gif' \"2013 mozzies over time\")"
   ]
  },
  {
   "cell_type": "markdown",
   "id": "6a03a9e4",
   "metadata": {},
   "source": [
    "[Back to top](#Organization)"
   ]
  },
  {
   "cell_type": "markdown",
   "id": "9fda7357",
   "metadata": {},
   "source": [
    "#### Plot 6: 2013 Locations where WNV is detected over time"
   ]
  },
  {
   "cell_type": "markdown",
   "id": "fe3556d5",
   "metadata": {},
   "source": [
    "- Peak detected locations for WNV in August which wanes towards September."
   ]
  },
  {
   "cell_type": "code",
   "execution_count": null,
   "id": "abd1d713",
   "metadata": {
    "scrolled": true
   },
   "outputs": [],
   "source": [
    "for i in [date for date in wnv_train_df.loc['2013'].index.unique()]:\n",
    "    year = '2013'\n",
    "    chicago_map_plot(lats1=wnv_train_df.loc[i]['latitude'],\n",
    "                     longs1=wnv_train_df.loc[i]['longitude'],\n",
    "                     alpha1=1,\n",
    "                     map_size=(16,20), marker1='$wnv$',\n",
    "                     size1=500,\n",
    "                     fig_title=f'WNV (in red) on {year}-{str([i])}',\n",
    "                     output_path=f'./images/gif_frames2/wnv_over_time_{year}_{str(i)[:10]}.jpg')"
   ]
  },
  {
   "cell_type": "code",
   "execution_count": null,
   "id": "55f5759f",
   "metadata": {},
   "outputs": [],
   "source": [
    "if __name__ == '__main__':\n",
    "    make_gif(frame_folder='../images/gif_frames2/',\n",
    "             output_filepath='../images/wnv_over_time_2013.gif')"
   ]
  },
  {
   "cell_type": "markdown",
   "id": "0b914e38",
   "metadata": {},
   "source": [
    "![2013 WNV over time](../images/wnv_over_time_2013.gif \"2013 WNV over time\")"
   ]
  }
 ],
 "metadata": {
  "kernelspec": {
   "display_name": "Python 3",
   "language": "python",
   "name": "python3"
  },
  "language_info": {
   "codemirror_mode": {
    "name": "ipython",
    "version": 3
   },
   "file_extension": ".py",
   "mimetype": "text/x-python",
   "name": "python",
   "nbconvert_exporter": "python",
   "pygments_lexer": "ipython3",
   "version": "3.8.8"
  }
 },
 "nbformat": 4,
 "nbformat_minor": 5
}
