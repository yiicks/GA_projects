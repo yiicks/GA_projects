{
 "cells": [
  {
   "cell_type": "markdown",
   "id": "725840e1",
   "metadata": {},
   "source": [
    "<a id = 'Content'><a/>\n",
    "### Contents:\n",
    "- [1.0 Imports and Functions](#1.0)\n",
    "- [2.0 Models](#2.0)\n",
    "    - [2.1 Random Forest Regular](#2.1)\n",
    "    - [2.2 Gradient Boost Regular](#2.2)\n",
    "    - [2.3 PCA model setup](#2.3)\n",
    "    - [2.4 Gradient Boost w/poly features+PCA](#2.4)\n",
    "    - [2.5 Log Reg w/poly features+smote+PCA](#2.5)\n",
    "    - [2.6 Random Forest w/smotetomek+PCA](#2.6)\n",
    "    - [2.7 Log Reg w/smote](#2.7)\n",
    "    - [2.8 Gradient Boost w/smote](#2.8)\n",
    "    - [2.9 Gradient Boost w/smotetomek](#2.9)\n",
    "    - [2.10 Random Forest w/smote](#2.10)\n",
    "    - [2.11 XGBoost w/smotetomek](#2.11)\n",
    "- [3.0 Make Model Table](#3.0)\n",
    "- [4.0 Model Conclusions](#4.0)\n",
    "- [5.0 Feature Importances](#5.0)"
   ]
  },
  {
   "cell_type": "markdown",
   "id": "28a7cfbd",
   "metadata": {
    "ExecuteTime": {
     "end_time": "2022-01-28T12:01:50.589842Z",
     "start_time": "2022-01-28T12:01:50.558503Z"
    }
   },
   "source": [
    "<a id = '1.0'><a/>\n",
    "### 1.0 Imports and Functions\n",
    "* [Back To Top](#Content) "
   ]
  },
  {
   "cell_type": "code",
   "execution_count": 1,
   "id": "8518cb54",
   "metadata": {
    "ExecuteTime": {
     "end_time": "2022-02-04T09:21:31.383334Z",
     "start_time": "2022-02-04T09:21:31.378552Z"
    }
   },
   "outputs": [],
   "source": [
    "# !pip install xgboost"
   ]
  },
  {
   "cell_type": "code",
   "execution_count": 2,
   "id": "0d0aebcb",
   "metadata": {
    "ExecuteTime": {
     "end_time": "2022-02-04T09:21:39.457278Z",
     "start_time": "2022-02-04T09:21:34.987859Z"
    }
   },
   "outputs": [],
   "source": [
    "# Necessary imports\n",
    "import pandas as pd\n",
    "import numpy as np\n",
    "import seaborn as sns\n",
    "import matplotlib.pyplot as plt\n",
    "\n",
    "from sklearn.model_selection import train_test_split, GridSearchCV\n",
    "from sklearn.preprocessing import StandardScaler, PolynomialFeatures\n",
    "from sklearn.linear_model import LogisticRegression\n",
    "from sklearn.pipeline import Pipeline\n",
    "from sklearn.ensemble import GradientBoostingClassifier, RandomForestClassifier\n",
    "from xgboost import XGBClassifier\n",
    "from sklearn.metrics import roc_auc_score, recall_score, f1_score, precision_score, confusion_matrix, plot_confusion_matrix\n",
    "from sklearn.decomposition import PCA\n",
    "from imblearn.pipeline import Pipeline as Pipeline_imb\n",
    "\n",
    "from imblearn.combine import SMOTETomek\n",
    "from imblearn.over_sampling import SMOTE"
   ]
  },
  {
   "cell_type": "code",
   "execution_count": 3,
   "id": "30904c5d",
   "metadata": {
    "ExecuteTime": {
     "end_time": "2022-02-04T09:21:53.397503Z",
     "start_time": "2022-02-04T09:21:53.121956Z"
    }
   },
   "outputs": [],
   "source": [
    "# test = pd.read_csv('../datasets/test.csv', parse_dates=['Date'],index_col=['Id'])\n",
    "train = pd.read_csv(\"../datasets/final_train.csv\")\n",
    "test = pd.read_csv(\"../datasets/final_test.csv\", index_col='id')"
   ]
  },
  {
   "cell_type": "code",
   "execution_count": 4,
   "id": "d3ce8d77",
   "metadata": {
    "ExecuteTime": {
     "end_time": "2022-02-04T09:22:29.662742Z",
     "start_time": "2022-02-04T09:22:29.651648Z"
    }
   },
   "outputs": [],
   "source": [
    "# this function is the heart of this notebook. it will be used to run all models,\n",
    "# except the ones that use both PCA and SMOTE\n",
    "\n",
    "def run_model(clsf, params, kind='reg'):\n",
    "    \"\"\" Input classifier, parameters, and \n",
    "    kind ('reg' (default), 'pca', 'smote',or 'smotetomek') \"\"\"\n",
    "\n",
    "# 'reg' stand for just a normal model, pipe with only a scaler and a classifier\n",
    "    if kind == 'reg':\n",
    "        pipe = Pipeline([\n",
    "            ('sc', StandardScaler()),\n",
    "            ('clsf', clsf)\n",
    "        ])\n",
    "\n",
    "# models with SMOTE\n",
    "    if kind == 'smote':\n",
    "        pipe = Pipeline_imb([\n",
    "            ('sc', StandardScaler()),\n",
    "            ('smpl', SMOTE(sampling_strategy='auto', random_state=42)),\n",
    "            ('clsf', clsf)\n",
    "        ])\n",
    "\n",
    "# pipe models with SMOTETOMEK\n",
    "    if kind == 'smotetomek':\n",
    "        pipe = Pipeline_imb([\n",
    "            ('sc', StandardScaler()),\n",
    "            ('smpl', SMOTETomek(random_state=42)),\n",
    "            ('clsf', clsf)\n",
    "        ])\n",
    "\n",
    "# pipe for models with PCA\n",
    "    if kind == 'pca':\n",
    "        pipe = Pipeline([\n",
    "            ('sc', StandardScaler()),\n",
    "            ('pca', PCA(n_components=50, random_state=42)),\n",
    "            ('clsf', clsf)\n",
    "        ])\n",
    "\n",
    "# initiate a gridsearch\n",
    "    grid = GridSearchCV(\n",
    "        pipe,\n",
    "        param_grid=params,\n",
    "        scoring='roc_auc',\n",
    "        cv=4,\n",
    "        n_jobs=-1,\n",
    "        verbose=2)\n",
    "\n",
    "# only PCA gets fitted with polynomial order 2 data, the rest with regular\n",
    "    if kind in ['reg', 'smote', 'smotetomek']:\n",
    "        grid.fit(X_train, y_train)\n",
    "        pred = grid.predict(X_test)\n",
    "        pred_prob = grid.predict_proba(X_test)[:, 1]\n",
    "\n",
    "    elif kind == 'pca':\n",
    "        grid.fit(Xp_train, y_train)\n",
    "        pred = grid.predict(Xp_test)\n",
    "        pred_prob = grid.predict_proba(Xp_test)[:, 1]\n",
    "\n",
    "    else:\n",
    "        print(\"Try again\")\n",
    "        return\n",
    "\n",
    "# initiate a dictionary called table to store all models scores and parameters\n",
    "    table = {'Model': clsf}\n",
    "    table['Type'] = kind\n",
    "\n",
    "    table['ROC-AUC'] = roc_auc_score(y_test, pred_prob)\n",
    "    table['Precision'] = precision_score(y_test, pred)\n",
    "    table['Recall'] = recall_score(y_test, pred)\n",
    "    table['F1'] = f1_score(y_test, pred)\n",
    "\n",
    "    for key, value in grid.best_params_.items():\n",
    "        table[key] = value\n",
    "\n",
    "\n",
    "# quick printout of parameters and confustion matrix, to aid in additinal parameterization\n",
    "    print('\\n')\n",
    "    print('='*30)\n",
    "    print(f\"\\033[1m {clsf} \\033[0m\".center(38, \"=\"))\n",
    "    print('='*30)\n",
    "    print('')\n",
    "    print(\" Best Parameters:\")\n",
    "    print('-'*30, '\\n')\n",
    "    for key, value in grid.best_params_.items():\n",
    "        print(key, ':', value)\n",
    "\n",
    "    print(confusion_matrix(y_test, pred))\n",
    "    scoring_table.append(table)\n",
    "    return grid"
   ]
  },
  {
   "cell_type": "code",
   "execution_count": 5,
   "id": "4157f497",
   "metadata": {
    "ExecuteTime": {
     "end_time": "2022-02-04T09:23:03.924650Z",
     "start_time": "2022-02-04T09:23:03.919509Z"
    }
   },
   "outputs": [],
   "source": [
    "# function to submit a model to kaggle for scoring\n",
    "def submit_kaggle(name, gs):\n",
    "    \"\"\" the function takes filename and gridsearch (best estimator),\n",
    "    and creates a csv file ready for kaggle's WestNile competition\n",
    "    \"\"\"\n",
    "\n",
    "    submit = pd.DataFrame()\n",
    "    submit['Id'] = test.index\n",
    "    submit.set_index('Id', drop=True, inplace=True)\n",
    "    submit['WnvPresent'] = gs.predict_proba(test)[:, 1]\n",
    "    submit.to_csv(f'../datasets/{name}2.csv')"
   ]
  },
  {
   "cell_type": "code",
   "execution_count": 6,
   "id": "c062f078",
   "metadata": {
    "ExecuteTime": {
     "end_time": "2022-02-04T09:23:21.197695Z",
     "start_time": "2022-02-04T09:23:21.176809Z"
    },
    "scrolled": true
   },
   "outputs": [
    {
     "name": "stdout",
     "output_type": "stream",
     "text": [
      "<class 'pandas.core.frame.DataFrame'>\n",
      "RangeIndex: 8475 entries, 0 to 8474\n",
      "Data columns (total 24 columns):\n",
      " #   Column             Non-Null Count  Dtype  \n",
      "---  ------             --------------  -----  \n",
      " 0   Unnamed: 0         8475 non-null   int64  \n",
      " 1   date               8475 non-null   object \n",
      " 2   species            8475 non-null   object \n",
      " 3   latitude           8475 non-null   float64\n",
      " 4   longitude          8475 non-null   float64\n",
      " 5   latlong            8475 non-null   object \n",
      " 6   nummosquitos       8475 non-null   int64  \n",
      " 7   wnvpresent         8475 non-null   int64  \n",
      " 8   year               8475 non-null   int64  \n",
      " 9   weekofyear         8475 non-null   int64  \n",
      " 10  dum_species        8475 non-null   int64  \n",
      " 11  tavg               8475 non-null   float64\n",
      " 12  preciptotal        8475 non-null   float64\n",
      " 13  stnpressure        8475 non-null   float64\n",
      " 14  sealevel           8475 non-null   float64\n",
      " 15  resultspeed        8475 non-null   float64\n",
      " 16  resultdir          8475 non-null   float64\n",
      " 17  avgspeed           8475 non-null   float64\n",
      " 18  humidity           8475 non-null   float64\n",
      " 19  daylength          8475 non-null   float64\n",
      " 20  tavg_lag14         8475 non-null   float64\n",
      " 21  humidity_lag14     8475 non-null   float64\n",
      " 22  resultspeed_lag14  8475 non-null   float64\n",
      " 23  preciptotal_lag14  8475 non-null   float64\n",
      "dtypes: float64(15), int64(6), object(3)\n",
      "memory usage: 1.6+ MB\n"
     ]
    }
   ],
   "source": [
    "train.info()"
   ]
  },
  {
   "cell_type": "code",
   "execution_count": 7,
   "id": "99d7e550",
   "metadata": {
    "ExecuteTime": {
     "end_time": "2022-02-04T09:23:25.525922Z",
     "start_time": "2022-02-04T09:23:25.462959Z"
    },
    "scrolled": true
   },
   "outputs": [
    {
     "data": {
      "text/html": [
       "<div>\n",
       "<style scoped>\n",
       "    .dataframe tbody tr th:only-of-type {\n",
       "        vertical-align: middle;\n",
       "    }\n",
       "\n",
       "    .dataframe tbody tr th {\n",
       "        vertical-align: top;\n",
       "    }\n",
       "\n",
       "    .dataframe thead th {\n",
       "        text-align: right;\n",
       "    }\n",
       "</style>\n",
       "<table border=\"1\" class=\"dataframe\">\n",
       "  <thead>\n",
       "    <tr style=\"text-align: right;\">\n",
       "      <th></th>\n",
       "      <th>Unnamed: 0</th>\n",
       "      <th>latitude</th>\n",
       "      <th>longitude</th>\n",
       "      <th>nummosquitos</th>\n",
       "      <th>wnvpresent</th>\n",
       "      <th>year</th>\n",
       "      <th>weekofyear</th>\n",
       "      <th>dum_species</th>\n",
       "      <th>tavg</th>\n",
       "      <th>preciptotal</th>\n",
       "      <th>...</th>\n",
       "      <th>sealevel</th>\n",
       "      <th>resultspeed</th>\n",
       "      <th>resultdir</th>\n",
       "      <th>avgspeed</th>\n",
       "      <th>humidity</th>\n",
       "      <th>daylength</th>\n",
       "      <th>tavg_lag14</th>\n",
       "      <th>humidity_lag14</th>\n",
       "      <th>resultspeed_lag14</th>\n",
       "      <th>preciptotal_lag14</th>\n",
       "    </tr>\n",
       "  </thead>\n",
       "  <tbody>\n",
       "    <tr>\n",
       "      <th>count</th>\n",
       "      <td>8475.000000</td>\n",
       "      <td>8475.000000</td>\n",
       "      <td>8475.000000</td>\n",
       "      <td>8475.000000</td>\n",
       "      <td>8475.000000</td>\n",
       "      <td>8475.000000</td>\n",
       "      <td>8475.000000</td>\n",
       "      <td>8475.000000</td>\n",
       "      <td>8475.000000</td>\n",
       "      <td>8475.000000</td>\n",
       "      <td>...</td>\n",
       "      <td>8475.000000</td>\n",
       "      <td>8475.000000</td>\n",
       "      <td>8475.000000</td>\n",
       "      <td>8475.000000</td>\n",
       "      <td>8475.000000</td>\n",
       "      <td>8475.000000</td>\n",
       "      <td>8475.000000</td>\n",
       "      <td>8475.000000</td>\n",
       "      <td>8475.000000</td>\n",
       "      <td>8475.000000</td>\n",
       "    </tr>\n",
       "    <tr>\n",
       "      <th>mean</th>\n",
       "      <td>4237.000000</td>\n",
       "      <td>41.844618</td>\n",
       "      <td>-87.694788</td>\n",
       "      <td>15.933805</td>\n",
       "      <td>0.053923</td>\n",
       "      <td>2009.713156</td>\n",
       "      <td>31.739469</td>\n",
       "      <td>1.246254</td>\n",
       "      <td>22.460505</td>\n",
       "      <td>0.156117</td>\n",
       "      <td>...</td>\n",
       "      <td>29.961765</td>\n",
       "      <td>5.995475</td>\n",
       "      <td>17.910029</td>\n",
       "      <td>7.505788</td>\n",
       "      <td>63.898466</td>\n",
       "      <td>837.404366</td>\n",
       "      <td>22.465405</td>\n",
       "      <td>63.891180</td>\n",
       "      <td>5.996894</td>\n",
       "      <td>0.156117</td>\n",
       "    </tr>\n",
       "    <tr>\n",
       "      <th>std</th>\n",
       "      <td>2446.666099</td>\n",
       "      <td>0.106609</td>\n",
       "      <td>0.084063</td>\n",
       "      <td>75.084707</td>\n",
       "      <td>0.225880</td>\n",
       "      <td>2.331751</td>\n",
       "      <td>4.717594</td>\n",
       "      <td>0.507795</td>\n",
       "      <td>4.217497</td>\n",
       "      <td>0.339540</td>\n",
       "      <td>...</td>\n",
       "      <td>0.120210</td>\n",
       "      <td>2.822373</td>\n",
       "      <td>8.947600</td>\n",
       "      <td>2.485476</td>\n",
       "      <td>8.882380</td>\n",
       "      <td>65.181895</td>\n",
       "      <td>4.157253</td>\n",
       "      <td>8.655955</td>\n",
       "      <td>2.744646</td>\n",
       "      <td>0.330307</td>\n",
       "    </tr>\n",
       "    <tr>\n",
       "      <th>min</th>\n",
       "      <td>0.000000</td>\n",
       "      <td>41.644612</td>\n",
       "      <td>-87.930995</td>\n",
       "      <td>1.000000</td>\n",
       "      <td>0.000000</td>\n",
       "      <td>2007.000000</td>\n",
       "      <td>22.000000</td>\n",
       "      <td>0.000000</td>\n",
       "      <td>10.555556</td>\n",
       "      <td>0.000000</td>\n",
       "      <td>...</td>\n",
       "      <td>29.595000</td>\n",
       "      <td>0.600000</td>\n",
       "      <td>1.000000</td>\n",
       "      <td>2.400000</td>\n",
       "      <td>42.500000</td>\n",
       "      <td>683.000000</td>\n",
       "      <td>10.555556</td>\n",
       "      <td>42.500000</td>\n",
       "      <td>0.600000</td>\n",
       "      <td>0.000000</td>\n",
       "    </tr>\n",
       "    <tr>\n",
       "      <th>25%</th>\n",
       "      <td>2118.500000</td>\n",
       "      <td>41.750498</td>\n",
       "      <td>-87.752329</td>\n",
       "      <td>2.000000</td>\n",
       "      <td>0.000000</td>\n",
       "      <td>2007.000000</td>\n",
       "      <td>28.000000</td>\n",
       "      <td>1.000000</td>\n",
       "      <td>20.277778</td>\n",
       "      <td>0.000000</td>\n",
       "      <td>...</td>\n",
       "      <td>29.880000</td>\n",
       "      <td>4.000000</td>\n",
       "      <td>10.000000</td>\n",
       "      <td>5.800000</td>\n",
       "      <td>56.000000</td>\n",
       "      <td>786.500000</td>\n",
       "      <td>20.277778</td>\n",
       "      <td>56.357143</td>\n",
       "      <td>4.050000</td>\n",
       "      <td>0.000000</td>\n",
       "    </tr>\n",
       "    <tr>\n",
       "      <th>50%</th>\n",
       "      <td>4237.000000</td>\n",
       "      <td>41.857402</td>\n",
       "      <td>-87.694991</td>\n",
       "      <td>4.000000</td>\n",
       "      <td>0.000000</td>\n",
       "      <td>2009.000000</td>\n",
       "      <td>32.000000</td>\n",
       "      <td>1.000000</td>\n",
       "      <td>23.055556</td>\n",
       "      <td>0.000000</td>\n",
       "      <td>...</td>\n",
       "      <td>29.970000</td>\n",
       "      <td>5.700000</td>\n",
       "      <td>19.000000</td>\n",
       "      <td>7.000000</td>\n",
       "      <td>63.000000</td>\n",
       "      <td>852.000000</td>\n",
       "      <td>23.055556</td>\n",
       "      <td>63.000000</td>\n",
       "      <td>5.725000</td>\n",
       "      <td>0.002500</td>\n",
       "    </tr>\n",
       "    <tr>\n",
       "      <th>75%</th>\n",
       "      <td>6355.500000</td>\n",
       "      <td>41.944869</td>\n",
       "      <td>-87.642984</td>\n",
       "      <td>11.000000</td>\n",
       "      <td>0.000000</td>\n",
       "      <td>2011.000000</td>\n",
       "      <td>35.000000</td>\n",
       "      <td>2.000000</td>\n",
       "      <td>25.277778</td>\n",
       "      <td>0.165000</td>\n",
       "      <td>...</td>\n",
       "      <td>30.050000</td>\n",
       "      <td>7.850000</td>\n",
       "      <td>24.500000</td>\n",
       "      <td>9.450000</td>\n",
       "      <td>73.000000</td>\n",
       "      <td>898.000000</td>\n",
       "      <td>25.277778</td>\n",
       "      <td>71.732143</td>\n",
       "      <td>7.850000</td>\n",
       "      <td>0.208214</td>\n",
       "    </tr>\n",
       "    <tr>\n",
       "      <th>max</th>\n",
       "      <td>8474.000000</td>\n",
       "      <td>42.017430</td>\n",
       "      <td>-87.531635</td>\n",
       "      <td>2532.000000</td>\n",
       "      <td>1.000000</td>\n",
       "      <td>2013.000000</td>\n",
       "      <td>41.000000</td>\n",
       "      <td>2.000000</td>\n",
       "      <td>29.722222</td>\n",
       "      <td>2.420000</td>\n",
       "      <td>...</td>\n",
       "      <td>30.330000</td>\n",
       "      <td>15.000000</td>\n",
       "      <td>36.000000</td>\n",
       "      <td>15.650000</td>\n",
       "      <td>87.000000</td>\n",
       "      <td>913.500000</td>\n",
       "      <td>29.722222</td>\n",
       "      <td>87.000000</td>\n",
       "      <td>15.000000</td>\n",
       "      <td>2.420000</td>\n",
       "    </tr>\n",
       "  </tbody>\n",
       "</table>\n",
       "<p>8 rows × 21 columns</p>\n",
       "</div>"
      ],
      "text/plain": [
       "        Unnamed: 0     latitude    longitude  nummosquitos   wnvpresent  \\\n",
       "count  8475.000000  8475.000000  8475.000000   8475.000000  8475.000000   \n",
       "mean   4237.000000    41.844618   -87.694788     15.933805     0.053923   \n",
       "std    2446.666099     0.106609     0.084063     75.084707     0.225880   \n",
       "min       0.000000    41.644612   -87.930995      1.000000     0.000000   \n",
       "25%    2118.500000    41.750498   -87.752329      2.000000     0.000000   \n",
       "50%    4237.000000    41.857402   -87.694991      4.000000     0.000000   \n",
       "75%    6355.500000    41.944869   -87.642984     11.000000     0.000000   \n",
       "max    8474.000000    42.017430   -87.531635   2532.000000     1.000000   \n",
       "\n",
       "              year   weekofyear  dum_species         tavg  preciptotal  ...  \\\n",
       "count  8475.000000  8475.000000  8475.000000  8475.000000  8475.000000  ...   \n",
       "mean   2009.713156    31.739469     1.246254    22.460505     0.156117  ...   \n",
       "std       2.331751     4.717594     0.507795     4.217497     0.339540  ...   \n",
       "min    2007.000000    22.000000     0.000000    10.555556     0.000000  ...   \n",
       "25%    2007.000000    28.000000     1.000000    20.277778     0.000000  ...   \n",
       "50%    2009.000000    32.000000     1.000000    23.055556     0.000000  ...   \n",
       "75%    2011.000000    35.000000     2.000000    25.277778     0.165000  ...   \n",
       "max    2013.000000    41.000000     2.000000    29.722222     2.420000  ...   \n",
       "\n",
       "          sealevel  resultspeed    resultdir     avgspeed     humidity  \\\n",
       "count  8475.000000  8475.000000  8475.000000  8475.000000  8475.000000   \n",
       "mean     29.961765     5.995475    17.910029     7.505788    63.898466   \n",
       "std       0.120210     2.822373     8.947600     2.485476     8.882380   \n",
       "min      29.595000     0.600000     1.000000     2.400000    42.500000   \n",
       "25%      29.880000     4.000000    10.000000     5.800000    56.000000   \n",
       "50%      29.970000     5.700000    19.000000     7.000000    63.000000   \n",
       "75%      30.050000     7.850000    24.500000     9.450000    73.000000   \n",
       "max      30.330000    15.000000    36.000000    15.650000    87.000000   \n",
       "\n",
       "         daylength   tavg_lag14  humidity_lag14  resultspeed_lag14  \\\n",
       "count  8475.000000  8475.000000     8475.000000        8475.000000   \n",
       "mean    837.404366    22.465405       63.891180           5.996894   \n",
       "std      65.181895     4.157253        8.655955           2.744646   \n",
       "min     683.000000    10.555556       42.500000           0.600000   \n",
       "25%     786.500000    20.277778       56.357143           4.050000   \n",
       "50%     852.000000    23.055556       63.000000           5.725000   \n",
       "75%     898.000000    25.277778       71.732143           7.850000   \n",
       "max     913.500000    29.722222       87.000000          15.000000   \n",
       "\n",
       "       preciptotal_lag14  \n",
       "count        8475.000000  \n",
       "mean            0.156117  \n",
       "std             0.330307  \n",
       "min             0.000000  \n",
       "25%             0.000000  \n",
       "50%             0.002500  \n",
       "75%             0.208214  \n",
       "max             2.420000  \n",
       "\n",
       "[8 rows x 21 columns]"
      ]
     },
     "execution_count": 7,
     "metadata": {},
     "output_type": "execute_result"
    }
   ],
   "source": [
    "train.describe()"
   ]
  },
  {
   "cell_type": "code",
   "execution_count": 8,
   "id": "b1caa422",
   "metadata": {
    "ExecuteTime": {
     "end_time": "2022-02-04T09:23:29.770924Z",
     "start_time": "2022-02-04T09:23:29.750676Z"
    },
    "scrolled": false
   },
   "outputs": [
    {
     "data": {
      "text/html": [
       "<div>\n",
       "<style scoped>\n",
       "    .dataframe tbody tr th:only-of-type {\n",
       "        vertical-align: middle;\n",
       "    }\n",
       "\n",
       "    .dataframe tbody tr th {\n",
       "        vertical-align: top;\n",
       "    }\n",
       "\n",
       "    .dataframe thead th {\n",
       "        text-align: right;\n",
       "    }\n",
       "</style>\n",
       "<table border=\"1\" class=\"dataframe\">\n",
       "  <thead>\n",
       "    <tr style=\"text-align: right;\">\n",
       "      <th></th>\n",
       "      <th>Unnamed: 0</th>\n",
       "      <th>date</th>\n",
       "      <th>species</th>\n",
       "      <th>latitude</th>\n",
       "      <th>longitude</th>\n",
       "      <th>year</th>\n",
       "      <th>weekofyear</th>\n",
       "      <th>latlong</th>\n",
       "      <th>dum_species</th>\n",
       "      <th>tavg</th>\n",
       "      <th>...</th>\n",
       "      <th>sealevel</th>\n",
       "      <th>resultspeed</th>\n",
       "      <th>resultdir</th>\n",
       "      <th>avgspeed</th>\n",
       "      <th>humidity</th>\n",
       "      <th>daylength</th>\n",
       "      <th>tavg_lag14</th>\n",
       "      <th>humidity_lag14</th>\n",
       "      <th>resultspeed_lag14</th>\n",
       "      <th>preciptotal_lag14</th>\n",
       "    </tr>\n",
       "    <tr>\n",
       "      <th>id</th>\n",
       "      <th></th>\n",
       "      <th></th>\n",
       "      <th></th>\n",
       "      <th></th>\n",
       "      <th></th>\n",
       "      <th></th>\n",
       "      <th></th>\n",
       "      <th></th>\n",
       "      <th></th>\n",
       "      <th></th>\n",
       "      <th></th>\n",
       "      <th></th>\n",
       "      <th></th>\n",
       "      <th></th>\n",
       "      <th></th>\n",
       "      <th></th>\n",
       "      <th></th>\n",
       "      <th></th>\n",
       "      <th></th>\n",
       "      <th></th>\n",
       "      <th></th>\n",
       "    </tr>\n",
       "  </thead>\n",
       "  <tbody>\n",
       "    <tr>\n",
       "      <th>1</th>\n",
       "      <td>0</td>\n",
       "      <td>2008-06-11</td>\n",
       "      <td>CULEX PIPIENS/RESTUANS</td>\n",
       "      <td>41.95469</td>\n",
       "      <td>-87.800991</td>\n",
       "      <td>2008</td>\n",
       "      <td>24</td>\n",
       "      <td>41.95469, -87.800991</td>\n",
       "      <td>1</td>\n",
       "      <td>23.888889</td>\n",
       "      <td>...</td>\n",
       "      <td>29.98</td>\n",
       "      <td>9.15</td>\n",
       "      <td>18.0</td>\n",
       "      <td>10.2</td>\n",
       "      <td>50.5</td>\n",
       "      <td>910.0</td>\n",
       "      <td>23.888889</td>\n",
       "      <td>50.5</td>\n",
       "      <td>9.15</td>\n",
       "      <td>0.0</td>\n",
       "    </tr>\n",
       "    <tr>\n",
       "      <th>2</th>\n",
       "      <td>1</td>\n",
       "      <td>2008-06-11</td>\n",
       "      <td>CULEX RESTUANS</td>\n",
       "      <td>41.95469</td>\n",
       "      <td>-87.800991</td>\n",
       "      <td>2008</td>\n",
       "      <td>24</td>\n",
       "      <td>41.95469, -87.800991</td>\n",
       "      <td>2</td>\n",
       "      <td>23.888889</td>\n",
       "      <td>...</td>\n",
       "      <td>29.98</td>\n",
       "      <td>9.15</td>\n",
       "      <td>18.0</td>\n",
       "      <td>10.2</td>\n",
       "      <td>50.5</td>\n",
       "      <td>910.0</td>\n",
       "      <td>23.888889</td>\n",
       "      <td>50.5</td>\n",
       "      <td>9.15</td>\n",
       "      <td>0.0</td>\n",
       "    </tr>\n",
       "    <tr>\n",
       "      <th>3</th>\n",
       "      <td>2</td>\n",
       "      <td>2008-06-11</td>\n",
       "      <td>CULEX PIPIENS</td>\n",
       "      <td>41.95469</td>\n",
       "      <td>-87.800991</td>\n",
       "      <td>2008</td>\n",
       "      <td>24</td>\n",
       "      <td>41.95469, -87.800991</td>\n",
       "      <td>1</td>\n",
       "      <td>23.888889</td>\n",
       "      <td>...</td>\n",
       "      <td>29.98</td>\n",
       "      <td>9.15</td>\n",
       "      <td>18.0</td>\n",
       "      <td>10.2</td>\n",
       "      <td>50.5</td>\n",
       "      <td>910.0</td>\n",
       "      <td>23.888889</td>\n",
       "      <td>50.5</td>\n",
       "      <td>9.15</td>\n",
       "      <td>0.0</td>\n",
       "    </tr>\n",
       "    <tr>\n",
       "      <th>4</th>\n",
       "      <td>3</td>\n",
       "      <td>2008-06-11</td>\n",
       "      <td>CULEX SALINARIUS</td>\n",
       "      <td>41.95469</td>\n",
       "      <td>-87.800991</td>\n",
       "      <td>2008</td>\n",
       "      <td>24</td>\n",
       "      <td>41.95469, -87.800991</td>\n",
       "      <td>0</td>\n",
       "      <td>23.888889</td>\n",
       "      <td>...</td>\n",
       "      <td>29.98</td>\n",
       "      <td>9.15</td>\n",
       "      <td>18.0</td>\n",
       "      <td>10.2</td>\n",
       "      <td>50.5</td>\n",
       "      <td>910.0</td>\n",
       "      <td>23.888889</td>\n",
       "      <td>50.5</td>\n",
       "      <td>9.15</td>\n",
       "      <td>0.0</td>\n",
       "    </tr>\n",
       "    <tr>\n",
       "      <th>5</th>\n",
       "      <td>4</td>\n",
       "      <td>2008-06-11</td>\n",
       "      <td>CULEX TERRITANS</td>\n",
       "      <td>41.95469</td>\n",
       "      <td>-87.800991</td>\n",
       "      <td>2008</td>\n",
       "      <td>24</td>\n",
       "      <td>41.95469, -87.800991</td>\n",
       "      <td>0</td>\n",
       "      <td>23.888889</td>\n",
       "      <td>...</td>\n",
       "      <td>29.98</td>\n",
       "      <td>9.15</td>\n",
       "      <td>18.0</td>\n",
       "      <td>10.2</td>\n",
       "      <td>50.5</td>\n",
       "      <td>910.0</td>\n",
       "      <td>23.888889</td>\n",
       "      <td>50.5</td>\n",
       "      <td>9.15</td>\n",
       "      <td>0.0</td>\n",
       "    </tr>\n",
       "  </tbody>\n",
       "</table>\n",
       "<p>5 rows × 22 columns</p>\n",
       "</div>"
      ],
      "text/plain": [
       "    Unnamed: 0        date                 species  latitude  longitude  year  \\\n",
       "id                                                                              \n",
       "1            0  2008-06-11  CULEX PIPIENS/RESTUANS  41.95469 -87.800991  2008   \n",
       "2            1  2008-06-11          CULEX RESTUANS  41.95469 -87.800991  2008   \n",
       "3            2  2008-06-11           CULEX PIPIENS  41.95469 -87.800991  2008   \n",
       "4            3  2008-06-11        CULEX SALINARIUS  41.95469 -87.800991  2008   \n",
       "5            4  2008-06-11         CULEX TERRITANS  41.95469 -87.800991  2008   \n",
       "\n",
       "    weekofyear               latlong  dum_species       tavg  ...  sealevel  \\\n",
       "id                                                            ...             \n",
       "1           24  41.95469, -87.800991            1  23.888889  ...     29.98   \n",
       "2           24  41.95469, -87.800991            2  23.888889  ...     29.98   \n",
       "3           24  41.95469, -87.800991            1  23.888889  ...     29.98   \n",
       "4           24  41.95469, -87.800991            0  23.888889  ...     29.98   \n",
       "5           24  41.95469, -87.800991            0  23.888889  ...     29.98   \n",
       "\n",
       "    resultspeed  resultdir  avgspeed  humidity  daylength  tavg_lag14  \\\n",
       "id                                                                      \n",
       "1          9.15       18.0      10.2      50.5      910.0   23.888889   \n",
       "2          9.15       18.0      10.2      50.5      910.0   23.888889   \n",
       "3          9.15       18.0      10.2      50.5      910.0   23.888889   \n",
       "4          9.15       18.0      10.2      50.5      910.0   23.888889   \n",
       "5          9.15       18.0      10.2      50.5      910.0   23.888889   \n",
       "\n",
       "    humidity_lag14  resultspeed_lag14  preciptotal_lag14  \n",
       "id                                                        \n",
       "1             50.5               9.15                0.0  \n",
       "2             50.5               9.15                0.0  \n",
       "3             50.5               9.15                0.0  \n",
       "4             50.5               9.15                0.0  \n",
       "5             50.5               9.15                0.0  \n",
       "\n",
       "[5 rows x 22 columns]"
      ]
     },
     "execution_count": 8,
     "metadata": {},
     "output_type": "execute_result"
    }
   ],
   "source": [
    "test.head()"
   ]
  },
  {
   "cell_type": "code",
   "execution_count": 9,
   "id": "166596ef",
   "metadata": {
    "ExecuteTime": {
     "end_time": "2022-02-04T09:28:42.541751Z",
     "start_time": "2022-02-04T09:28:42.509107Z"
    }
   },
   "outputs": [],
   "source": [
    "# dropping columns: columns date, species, latlong and year are not part of features. column nummosquitos is not part of\n",
    "# the test set, so it can't be used in training. columns wnvpresent is our dependendent variable. finally, column\n",
    "# stnpressure will be removed due to its colinearity with sealevel, as uncovered during EDA\n",
    "X = train.drop(['wnvpresent', 'date', 'species', 'latlong',\n",
    "               'nummosquitos', 'year', 'stnpressure'], axis=1)\n",
    "y = train['wnvpresent']\n",
    "\n",
    "X_train, X_test, y_train, y_test = train_test_split(\n",
    "    X, y, stratify=y, random_state=42)"
   ]
  },
  {
   "cell_type": "code",
   "execution_count": 10,
   "id": "ce122cf2",
   "metadata": {
    "ExecuteTime": {
     "end_time": "2022-02-04T09:29:12.027258Z",
     "start_time": "2022-02-04T09:29:12.012029Z"
    }
   },
   "outputs": [],
   "source": [
    "# create scoring_table. it will hold all our model data.\n",
    "scoring_table=[]"
   ]
  },
  {
   "cell_type": "code",
   "execution_count": 11,
   "id": "b2fc8565",
   "metadata": {
    "ExecuteTime": {
     "end_time": "2022-02-04T09:29:12.616936Z",
     "start_time": "2022-02-04T09:29:12.607742Z"
    }
   },
   "outputs": [
    {
     "data": {
      "text/plain": [
       "(116293, 22)"
      ]
     },
     "execution_count": 11,
     "metadata": {},
     "output_type": "execute_result"
    }
   ],
   "source": [
    "test.shape"
   ]
  },
  {
   "cell_type": "code",
   "execution_count": 12,
   "id": "7b535f61",
   "metadata": {
    "ExecuteTime": {
     "end_time": "2022-02-04T09:29:14.959282Z",
     "start_time": "2022-02-04T09:29:14.948247Z"
    }
   },
   "outputs": [
    {
     "data": {
      "text/plain": [
       "{'date', 'latlong', 'species', 'stnpressure', 'year'}"
      ]
     },
     "execution_count": 12,
     "metadata": {},
     "output_type": "execute_result"
    }
   ],
   "source": [
    "set(test.columns)-set(X_test.columns)"
   ]
  },
  {
   "cell_type": "code",
   "execution_count": 13,
   "id": "cd750bb8",
   "metadata": {
    "ExecuteTime": {
     "end_time": "2022-02-04T09:30:45.787605Z",
     "start_time": "2022-02-04T09:30:45.569875Z"
    }
   },
   "outputs": [],
   "source": [
    "test.drop(columns=['date', 'latlong', 'species', 'year', 'stnpressure'], inplace=True)"
   ]
  },
  {
   "cell_type": "markdown",
   "id": "f1ea2889",
   "metadata": {},
   "source": [
    "after splitting the data, we plan to run about a dozen different models using the run_model function above\n",
    "\n",
    "section for each model will consist of the following:\n",
    "- initiate the model and it's parameters, include scaler and possible smote, pca \n",
    "- a brief output showing the essential model info regarding parameters and confustion matrix for possible further tuning\n",
    "- kaggle submission via submit_kaggle function\n",
    "- screenshot of the kaggle score\n",
    "- the entire score and other relevant info gets appended to a list. after we run all the models, the list will show us all the stats based on which we will decide what our production model will be."
   ]
  },
  {
   "cell_type": "markdown",
   "id": "140202c9",
   "metadata": {},
   "source": [
    "<a id = '2.0'><a/>\n",
    "### 2.0 Models\n",
    "* [Back To Top](#Content) "
   ]
  },
  {
   "cell_type": "markdown",
   "id": "b2c00f6d",
   "metadata": {},
   "source": [
    "- we plan to run around a dozen different models with different classifiers, SMOTE and PCA\n",
    "- for the sake of simplicity and readability of this notebook, we will hold off on commenting on individual models and their performance until all the models are run"
   ]
  },
  {
   "cell_type": "markdown",
   "id": "a82de9a2",
   "metadata": {},
   "source": [
    "<a id = '2.1'><a/>\n",
    "### 2.1 Random Forest regular\n",
    "* [Back To Top](#Content) "
   ]
  },
  {
   "cell_type": "code",
   "execution_count": 14,
   "id": "d38d3395",
   "metadata": {
    "ExecuteTime": {
     "end_time": "2022-02-04T09:31:36.088148Z",
     "start_time": "2022-02-04T09:31:36.082121Z"
    }
   },
   "outputs": [],
   "source": [
    "rf = RandomForestClassifier(random_state=42, n_jobs=4)\n",
    "\n",
    "params_rf = {\n",
    "    'clsf__n_estimators': [200, 300],\n",
    "    'clsf__max_depth': [7, 10],\n",
    "    'clsf__ccp_alpha': [0, 0.01]\n",
    "}"
   ]
  },
  {
   "cell_type": "code",
   "execution_count": 15,
   "id": "17485a9c",
   "metadata": {
    "ExecuteTime": {
     "end_time": "2022-02-04T09:31:47.100661Z",
     "start_time": "2022-02-04T09:31:39.074254Z"
    },
    "scrolled": true
   },
   "outputs": [
    {
     "name": "stdout",
     "output_type": "stream",
     "text": [
      "Fitting 4 folds for each of 8 candidates, totalling 32 fits\n",
      "\n",
      "\n",
      "==============================\n",
      "\u001b[1m RandomForestClassifier(n_jobs=4, random_state=42) \u001b[0m\n",
      "==============================\n",
      "\n",
      " Best Parameters:\n",
      "------------------------------ \n",
      "\n",
      "clsf__ccp_alpha : 0\n",
      "clsf__max_depth : 7\n",
      "clsf__n_estimators : 200\n",
      "[[2005    0]\n",
      " [ 114    0]]\n"
     ]
    },
    {
     "name": "stderr",
     "output_type": "stream",
     "text": [
      "C:\\Users\\YX\\anaconda3\\lib\\site-packages\\sklearn\\metrics\\_classification.py:1318: UndefinedMetricWarning: Precision is ill-defined and being set to 0.0 due to no predicted samples. Use `zero_division` parameter to control this behavior.\n",
      "  _warn_prf(average, modifier, msg_start, len(result))\n"
     ]
    }
   ],
   "source": [
    "gs = run_model(rf, params_rf)"
   ]
  },
  {
   "cell_type": "code",
   "execution_count": 16,
   "id": "10d61b64",
   "metadata": {
    "ExecuteTime": {
     "end_time": "2022-02-04T09:31:59.111408Z",
     "start_time": "2022-02-04T09:31:58.932107Z"
    }
   },
   "outputs": [
    {
     "name": "stderr",
     "output_type": "stream",
     "text": [
      "C:\\Users\\YX\\anaconda3\\lib\\site-packages\\sklearn\\utils\\deprecation.py:87: FutureWarning: Function plot_confusion_matrix is deprecated; Function `plot_confusion_matrix` is deprecated in 1.0 and will be removed in 1.2. Use one of the class methods: ConfusionMatrixDisplay.from_predictions or ConfusionMatrixDisplay.from_estimator.\n",
      "  warnings.warn(msg, category=FutureWarning)\n"
     ]
    },
    {
     "data": {
      "text/plain": [
       "<sklearn.metrics._plot.confusion_matrix.ConfusionMatrixDisplay at 0x2b26aa3fc70>"
      ]
     },
     "execution_count": 16,
     "metadata": {},
     "output_type": "execute_result"
    },
    {
     "data": {
      "image/png": "[encoded data removed]",
      "text/plain": [
       "<Figure size 432x288 with 2 Axes>"
      ]
     },
     "metadata": {
      "needs_background": "light"
     },
     "output_type": "display_data"
    }
   ],
   "source": [
    "plot_confusion_matrix(gs, X_test, y_test)"
   ]
  },
  {
   "cell_type": "code",
   "execution_count": 17,
   "id": "3ae8c0d1",
   "metadata": {
    "ExecuteTime": {
     "end_time": "2022-02-04T09:32:08.106746Z",
     "start_time": "2022-02-04T09:32:08.090050Z"
    },
    "scrolled": false
   },
   "outputs": [
    {
     "data": {
      "text/plain": [
       "[{'Model': RandomForestClassifier(n_jobs=4, random_state=42),\n",
       "  'Type': 'reg',\n",
       "  'ROC-AUC': 0.8601019381371133,\n",
       "  'Precision': 0.0,\n",
       "  'Recall': 0.0,\n",
       "  'F1': 0.0,\n",
       "  'clsf__ccp_alpha': 0,\n",
       "  'clsf__max_depth': 7,\n",
       "  'clsf__n_estimators': 200}]"
      ]
     },
     "execution_count": 17,
     "metadata": {},
     "output_type": "execute_result"
    }
   ],
   "source": [
    "# make sure the scoring table works\n",
    "scoring_table"
   ]
  },
  {
   "cell_type": "code",
   "execution_count": 18,
   "id": "e75bbaac",
   "metadata": {
    "ExecuteTime": {
     "end_time": "2022-02-04T09:32:31.780617Z",
     "start_time": "2022-02-04T09:32:31.062529Z"
    }
   },
   "outputs": [],
   "source": [
    "#submit to kaggle\n",
    "submit_kaggle('submit_rf', gs)"
   ]
  },
  {
   "cell_type": "markdown",
   "id": "7b779474",
   "metadata": {},
   "source": [
    "###  RandomForest Kaggle\n",
    "\n",
    "<img  src=\"../images/submit_rf2.png\">"
   ]
  },
  {
   "cell_type": "markdown",
   "id": "c6bae039",
   "metadata": {},
   "source": [
    "<a id = '2.2'><a/>\n",
    "### 2.2 Gradient Boost regular\n",
    "* [Back To Top](#Content) "
   ]
  },
  {
   "cell_type": "code",
   "execution_count": 19,
   "id": "a68fc8c2",
   "metadata": {
    "ExecuteTime": {
     "end_time": "2022-02-04T09:32:37.400898Z",
     "start_time": "2022-02-04T09:32:37.385760Z"
    }
   },
   "outputs": [],
   "source": [
    "# Gradient Boost\n",
    "gb = GradientBoostingClassifier(random_state=42)\n",
    "\n",
    "params_gb = {\n",
    "    'clsf__learning_rate': [ 0.01, 0.1],\n",
    "    'clsf__max_depth': [7, 10],\n",
    "    'clsf__ccp_alpha':[0, 0.1],\n",
    "    'clsf__n_estimators':[200, 350]\n",
    "}"
   ]
  },
  {
   "cell_type": "code",
   "execution_count": null,
   "id": "b7664dba",
   "metadata": {
    "ExecuteTime": {
     "end_time": "2022-02-04T09:33:51.265543Z",
     "start_time": "2022-02-04T09:32:41.095328Z"
    }
   },
   "outputs": [
    {
     "name": "stdout",
     "output_type": "stream",
     "text": [
      "Fitting 4 folds for each of 16 candidates, totalling 64 fits\n"
     ]
    }
   ],
   "source": [
    "gs_gb=run_model(gb, params_gb)"
   ]
  },
  {
   "cell_type": "code",
   "execution_count": null,
   "id": "72745231",
   "metadata": {
    "ExecuteTime": {
     "end_time": "2022-02-04T09:35:05.113341Z",
     "start_time": "2022-02-04T09:35:04.987226Z"
    }
   },
   "outputs": [],
   "source": [
    "plot_confusion_matrix(gs_gb, X_test, y_test)"
   ]
  },
  {
   "cell_type": "code",
   "execution_count": null,
   "id": "332cf25c",
   "metadata": {
    "ExecuteTime": {
     "end_time": "2022-02-04T09:35:10.336089Z",
     "start_time": "2022-02-04T09:35:10.315569Z"
    }
   },
   "outputs": [],
   "source": [
    "pd.DataFrame(scoring_table).sort_values(by='ROC-AUC', ascending=False)"
   ]
  },
  {
   "cell_type": "markdown",
   "id": "3b4ce1e3",
   "metadata": {
    "ExecuteTime": {
     "end_time": "2022-02-02T03:24:17.219005Z",
     "start_time": "2022-02-02T03:24:17.214903Z"
    },
    "scrolled": true
   },
   "source": [
    "recall is quite low. smote will be needed."
   ]
  },
  {
   "cell_type": "code",
   "execution_count": null,
   "id": "e9e92c89",
   "metadata": {
    "ExecuteTime": {
     "end_time": "2022-02-04T09:35:45.603980Z",
     "start_time": "2022-02-04T09:35:45.050488Z"
    }
   },
   "outputs": [],
   "source": [
    "submit_kaggle('submit_gb', gs_gb)"
   ]
  },
  {
   "cell_type": "markdown",
   "id": "bac703d1",
   "metadata": {},
   "source": [
    "###  GradientBoost Kaggle\n",
    "\n",
    "<img  src=\"../images/submit_gb.png\">"
   ]
  },
  {
   "cell_type": "markdown",
   "id": "e3ea166e",
   "metadata": {
    "ExecuteTime": {
     "end_time": "2022-01-28T06:38:35.750179Z",
     "start_time": "2022-01-28T06:38:35.662116Z"
    }
   },
   "source": [
    "<a id = '2.3'><a/>\n",
    "### 2.3 PCA model setup\n",
    "* [Back To Top](#Content) "
   ]
  },
  {
   "cell_type": "markdown",
   "id": "9fdf92c2",
   "metadata": {},
   "source": [
    "Runninng PCA models will be slighlty different:\n",
    "\n",
    "-  first we will see if any interaction terms look interesting in term of predictive power to be used in our other models\n",
    "- secondly, we will run 'explained variance' method to see how many PCA compenents are needed to explain 98%+ of the total variance\n",
    "- finally, we will use n_components number we get in step two to run several PCA models using our run_model function"
   ]
  },
  {
   "cell_type": "code",
   "execution_count": null,
   "id": "f98361f3",
   "metadata": {
    "ExecuteTime": {
     "end_time": "2022-02-04T09:43:33.565418Z",
     "start_time": "2022-02-04T09:43:33.031140Z"
    }
   },
   "outputs": [],
   "source": [
    "# Poly by power of 2.  \n",
    "pf = PolynomialFeatures(degree=2, include_bias=True, interaction_only=True )  \n",
    "# Fit and transform our X data using Polynomial Features.  \n",
    "X_poly = pf.fit_transform(X)\n",
    "\n",
    "#transform the real (Kaggle) test set\n",
    "test_poly = pf.transform(test)\n",
    "                         \n",
    "#Train/test split our data.\n",
    "Xp_train, Xp_test, y_train, y_test = train_test_split(X_poly,\n",
    "                                                            y,\n",
    "                                                            stratify=y,\n",
    "                                                            random_state=42)      \n",
    "\n",
    "# Instantiate our StandardScaler.\n",
    "sc = StandardScaler()\n",
    "# Scale X_train.\n",
    "Xp_trainsc = sc.fit_transform(Xp_train)\n",
    "# Scale X_test.\n",
    "Xp_testsc = sc.transform(Xp_test)\n",
    "# Scale the real Kaggle test set\n",
    "testsc = sc.transform(test_poly)"
   ]
  },
  {
   "cell_type": "code",
   "execution_count": null,
   "id": "6da96371",
   "metadata": {
    "ExecuteTime": {
     "end_time": "2022-02-04T09:43:37.225889Z",
     "start_time": "2022-02-04T09:43:37.205736Z"
    }
   },
   "outputs": [],
   "source": [
    "pf.get_feature_names(X.columns)"
   ]
  },
  {
   "cell_type": "code",
   "execution_count": null,
   "id": "a9adc707",
   "metadata": {
    "ExecuteTime": {
     "end_time": "2022-02-04T09:43:50.976364Z",
     "start_time": "2022-02-04T09:43:50.955665Z"
    }
   },
   "outputs": [],
   "source": [
    "# creat a new df with polynomial columns, interaction only\n",
    "new = pd.DataFrame(Xp_trainsc, columns = pf.get_feature_names(X.columns))"
   ]
  },
  {
   "cell_type": "code",
   "execution_count": null,
   "id": "9385ca22",
   "metadata": {
    "ExecuteTime": {
     "end_time": "2022-02-04T09:43:54.016271Z",
     "start_time": "2022-02-04T09:43:53.998442Z"
    }
   },
   "outputs": [],
   "source": [
    "new.head()"
   ]
  },
  {
   "cell_type": "code",
   "execution_count": null,
   "id": "46012ec9",
   "metadata": {
    "ExecuteTime": {
     "end_time": "2022-02-04T09:44:01.639375Z",
     "start_time": "2022-02-04T09:44:01.238237Z"
    }
   },
   "outputs": [],
   "source": [
    "# top polynomial columns with negative correlation to west nile\n",
    "new.corrwith(y_train).dropna().sort_values()[:10]"
   ]
  },
  {
   "cell_type": "code",
   "execution_count": null,
   "id": "02bf7443",
   "metadata": {
    "ExecuteTime": {
     "end_time": "2022-02-04T09:44:08.753596Z",
     "start_time": "2022-02-04T09:44:08.380221Z"
    }
   },
   "outputs": [],
   "source": [
    "# top polynomial columns with positive correlation to west nile\n",
    "new.corrwith(y_train).dropna().sort_values(ascending=False)[:10]"
   ]
  },
  {
   "cell_type": "markdown",
   "id": "443ace55",
   "metadata": {},
   "source": [
    "- none of the interaction columns look like they ought to be included in our other models. top interaction columns with negative correlation to y are all multiples of resultspeed, which itself has high negative correlation with y. similarly, top interaction features with positive correlation with y are multiples of dumweek_35, which itself has similarly high positive correlation with y\n",
    "- next, set up pca to find out how many pca components are needed to reach 98%+ explained variance ratio. use that n_components to input into our run_models"
   ]
  },
  {
   "cell_type": "code",
   "execution_count": null,
   "id": "9ab62661",
   "metadata": {
    "ExecuteTime": {
     "end_time": "2022-02-04T09:47:05.272688Z",
     "start_time": "2022-02-04T09:47:04.681037Z"
    }
   },
   "outputs": [],
   "source": [
    "# Instantiate PCA.\n",
    "pca = PCA(random_state=42)\n",
    "\n",
    "# Fit and transform PCA for train, transform for test\n",
    "Z_train = pca.fit_transform(Xp_trainsc)\n",
    "\n",
    "Z_test = pca.transform(Xp_testsc)\n",
    "Z_kaggle_test = pca.transform(testsc)\n"
   ]
  },
  {
   "cell_type": "code",
   "execution_count": null,
   "id": "6c5e9035",
   "metadata": {
    "ExecuteTime": {
     "end_time": "2022-02-04T09:47:08.163516Z",
     "start_time": "2022-02-04T09:47:08.147233Z"
    }
   },
   "outputs": [],
   "source": [
    "expl_var = np.cumsum(pca.explained_variance_ratio_)[:90]"
   ]
  },
  {
   "cell_type": "code",
   "execution_count": null,
   "id": "2ea3c46a",
   "metadata": {
    "ExecuteTime": {
     "end_time": "2022-02-04T09:47:10.847389Z",
     "start_time": "2022-02-04T09:47:10.766898Z"
    }
   },
   "outputs": [],
   "source": [
    "plt.figure(figsize=(10,7))\n",
    "plt.plot(range(len(expl_var)), expl_var)\n",
    "plt.show()"
   ]
  },
  {
   "cell_type": "code",
   "execution_count": null,
   "id": "858b4aa0",
   "metadata": {
    "ExecuteTime": {
     "end_time": "2022-02-04T09:47:13.969759Z",
     "start_time": "2022-02-04T09:47:13.961786Z"
    }
   },
   "outputs": [],
   "source": [
    "# 50 components give us around 99% of explained variance\n",
    "expl_var[50]"
   ]
  },
  {
   "cell_type": "markdown",
   "id": "df5a9f58",
   "metadata": {},
   "source": [
    "- next we will run a few pipelines with PCA with our run_model function using n_components of 50."
   ]
  },
  {
   "cell_type": "markdown",
   "id": "5911a9b5",
   "metadata": {},
   "source": [
    "<a id = '2.4'><a/>\n",
    "### 2.4 Gradient Boost w/poly features+PCA\n",
    "* [Back To Top](#Content)"
   ]
  },
  {
   "cell_type": "code",
   "execution_count": null,
   "id": "fc729eab",
   "metadata": {
    "ExecuteTime": {
     "end_time": "2022-02-04T09:48:16.418127Z",
     "start_time": "2022-02-04T09:48:16.399976Z"
    }
   },
   "outputs": [],
   "source": [
    "params_gb"
   ]
  },
  {
   "cell_type": "code",
   "execution_count": null,
   "id": "8d8e7a2d",
   "metadata": {
    "ExecuteTime": {
     "end_time": "2022-02-04T10:03:24.499225Z",
     "start_time": "2022-02-04T09:48:23.218517Z"
    },
    "scrolled": true
   },
   "outputs": [],
   "source": [
    "gs_gb_pca=run_model(gb, params_gb, 'pca')"
   ]
  },
  {
   "cell_type": "code",
   "execution_count": null,
   "id": "c0744fcb",
   "metadata": {
    "ExecuteTime": {
     "end_time": "2022-02-04T10:03:41.296595Z",
     "start_time": "2022-02-04T10:03:39.884443Z"
    }
   },
   "outputs": [],
   "source": [
    "submit_gb_pca = pd.DataFrame()\n",
    "submit_gb_pca['Id'] = test.index\n",
    "submit_gb_pca.set_index('Id', drop=True,inplace=True)\n",
    "submit_gb_pca['WnvPresent'] =gs_gb_pca.predict_proba(test_poly)[:,1]\n",
    "submit_gb_pca.to_csv('../datasets/submit_gb_pca2.csv')"
   ]
  },
  {
   "cell_type": "markdown",
   "id": "afc4f38e",
   "metadata": {},
   "source": [
    "###  Gradient Boost w/poly featurer and PCA  Kaggle\n",
    "\n",
    "<img src=\"../images/submit_gbpca.png\" alt=\"not great\">"
   ]
  },
  {
   "cell_type": "markdown",
   "id": "92b2b65e",
   "metadata": {},
   "source": [
    "<a id = '2.5'><a/>\n",
    "### 2.5 Log Reg w/poly features+smote+PCA\n",
    "* [Back To Top](#Content)"
   ]
  },
  {
   "cell_type": "markdown",
   "id": "3951393c",
   "metadata": {},
   "source": [
    "- our run_models function does not handle PCA and SMOTE at the same time, so we'll do it below, 'manually'"
   ]
  },
  {
   "cell_type": "code",
   "execution_count": null,
   "id": "d0539a6c",
   "metadata": {
    "ExecuteTime": {
     "end_time": "2022-02-04T10:03:54.510867Z",
     "start_time": "2022-02-04T10:03:54.495869Z"
    }
   },
   "outputs": [],
   "source": [
    "lr = LogisticRegression(\n",
    "    solver='liblinear',\n",
    "    random_state=42,\n",
    ")\n",
    "\n",
    "params_lr = {\n",
    "    'clsf__penalty': ['l1'],\n",
    "    'clsf__C': [0.1, 1.5],\n",
    "    'clsf__max_iter': [200]\n",
    "}\n",
    "\n",
    "pipe_lrpca = Pipeline_imb([\n",
    "            ('pf', PolynomialFeatures(degree=2, include_bias=True, interaction_only=True )),\n",
    "            ('sc', StandardScaler()),\n",
    "            ('pca', PCA(n_components=50, random_state=42)),\n",
    "            ('smpl', SMOTE(sampling_strategy='auto', random_state=42)),\n",
    "            ('clsf', lr)\n",
    "        ])\n",
    "\n"
   ]
  },
  {
   "cell_type": "code",
   "execution_count": null,
   "id": "f24bf786",
   "metadata": {
    "ExecuteTime": {
     "end_time": "2022-02-04T10:04:08.099231Z",
     "start_time": "2022-02-04T10:04:08.088160Z"
    }
   },
   "outputs": [],
   "source": [
    "  grid_lrpca = GridSearchCV(\n",
    "        pipe_lrpca,\n",
    "        param_grid=params_lr,\n",
    "        scoring='roc_auc',\n",
    "        cv=4,\n",
    "        n_jobs=-1,\n",
    "        verbose=2)"
   ]
  },
  {
   "cell_type": "code",
   "execution_count": null,
   "id": "49264e35",
   "metadata": {
    "ExecuteTime": {
     "end_time": "2022-02-04T10:04:27.936654Z",
     "start_time": "2022-02-04T10:04:24.715589Z"
    }
   },
   "outputs": [],
   "source": [
    "grid_lrpca.fit(X_train, y_train)"
   ]
  },
  {
   "cell_type": "code",
   "execution_count": null,
   "id": "586d5efa",
   "metadata": {
    "ExecuteTime": {
     "end_time": "2022-02-04T10:04:49.766145Z",
     "start_time": "2022-02-04T10:04:49.633537Z"
    }
   },
   "outputs": [],
   "source": [
    "plot_confusion_matrix(grid_lrpca, X_test, y_test)"
   ]
  },
  {
   "cell_type": "code",
   "execution_count": null,
   "id": "8c4c22f9",
   "metadata": {
    "ExecuteTime": {
     "end_time": "2022-02-04T10:05:15.390561Z",
     "start_time": "2022-02-04T10:05:15.341326Z"
    }
   },
   "outputs": [],
   "source": [
    "# attach the results to our table list here, since we didn't use the run_models function\n",
    "pred = grid_lrpca.predict(X_test)\n",
    "pred_prob = grid_lrpca.predict_proba(X_test)[:, 1]\n",
    "\n",
    "table = {'Model': lr}\n",
    "table['Type'] = 'pcasmote'\n",
    "table['ROC-AUC'] = roc_auc_score(y_test, pred_prob)\n",
    "table['Precision'] = precision_score(y_test, pred)\n",
    "table['Recall'] = recall_score(y_test, pred)\n",
    "table['F1'] = f1_score(y_test, pred)\n",
    "\n",
    "for key, value in grid_lrpca.best_params_.items():\n",
    "        table[key] = value\n",
    "\n",
    "scoring_table.append(table)"
   ]
  },
  {
   "cell_type": "code",
   "execution_count": null,
   "id": "c5fe0642",
   "metadata": {
    "ExecuteTime": {
     "end_time": "2022-02-04T10:05:17.303239Z",
     "start_time": "2022-02-04T10:05:16.421060Z"
    }
   },
   "outputs": [],
   "source": [
    "submit_kaggle('submit_lrpca', grid_lrpca)"
   ]
  },
  {
   "cell_type": "markdown",
   "id": "10d6ac10",
   "metadata": {},
   "source": [
    "###  LogReg w/smote and PCA Kaggle\n",
    "\n",
    "<img src=\"../images/submit_lrpcasmote.png\" alt=\"not great\">"
   ]
  },
  {
   "cell_type": "markdown",
   "id": "727dc361",
   "metadata": {},
   "source": [
    "<a id = '2.6'><a/>\n",
    "### 2.6 Random Forest w/smotetomek+PCA\n",
    "* [Back To Top](#Content)"
   ]
  },
  {
   "cell_type": "code",
   "execution_count": null,
   "id": "f54e9f46",
   "metadata": {
    "ExecuteTime": {
     "end_time": "2022-02-04T10:06:57.995980Z",
     "start_time": "2022-02-04T10:06:57.987999Z"
    }
   },
   "outputs": [],
   "source": [
    "rf = RandomForestClassifier(\n",
    "    random_state=42,\n",
    ")\n",
    "\n",
    "params_rfpca = {\n",
    "    'clsf__n_estimators': [ 200,300],\n",
    "    'clsf__max_depth': [ 7,10],\n",
    "    'clsf__min_samples_leaf':[4,10]\n",
    "}\n",
    "\n",
    "\n",
    "pipe_rfpca = Pipeline_imb([\n",
    "            ('pf', PolynomialFeatures(degree=2, include_bias=True, interaction_only=True )),\n",
    "            ('sc', StandardScaler()),\n",
    "            ('pca', PCA(n_components=50, random_state=42)),\n",
    "            ('smpl', SMOTETomek(random_state=42)),\n",
    "            ('clsf', rf)\n",
    "        ])"
   ]
  },
  {
   "cell_type": "code",
   "execution_count": null,
   "id": "6beed037",
   "metadata": {
    "ExecuteTime": {
     "end_time": "2022-02-04T10:06:58.898779Z",
     "start_time": "2022-02-04T10:06:58.889624Z"
    }
   },
   "outputs": [],
   "source": [
    "grid_rfpca = GridSearchCV(\n",
    "        pipe_rfpca,\n",
    "        param_grid=params_rfpca,\n",
    "        scoring='roc_auc',\n",
    "        cv=4,\n",
    "        n_jobs=-1,\n",
    "        verbose=2)"
   ]
  },
  {
   "cell_type": "code",
   "execution_count": null,
   "id": "9a85ae2b",
   "metadata": {
    "ExecuteTime": {
     "end_time": "2022-02-04T10:08:33.002357Z",
     "start_time": "2022-02-04T10:07:04.918785Z"
    }
   },
   "outputs": [],
   "source": [
    "grid_rfpca.fit(X_train, y_train)"
   ]
  },
  {
   "cell_type": "code",
   "execution_count": null,
   "id": "bdfc1c95",
   "metadata": {
    "ExecuteTime": {
     "end_time": "2022-02-04T10:08:42.703411Z",
     "start_time": "2022-02-04T10:08:42.448005Z"
    }
   },
   "outputs": [],
   "source": [
    "plot_confusion_matrix(grid_rfpca, X_test, y_test)"
   ]
  },
  {
   "cell_type": "code",
   "execution_count": null,
   "id": "75480deb",
   "metadata": {
    "ExecuteTime": {
     "end_time": "2022-02-04T10:08:55.725625Z",
     "start_time": "2022-02-04T10:08:53.326430Z"
    }
   },
   "outputs": [],
   "source": [
    "submit_kaggle('submit_rfpca', grid_rfpca)"
   ]
  },
  {
   "cell_type": "markdown",
   "id": "a1cded84",
   "metadata": {},
   "source": [
    "###  Random Forest w/smote and pca50 Kaggle\n",
    "\n",
    "<img src=\"../images/submit_rfsmotepca.png\" alt=\"not great\">"
   ]
  },
  {
   "cell_type": "code",
   "execution_count": null,
   "id": "c912ad0f",
   "metadata": {
    "ExecuteTime": {
     "end_time": "2022-02-04T10:08:59.672291Z",
     "start_time": "2022-02-04T10:08:59.499748Z"
    }
   },
   "outputs": [],
   "source": [
    "pred = grid_rfpca.predict(X_test)\n",
    "pred_prob = grid_rfpca.predict_proba(X_test)[:, 1]\n",
    "\n",
    "table = {'Model': rf}\n",
    "table['Type'] = 'pcasmote'\n",
    "table['ROC-AUC'] = roc_auc_score(y_test, pred_prob)\n",
    "table['Precision'] = precision_score(y_test, pred)\n",
    "table['Recall'] = recall_score(y_test, pred)\n",
    "table['F1'] = f1_score(y_test, pred)\n",
    "\n",
    "for key, value in grid_rfpca.best_params_.items():\n",
    "        table[key] = value\n",
    "\n",
    "scoring_table.append(table)"
   ]
  },
  {
   "cell_type": "markdown",
   "id": "48764381",
   "metadata": {},
   "source": [
    "<a id = '2.7'><a/>\n",
    "### 2.7 Log Reg w/smote\n",
    "* [Back To Top](#Content)"
   ]
  },
  {
   "cell_type": "code",
   "execution_count": null,
   "id": "911f8101",
   "metadata": {
    "ExecuteTime": {
     "end_time": "2022-02-04T10:11:29.551424Z",
     "start_time": "2022-02-04T10:11:29.544447Z"
    }
   },
   "outputs": [],
   "source": [
    "lr = LogisticRegression(\n",
    "    solver='liblinear',\n",
    "    random_state=42,\n",
    ")\n",
    "\n",
    "params_lr_smote = {\n",
    "    'clsf__penalty': ['l1', 'l2'],\n",
    "    'clsf__C': [0.1, 1.5, 10, 40],\n",
    "    'clsf__max_iter': [50, 200, 1000],\n",
    "    'smpl__k_neighbors': [3, 5, 7],\n",
    "}"
   ]
  },
  {
   "cell_type": "code",
   "execution_count": null,
   "id": "cd4099ff",
   "metadata": {
    "ExecuteTime": {
     "end_time": "2022-02-04T10:12:06.135129Z",
     "start_time": "2022-02-04T10:11:32.606826Z"
    },
    "scrolled": true
   },
   "outputs": [],
   "source": [
    "gs_lr_smote = run_model(lr, params_lr_smote, 'smote')"
   ]
  },
  {
   "cell_type": "code",
   "execution_count": null,
   "id": "12bfaa93",
   "metadata": {
    "ExecuteTime": {
     "end_time": "2022-02-04T10:12:48.066018Z",
     "start_time": "2022-02-04T10:12:47.936115Z"
    }
   },
   "outputs": [],
   "source": [
    "plot_confusion_matrix(gs_lr_smote, X_test, y_test)"
   ]
  },
  {
   "cell_type": "code",
   "execution_count": null,
   "id": "84ce940e",
   "metadata": {
    "ExecuteTime": {
     "end_time": "2022-02-04T10:13:27.431697Z",
     "start_time": "2022-02-04T10:13:27.166401Z"
    }
   },
   "outputs": [],
   "source": [
    "submit_kaggle('submit_lr_smote', gs_lr_smote)"
   ]
  },
  {
   "cell_type": "markdown",
   "id": "b8239dc7",
   "metadata": {
    "ExecuteTime": {
     "end_time": "2022-01-28T16:14:00.177294Z",
     "start_time": "2022-01-28T16:14:00.169434Z"
    }
   },
   "source": [
    "###  LogReg w/smote Kaggle\n",
    "\n",
    "<img src=\"../images/submit_lrsmote2.png\" alt=\"not great\">"
   ]
  },
  {
   "cell_type": "markdown",
   "id": "baf955d2",
   "metadata": {},
   "source": [
    "<a id = '2.8'><a/>\n",
    "### 2.8 Gradient Boost w/smote\n",
    "* [Back To Top](#Content)"
   ]
  },
  {
   "cell_type": "code",
   "execution_count": null,
   "id": "1fb60c7d",
   "metadata": {
    "ExecuteTime": {
     "end_time": "2022-02-04T10:13:31.341776Z",
     "start_time": "2022-02-04T10:13:31.327732Z"
    }
   },
   "outputs": [],
   "source": [
    "gb = GradientBoostingClassifier(random_state=42)\n",
    "\n",
    "params_gb_smote = {\n",
    "    'clsf__learning_rate': [ 0.05, 0.1],\n",
    "    'clsf__max_depth': [7, 10],\n",
    "    'clsf__ccp_alpha':[0, 0.01],\n",
    "    'clsf__n_estimators':[150, 300],\n",
    "    'smpl__k_neighbors': [3, 5, 7],\n",
    "}"
   ]
  },
  {
   "cell_type": "code",
   "execution_count": null,
   "id": "6b3aae29",
   "metadata": {
    "ExecuteTime": {
     "end_time": "2022-02-04T10:24:02.155027Z",
     "start_time": "2022-02-04T10:13:31.948101Z"
    },
    "scrolled": true
   },
   "outputs": [],
   "source": [
    "gs_gb_smote = run_model(gb, params_gb_smote, 'smote')"
   ]
  },
  {
   "cell_type": "code",
   "execution_count": null,
   "id": "4bc37542",
   "metadata": {
    "ExecuteTime": {
     "end_time": "2022-02-04T10:24:54.598375Z",
     "start_time": "2022-02-04T10:24:54.115985Z"
    }
   },
   "outputs": [],
   "source": [
    "submit_kaggle('submit_gb_smote', gs_gb_smote)"
   ]
  },
  {
   "cell_type": "markdown",
   "id": "6c8deec0",
   "metadata": {},
   "source": [
    "### Gradient Boost w/smote Kaggle\n",
    "\n",
    "<img src=\"../images/submit_gbsmote.png\" alt=\"not great\">"
   ]
  },
  {
   "cell_type": "markdown",
   "id": "95f127d9",
   "metadata": {},
   "source": [
    "<a id = '2.9'><a/>\n",
    "### 2.9 Gradient Boost w/smotetomek\n",
    "* [Back To Top](#Content)"
   ]
  },
  {
   "cell_type": "code",
   "execution_count": null,
   "id": "5fdbc819",
   "metadata": {
    "ExecuteTime": {
     "end_time": "2022-02-04T10:25:18.803309Z",
     "start_time": "2022-02-04T10:25:18.798230Z"
    }
   },
   "outputs": [],
   "source": [
    "gb = GradientBoostingClassifier(random_state=42)\n",
    "\n",
    "params_gb_smotetomek = {\n",
    "    'clsf__learning_rate': [0.025, 0.05],\n",
    "    'clsf__max_depth': [7, 10],\n",
    "    'clsf__ccp_alpha':[0, 0.01],\n",
    "    'clsf__n_estimators':[150, 250],\n",
    "    'smpl__sampling_strategy':['all', 'auto']\n",
    "}"
   ]
  },
  {
   "cell_type": "code",
   "execution_count": null,
   "id": "b8fd18a7",
   "metadata": {
    "ExecuteTime": {
     "end_time": "2022-02-04T10:33:49.500870Z",
     "start_time": "2022-02-04T10:25:20.022627Z"
    }
   },
   "outputs": [],
   "source": [
    "gs_gb_smotetomek = run_model(gb, params_gb_smotetomek, 'smotetomek')"
   ]
  },
  {
   "cell_type": "code",
   "execution_count": null,
   "id": "0092fb87",
   "metadata": {
    "ExecuteTime": {
     "end_time": "2022-02-04T10:34:28.858768Z",
     "start_time": "2022-02-04T10:34:28.338558Z"
    }
   },
   "outputs": [],
   "source": [
    "submit_kaggle('submit_gbsmotetomek', gs_gb_smotetomek)"
   ]
  },
  {
   "cell_type": "markdown",
   "id": "3681d8bf",
   "metadata": {},
   "source": [
    "### Gradient boost w/smotetomek Kaggle\n",
    "\n",
    "<img src=\"../images/submit_gbsmotetomek.png\" alt=\"not great\">"
   ]
  },
  {
   "cell_type": "markdown",
   "id": "c69d242c",
   "metadata": {},
   "source": [
    "<a id = '2.10'><a/>\n",
    "### 2.10 Random Forest w/smote\n",
    "* [Back To Top](#Content)"
   ]
  },
  {
   "cell_type": "code",
   "execution_count": null,
   "id": "4712125a",
   "metadata": {
    "ExecuteTime": {
     "end_time": "2022-02-04T10:36:54.798760Z",
     "start_time": "2022-02-04T10:36:54.780183Z"
    }
   },
   "outputs": [],
   "source": [
    "rf = RandomForestClassifier(random_state=42, n_jobs=4)\n",
    "\n",
    "params_rf_smote = {\n",
    "    'clsf__n_estimators': [150, 250],\n",
    "    'clsf__max_depth': [ 5, 7],\n",
    "    'clsf__ccp_alpha':[0, 0.01],\n",
    "    'smpl__k_neighbors': [3, 5, 7],\n",
    "}"
   ]
  },
  {
   "cell_type": "code",
   "execution_count": null,
   "id": "aa07a99b",
   "metadata": {
    "ExecuteTime": {
     "end_time": "2022-02-04T10:37:42.920544Z",
     "start_time": "2022-02-04T10:37:18.926678Z"
    },
    "scrolled": true
   },
   "outputs": [],
   "source": [
    "gs_rf_smote = run_model(rf, params_rf_smote, 'smote')"
   ]
  },
  {
   "cell_type": "code",
   "execution_count": null,
   "id": "d351ae4e",
   "metadata": {
    "ExecuteTime": {
     "end_time": "2022-02-04T11:28:03.206076Z",
     "start_time": "2022-02-04T11:28:02.978085Z"
    },
    "scrolled": true
   },
   "outputs": [],
   "source": [
    "plot_confusion_matrix(gs_rf_smote, X_test, y_test)"
   ]
  },
  {
   "cell_type": "code",
   "execution_count": null,
   "id": "64324b1f",
   "metadata": {
    "ExecuteTime": {
     "end_time": "2022-02-04T10:38:09.773003Z",
     "start_time": "2022-02-04T10:38:09.158169Z"
    }
   },
   "outputs": [],
   "source": [
    "submit_kaggle('rf_smote', gs_rf_smote)"
   ]
  },
  {
   "cell_type": "markdown",
   "id": "4e70bccc",
   "metadata": {},
   "source": [
    "### Random Forest w/smote Kaggle\n",
    "\n",
    "<img src=\"../images/submit_rfsmote2.png\" alt=\"not great\">"
   ]
  },
  {
   "cell_type": "markdown",
   "id": "83ef0f07",
   "metadata": {},
   "source": [
    "<a id = '2.11'><a/>\n",
    "### 2.11 XGBoost w/smotetomek\n",
    "* [Back To Top](#Content)"
   ]
  },
  {
   "cell_type": "code",
   "execution_count": null,
   "id": "49dfda8d",
   "metadata": {
    "ExecuteTime": {
     "end_time": "2022-02-04T10:38:23.310089Z",
     "start_time": "2022-02-04T10:38:23.290063Z"
    }
   },
   "outputs": [],
   "source": [
    "xg_smotetomek = XGBClassifier(\n",
    "    use_label_encoder=False,\n",
    "    eval_metric='auc',\n",
    "    objective='binary:logistic',\n",
    "    random_state=42,\n",
    ")\n",
    "\n",
    "xg_smotetomek_params = { \n",
    "    'clsf__max_depth': [3, 5],\n",
    "    'clsf__gamma' : [0.15, 0.25],\n",
    "    'clsf__learning_rate' : [0.125, 0.2],\n",
    "    'clsf__n_estimators':[150, 200],\n",
    "    'clsf__reg_alpha':[5,10],\n",
    "    'smpl__sampling_strategy':['all', 'auto', 'not minority']\n",
    "}"
   ]
  },
  {
   "cell_type": "code",
   "execution_count": null,
   "id": "ae2a8208",
   "metadata": {
    "ExecuteTime": {
     "end_time": "2022-02-04T10:46:31.576744Z",
     "start_time": "2022-02-04T10:38:31.131895Z"
    }
   },
   "outputs": [],
   "source": [
    "gs_xg_smotetomek = run_model(xg_smotetomek, xg_smotetomek_params, kind='smotetomek')"
   ]
  },
  {
   "cell_type": "code",
   "execution_count": null,
   "id": "81898b97",
   "metadata": {
    "ExecuteTime": {
     "end_time": "2022-02-04T10:46:42.034656Z",
     "start_time": "2022-02-04T10:46:41.742350Z"
    }
   },
   "outputs": [],
   "source": [
    "submit_kaggle('submit_xgsmotetomek', gs_xg_smotetomek)"
   ]
  },
  {
   "cell_type": "markdown",
   "id": "d51452de",
   "metadata": {
    "ExecuteTime": {
     "end_time": "2022-01-31T15:30:38.109289Z",
     "start_time": "2022-01-31T15:30:38.099411Z"
    }
   },
   "source": [
    "### XGBoost w/smote Kaggle\n",
    "\n",
    "<img src=\"../images/submit_xgsmotetomek.png\" alt=\"not great\">"
   ]
  },
  {
   "cell_type": "markdown",
   "id": "33e2834f",
   "metadata": {
    "ExecuteTime": {
     "end_time": "2022-02-01T09:59:27.521826Z",
     "start_time": "2022-02-01T09:59:27.515742Z"
    }
   },
   "source": [
    "<a id = '3.0'><a/>\n",
    "### 3.0 Make model table\n",
    "* [Back To Top](#Content)"
   ]
  },
  {
   "cell_type": "code",
   "execution_count": null,
   "id": "6f4c1997",
   "metadata": {
    "ExecuteTime": {
     "end_time": "2022-02-04T11:40:14.727956Z",
     "start_time": "2022-02-04T11:40:14.712837Z"
    },
    "scrolled": true
   },
   "outputs": [],
   "source": [
    "Table = pd.DataFrame(scoring_table)\n",
    "\n",
    "#add Kaggle scores\n",
    "Table['Kaggle_AUC'] = [0.712, 0.718, 0.648, 0.676, 0.698, 0.686, 0.697, 0.700, 0.716, 0.707]"
   ]
  },
  {
   "cell_type": "code",
   "execution_count": null,
   "id": "70cf7d13",
   "metadata": {
    "ExecuteTime": {
     "end_time": "2022-02-04T11:40:15.118299Z",
     "start_time": "2022-02-04T11:40:15.105267Z"
    }
   },
   "outputs": [],
   "source": [
    "# change column order for better viewing\n",
    "Table.insert(6, 'Kaggle-AUC', Table['Kaggle_AUC'])\n",
    "Table.drop('Kaggle_AUC', axis=1, inplace=True)"
   ]
  },
  {
   "cell_type": "code",
   "execution_count": null,
   "id": "446d42c4",
   "metadata": {
    "ExecuteTime": {
     "end_time": "2022-02-04T11:40:15.553179Z",
     "start_time": "2022-02-04T11:40:15.523966Z"
    },
    "scrolled": true
   },
   "outputs": [],
   "source": [
    "Table.index +=1\n",
    "Table"
   ]
  },
  {
   "cell_type": "markdown",
   "id": "aa3bfadd",
   "metadata": {},
   "source": [
    "Formating the final table output"
   ]
  },
  {
   "cell_type": "code",
   "execution_count": null,
   "id": "439e90e1",
   "metadata": {
    "ExecuteTime": {
     "end_time": "2022-02-04T11:41:18.912253Z",
     "start_time": "2022-02-04T11:41:18.896121Z"
    }
   },
   "outputs": [],
   "source": [
    "Table2 = round(Table.loc[:,['Model','Type', 'ROC-AUC', 'Precision', 'Recall', 'F1', 'Kaggle-AUC']], 3)"
   ]
  },
  {
   "cell_type": "code",
   "execution_count": null,
   "id": "d3aeb6e2",
   "metadata": {
    "ExecuteTime": {
     "end_time": "2022-02-04T11:41:20.059369Z",
     "start_time": "2022-02-04T11:41:20.042005Z"
    }
   },
   "outputs": [],
   "source": [
    "Table2.loc[10, 'Model'] = 'XGBClassifier(random_state=42)'"
   ]
  },
  {
   "cell_type": "code",
   "execution_count": null,
   "id": "bac42764",
   "metadata": {
    "ExecuteTime": {
     "end_time": "2022-02-04T11:41:39.984020Z",
     "start_time": "2022-02-04T11:41:39.976968Z"
    }
   },
   "outputs": [],
   "source": [
    "def highlight_model(s):\n",
    "    if s['Kaggle-AUC'] ==0.716:\n",
    "        return ['background-color: yellow']*7\n",
    "    else:\n",
    "        return ['background-color: white']*7\n"
   ]
  },
  {
   "cell_type": "code",
   "execution_count": null,
   "id": "899a5213",
   "metadata": {
    "ExecuteTime": {
     "end_time": "2022-02-04T11:41:40.962987Z",
     "start_time": "2022-02-04T11:41:40.935737Z"
    }
   },
   "outputs": [],
   "source": [
    "Table2.style.apply(highlight_model, axis=1)"
   ]
  },
  {
   "cell_type": "code",
   "execution_count": null,
   "id": "d6136755",
   "metadata": {
    "ExecuteTime": {
     "end_time": "2022-02-04T11:42:15.981924Z",
     "start_time": "2022-02-04T11:42:15.974210Z"
    }
   },
   "outputs": [],
   "source": [
    "Table.to_csv('../datasets/modeltable2.csv', index=False)"
   ]
  },
  {
   "cell_type": "markdown",
   "id": "9becfad1",
   "metadata": {},
   "source": [
    "<a id = '4.0'><a/>\n",
    "### 4.0 Model Conclusions\n",
    "* [Back To Top](#Content)"
   ]
  },
  {
   "cell_type": "markdown",
   "id": "1a5a8e17",
   "metadata": {},
   "source": [
    "**Model conclusions:**\n",
    "\n",
    "- the real difficulty is models encountered is identifying west-nile carrying mosquitos correctly, since only about 5% of them carry the virus\n",
    "- our goal is to avoid false negatives ( identifying west-nile mosquitos as normal). we do not mind a high number of false positives (identifying normal mosquitos as west-nile carrying ones)\n",
    "- there is a clear tradeoff between recall and precision. models employing smote score high on recall metrics, as smote trains them to uncover more positives, but that comes at the expense of precision\n",
    "- as such we care about high recall score, and do not mind seeing our precision score dip\n",
    "- in addition to recall we also care about the overall soundness of the model. out of all the scores we trust the Kaggle competition score the most - ROC-AUC on completely unseen data\n",
    "- **we thus choose Random Forest Classifier with SMOTE as our production model**\n",
    "- it scores among top two in Kaggle ROC-AUC and recall, at 0.716 and 0.789 respectively.\n",
    "- we are willing to tolerate low precision in our production model, as identifying as many Wnv mosquitoes as possible is priority"
   ]
  },
  {
   "cell_type": "markdown",
   "id": "379ec194",
   "metadata": {},
   "source": [
    "Production model's confusion matrix: 90 Wnv mosquitoes predicted, only 24 missed\n",
    "\n",
    "<img src=\"../images/rf_conf_matrix.png\" alt=\"not great\">"
   ]
  },
  {
   "cell_type": "markdown",
   "id": "1f2e46da",
   "metadata": {},
   "source": [
    "<a id = '5.0'><a/>\n",
    "### 5.0 Features Importances\n",
    "* [Back To Top](#Content)"
   ]
  },
  {
   "cell_type": "code",
   "execution_count": null,
   "id": "754e7378",
   "metadata": {
    "ExecuteTime": {
     "end_time": "2022-02-01T13:40:09.368187Z",
     "start_time": "2022-02-01T13:40:09.333374Z"
    }
   },
   "outputs": [],
   "source": [
    "feat_imp = gs_rf_smote.best_estimator_.named_steps['clsf'].feature_importances_"
   ]
  },
  {
   "cell_type": "code",
   "execution_count": null,
   "id": "07629d5f",
   "metadata": {
    "ExecuteTime": {
     "end_time": "2022-02-01T13:43:18.548279Z",
     "start_time": "2022-02-01T13:43:18.524568Z"
    }
   },
   "outputs": [],
   "source": [
    "top_features = pd.DataFrame({'top_features': X.columns , 'coef': feat_imp}).sort_values(\n",
    "    ['coef'], ascending=False)\n",
    "top_features"
   ]
  },
  {
   "cell_type": "code",
   "execution_count": null,
   "id": "2c34e5df",
   "metadata": {
    "ExecuteTime": {
     "end_time": "2022-02-01T13:50:50.302798Z",
     "start_time": "2022-02-01T13:50:50.102735Z"
    },
    "scrolled": false
   },
   "outputs": [],
   "source": [
    "fig, ax = plt.subplots(figsize=(8,8))\n",
    "sns.barplot(x=top_features['coef'] , y = top_features['top_features'])\n",
    "plt.title('Top Features', fontsize=14, \n",
    "            color='Darkorchid')\n",
    "plt.xlabel(None)\n",
    "plt.ylabel(None)\n",
    "plt.show()"
   ]
  },
  {
   "cell_type": "markdown",
   "id": "7f7b2690",
   "metadata": {},
   "source": [
    "- length of the day and mosquito species turned out to have had the most influence in predicting the incidence of WnV. \n",
    "- the days are longest on June 21st, the Summer Solistice, and after that they get shorter, just as our West Nile season gets under way. this implies that any effort to kill mosquitos should be undertaken in July and early August, just before the peak west nile season in late summer\n",
    "- as far species are concerned, this knowledge is useful in predicting and modeling the spread of west nile. Spraying however, works on all mosquitoes species indiscriminately.\n",
    "- some dummy week variable have proven more useful than others. Namely, week28 - the first week in our dummy mosquito season, and weeks 33 and 34 (the peaks of the season) have most predictive power. this is consistent with our eda finding in notebook 1\n",
    "- we could have added some polynomial features, but we chose not to in order to maintain interpretability of our model and all of its features\n",
    "- the fact that the location of the trap (latitude and longitude) do not rank high, gives us a clue on why overall model performance isn't very reliable. Being able to tell which trap would catch Wnv mosquitoes and which wouldn't is not something that this model was able to predict. The question we must ask as ourselves is: as mosquitoes fly around the city and are carried by wind, is there such a model which can reliably predict which traps in the city, some of them only a 1 or 2km away from each other, will record a Wnv mosquito, and which ones would not?"
   ]
  },
  {
   "cell_type": "markdown",
   "id": "81d1245c",
   "metadata": {
    "ExecuteTime": {
     "end_time": "2022-02-04T04:15:53.166926Z",
     "start_time": "2022-02-04T04:15:53.132699Z"
    }
   },
   "source": [
    "<a id = '6.0'><a/>\n",
    "### 6.0 Cost-Benifit analysis\n",
    "* [Back To Top](#Content)"
   ]
  },
  {
   "cell_type": "markdown",
   "id": "a6f34cb1",
   "metadata": {},
   "source": [
    "**COSTS**\n",
    "\n",
    "- city of Chicago uses Zenivex spray to control its mosquito population. The cost, under some assumptions, come out to around $200USD per km² per week. \n",
    "\n"
   ]
  },
  {
   "cell_type": "markdown",
   "id": "33de2768",
   "metadata": {},
   "source": [
    "**BENEFITS**\n",
    "\n",
    "- the benefits are somewhat harder to quantify, and are based on many assumptions (see image below), but we came up with the figure of $160,000USD in productivity and medical costs that would be saved if every single west-nile carrying mosquito were eliminated."
   ]
  },
  {
   "cell_type": "markdown",
   "id": "2ff11c6c",
   "metadata": {},
   "source": [
    "**RESULT**\n",
    "\n",
    "- 160000/200 gives us acceptable range of spraying of 800km². If we further assume that the summer spray season is about 8 weeks long, that gives us the upper limit for cost-effective spraying of 100km² per week. Anything more than 100km² per week and the City would be spending more money trying to eredicate the disease, then the disease, even in its most severe 2002 form, brings about in lost productivity and health-care costs.\n",
    "- 100km² is only 15% of the area of the city of Chicago proper.\n",
    "- calculations below:"
   ]
  },
  {
   "cell_type": "markdown",
   "id": "ebd15a33",
   "metadata": {
    "ExecuteTime": {
     "end_time": "2022-02-04T04:24:34.373211Z",
     "start_time": "2022-02-04T04:24:34.355574Z"
    }
   },
   "source": [
    "<img src=\"../images/cb-analysis.png\" alt=\"not great\">"
   ]
  },
  {
   "cell_type": "markdown",
   "id": "ca0919d2",
   "metadata": {},
   "source": [
    "<a id = '7.0'><a/>\n",
    "### 7.0 Conclusions\n",
    "* [Back To Top](#Content)"
   ]
  },
  {
   "cell_type": "markdown",
   "id": "b76661d0",
   "metadata": {},
   "source": [
    "**There are many reasons to suggest not spending resources on spraying:**\n",
    "\n",
    "- our charts made during EDA section show no significant decrease in either the mosquito number nor in the incidence of WnV after previous spraying\n",
    "- under reasonable assumption, we can only afford to spay 15% of the city area for 8 weeks during the peak mosquito season, which is wouldn't make much difference, as mosquitoes from other parts of the city could migrate to replace them"
   ]
  },
  {
   "cell_type": "markdown",
   "id": "c831d42f",
   "metadata": {},
   "source": [
    "**Still, we believe, and this is our final recommendation, that limited spraying should take place.**\n",
    "\n",
    "- even assuming that only 15% of the chicago area can be sprayed in any given week, we could use our model to maximize the efficiency of such a limited spray, by focusing on the areas in our model that give rise to highest 'WnV present' odds. (model.predic_proba) \n",
    "- scientifically speaking, the spray **does** kill of mosquitoes and their larvae. So even if our data doesn't show it, we choose to believe the science and use spraying as a mosquito-reduction technique. We will however use our findings of spray's lack of success, by deciding not spend do spend much funds on it.\n",
    "- it is important for a city government to show that it cares about its people, so standing idly by while the virus is affecting its people is, politically speaking, not an option\n",
    "- lastly, even though spraying does not have substantial effect now, it does not mean that it will remain so in the future, especially if west nile virus started spreading at faster rates. that is why it is important to have a well-oiled, functioning spraying program in place now, which can then easily be ramped up in the future if a need should arise."
   ]
  },
  {
   "cell_type": "markdown",
   "id": "3dd61db0",
   "metadata": {
    "ExecuteTime": {
     "end_time": "2022-02-04T11:21:04.958541Z",
     "start_time": "2022-02-04T11:21:04.946446Z"
    }
   },
   "source": [
    "**Beyond the cost-benefit: What's next?**\n",
    "\n",
    "- the only way to substantially improve our model and make use of City's limited spraying finds, is to extend the model in such a way so that it is able to pinpoint the micro-location of where the Wnv mosquitoes will be present. This would include more advanced use of GPS data, as well teaming up with weather experts and entomologists to model the ways in which mosquitoes move around the city based on atmospheric data and their biological needs.\n"
   ]
  }
 ],
 "metadata": {
  "kernelspec": {
   "display_name": "Python 3",
   "language": "python",
   "name": "python3"
  },
  "language_info": {
   "codemirror_mode": {
    "name": "ipython",
    "version": 3
   },
   "file_extension": ".py",
   "mimetype": "text/x-python",
   "name": "python",
   "nbconvert_exporter": "python",
   "pygments_lexer": "ipython3",
   "version": "3.8.8"
  },
  "toc": {
   "base_numbering": 1,
   "nav_menu": {},
   "number_sections": false,
   "sideBar": true,
   "skip_h1_title": false,
   "title_cell": "Table of Contents",
   "title_sidebar": "Contents",
   "toc_cell": false,
   "toc_position": {
    "height": "calc(100% - 180px)",
    "left": "10px",
    "top": "150px",
    "width": "263.75px"
   },
   "toc_section_display": true,
   "toc_window_display": true
  },
  "varInspector": {
   "cols": {
    "lenName": 16,
    "lenType": 16,
    "lenVar": 40
   },
   "kernels_config": {
    "python": {
     "delete_cmd_postfix": "",
     "delete_cmd_prefix": "del ",
     "library": "var_list.py",
     "varRefreshCmd": "print(var_dic_list())"
    },
    "r": {
     "delete_cmd_postfix": ") ",
     "delete_cmd_prefix": "rm(",
     "library": "var_list.r",
     "varRefreshCmd": "cat(var_dic_list()) "
    }
   },
   "types_to_exclude": [
    "module",
    "function",
    "builtin_function_or_method",
    "instance",
    "_Feature"
   ],
   "window_display": false
  }
 },
 "nbformat": 4,
 "nbformat_minor": 5
}
