{
 "cells": [
  {
   "cell_type": "markdown",
   "id": "725840e1",
   "metadata": {},
   "source": [
    "<a id = 'Content'><a/>\n",
    "### Contents:\n",
    "- [1.0 Imports and Functions](#1.0)\n",
    "- [2.0 Models](#2.0)\n",
    "    - [2.1 Random Forest Regular](#2.1)\n",
    "    - [2.2 Gradient Boost Regular](#2.2)\n",
    "    - [2.3 PCA model setup](#2.3)\n",
    "    - [2.4 Gradient Boost w/poly features+PCA](#2.4)\n",
    "    - [2.5 Log Reg w/poly features+smote+PCA](#2.5)\n",
    "    - [2.6 Random Forest w/smotetomek+PCA](#2.6)\n",
    "    - [2.7 Log Reg w/smote](#2.7)\n",
    "    - [2.8 Gradient Boost w/smote](#2.8)\n",
    "    - [2.9 Gradient Boost w/smotetomek](#2.9)\n",
    "    - [2.10 Random Forest w/smote](#2.10)\n",
    "    - [2.11 XGBoost w/smotetomek](#2.11)\n",
    "- [3.0 Make Model Table](#3.0)\n",
    "- [4.0 Model Evaluations](#4.0)\n",
    "- [5.0 Feature Importances](#5.0)"
   ]
  },
  {
   "cell_type": "markdown",
   "id": "28a7cfbd",
   "metadata": {
    "ExecuteTime": {
     "end_time": "2022-01-28T12:01:50.589842Z",
     "start_time": "2022-01-28T12:01:50.558503Z"
    }
   },
   "source": [
    "<a id = '1.0'><a/>\n",
    "### 1.0 Imports and Functions\n",
    "* [Back To Top](#Content) "
   ]
  },
  {
   "cell_type": "code",
   "execution_count": 1,
   "id": "8518cb54",
   "metadata": {
    "ExecuteTime": {
     "end_time": "2022-02-04T09:21:31.383334Z",
     "start_time": "2022-02-04T09:21:31.378552Z"
    }
   },
   "outputs": [],
   "source": [
    "#!pip install xgboost"
   ]
  },
  {
   "cell_type": "code",
   "execution_count": 2,
   "id": "0d0aebcb",
   "metadata": {
    "ExecuteTime": {
     "end_time": "2022-02-04T09:21:39.457278Z",
     "start_time": "2022-02-04T09:21:34.987859Z"
    }
   },
   "outputs": [],
   "source": [
    "# Necessary imports\n",
    "import pandas as pd\n",
    "import numpy as np\n",
    "import seaborn as sns\n",
    "import matplotlib.pyplot as plt\n",
    "\n",
    "from sklearn.model_selection import train_test_split, GridSearchCV\n",
    "from sklearn.preprocessing import StandardScaler, PolynomialFeatures\n",
    "from sklearn.linear_model import LogisticRegression\n",
    "from sklearn.pipeline import Pipeline\n",
    "from sklearn.ensemble import GradientBoostingClassifier, RandomForestClassifier\n",
    "from xgboost import XGBClassifier\n",
    "from sklearn.metrics import roc_auc_score, recall_score, f1_score, precision_score, confusion_matrix, plot_confusion_matrix\n",
    "from sklearn.decomposition import PCA\n",
    "from imblearn.pipeline import Pipeline as Pipeline_imb\n",
    "\n",
    "from imblearn.combine import SMOTETomek\n",
    "from imblearn.over_sampling import SMOTE"
   ]
  },
  {
   "cell_type": "code",
   "execution_count": 3,
   "id": "30904c5d",
   "metadata": {
    "ExecuteTime": {
     "end_time": "2022-02-04T09:21:53.397503Z",
     "start_time": "2022-02-04T09:21:53.121956Z"
    }
   },
   "outputs": [],
   "source": [
    "# test = pd.read_csv('../datasets/test.csv', parse_dates=['Date'],index_col=['Id'])\n",
    "train = pd.read_csv(\"../datasets/final_train.csv\")\n",
    "test = pd.read_csv(\"../datasets/final_test.csv\", index_col='id')"
   ]
  },
  {
   "cell_type": "code",
   "execution_count": 4,
   "id": "d3ce8d77",
   "metadata": {
    "ExecuteTime": {
     "end_time": "2022-02-04T09:22:29.662742Z",
     "start_time": "2022-02-04T09:22:29.651648Z"
    }
   },
   "outputs": [],
   "source": [
    "# this function is the heart of this notebook. it will be used to run all models,\n",
    "# except the ones that use both PCA and SMOTE\n",
    "\n",
    "def run_model(clsf, params, kind='reg'):\n",
    "    \"\"\" Input classifier, parameters, and \n",
    "    kind ('reg' (default), 'pca', 'smote',or 'smotetomek') \"\"\"\n",
    "\n",
    "# 'reg' stand for just a normal model, pipe with only a scaler and a classifier\n",
    "    if kind == 'reg':\n",
    "        pipe = Pipeline([\n",
    "            ('sc', StandardScaler()),\n",
    "            ('clsf', clsf)\n",
    "        ])\n",
    "\n",
    "# models with SMOTE\n",
    "    if kind == 'smote':\n",
    "        pipe = Pipeline_imb([\n",
    "            ('sc', StandardScaler()),\n",
    "            ('smpl', SMOTE(sampling_strategy='auto', random_state=42)),\n",
    "            ('clsf', clsf)\n",
    "        ])\n",
    "\n",
    "# pipe models with SMOTETOMEK\n",
    "    if kind == 'smotetomek':\n",
    "        pipe = Pipeline_imb([\n",
    "            ('sc', StandardScaler()),\n",
    "            ('smpl', SMOTETomek(random_state=42)),\n",
    "            ('clsf', clsf)\n",
    "        ])\n",
    "\n",
    "# pipe for models with PCA\n",
    "    if kind == 'pca':\n",
    "        pipe = Pipeline([\n",
    "            ('sc', StandardScaler()),\n",
    "            ('pca', PCA(n_components=50, random_state=42)),\n",
    "            ('clsf', clsf)\n",
    "        ])\n",
    "\n",
    "# initiate a gridsearch\n",
    "    grid = GridSearchCV(\n",
    "        pipe,\n",
    "        param_grid=params,\n",
    "        scoring='roc_auc',\n",
    "        cv=4,\n",
    "        n_jobs=-1,\n",
    "        verbose=2)\n",
    "\n",
    "# only PCA gets fitted with polynomial order 2 data, the rest with regular\n",
    "    if kind in ['reg', 'smote', 'smotetomek']:\n",
    "        grid.fit(X_train, y_train)\n",
    "        pred = grid.predict(X_test)\n",
    "        pred_prob = grid.predict_proba(X_test)[:, 1]\n",
    "\n",
    "    elif kind == 'pca':\n",
    "        grid.fit(Xp_train, y_train)\n",
    "        pred = grid.predict(Xp_test)\n",
    "        pred_prob = grid.predict_proba(Xp_test)[:, 1]\n",
    "\n",
    "    else:\n",
    "        print(\"Try again\")\n",
    "        return\n",
    "\n",
    "# initiate a dictionary called table to store all models scores and parameters\n",
    "    table = {'Model': clsf}\n",
    "    table['Type'] = kind\n",
    "\n",
    "    table['ROC-AUC'] = roc_auc_score(y_test, pred_prob)\n",
    "    table['Precision'] = precision_score(y_test, pred)\n",
    "    table['Recall'] = recall_score(y_test, pred)\n",
    "    table['F1'] = f1_score(y_test, pred)\n",
    "\n",
    "    for key, value in grid.best_params_.items():\n",
    "        table[key] = value\n",
    "\n",
    "\n",
    "# quick printout of parameters and confustion matrix, to aid in additinal parameterization\n",
    "    print('\\n')\n",
    "    print('='*30)\n",
    "    print(f\"\\033[1m {clsf} \\033[0m\".center(38, \"=\"))\n",
    "    print('='*30)\n",
    "    print('')\n",
    "    print(\" Best Parameters:\")\n",
    "    print('-'*30, '\\n')\n",
    "    for key, value in grid.best_params_.items():\n",
    "        print(key, ':', value)\n",
    "\n",
    "    print(confusion_matrix(y_test, pred))\n",
    "    scoring_table.append(table)\n",
    "    return grid"
   ]
  },
  {
   "cell_type": "markdown",
   "id": "a8864349",
   "metadata": {},
   "source": [
    "- Kaggle train set has over 100k rows of data, and is therefore vastly superior to our train/test sets we will obtain after train-test-split. Kaggle however, gives us only ROC-AUC score\n",
    "- we will therefore use the Kaggle submission to give us the superior ROC-AUC score. Other scores, unavailable from Kaggle, will be from our test set we split off from training data\n",
    "- as we will be submitting every model to Kaggle to get scores, we will create submit_kaggle function in the cell below"
   ]
  },
  {
   "cell_type": "code",
   "execution_count": 5,
   "id": "4157f497",
   "metadata": {
    "ExecuteTime": {
     "end_time": "2022-02-04T09:23:03.924650Z",
     "start_time": "2022-02-04T09:23:03.919509Z"
    }
   },
   "outputs": [],
   "source": [
    "# function to submit a model to kaggle for scoring\n",
    "def submit_kaggle(name, gs):\n",
    "    \"\"\" the function takes filename and gridsearch (best estimator),\n",
    "    and creates a csv file ready for kaggle's WestNile competition\n",
    "    \"\"\"\n",
    "\n",
    "    submit = pd.DataFrame()\n",
    "    submit['Id'] = test.index\n",
    "    submit.set_index('Id', drop=True, inplace=True)\n",
    "    submit['WnvPresent'] = gs.predict_proba(test)[:, 1]\n",
    "    submit.to_csv(f'../datasets/{name}2.csv')"
   ]
  },
  {
   "cell_type": "code",
   "execution_count": 6,
   "id": "c062f078",
   "metadata": {
    "ExecuteTime": {
     "end_time": "2022-02-04T09:23:21.197695Z",
     "start_time": "2022-02-04T09:23:21.176809Z"
    },
    "scrolled": true
   },
   "outputs": [
    {
     "name": "stdout",
     "output_type": "stream",
     "text": [
      "<class 'pandas.core.frame.DataFrame'>\n",
      "RangeIndex: 8475 entries, 0 to 8474\n",
      "Data columns (total 34 columns):\n",
      " #   Column             Non-Null Count  Dtype  \n",
      "---  ------             --------------  -----  \n",
      " 0   date               8475 non-null   object \n",
      " 1   species            8475 non-null   object \n",
      " 2   latitude           8475 non-null   float64\n",
      " 3   longitude          8475 non-null   float64\n",
      " 4   latlong            8475 non-null   object \n",
      " 5   nummosquitos       8475 non-null   int64  \n",
      " 6   wnvpresent         8475 non-null   int64  \n",
      " 7   year               8475 non-null   int64  \n",
      " 8   dum_species        8475 non-null   int64  \n",
      " 9   tavg               8475 non-null   float64\n",
      " 10  preciptotal        8475 non-null   float64\n",
      " 11  stnpressure        8475 non-null   float64\n",
      " 12  sealevel           8475 non-null   float64\n",
      " 13  resultspeed        8475 non-null   float64\n",
      " 14  resultdir          8475 non-null   float64\n",
      " 15  avgspeed           8475 non-null   float64\n",
      " 16  humidity           8475 non-null   float64\n",
      " 17  daylength          8475 non-null   float64\n",
      " 18  tavg_lag14         8475 non-null   float64\n",
      " 19  humidity_lag14     8475 non-null   float64\n",
      " 20  resultspeed_lag14  8475 non-null   float64\n",
      " 21  preciptotal_lag14  8475 non-null   float64\n",
      " 22  dumweek_28         8475 non-null   int64  \n",
      " 23  dumweek_29         8475 non-null   int64  \n",
      " 24  dumweek_30         8475 non-null   int64  \n",
      " 25  dumweek_31         8475 non-null   int64  \n",
      " 26  dumweek_32         8475 non-null   int64  \n",
      " 27  dumweek_33         8475 non-null   int64  \n",
      " 28  dumweek_34         8475 non-null   int64  \n",
      " 29  dumweek_35         8475 non-null   int64  \n",
      " 30  dumweek_36         8475 non-null   int64  \n",
      " 31  dumweek_37         8475 non-null   int64  \n",
      " 32  dumweek_38         8475 non-null   int64  \n",
      " 33  dumweek_39         8475 non-null   int64  \n",
      "dtypes: float64(15), int64(16), object(3)\n",
      "memory usage: 2.2+ MB\n"
     ]
    }
   ],
   "source": [
    "train.info()"
   ]
  },
  {
   "cell_type": "code",
   "execution_count": 7,
   "id": "99d7e550",
   "metadata": {
    "ExecuteTime": {
     "end_time": "2022-02-04T09:23:25.525922Z",
     "start_time": "2022-02-04T09:23:25.462959Z"
    },
    "scrolled": true
   },
   "outputs": [
    {
     "data": {
      "text/html": [
       "<div>\n",
       "<style scoped>\n",
       "    .dataframe tbody tr th:only-of-type {\n",
       "        vertical-align: middle;\n",
       "    }\n",
       "\n",
       "    .dataframe tbody tr th {\n",
       "        vertical-align: top;\n",
       "    }\n",
       "\n",
       "    .dataframe thead th {\n",
       "        text-align: right;\n",
       "    }\n",
       "</style>\n",
       "<table border=\"1\" class=\"dataframe\">\n",
       "  <thead>\n",
       "    <tr style=\"text-align: right;\">\n",
       "      <th></th>\n",
       "      <th>latitude</th>\n",
       "      <th>longitude</th>\n",
       "      <th>nummosquitos</th>\n",
       "      <th>wnvpresent</th>\n",
       "      <th>year</th>\n",
       "      <th>dum_species</th>\n",
       "      <th>tavg</th>\n",
       "      <th>preciptotal</th>\n",
       "      <th>stnpressure</th>\n",
       "      <th>sealevel</th>\n",
       "      <th>...</th>\n",
       "      <th>dumweek_30</th>\n",
       "      <th>dumweek_31</th>\n",
       "      <th>dumweek_32</th>\n",
       "      <th>dumweek_33</th>\n",
       "      <th>dumweek_34</th>\n",
       "      <th>dumweek_35</th>\n",
       "      <th>dumweek_36</th>\n",
       "      <th>dumweek_37</th>\n",
       "      <th>dumweek_38</th>\n",
       "      <th>dumweek_39</th>\n",
       "    </tr>\n",
       "  </thead>\n",
       "  <tbody>\n",
       "    <tr>\n",
       "      <th>count</th>\n",
       "      <td>8475.000000</td>\n",
       "      <td>8475.000000</td>\n",
       "      <td>8475.000000</td>\n",
       "      <td>8475.000000</td>\n",
       "      <td>8475.000000</td>\n",
       "      <td>8475.000000</td>\n",
       "      <td>8475.000000</td>\n",
       "      <td>8475.000000</td>\n",
       "      <td>8475.000000</td>\n",
       "      <td>8475.000000</td>\n",
       "      <td>...</td>\n",
       "      <td>8475.000000</td>\n",
       "      <td>8475.000000</td>\n",
       "      <td>8475.000000</td>\n",
       "      <td>8475.000000</td>\n",
       "      <td>8475.000000</td>\n",
       "      <td>8475.000000</td>\n",
       "      <td>8475.000000</td>\n",
       "      <td>8475.000000</td>\n",
       "      <td>8475.000000</td>\n",
       "      <td>8475.000000</td>\n",
       "    </tr>\n",
       "    <tr>\n",
       "      <th>mean</th>\n",
       "      <td>41.844618</td>\n",
       "      <td>-87.694788</td>\n",
       "      <td>15.933805</td>\n",
       "      <td>0.053923</td>\n",
       "      <td>2009.713156</td>\n",
       "      <td>1.246254</td>\n",
       "      <td>22.460505</td>\n",
       "      <td>0.156117</td>\n",
       "      <td>29.281345</td>\n",
       "      <td>29.961765</td>\n",
       "      <td>...</td>\n",
       "      <td>0.066903</td>\n",
       "      <td>0.094395</td>\n",
       "      <td>0.070678</td>\n",
       "      <td>0.070324</td>\n",
       "      <td>0.078938</td>\n",
       "      <td>0.041298</td>\n",
       "      <td>0.040472</td>\n",
       "      <td>0.056755</td>\n",
       "      <td>0.071504</td>\n",
       "      <td>0.049794</td>\n",
       "    </tr>\n",
       "    <tr>\n",
       "      <th>std</th>\n",
       "      <td>0.106609</td>\n",
       "      <td>0.084063</td>\n",
       "      <td>75.084707</td>\n",
       "      <td>0.225880</td>\n",
       "      <td>2.331751</td>\n",
       "      <td>0.507795</td>\n",
       "      <td>4.217497</td>\n",
       "      <td>0.339540</td>\n",
       "      <td>0.116693</td>\n",
       "      <td>0.120210</td>\n",
       "      <td>...</td>\n",
       "      <td>0.249868</td>\n",
       "      <td>0.292395</td>\n",
       "      <td>0.256302</td>\n",
       "      <td>0.255708</td>\n",
       "      <td>0.269658</td>\n",
       "      <td>0.198990</td>\n",
       "      <td>0.197075</td>\n",
       "      <td>0.231388</td>\n",
       "      <td>0.257681</td>\n",
       "      <td>0.217531</td>\n",
       "    </tr>\n",
       "    <tr>\n",
       "      <th>min</th>\n",
       "      <td>41.644612</td>\n",
       "      <td>-87.930995</td>\n",
       "      <td>1.000000</td>\n",
       "      <td>0.000000</td>\n",
       "      <td>2007.000000</td>\n",
       "      <td>0.000000</td>\n",
       "      <td>10.555556</td>\n",
       "      <td>0.000000</td>\n",
       "      <td>28.920000</td>\n",
       "      <td>29.595000</td>\n",
       "      <td>...</td>\n",
       "      <td>0.000000</td>\n",
       "      <td>0.000000</td>\n",
       "      <td>0.000000</td>\n",
       "      <td>0.000000</td>\n",
       "      <td>0.000000</td>\n",
       "      <td>0.000000</td>\n",
       "      <td>0.000000</td>\n",
       "      <td>0.000000</td>\n",
       "      <td>0.000000</td>\n",
       "      <td>0.000000</td>\n",
       "    </tr>\n",
       "    <tr>\n",
       "      <th>25%</th>\n",
       "      <td>41.750498</td>\n",
       "      <td>-87.752329</td>\n",
       "      <td>2.000000</td>\n",
       "      <td>0.000000</td>\n",
       "      <td>2007.000000</td>\n",
       "      <td>1.000000</td>\n",
       "      <td>20.277778</td>\n",
       "      <td>0.000000</td>\n",
       "      <td>29.200000</td>\n",
       "      <td>29.880000</td>\n",
       "      <td>...</td>\n",
       "      <td>0.000000</td>\n",
       "      <td>0.000000</td>\n",
       "      <td>0.000000</td>\n",
       "      <td>0.000000</td>\n",
       "      <td>0.000000</td>\n",
       "      <td>0.000000</td>\n",
       "      <td>0.000000</td>\n",
       "      <td>0.000000</td>\n",
       "      <td>0.000000</td>\n",
       "      <td>0.000000</td>\n",
       "    </tr>\n",
       "    <tr>\n",
       "      <th>50%</th>\n",
       "      <td>41.857402</td>\n",
       "      <td>-87.694991</td>\n",
       "      <td>4.000000</td>\n",
       "      <td>0.000000</td>\n",
       "      <td>2009.000000</td>\n",
       "      <td>1.000000</td>\n",
       "      <td>23.055556</td>\n",
       "      <td>0.000000</td>\n",
       "      <td>29.290000</td>\n",
       "      <td>29.970000</td>\n",
       "      <td>...</td>\n",
       "      <td>0.000000</td>\n",
       "      <td>0.000000</td>\n",
       "      <td>0.000000</td>\n",
       "      <td>0.000000</td>\n",
       "      <td>0.000000</td>\n",
       "      <td>0.000000</td>\n",
       "      <td>0.000000</td>\n",
       "      <td>0.000000</td>\n",
       "      <td>0.000000</td>\n",
       "      <td>0.000000</td>\n",
       "    </tr>\n",
       "    <tr>\n",
       "      <th>75%</th>\n",
       "      <td>41.944869</td>\n",
       "      <td>-87.642984</td>\n",
       "      <td>11.000000</td>\n",
       "      <td>0.000000</td>\n",
       "      <td>2011.000000</td>\n",
       "      <td>2.000000</td>\n",
       "      <td>25.277778</td>\n",
       "      <td>0.165000</td>\n",
       "      <td>29.370000</td>\n",
       "      <td>30.050000</td>\n",
       "      <td>...</td>\n",
       "      <td>0.000000</td>\n",
       "      <td>0.000000</td>\n",
       "      <td>0.000000</td>\n",
       "      <td>0.000000</td>\n",
       "      <td>0.000000</td>\n",
       "      <td>0.000000</td>\n",
       "      <td>0.000000</td>\n",
       "      <td>0.000000</td>\n",
       "      <td>0.000000</td>\n",
       "      <td>0.000000</td>\n",
       "    </tr>\n",
       "    <tr>\n",
       "      <th>max</th>\n",
       "      <td>42.017430</td>\n",
       "      <td>-87.531635</td>\n",
       "      <td>2532.000000</td>\n",
       "      <td>1.000000</td>\n",
       "      <td>2013.000000</td>\n",
       "      <td>2.000000</td>\n",
       "      <td>29.722222</td>\n",
       "      <td>2.420000</td>\n",
       "      <td>29.620000</td>\n",
       "      <td>30.330000</td>\n",
       "      <td>...</td>\n",
       "      <td>1.000000</td>\n",
       "      <td>1.000000</td>\n",
       "      <td>1.000000</td>\n",
       "      <td>1.000000</td>\n",
       "      <td>1.000000</td>\n",
       "      <td>1.000000</td>\n",
       "      <td>1.000000</td>\n",
       "      <td>1.000000</td>\n",
       "      <td>1.000000</td>\n",
       "      <td>1.000000</td>\n",
       "    </tr>\n",
       "  </tbody>\n",
       "</table>\n",
       "<p>8 rows × 31 columns</p>\n",
       "</div>"
      ],
      "text/plain": [
       "          latitude    longitude  nummosquitos   wnvpresent         year  \\\n",
       "count  8475.000000  8475.000000   8475.000000  8475.000000  8475.000000   \n",
       "mean     41.844618   -87.694788     15.933805     0.053923  2009.713156   \n",
       "std       0.106609     0.084063     75.084707     0.225880     2.331751   \n",
       "min      41.644612   -87.930995      1.000000     0.000000  2007.000000   \n",
       "25%      41.750498   -87.752329      2.000000     0.000000  2007.000000   \n",
       "50%      41.857402   -87.694991      4.000000     0.000000  2009.000000   \n",
       "75%      41.944869   -87.642984     11.000000     0.000000  2011.000000   \n",
       "max      42.017430   -87.531635   2532.000000     1.000000  2013.000000   \n",
       "\n",
       "       dum_species         tavg  preciptotal  stnpressure     sealevel  ...  \\\n",
       "count  8475.000000  8475.000000  8475.000000  8475.000000  8475.000000  ...   \n",
       "mean      1.246254    22.460505     0.156117    29.281345    29.961765  ...   \n",
       "std       0.507795     4.217497     0.339540     0.116693     0.120210  ...   \n",
       "min       0.000000    10.555556     0.000000    28.920000    29.595000  ...   \n",
       "25%       1.000000    20.277778     0.000000    29.200000    29.880000  ...   \n",
       "50%       1.000000    23.055556     0.000000    29.290000    29.970000  ...   \n",
       "75%       2.000000    25.277778     0.165000    29.370000    30.050000  ...   \n",
       "max       2.000000    29.722222     2.420000    29.620000    30.330000  ...   \n",
       "\n",
       "        dumweek_30   dumweek_31   dumweek_32   dumweek_33   dumweek_34  \\\n",
       "count  8475.000000  8475.000000  8475.000000  8475.000000  8475.000000   \n",
       "mean      0.066903     0.094395     0.070678     0.070324     0.078938   \n",
       "std       0.249868     0.292395     0.256302     0.255708     0.269658   \n",
       "min       0.000000     0.000000     0.000000     0.000000     0.000000   \n",
       "25%       0.000000     0.000000     0.000000     0.000000     0.000000   \n",
       "50%       0.000000     0.000000     0.000000     0.000000     0.000000   \n",
       "75%       0.000000     0.000000     0.000000     0.000000     0.000000   \n",
       "max       1.000000     1.000000     1.000000     1.000000     1.000000   \n",
       "\n",
       "        dumweek_35   dumweek_36   dumweek_37   dumweek_38   dumweek_39  \n",
       "count  8475.000000  8475.000000  8475.000000  8475.000000  8475.000000  \n",
       "mean      0.041298     0.040472     0.056755     0.071504     0.049794  \n",
       "std       0.198990     0.197075     0.231388     0.257681     0.217531  \n",
       "min       0.000000     0.000000     0.000000     0.000000     0.000000  \n",
       "25%       0.000000     0.000000     0.000000     0.000000     0.000000  \n",
       "50%       0.000000     0.000000     0.000000     0.000000     0.000000  \n",
       "75%       0.000000     0.000000     0.000000     0.000000     0.000000  \n",
       "max       1.000000     1.000000     1.000000     1.000000     1.000000  \n",
       "\n",
       "[8 rows x 31 columns]"
      ]
     },
     "execution_count": 7,
     "metadata": {},
     "output_type": "execute_result"
    }
   ],
   "source": [
    "train.describe()"
   ]
  },
  {
   "cell_type": "code",
   "execution_count": 8,
   "id": "b1caa422",
   "metadata": {
    "ExecuteTime": {
     "end_time": "2022-02-04T09:23:29.770924Z",
     "start_time": "2022-02-04T09:23:29.750676Z"
    },
    "scrolled": false
   },
   "outputs": [
    {
     "data": {
      "text/html": [
       "<div>\n",
       "<style scoped>\n",
       "    .dataframe tbody tr th:only-of-type {\n",
       "        vertical-align: middle;\n",
       "    }\n",
       "\n",
       "    .dataframe tbody tr th {\n",
       "        vertical-align: top;\n",
       "    }\n",
       "\n",
       "    .dataframe thead th {\n",
       "        text-align: right;\n",
       "    }\n",
       "</style>\n",
       "<table border=\"1\" class=\"dataframe\">\n",
       "  <thead>\n",
       "    <tr style=\"text-align: right;\">\n",
       "      <th></th>\n",
       "      <th>date</th>\n",
       "      <th>species</th>\n",
       "      <th>latitude</th>\n",
       "      <th>longitude</th>\n",
       "      <th>year</th>\n",
       "      <th>latlong</th>\n",
       "      <th>dum_species</th>\n",
       "      <th>tavg</th>\n",
       "      <th>preciptotal</th>\n",
       "      <th>stnpressure</th>\n",
       "      <th>...</th>\n",
       "      <th>dumweek_30</th>\n",
       "      <th>dumweek_31</th>\n",
       "      <th>dumweek_32</th>\n",
       "      <th>dumweek_33</th>\n",
       "      <th>dumweek_34</th>\n",
       "      <th>dumweek_35</th>\n",
       "      <th>dumweek_36</th>\n",
       "      <th>dumweek_37</th>\n",
       "      <th>dumweek_38</th>\n",
       "      <th>dumweek_39</th>\n",
       "    </tr>\n",
       "    <tr>\n",
       "      <th>id</th>\n",
       "      <th></th>\n",
       "      <th></th>\n",
       "      <th></th>\n",
       "      <th></th>\n",
       "      <th></th>\n",
       "      <th></th>\n",
       "      <th></th>\n",
       "      <th></th>\n",
       "      <th></th>\n",
       "      <th></th>\n",
       "      <th></th>\n",
       "      <th></th>\n",
       "      <th></th>\n",
       "      <th></th>\n",
       "      <th></th>\n",
       "      <th></th>\n",
       "      <th></th>\n",
       "      <th></th>\n",
       "      <th></th>\n",
       "      <th></th>\n",
       "      <th></th>\n",
       "    </tr>\n",
       "  </thead>\n",
       "  <tbody>\n",
       "    <tr>\n",
       "      <th>1</th>\n",
       "      <td>2008-06-11</td>\n",
       "      <td>CULEX PIPIENS/RESTUANS</td>\n",
       "      <td>41.95469</td>\n",
       "      <td>-87.800991</td>\n",
       "      <td>2008</td>\n",
       "      <td>41.95469, -87.800991</td>\n",
       "      <td>1</td>\n",
       "      <td>23.888889</td>\n",
       "      <td>0.0</td>\n",
       "      <td>29.31</td>\n",
       "      <td>...</td>\n",
       "      <td>0</td>\n",
       "      <td>0</td>\n",
       "      <td>0</td>\n",
       "      <td>0</td>\n",
       "      <td>0</td>\n",
       "      <td>0</td>\n",
       "      <td>0</td>\n",
       "      <td>0</td>\n",
       "      <td>0</td>\n",
       "      <td>0</td>\n",
       "    </tr>\n",
       "    <tr>\n",
       "      <th>2</th>\n",
       "      <td>2008-06-11</td>\n",
       "      <td>CULEX RESTUANS</td>\n",
       "      <td>41.95469</td>\n",
       "      <td>-87.800991</td>\n",
       "      <td>2008</td>\n",
       "      <td>41.95469, -87.800991</td>\n",
       "      <td>2</td>\n",
       "      <td>23.888889</td>\n",
       "      <td>0.0</td>\n",
       "      <td>29.31</td>\n",
       "      <td>...</td>\n",
       "      <td>0</td>\n",
       "      <td>0</td>\n",
       "      <td>0</td>\n",
       "      <td>0</td>\n",
       "      <td>0</td>\n",
       "      <td>0</td>\n",
       "      <td>0</td>\n",
       "      <td>0</td>\n",
       "      <td>0</td>\n",
       "      <td>0</td>\n",
       "    </tr>\n",
       "    <tr>\n",
       "      <th>3</th>\n",
       "      <td>2008-06-11</td>\n",
       "      <td>CULEX PIPIENS</td>\n",
       "      <td>41.95469</td>\n",
       "      <td>-87.800991</td>\n",
       "      <td>2008</td>\n",
       "      <td>41.95469, -87.800991</td>\n",
       "      <td>1</td>\n",
       "      <td>23.888889</td>\n",
       "      <td>0.0</td>\n",
       "      <td>29.31</td>\n",
       "      <td>...</td>\n",
       "      <td>0</td>\n",
       "      <td>0</td>\n",
       "      <td>0</td>\n",
       "      <td>0</td>\n",
       "      <td>0</td>\n",
       "      <td>0</td>\n",
       "      <td>0</td>\n",
       "      <td>0</td>\n",
       "      <td>0</td>\n",
       "      <td>0</td>\n",
       "    </tr>\n",
       "    <tr>\n",
       "      <th>4</th>\n",
       "      <td>2008-06-11</td>\n",
       "      <td>CULEX SALINARIUS</td>\n",
       "      <td>41.95469</td>\n",
       "      <td>-87.800991</td>\n",
       "      <td>2008</td>\n",
       "      <td>41.95469, -87.800991</td>\n",
       "      <td>0</td>\n",
       "      <td>23.888889</td>\n",
       "      <td>0.0</td>\n",
       "      <td>29.31</td>\n",
       "      <td>...</td>\n",
       "      <td>0</td>\n",
       "      <td>0</td>\n",
       "      <td>0</td>\n",
       "      <td>0</td>\n",
       "      <td>0</td>\n",
       "      <td>0</td>\n",
       "      <td>0</td>\n",
       "      <td>0</td>\n",
       "      <td>0</td>\n",
       "      <td>0</td>\n",
       "    </tr>\n",
       "    <tr>\n",
       "      <th>5</th>\n",
       "      <td>2008-06-11</td>\n",
       "      <td>CULEX TERRITANS</td>\n",
       "      <td>41.95469</td>\n",
       "      <td>-87.800991</td>\n",
       "      <td>2008</td>\n",
       "      <td>41.95469, -87.800991</td>\n",
       "      <td>0</td>\n",
       "      <td>23.888889</td>\n",
       "      <td>0.0</td>\n",
       "      <td>29.31</td>\n",
       "      <td>...</td>\n",
       "      <td>0</td>\n",
       "      <td>0</td>\n",
       "      <td>0</td>\n",
       "      <td>0</td>\n",
       "      <td>0</td>\n",
       "      <td>0</td>\n",
       "      <td>0</td>\n",
       "      <td>0</td>\n",
       "      <td>0</td>\n",
       "      <td>0</td>\n",
       "    </tr>\n",
       "  </tbody>\n",
       "</table>\n",
       "<p>5 rows × 32 columns</p>\n",
       "</div>"
      ],
      "text/plain": [
       "          date                 species  latitude  longitude  year  \\\n",
       "id                                                                  \n",
       "1   2008-06-11  CULEX PIPIENS/RESTUANS  41.95469 -87.800991  2008   \n",
       "2   2008-06-11          CULEX RESTUANS  41.95469 -87.800991  2008   \n",
       "3   2008-06-11           CULEX PIPIENS  41.95469 -87.800991  2008   \n",
       "4   2008-06-11        CULEX SALINARIUS  41.95469 -87.800991  2008   \n",
       "5   2008-06-11         CULEX TERRITANS  41.95469 -87.800991  2008   \n",
       "\n",
       "                 latlong  dum_species       tavg  preciptotal  stnpressure  \\\n",
       "id                                                                           \n",
       "1   41.95469, -87.800991            1  23.888889          0.0        29.31   \n",
       "2   41.95469, -87.800991            2  23.888889          0.0        29.31   \n",
       "3   41.95469, -87.800991            1  23.888889          0.0        29.31   \n",
       "4   41.95469, -87.800991            0  23.888889          0.0        29.31   \n",
       "5   41.95469, -87.800991            0  23.888889          0.0        29.31   \n",
       "\n",
       "    ...  dumweek_30  dumweek_31  dumweek_32  dumweek_33  dumweek_34  \\\n",
       "id  ...                                                               \n",
       "1   ...           0           0           0           0           0   \n",
       "2   ...           0           0           0           0           0   \n",
       "3   ...           0           0           0           0           0   \n",
       "4   ...           0           0           0           0           0   \n",
       "5   ...           0           0           0           0           0   \n",
       "\n",
       "    dumweek_35  dumweek_36  dumweek_37  dumweek_38  dumweek_39  \n",
       "id                                                              \n",
       "1            0           0           0           0           0  \n",
       "2            0           0           0           0           0  \n",
       "3            0           0           0           0           0  \n",
       "4            0           0           0           0           0  \n",
       "5            0           0           0           0           0  \n",
       "\n",
       "[5 rows x 32 columns]"
      ]
     },
     "execution_count": 8,
     "metadata": {},
     "output_type": "execute_result"
    }
   ],
   "source": [
    "test.head()"
   ]
  },
  {
   "cell_type": "code",
   "execution_count": 9,
   "id": "166596ef",
   "metadata": {
    "ExecuteTime": {
     "end_time": "2022-02-04T09:28:42.541751Z",
     "start_time": "2022-02-04T09:28:42.509107Z"
    }
   },
   "outputs": [],
   "source": [
    "# dropping columns: columns date, species, latlong and year are not part of features. column nummosquitos is not part of\n",
    "# the test set, so it can't be used in training. columns wnvpresent is our dependendent variable. finally, column\n",
    "# stnpressure will be removed due to its colinearity with sealevel, as uncovered during EDA\n",
    "X = train.drop(['wnvpresent', 'date', 'species',\n",
    "               'nummosquitos', 'year', 'stnpressure'], axis=1)\n",
    "y = train['wnvpresent']\n",
    "\n",
    "X_train, X_test, y_train, y_test = train_test_split(\n",
    "    X, y, stratify=y, random_state=42)"
   ]
  },
  {
   "cell_type": "code",
   "execution_count": 10,
   "id": "ce122cf2",
   "metadata": {
    "ExecuteTime": {
     "end_time": "2022-02-04T09:29:12.027258Z",
     "start_time": "2022-02-04T09:29:12.012029Z"
    }
   },
   "outputs": [],
   "source": [
    "# create scoring_table. it will hold all our model data.\n",
    "scoring_table=[]"
   ]
  },
  {
   "cell_type": "code",
   "execution_count": 11,
   "id": "b2fc8565",
   "metadata": {
    "ExecuteTime": {
     "end_time": "2022-02-04T09:29:12.616936Z",
     "start_time": "2022-02-04T09:29:12.607742Z"
    }
   },
   "outputs": [
    {
     "data": {
      "text/plain": [
       "(116293, 32)"
      ]
     },
     "execution_count": 11,
     "metadata": {},
     "output_type": "execute_result"
    }
   ],
   "source": [
    "test.shape"
   ]
  },
  {
   "cell_type": "code",
   "execution_count": 12,
   "id": "7b535f61",
   "metadata": {
    "ExecuteTime": {
     "end_time": "2022-02-04T09:29:14.959282Z",
     "start_time": "2022-02-04T09:29:14.948247Z"
    }
   },
   "outputs": [
    {
     "data": {
      "text/plain": [
       "{'date', 'latlong', 'species', 'stnpressure', 'year'}"
      ]
     },
     "execution_count": 12,
     "metadata": {},
     "output_type": "execute_result"
    }
   ],
   "source": [
    "set(test.columns)-set(X_test.columns)"
   ]
  },
  {
   "cell_type": "code",
   "execution_count": null,
   "id": "cd750bb8",
   "metadata": {
    "ExecuteTime": {
     "end_time": "2022-02-04T09:30:45.787605Z",
     "start_time": "2022-02-04T09:30:45.569875Z"
    }
   },
   "outputs": [],
   "source": [
    "test.drop(columns=['date', 'species', 'year', 'stnpressure'], inplace=True)"
   ]
  },
  {
   "cell_type": "markdown",
   "id": "f1ea2889",
   "metadata": {},
   "source": [
    "after splitting the data, we plan to run about a dozen different models using the run_model function above\n",
    "\n",
    "section for each model will consist of the following:\n",
    "- initiate the model and it's parameters, include scaler and possible smote, pca \n",
    "- a brief output showing the essential model info regarding parameters and confustion matrix for possible further tuning\n",
    "- kaggle submission via submit_kaggle function\n",
    "- screenshot of the kaggle score\n",
    "- the entire score and other relevant info gets appended to a list. after we run all the models, the list will show us all the stats based on which we will decide what our production model will be."
   ]
  },
  {
   "cell_type": "markdown",
   "id": "140202c9",
   "metadata": {},
   "source": [
    "<a id = '2.0'><a/>\n",
    "### 2.0 Models\n",
    "* [Back To Top](#Content) "
   ]
  },
  {
   "cell_type": "markdown",
   "id": "d5e26684",
   "metadata": {},
   "source": [
    "- we plan to run about a dozen different models with different classifiers, SMOTE and PCA\n",
    "- for the sake of simplicity and readability of this notebook, we will hold off on commenting on individual models and their performance until all the models are run"
   ]
  },
  {
   "cell_type": "markdown",
   "id": "a82de9a2",
   "metadata": {},
   "source": [
    "<a id = '2.1'><a/>\n",
    "### 2.1 Random Forest regular\n",
    "* [Back To Top](#Content) "
   ]
  },
  {
   "cell_type": "code",
   "execution_count": 17,
   "id": "d38d3395",
   "metadata": {
    "ExecuteTime": {
     "end_time": "2022-02-04T09:31:36.088148Z",
     "start_time": "2022-02-04T09:31:36.082121Z"
    }
   },
   "outputs": [],
   "source": [
    "rf = RandomForestClassifier(random_state=42, n_jobs=4)\n",
    "\n",
    "params_rf = {\n",
    "    'clsf__n_estimators': [200, 300],\n",
    "    'clsf__max_depth': [7, 10],\n",
    "    'clsf__ccp_alpha': [0, 0.01]\n",
    "}"
   ]
  },
  {
   "cell_type": "code",
   "execution_count": 18,
   "id": "17485a9c",
   "metadata": {
    "ExecuteTime": {
     "end_time": "2022-02-04T09:31:47.100661Z",
     "start_time": "2022-02-04T09:31:39.074254Z"
    },
    "scrolled": true
   },
   "outputs": [
    {
     "name": "stdout",
     "output_type": "stream",
     "text": [
      "Fitting 4 folds for each of 8 candidates, totalling 32 fits\n",
      "\n",
      "\n",
      "==============================\n",
      "\u001b[1m RandomForestClassifier(n_jobs=4, random_state=42) \u001b[0m\n",
      "==============================\n",
      "\n",
      " Best Parameters:\n",
      "------------------------------ \n",
      "\n",
      "clsf__ccp_alpha : 0\n",
      "clsf__max_depth : 10\n",
      "clsf__n_estimators : 300\n",
      "[[2002    3]\n",
      " [ 108    6]]\n"
     ]
    }
   ],
   "source": [
    "gs = run_model(rf, params_rf)"
   ]
  },
  {
   "cell_type": "code",
   "execution_count": 19,
   "id": "10d61b64",
   "metadata": {
    "ExecuteTime": {
     "end_time": "2022-02-04T09:31:59.111408Z",
     "start_time": "2022-02-04T09:31:58.932107Z"
    }
   },
   "outputs": [
    {
     "data": {
      "text/plain": [
       "<sklearn.metrics._plot.confusion_matrix.ConfusionMatrixDisplay at 0x1d8232a5f10>"
      ]
     },
     "execution_count": 19,
     "metadata": {},
     "output_type": "execute_result"
    },
    {
     "data": {
      "image/png": "[encoded data removed]",
      "text/plain": [
       "<Figure size 432x288 with 2 Axes>"
      ]
     },
     "metadata": {
      "needs_background": "light"
     },
     "output_type": "display_data"
    }
   ],
   "source": [
    "plot_confusion_matrix(gs, X_test, y_test)"
   ]
  },
  {
   "cell_type": "code",
   "execution_count": 20,
   "id": "3ae8c0d1",
   "metadata": {
    "ExecuteTime": {
     "end_time": "2022-02-04T09:32:08.106746Z",
     "start_time": "2022-02-04T09:32:08.090050Z"
    },
    "scrolled": false
   },
   "outputs": [
    {
     "data": {
      "text/plain": [
       "[{'Model': RandomForestClassifier(n_jobs=4, random_state=42),\n",
       "  'Type': 'reg',\n",
       "  'ROC-AUC': 0.8552762829767686,\n",
       "  'Precision': 0.6666666666666666,\n",
       "  'Recall': 0.05263157894736842,\n",
       "  'F1': 0.09756097560975609,\n",
       "  'clsf__ccp_alpha': 0,\n",
       "  'clsf__max_depth': 10,\n",
       "  'clsf__n_estimators': 300}]"
      ]
     },
     "execution_count": 20,
     "metadata": {},
     "output_type": "execute_result"
    }
   ],
   "source": [
    "# make sure the scoring table works\n",
    "scoring_table"
   ]
  },
  {
   "cell_type": "code",
   "execution_count": 21,
   "id": "e75bbaac",
   "metadata": {
    "ExecuteTime": {
     "end_time": "2022-02-04T09:32:31.780617Z",
     "start_time": "2022-02-04T09:32:31.062529Z"
    }
   },
   "outputs": [],
   "source": [
    "#submit to kaggle\n",
    "#submit_kaggle('submit_rf', gs)"
   ]
  },
  {
   "cell_type": "markdown",
   "id": "7b779474",
   "metadata": {},
   "source": [
    "###  RandomForest Kaggle\n",
    "\n",
    "<img  src=\"../images/submit_rf2.png\">"
   ]
  },
  {
   "cell_type": "markdown",
   "id": "c6bae039",
   "metadata": {},
   "source": [
    "<a id = '2.2'><a/>\n",
    "### 2.2 Gradient Boost regular\n",
    "* [Back To Top](#Content) "
   ]
  },
  {
   "cell_type": "code",
   "execution_count": 22,
   "id": "a68fc8c2",
   "metadata": {
    "ExecuteTime": {
     "end_time": "2022-02-04T09:32:37.400898Z",
     "start_time": "2022-02-04T09:32:37.385760Z"
    }
   },
   "outputs": [],
   "source": [
    "# Gradient Boost\n",
    "gb = GradientBoostingClassifier(random_state=42)\n",
    "\n",
    "params_gb = {\n",
    "    'clsf__learning_rate': [ 0.01, 0.1],\n",
    "    'clsf__max_depth': [7, 10],\n",
    "    'clsf__ccp_alpha':[0, 0.1],\n",
    "    'clsf__n_estimators':[200, 350]\n",
    "}"
   ]
  },
  {
   "cell_type": "code",
   "execution_count": 23,
   "id": "b7664dba",
   "metadata": {
    "ExecuteTime": {
     "end_time": "2022-02-04T09:33:51.265543Z",
     "start_time": "2022-02-04T09:32:41.095328Z"
    }
   },
   "outputs": [
    {
     "name": "stdout",
     "output_type": "stream",
     "text": [
      "Fitting 4 folds for each of 16 candidates, totalling 64 fits\n",
      "\n",
      "\n",
      "==============================\n",
      "\u001b[1m GradientBoostingClassifier(random_state=42) \u001b[0m\n",
      "==============================\n",
      "\n",
      " Best Parameters:\n",
      "------------------------------ \n",
      "\n",
      "clsf__ccp_alpha : 0\n",
      "clsf__learning_rate : 0.1\n",
      "clsf__max_depth : 7\n",
      "clsf__n_estimators : 200\n",
      "[[1951   54]\n",
      " [  93   21]]\n"
     ]
    }
   ],
   "source": [
    "gs_gb=run_model(gb, params_gb)"
   ]
  },
  {
   "cell_type": "code",
   "execution_count": 24,
   "id": "72745231",
   "metadata": {
    "ExecuteTime": {
     "end_time": "2022-02-04T09:35:05.113341Z",
     "start_time": "2022-02-04T09:35:04.987226Z"
    }
   },
   "outputs": [
    {
     "data": {
      "text/plain": [
       "<sklearn.metrics._plot.confusion_matrix.ConfusionMatrixDisplay at 0x1d81f5b6850>"
      ]
     },
     "execution_count": 24,
     "metadata": {},
     "output_type": "execute_result"
    },
    {
     "data": {
      "image/png": "[encoded data removed]",
      "text/plain": [
       "<Figure size 432x288 with 2 Axes>"
      ]
     },
     "metadata": {
      "needs_background": "light"
     },
     "output_type": "display_data"
    }
   ],
   "source": [
    "plot_confusion_matrix(gs_gb, X_test, y_test)"
   ]
  },
  {
   "cell_type": "code",
   "execution_count": 25,
   "id": "332cf25c",
   "metadata": {
    "ExecuteTime": {
     "end_time": "2022-02-04T09:35:10.336089Z",
     "start_time": "2022-02-04T09:35:10.315569Z"
    }
   },
   "outputs": [
    {
     "data": {
      "text/html": [
       "<div>\n",
       "<style scoped>\n",
       "    .dataframe tbody tr th:only-of-type {\n",
       "        vertical-align: middle;\n",
       "    }\n",
       "\n",
       "    .dataframe tbody tr th {\n",
       "        vertical-align: top;\n",
       "    }\n",
       "\n",
       "    .dataframe thead th {\n",
       "        text-align: right;\n",
       "    }\n",
       "</style>\n",
       "<table border=\"1\" class=\"dataframe\">\n",
       "  <thead>\n",
       "    <tr style=\"text-align: right;\">\n",
       "      <th></th>\n",
       "      <th>Model</th>\n",
       "      <th>Type</th>\n",
       "      <th>ROC-AUC</th>\n",
       "      <th>Precision</th>\n",
       "      <th>Recall</th>\n",
       "      <th>F1</th>\n",
       "      <th>clsf__ccp_alpha</th>\n",
       "      <th>clsf__max_depth</th>\n",
       "      <th>clsf__n_estimators</th>\n",
       "      <th>clsf__learning_rate</th>\n",
       "    </tr>\n",
       "  </thead>\n",
       "  <tbody>\n",
       "    <tr>\n",
       "      <th>0</th>\n",
       "      <td>RandomForestClassifier(n_jobs=4, random_state=42)</td>\n",
       "      <td>reg</td>\n",
       "      <td>0.855276</td>\n",
       "      <td>0.666667</td>\n",
       "      <td>0.052632</td>\n",
       "      <td>0.097561</td>\n",
       "      <td>0</td>\n",
       "      <td>10</td>\n",
       "      <td>300</td>\n",
       "      <td>NaN</td>\n",
       "    </tr>\n",
       "    <tr>\n",
       "      <th>1</th>\n",
       "      <td>GradientBoostingClassifier(random_state=42)</td>\n",
       "      <td>reg</td>\n",
       "      <td>0.823529</td>\n",
       "      <td>0.280000</td>\n",
       "      <td>0.184211</td>\n",
       "      <td>0.222222</td>\n",
       "      <td>0</td>\n",
       "      <td>7</td>\n",
       "      <td>200</td>\n",
       "      <td>0.1</td>\n",
       "    </tr>\n",
       "  </tbody>\n",
       "</table>\n",
       "</div>"
      ],
      "text/plain": [
       "                                               Model Type   ROC-AUC  \\\n",
       "0  RandomForestClassifier(n_jobs=4, random_state=42)  reg  0.855276   \n",
       "1        GradientBoostingClassifier(random_state=42)  reg  0.823529   \n",
       "\n",
       "   Precision    Recall        F1  clsf__ccp_alpha  clsf__max_depth  \\\n",
       "0   0.666667  0.052632  0.097561                0               10   \n",
       "1   0.280000  0.184211  0.222222                0                7   \n",
       "\n",
       "   clsf__n_estimators  clsf__learning_rate  \n",
       "0                 300                  NaN  \n",
       "1                 200                  0.1  "
      ]
     },
     "execution_count": 25,
     "metadata": {},
     "output_type": "execute_result"
    }
   ],
   "source": [
    "pd.DataFrame(scoring_table).sort_values(by='ROC-AUC', ascending=False)"
   ]
  },
  {
   "cell_type": "markdown",
   "id": "eed12e3c",
   "metadata": {
    "ExecuteTime": {
     "end_time": "2022-02-02T03:24:17.219005Z",
     "start_time": "2022-02-02T03:24:17.214903Z"
    },
    "scrolled": true
   },
   "source": [
    "recall is quite low. smote will be needed."
   ]
  },
  {
   "cell_type": "code",
   "execution_count": 26,
   "id": "e9e92c89",
   "metadata": {
    "ExecuteTime": {
     "end_time": "2022-02-04T09:35:45.603980Z",
     "start_time": "2022-02-04T09:35:45.050488Z"
    }
   },
   "outputs": [],
   "source": [
    "#submit_kaggle('submit_gb', gs_gb)"
   ]
  },
  {
   "cell_type": "markdown",
   "id": "bac703d1",
   "metadata": {},
   "source": [
    "###  GradientBoost Kaggle\n",
    "\n",
    "<img  src=\"../images/submit_gb.png\">"
   ]
  },
  {
   "cell_type": "markdown",
   "id": "e3ea166e",
   "metadata": {
    "ExecuteTime": {
     "end_time": "2022-01-28T06:38:35.750179Z",
     "start_time": "2022-01-28T06:38:35.662116Z"
    }
   },
   "source": [
    "<a id = '2.3'><a/>\n",
    "### 2.3 PCA model setup\n",
    "* [Back To Top](#Content) "
   ]
  },
  {
   "cell_type": "markdown",
   "id": "9fdf92c2",
   "metadata": {},
   "source": [
    "Runninng PCA models will be slighlty different:\n",
    "\n",
    "-  first we will see if any interaction terms look interesting in term of predictive power to be used in our other models\n",
    "- secondly, we will run 'explained variance' method to see how many PCA compenents are needed to explain 98%+ of the total variance\n",
    "- finally, we will use n_components number we get in step two to run several PCA models using our run_model function"
   ]
  },
  {
   "cell_type": "code",
   "execution_count": 33,
   "id": "f98361f3",
   "metadata": {
    "ExecuteTime": {
     "end_time": "2022-02-04T09:43:33.565418Z",
     "start_time": "2022-02-04T09:43:33.031140Z"
    }
   },
   "outputs": [],
   "source": [
    "# Poly by power of 2.  \n",
    "pf = PolynomialFeatures(degree=2, include_bias=True, interaction_only=True )  \n",
    "# Fit and transform our X data using Polynomial Features.  \n",
    "X_poly = pf.fit_transform(X)\n",
    "\n",
    "#transform the real (Kaggle) test set\n",
    "test_poly = pf.transform(test)\n",
    "                         \n",
    "#Train/test split our data.\n",
    "Xp_train, Xp_test, y_train, y_test = train_test_split(X_poly,\n",
    "                                                            y,\n",
    "                                                            stratify=y,\n",
    "                                                            random_state=42)      \n",
    "\n",
    "# Instantiate our StandardScaler.\n",
    "sc = StandardScaler()\n",
    "# Scale X_train.\n",
    "Xp_trainsc = sc.fit_transform(Xp_train)\n",
    "# Scale X_test.\n",
    "Xp_testsc = sc.transform(Xp_test)\n",
    "# Scale the real Kaggle test set\n",
    "testsc = sc.transform(test_poly)"
   ]
  },
  {
   "cell_type": "code",
   "execution_count": 34,
   "id": "6da96371",
   "metadata": {
    "ExecuteTime": {
     "end_time": "2022-02-04T09:43:37.225889Z",
     "start_time": "2022-02-04T09:43:37.205736Z"
    }
   },
   "outputs": [
    {
     "data": {
      "text/plain": [
       "['1',\n",
       " 'latitude',\n",
       " 'longitude',\n",
       " 'dum_species',\n",
       " 'tavg',\n",
       " 'preciptotal',\n",
       " 'sealevel',\n",
       " 'resultspeed',\n",
       " 'resultdir',\n",
       " 'avgspeed',\n",
       " 'humidity',\n",
       " 'daylength',\n",
       " 'tavg_lag14',\n",
       " 'humidity_lag14',\n",
       " 'resultspeed_lag14',\n",
       " 'preciptotal_lag14',\n",
       " 'dumweek_28',\n",
       " 'dumweek_29',\n",
       " 'dumweek_30',\n",
       " 'dumweek_31',\n",
       " 'dumweek_32',\n",
       " 'dumweek_33',\n",
       " 'dumweek_34',\n",
       " 'dumweek_35',\n",
       " 'dumweek_36',\n",
       " 'dumweek_37',\n",
       " 'dumweek_38',\n",
       " 'dumweek_39',\n",
       " 'latitude longitude',\n",
       " 'latitude dum_species',\n",
       " 'latitude tavg',\n",
       " 'latitude preciptotal',\n",
       " 'latitude sealevel',\n",
       " 'latitude resultspeed',\n",
       " 'latitude resultdir',\n",
       " 'latitude avgspeed',\n",
       " 'latitude humidity',\n",
       " 'latitude daylength',\n",
       " 'latitude tavg_lag14',\n",
       " 'latitude humidity_lag14',\n",
       " 'latitude resultspeed_lag14',\n",
       " 'latitude preciptotal_lag14',\n",
       " 'latitude dumweek_28',\n",
       " 'latitude dumweek_29',\n",
       " 'latitude dumweek_30',\n",
       " 'latitude dumweek_31',\n",
       " 'latitude dumweek_32',\n",
       " 'latitude dumweek_33',\n",
       " 'latitude dumweek_34',\n",
       " 'latitude dumweek_35',\n",
       " 'latitude dumweek_36',\n",
       " 'latitude dumweek_37',\n",
       " 'latitude dumweek_38',\n",
       " 'latitude dumweek_39',\n",
       " 'longitude dum_species',\n",
       " 'longitude tavg',\n",
       " 'longitude preciptotal',\n",
       " 'longitude sealevel',\n",
       " 'longitude resultspeed',\n",
       " 'longitude resultdir',\n",
       " 'longitude avgspeed',\n",
       " 'longitude humidity',\n",
       " 'longitude daylength',\n",
       " 'longitude tavg_lag14',\n",
       " 'longitude humidity_lag14',\n",
       " 'longitude resultspeed_lag14',\n",
       " 'longitude preciptotal_lag14',\n",
       " 'longitude dumweek_28',\n",
       " 'longitude dumweek_29',\n",
       " 'longitude dumweek_30',\n",
       " 'longitude dumweek_31',\n",
       " 'longitude dumweek_32',\n",
       " 'longitude dumweek_33',\n",
       " 'longitude dumweek_34',\n",
       " 'longitude dumweek_35',\n",
       " 'longitude dumweek_36',\n",
       " 'longitude dumweek_37',\n",
       " 'longitude dumweek_38',\n",
       " 'longitude dumweek_39',\n",
       " 'dum_species tavg',\n",
       " 'dum_species preciptotal',\n",
       " 'dum_species sealevel',\n",
       " 'dum_species resultspeed',\n",
       " 'dum_species resultdir',\n",
       " 'dum_species avgspeed',\n",
       " 'dum_species humidity',\n",
       " 'dum_species daylength',\n",
       " 'dum_species tavg_lag14',\n",
       " 'dum_species humidity_lag14',\n",
       " 'dum_species resultspeed_lag14',\n",
       " 'dum_species preciptotal_lag14',\n",
       " 'dum_species dumweek_28',\n",
       " 'dum_species dumweek_29',\n",
       " 'dum_species dumweek_30',\n",
       " 'dum_species dumweek_31',\n",
       " 'dum_species dumweek_32',\n",
       " 'dum_species dumweek_33',\n",
       " 'dum_species dumweek_34',\n",
       " 'dum_species dumweek_35',\n",
       " 'dum_species dumweek_36',\n",
       " 'dum_species dumweek_37',\n",
       " 'dum_species dumweek_38',\n",
       " 'dum_species dumweek_39',\n",
       " 'tavg preciptotal',\n",
       " 'tavg sealevel',\n",
       " 'tavg resultspeed',\n",
       " 'tavg resultdir',\n",
       " 'tavg avgspeed',\n",
       " 'tavg humidity',\n",
       " 'tavg daylength',\n",
       " 'tavg tavg_lag14',\n",
       " 'tavg humidity_lag14',\n",
       " 'tavg resultspeed_lag14',\n",
       " 'tavg preciptotal_lag14',\n",
       " 'tavg dumweek_28',\n",
       " 'tavg dumweek_29',\n",
       " 'tavg dumweek_30',\n",
       " 'tavg dumweek_31',\n",
       " 'tavg dumweek_32',\n",
       " 'tavg dumweek_33',\n",
       " 'tavg dumweek_34',\n",
       " 'tavg dumweek_35',\n",
       " 'tavg dumweek_36',\n",
       " 'tavg dumweek_37',\n",
       " 'tavg dumweek_38',\n",
       " 'tavg dumweek_39',\n",
       " 'preciptotal sealevel',\n",
       " 'preciptotal resultspeed',\n",
       " 'preciptotal resultdir',\n",
       " 'preciptotal avgspeed',\n",
       " 'preciptotal humidity',\n",
       " 'preciptotal daylength',\n",
       " 'preciptotal tavg_lag14',\n",
       " 'preciptotal humidity_lag14',\n",
       " 'preciptotal resultspeed_lag14',\n",
       " 'preciptotal preciptotal_lag14',\n",
       " 'preciptotal dumweek_28',\n",
       " 'preciptotal dumweek_29',\n",
       " 'preciptotal dumweek_30',\n",
       " 'preciptotal dumweek_31',\n",
       " 'preciptotal dumweek_32',\n",
       " 'preciptotal dumweek_33',\n",
       " 'preciptotal dumweek_34',\n",
       " 'preciptotal dumweek_35',\n",
       " 'preciptotal dumweek_36',\n",
       " 'preciptotal dumweek_37',\n",
       " 'preciptotal dumweek_38',\n",
       " 'preciptotal dumweek_39',\n",
       " 'sealevel resultspeed',\n",
       " 'sealevel resultdir',\n",
       " 'sealevel avgspeed',\n",
       " 'sealevel humidity',\n",
       " 'sealevel daylength',\n",
       " 'sealevel tavg_lag14',\n",
       " 'sealevel humidity_lag14',\n",
       " 'sealevel resultspeed_lag14',\n",
       " 'sealevel preciptotal_lag14',\n",
       " 'sealevel dumweek_28',\n",
       " 'sealevel dumweek_29',\n",
       " 'sealevel dumweek_30',\n",
       " 'sealevel dumweek_31',\n",
       " 'sealevel dumweek_32',\n",
       " 'sealevel dumweek_33',\n",
       " 'sealevel dumweek_34',\n",
       " 'sealevel dumweek_35',\n",
       " 'sealevel dumweek_36',\n",
       " 'sealevel dumweek_37',\n",
       " 'sealevel dumweek_38',\n",
       " 'sealevel dumweek_39',\n",
       " 'resultspeed resultdir',\n",
       " 'resultspeed avgspeed',\n",
       " 'resultspeed humidity',\n",
       " 'resultspeed daylength',\n",
       " 'resultspeed tavg_lag14',\n",
       " 'resultspeed humidity_lag14',\n",
       " 'resultspeed resultspeed_lag14',\n",
       " 'resultspeed preciptotal_lag14',\n",
       " 'resultspeed dumweek_28',\n",
       " 'resultspeed dumweek_29',\n",
       " 'resultspeed dumweek_30',\n",
       " 'resultspeed dumweek_31',\n",
       " 'resultspeed dumweek_32',\n",
       " 'resultspeed dumweek_33',\n",
       " 'resultspeed dumweek_34',\n",
       " 'resultspeed dumweek_35',\n",
       " 'resultspeed dumweek_36',\n",
       " 'resultspeed dumweek_37',\n",
       " 'resultspeed dumweek_38',\n",
       " 'resultspeed dumweek_39',\n",
       " 'resultdir avgspeed',\n",
       " 'resultdir humidity',\n",
       " 'resultdir daylength',\n",
       " 'resultdir tavg_lag14',\n",
       " 'resultdir humidity_lag14',\n",
       " 'resultdir resultspeed_lag14',\n",
       " 'resultdir preciptotal_lag14',\n",
       " 'resultdir dumweek_28',\n",
       " 'resultdir dumweek_29',\n",
       " 'resultdir dumweek_30',\n",
       " 'resultdir dumweek_31',\n",
       " 'resultdir dumweek_32',\n",
       " 'resultdir dumweek_33',\n",
       " 'resultdir dumweek_34',\n",
       " 'resultdir dumweek_35',\n",
       " 'resultdir dumweek_36',\n",
       " 'resultdir dumweek_37',\n",
       " 'resultdir dumweek_38',\n",
       " 'resultdir dumweek_39',\n",
       " 'avgspeed humidity',\n",
       " 'avgspeed daylength',\n",
       " 'avgspeed tavg_lag14',\n",
       " 'avgspeed humidity_lag14',\n",
       " 'avgspeed resultspeed_lag14',\n",
       " 'avgspeed preciptotal_lag14',\n",
       " 'avgspeed dumweek_28',\n",
       " 'avgspeed dumweek_29',\n",
       " 'avgspeed dumweek_30',\n",
       " 'avgspeed dumweek_31',\n",
       " 'avgspeed dumweek_32',\n",
       " 'avgspeed dumweek_33',\n",
       " 'avgspeed dumweek_34',\n",
       " 'avgspeed dumweek_35',\n",
       " 'avgspeed dumweek_36',\n",
       " 'avgspeed dumweek_37',\n",
       " 'avgspeed dumweek_38',\n",
       " 'avgspeed dumweek_39',\n",
       " 'humidity daylength',\n",
       " 'humidity tavg_lag14',\n",
       " 'humidity humidity_lag14',\n",
       " 'humidity resultspeed_lag14',\n",
       " 'humidity preciptotal_lag14',\n",
       " 'humidity dumweek_28',\n",
       " 'humidity dumweek_29',\n",
       " 'humidity dumweek_30',\n",
       " 'humidity dumweek_31',\n",
       " 'humidity dumweek_32',\n",
       " 'humidity dumweek_33',\n",
       " 'humidity dumweek_34',\n",
       " 'humidity dumweek_35',\n",
       " 'humidity dumweek_36',\n",
       " 'humidity dumweek_37',\n",
       " 'humidity dumweek_38',\n",
       " 'humidity dumweek_39',\n",
       " 'daylength tavg_lag14',\n",
       " 'daylength humidity_lag14',\n",
       " 'daylength resultspeed_lag14',\n",
       " 'daylength preciptotal_lag14',\n",
       " 'daylength dumweek_28',\n",
       " 'daylength dumweek_29',\n",
       " 'daylength dumweek_30',\n",
       " 'daylength dumweek_31',\n",
       " 'daylength dumweek_32',\n",
       " 'daylength dumweek_33',\n",
       " 'daylength dumweek_34',\n",
       " 'daylength dumweek_35',\n",
       " 'daylength dumweek_36',\n",
       " 'daylength dumweek_37',\n",
       " 'daylength dumweek_38',\n",
       " 'daylength dumweek_39',\n",
       " 'tavg_lag14 humidity_lag14',\n",
       " 'tavg_lag14 resultspeed_lag14',\n",
       " 'tavg_lag14 preciptotal_lag14',\n",
       " 'tavg_lag14 dumweek_28',\n",
       " 'tavg_lag14 dumweek_29',\n",
       " 'tavg_lag14 dumweek_30',\n",
       " 'tavg_lag14 dumweek_31',\n",
       " 'tavg_lag14 dumweek_32',\n",
       " 'tavg_lag14 dumweek_33',\n",
       " 'tavg_lag14 dumweek_34',\n",
       " 'tavg_lag14 dumweek_35',\n",
       " 'tavg_lag14 dumweek_36',\n",
       " 'tavg_lag14 dumweek_37',\n",
       " 'tavg_lag14 dumweek_38',\n",
       " 'tavg_lag14 dumweek_39',\n",
       " 'humidity_lag14 resultspeed_lag14',\n",
       " 'humidity_lag14 preciptotal_lag14',\n",
       " 'humidity_lag14 dumweek_28',\n",
       " 'humidity_lag14 dumweek_29',\n",
       " 'humidity_lag14 dumweek_30',\n",
       " 'humidity_lag14 dumweek_31',\n",
       " 'humidity_lag14 dumweek_32',\n",
       " 'humidity_lag14 dumweek_33',\n",
       " 'humidity_lag14 dumweek_34',\n",
       " 'humidity_lag14 dumweek_35',\n",
       " 'humidity_lag14 dumweek_36',\n",
       " 'humidity_lag14 dumweek_37',\n",
       " 'humidity_lag14 dumweek_38',\n",
       " 'humidity_lag14 dumweek_39',\n",
       " 'resultspeed_lag14 preciptotal_lag14',\n",
       " 'resultspeed_lag14 dumweek_28',\n",
       " 'resultspeed_lag14 dumweek_29',\n",
       " 'resultspeed_lag14 dumweek_30',\n",
       " 'resultspeed_lag14 dumweek_31',\n",
       " 'resultspeed_lag14 dumweek_32',\n",
       " 'resultspeed_lag14 dumweek_33',\n",
       " 'resultspeed_lag14 dumweek_34',\n",
       " 'resultspeed_lag14 dumweek_35',\n",
       " 'resultspeed_lag14 dumweek_36',\n",
       " 'resultspeed_lag14 dumweek_37',\n",
       " 'resultspeed_lag14 dumweek_38',\n",
       " 'resultspeed_lag14 dumweek_39',\n",
       " 'preciptotal_lag14 dumweek_28',\n",
       " 'preciptotal_lag14 dumweek_29',\n",
       " 'preciptotal_lag14 dumweek_30',\n",
       " 'preciptotal_lag14 dumweek_31',\n",
       " 'preciptotal_lag14 dumweek_32',\n",
       " 'preciptotal_lag14 dumweek_33',\n",
       " 'preciptotal_lag14 dumweek_34',\n",
       " 'preciptotal_lag14 dumweek_35',\n",
       " 'preciptotal_lag14 dumweek_36',\n",
       " 'preciptotal_lag14 dumweek_37',\n",
       " 'preciptotal_lag14 dumweek_38',\n",
       " 'preciptotal_lag14 dumweek_39',\n",
       " 'dumweek_28 dumweek_29',\n",
       " 'dumweek_28 dumweek_30',\n",
       " 'dumweek_28 dumweek_31',\n",
       " 'dumweek_28 dumweek_32',\n",
       " 'dumweek_28 dumweek_33',\n",
       " 'dumweek_28 dumweek_34',\n",
       " 'dumweek_28 dumweek_35',\n",
       " 'dumweek_28 dumweek_36',\n",
       " 'dumweek_28 dumweek_37',\n",
       " 'dumweek_28 dumweek_38',\n",
       " 'dumweek_28 dumweek_39',\n",
       " 'dumweek_29 dumweek_30',\n",
       " 'dumweek_29 dumweek_31',\n",
       " 'dumweek_29 dumweek_32',\n",
       " 'dumweek_29 dumweek_33',\n",
       " 'dumweek_29 dumweek_34',\n",
       " 'dumweek_29 dumweek_35',\n",
       " 'dumweek_29 dumweek_36',\n",
       " 'dumweek_29 dumweek_37',\n",
       " 'dumweek_29 dumweek_38',\n",
       " 'dumweek_29 dumweek_39',\n",
       " 'dumweek_30 dumweek_31',\n",
       " 'dumweek_30 dumweek_32',\n",
       " 'dumweek_30 dumweek_33',\n",
       " 'dumweek_30 dumweek_34',\n",
       " 'dumweek_30 dumweek_35',\n",
       " 'dumweek_30 dumweek_36',\n",
       " 'dumweek_30 dumweek_37',\n",
       " 'dumweek_30 dumweek_38',\n",
       " 'dumweek_30 dumweek_39',\n",
       " 'dumweek_31 dumweek_32',\n",
       " 'dumweek_31 dumweek_33',\n",
       " 'dumweek_31 dumweek_34',\n",
       " 'dumweek_31 dumweek_35',\n",
       " 'dumweek_31 dumweek_36',\n",
       " 'dumweek_31 dumweek_37',\n",
       " 'dumweek_31 dumweek_38',\n",
       " 'dumweek_31 dumweek_39',\n",
       " 'dumweek_32 dumweek_33',\n",
       " 'dumweek_32 dumweek_34',\n",
       " 'dumweek_32 dumweek_35',\n",
       " 'dumweek_32 dumweek_36',\n",
       " 'dumweek_32 dumweek_37',\n",
       " 'dumweek_32 dumweek_38',\n",
       " 'dumweek_32 dumweek_39',\n",
       " 'dumweek_33 dumweek_34',\n",
       " 'dumweek_33 dumweek_35',\n",
       " 'dumweek_33 dumweek_36',\n",
       " 'dumweek_33 dumweek_37',\n",
       " 'dumweek_33 dumweek_38',\n",
       " 'dumweek_33 dumweek_39',\n",
       " 'dumweek_34 dumweek_35',\n",
       " 'dumweek_34 dumweek_36',\n",
       " 'dumweek_34 dumweek_37',\n",
       " 'dumweek_34 dumweek_38',\n",
       " 'dumweek_34 dumweek_39',\n",
       " 'dumweek_35 dumweek_36',\n",
       " 'dumweek_35 dumweek_37',\n",
       " 'dumweek_35 dumweek_38',\n",
       " 'dumweek_35 dumweek_39',\n",
       " 'dumweek_36 dumweek_37',\n",
       " 'dumweek_36 dumweek_38',\n",
       " 'dumweek_36 dumweek_39',\n",
       " 'dumweek_37 dumweek_38',\n",
       " 'dumweek_37 dumweek_39',\n",
       " 'dumweek_38 dumweek_39']"
      ]
     },
     "execution_count": 34,
     "metadata": {},
     "output_type": "execute_result"
    }
   ],
   "source": [
    "pf.get_feature_names(X.columns)"
   ]
  },
  {
   "cell_type": "code",
   "execution_count": 35,
   "id": "a9adc707",
   "metadata": {
    "ExecuteTime": {
     "end_time": "2022-02-04T09:43:50.976364Z",
     "start_time": "2022-02-04T09:43:50.955665Z"
    }
   },
   "outputs": [],
   "source": [
    "# creat a new df with polynomial columns, interaction only\n",
    "new = pd.DataFrame(Xp_trainsc, columns = pf.get_feature_names(X.columns))"
   ]
  },
  {
   "cell_type": "code",
   "execution_count": 36,
   "id": "9385ca22",
   "metadata": {
    "ExecuteTime": {
     "end_time": "2022-02-04T09:43:54.016271Z",
     "start_time": "2022-02-04T09:43:53.998442Z"
    }
   },
   "outputs": [
    {
     "data": {
      "text/html": [
       "<div>\n",
       "<style scoped>\n",
       "    .dataframe tbody tr th:only-of-type {\n",
       "        vertical-align: middle;\n",
       "    }\n",
       "\n",
       "    .dataframe tbody tr th {\n",
       "        vertical-align: top;\n",
       "    }\n",
       "\n",
       "    .dataframe thead th {\n",
       "        text-align: right;\n",
       "    }\n",
       "</style>\n",
       "<table border=\"1\" class=\"dataframe\">\n",
       "  <thead>\n",
       "    <tr style=\"text-align: right;\">\n",
       "      <th></th>\n",
       "      <th>1</th>\n",
       "      <th>latitude</th>\n",
       "      <th>longitude</th>\n",
       "      <th>dum_species</th>\n",
       "      <th>tavg</th>\n",
       "      <th>preciptotal</th>\n",
       "      <th>sealevel</th>\n",
       "      <th>resultspeed</th>\n",
       "      <th>resultdir</th>\n",
       "      <th>avgspeed</th>\n",
       "      <th>...</th>\n",
       "      <th>dumweek_35 dumweek_36</th>\n",
       "      <th>dumweek_35 dumweek_37</th>\n",
       "      <th>dumweek_35 dumweek_38</th>\n",
       "      <th>dumweek_35 dumweek_39</th>\n",
       "      <th>dumweek_36 dumweek_37</th>\n",
       "      <th>dumweek_36 dumweek_38</th>\n",
       "      <th>dumweek_36 dumweek_39</th>\n",
       "      <th>dumweek_37 dumweek_38</th>\n",
       "      <th>dumweek_37 dumweek_39</th>\n",
       "      <th>dumweek_38 dumweek_39</th>\n",
       "    </tr>\n",
       "  </thead>\n",
       "  <tbody>\n",
       "    <tr>\n",
       "      <th>0</th>\n",
       "      <td>0.0</td>\n",
       "      <td>-1.602313</td>\n",
       "      <td>1.133388</td>\n",
       "      <td>-0.489074</td>\n",
       "      <td>-1.122594</td>\n",
       "      <td>-0.464266</td>\n",
       "      <td>-1.681249</td>\n",
       "      <td>1.036524</td>\n",
       "      <td>1.236051</td>\n",
       "      <td>0.650494</td>\n",
       "      <td>...</td>\n",
       "      <td>0.0</td>\n",
       "      <td>0.0</td>\n",
       "      <td>0.0</td>\n",
       "      <td>0.0</td>\n",
       "      <td>0.0</td>\n",
       "      <td>0.0</td>\n",
       "      <td>0.0</td>\n",
       "      <td>0.0</td>\n",
       "      <td>0.0</td>\n",
       "      <td>0.0</td>\n",
       "    </tr>\n",
       "    <tr>\n",
       "      <th>1</th>\n",
       "      <td>0.0</td>\n",
       "      <td>-0.946417</td>\n",
       "      <td>-0.430646</td>\n",
       "      <td>1.493423</td>\n",
       "      <td>0.790436</td>\n",
       "      <td>1.525244</td>\n",
       "      <td>-0.090089</td>\n",
       "      <td>1.018858</td>\n",
       "      <td>0.507860</td>\n",
       "      <td>0.771014</td>\n",
       "      <td>...</td>\n",
       "      <td>0.0</td>\n",
       "      <td>0.0</td>\n",
       "      <td>0.0</td>\n",
       "      <td>0.0</td>\n",
       "      <td>0.0</td>\n",
       "      <td>0.0</td>\n",
       "      <td>0.0</td>\n",
       "      <td>0.0</td>\n",
       "      <td>0.0</td>\n",
       "      <td>0.0</td>\n",
       "    </tr>\n",
       "    <tr>\n",
       "      <th>2</th>\n",
       "      <td>0.0</td>\n",
       "      <td>1.120524</td>\n",
       "      <td>0.040384</td>\n",
       "      <td>-0.489074</td>\n",
       "      <td>0.658503</td>\n",
       "      <td>-0.464266</td>\n",
       "      <td>0.286764</td>\n",
       "      <td>-1.242348</td>\n",
       "      <td>0.563875</td>\n",
       "      <td>-1.157307</td>\n",
       "      <td>...</td>\n",
       "      <td>0.0</td>\n",
       "      <td>0.0</td>\n",
       "      <td>0.0</td>\n",
       "      <td>0.0</td>\n",
       "      <td>0.0</td>\n",
       "      <td>0.0</td>\n",
       "      <td>0.0</td>\n",
       "      <td>0.0</td>\n",
       "      <td>0.0</td>\n",
       "      <td>0.0</td>\n",
       "    </tr>\n",
       "    <tr>\n",
       "      <th>3</th>\n",
       "      <td>0.0</td>\n",
       "      <td>-0.879923</td>\n",
       "      <td>1.068817</td>\n",
       "      <td>-0.489074</td>\n",
       "      <td>1.054303</td>\n",
       "      <td>-0.464266</td>\n",
       "      <td>0.244892</td>\n",
       "      <td>-1.136354</td>\n",
       "      <td>-0.780478</td>\n",
       "      <td>-1.458607</td>\n",
       "      <td>...</td>\n",
       "      <td>0.0</td>\n",
       "      <td>0.0</td>\n",
       "      <td>0.0</td>\n",
       "      <td>0.0</td>\n",
       "      <td>0.0</td>\n",
       "      <td>0.0</td>\n",
       "      <td>0.0</td>\n",
       "      <td>0.0</td>\n",
       "      <td>0.0</td>\n",
       "      <td>0.0</td>\n",
       "    </tr>\n",
       "    <tr>\n",
       "      <th>4</th>\n",
       "      <td>0.0</td>\n",
       "      <td>1.263587</td>\n",
       "      <td>-0.662482</td>\n",
       "      <td>-0.489074</td>\n",
       "      <td>1.054303</td>\n",
       "      <td>-0.464266</td>\n",
       "      <td>0.244892</td>\n",
       "      <td>-1.136354</td>\n",
       "      <td>-0.780478</td>\n",
       "      <td>-1.458607</td>\n",
       "      <td>...</td>\n",
       "      <td>0.0</td>\n",
       "      <td>0.0</td>\n",
       "      <td>0.0</td>\n",
       "      <td>0.0</td>\n",
       "      <td>0.0</td>\n",
       "      <td>0.0</td>\n",
       "      <td>0.0</td>\n",
       "      <td>0.0</td>\n",
       "      <td>0.0</td>\n",
       "      <td>0.0</td>\n",
       "    </tr>\n",
       "  </tbody>\n",
       "</table>\n",
       "<p>5 rows × 379 columns</p>\n",
       "</div>"
      ],
      "text/plain": [
       "     1  latitude  longitude  dum_species      tavg  preciptotal  sealevel  \\\n",
       "0  0.0 -1.602313   1.133388    -0.489074 -1.122594    -0.464266 -1.681249   \n",
       "1  0.0 -0.946417  -0.430646     1.493423  0.790436     1.525244 -0.090089   \n",
       "2  0.0  1.120524   0.040384    -0.489074  0.658503    -0.464266  0.286764   \n",
       "3  0.0 -0.879923   1.068817    -0.489074  1.054303    -0.464266  0.244892   \n",
       "4  0.0  1.263587  -0.662482    -0.489074  1.054303    -0.464266  0.244892   \n",
       "\n",
       "   resultspeed  resultdir  avgspeed  ...  dumweek_35 dumweek_36  \\\n",
       "0     1.036524   1.236051  0.650494  ...                    0.0   \n",
       "1     1.018858   0.507860  0.771014  ...                    0.0   \n",
       "2    -1.242348   0.563875 -1.157307  ...                    0.0   \n",
       "3    -1.136354  -0.780478 -1.458607  ...                    0.0   \n",
       "4    -1.136354  -0.780478 -1.458607  ...                    0.0   \n",
       "\n",
       "   dumweek_35 dumweek_37  dumweek_35 dumweek_38  dumweek_35 dumweek_39  \\\n",
       "0                    0.0                    0.0                    0.0   \n",
       "1                    0.0                    0.0                    0.0   \n",
       "2                    0.0                    0.0                    0.0   \n",
       "3                    0.0                    0.0                    0.0   \n",
       "4                    0.0                    0.0                    0.0   \n",
       "\n",
       "   dumweek_36 dumweek_37  dumweek_36 dumweek_38  dumweek_36 dumweek_39  \\\n",
       "0                    0.0                    0.0                    0.0   \n",
       "1                    0.0                    0.0                    0.0   \n",
       "2                    0.0                    0.0                    0.0   \n",
       "3                    0.0                    0.0                    0.0   \n",
       "4                    0.0                    0.0                    0.0   \n",
       "\n",
       "   dumweek_37 dumweek_38  dumweek_37 dumweek_39  dumweek_38 dumweek_39  \n",
       "0                    0.0                    0.0                    0.0  \n",
       "1                    0.0                    0.0                    0.0  \n",
       "2                    0.0                    0.0                    0.0  \n",
       "3                    0.0                    0.0                    0.0  \n",
       "4                    0.0                    0.0                    0.0  \n",
       "\n",
       "[5 rows x 379 columns]"
      ]
     },
     "execution_count": 36,
     "metadata": {},
     "output_type": "execute_result"
    }
   ],
   "source": [
    "new.head()"
   ]
  },
  {
   "cell_type": "code",
   "execution_count": 37,
   "id": "46012ec9",
   "metadata": {
    "ExecuteTime": {
     "end_time": "2022-02-04T09:44:01.639375Z",
     "start_time": "2022-02-04T09:44:01.238237Z"
    }
   },
   "outputs": [
    {
     "data": {
      "text/plain": [
       "resultspeed humidity               -0.048481\n",
       "resultspeed humidity_lag14         -0.045561\n",
       "resultspeed                        -0.041324\n",
       "latitude resultspeed               -0.041271\n",
       "sealevel resultspeed               -0.041232\n",
       "humidity resultspeed_lag14         -0.040749\n",
       "dum_species resultspeed            -0.039273\n",
       "resultspeed daylength              -0.039261\n",
       "avgspeed humidity                  -0.038062\n",
       "humidity_lag14 resultspeed_lag14   -0.037191\n",
       "dtype: float64"
      ]
     },
     "execution_count": 37,
     "metadata": {},
     "output_type": "execute_result"
    }
   ],
   "source": [
    "# top polynomial columns with negative correlation to west nile\n",
    "new.corrwith(y_train).dropna().sort_values()[:10]"
   ]
  },
  {
   "cell_type": "code",
   "execution_count": 38,
   "id": "02bf7443",
   "metadata": {
    "ExecuteTime": {
     "end_time": "2022-02-04T09:44:08.753596Z",
     "start_time": "2022-02-04T09:44:08.380221Z"
    }
   },
   "outputs": [
    {
     "data": {
      "text/plain": [
       "tavg_lag14 dumweek_35          0.042380\n",
       "tavg dumweek_35                0.042053\n",
       "longitude resultspeed          0.041301\n",
       "resultdir dumweek_35           0.039605\n",
       "latitude dumweek_35            0.034497\n",
       "dumweek_35                     0.034483\n",
       "sealevel dumweek_35            0.034355\n",
       "daylength dumweek_35           0.033983\n",
       "longitude resultspeed_lag14    0.032046\n",
       "latitude sealevel              0.031487\n",
       "dtype: float64"
      ]
     },
     "execution_count": 38,
     "metadata": {},
     "output_type": "execute_result"
    }
   ],
   "source": [
    "# top polynomial columns with positive correlation to west nile\n",
    "new.corrwith(y_train).dropna().sort_values(ascending=False)[:10]"
   ]
  },
  {
   "cell_type": "markdown",
   "id": "443ace55",
   "metadata": {},
   "source": [
    "- none of the interaction columns look like they ought to be included in our other models. top interaction columns with negative correlation to y are all multiples of resultspeed, which itself has high negative correlation with y. similarly, top interaction features with positive correlation with y are multiples of dumweek_35, which itself has similarly high positive correlation with y\n",
    "- next, set up pca to find out how many pca components are needed to reach 98%+ explained variance ratio. use that n_components to input into our run_models"
   ]
  },
  {
   "cell_type": "code",
   "execution_count": 39,
   "id": "9ab62661",
   "metadata": {
    "ExecuteTime": {
     "end_time": "2022-02-04T09:47:05.272688Z",
     "start_time": "2022-02-04T09:47:04.681037Z"
    }
   },
   "outputs": [],
   "source": [
    "# Instantiate PCA.\n",
    "pca = PCA(random_state=42)\n",
    "\n",
    "# Fit and transform PCA for train, transform for test\n",
    "Z_train = pca.fit_transform(Xp_trainsc)\n",
    "\n",
    "Z_test = pca.transform(Xp_testsc)\n",
    "Z_kaggle_test = pca.transform(testsc)\n"
   ]
  },
  {
   "cell_type": "code",
   "execution_count": 40,
   "id": "6c5e9035",
   "metadata": {
    "ExecuteTime": {
     "end_time": "2022-02-04T09:47:08.163516Z",
     "start_time": "2022-02-04T09:47:08.147233Z"
    }
   },
   "outputs": [],
   "source": [
    "expl_var = np.cumsum(pca.explained_variance_ratio_)[:90]"
   ]
  },
  {
   "cell_type": "code",
   "execution_count": 41,
   "id": "2ea3c46a",
   "metadata": {
    "ExecuteTime": {
     "end_time": "2022-02-04T09:47:10.847389Z",
     "start_time": "2022-02-04T09:47:10.766898Z"
    }
   },
   "outputs": [
    {
     "data": {
      "image/png": "[encoded data removed]",
      "text/plain": [
       "<Figure size 720x504 with 1 Axes>"
      ]
     },
     "metadata": {
      "needs_background": "light"
     },
     "output_type": "display_data"
    }
   ],
   "source": [
    "plt.figure(figsize=(10,7))\n",
    "plt.plot(range(len(expl_var)), expl_var)\n",
    "plt.show()"
   ]
  },
  {
   "cell_type": "code",
   "execution_count": 42,
   "id": "858b4aa0",
   "metadata": {
    "ExecuteTime": {
     "end_time": "2022-02-04T09:47:13.969759Z",
     "start_time": "2022-02-04T09:47:13.961786Z"
    }
   },
   "outputs": [
    {
     "data": {
      "text/plain": [
       "0.988568293238525"
      ]
     },
     "execution_count": 42,
     "metadata": {},
     "output_type": "execute_result"
    }
   ],
   "source": [
    "# 50 components give us around 99% of explained variance\n",
    "expl_var[50]"
   ]
  },
  {
   "cell_type": "markdown",
   "id": "4da9e838",
   "metadata": {},
   "source": [
    "- next we will run a few pipelines with PCA with our run_model function using n_components of 50."
   ]
  },
  {
   "cell_type": "markdown",
   "id": "5911a9b5",
   "metadata": {},
   "source": [
    "<a id = '2.4'><a/>\n",
    "### 2.4 Gradient Boost w/poly features+PCA\n",
    "* [Back To Top](#Content)"
   ]
  },
  {
   "cell_type": "code",
   "execution_count": 43,
   "id": "fc729eab",
   "metadata": {
    "ExecuteTime": {
     "end_time": "2022-02-04T09:48:16.418127Z",
     "start_time": "2022-02-04T09:48:16.399976Z"
    }
   },
   "outputs": [
    {
     "data": {
      "text/plain": [
       "{'clsf__learning_rate': [0.01, 0.1],\n",
       " 'clsf__max_depth': [7, 10],\n",
       " 'clsf__ccp_alpha': [0, 0.1],\n",
       " 'clsf__n_estimators': [200, 350]}"
      ]
     },
     "execution_count": 43,
     "metadata": {},
     "output_type": "execute_result"
    }
   ],
   "source": [
    "params_gb"
   ]
  },
  {
   "cell_type": "code",
   "execution_count": 44,
   "id": "8d8e7a2d",
   "metadata": {
    "ExecuteTime": {
     "end_time": "2022-02-04T10:03:24.499225Z",
     "start_time": "2022-02-04T09:48:23.218517Z"
    },
    "scrolled": true
   },
   "outputs": [
    {
     "name": "stdout",
     "output_type": "stream",
     "text": [
      "Fitting 4 folds for each of 16 candidates, totalling 64 fits\n",
      "\n",
      "\n",
      "==============================\n",
      "\u001b[1m GradientBoostingClassifier(random_state=42) \u001b[0m\n",
      "==============================\n",
      "\n",
      " Best Parameters:\n",
      "------------------------------ \n",
      "\n",
      "clsf__ccp_alpha : 0\n",
      "clsf__learning_rate : 0.01\n",
      "clsf__max_depth : 7\n",
      "clsf__n_estimators : 350\n",
      "[[1984   21]\n",
      " [ 100   14]]\n"
     ]
    }
   ],
   "source": [
    "gs_gb_pca=run_model(gb, params_gb, 'pca')"
   ]
  },
  {
   "cell_type": "code",
   "execution_count": 45,
   "id": "c0744fcb",
   "metadata": {
    "ExecuteTime": {
     "end_time": "2022-02-04T10:03:41.296595Z",
     "start_time": "2022-02-04T10:03:39.884443Z"
    }
   },
   "outputs": [],
   "source": [
    "submit_gb_pca = pd.DataFrame()\n",
    "submit_gb_pca['Id'] = test.index\n",
    "submit_gb_pca.set_index('Id', drop=True,inplace=True)\n",
    "submit_gb_pca['WnvPresent'] =gs_gb_pca.predict_proba(test_poly)[:,1]\n",
    "submit_gb_pca.to_csv('../datasets/submit_gb_pca2.csv')"
   ]
  },
  {
   "cell_type": "markdown",
   "id": "afc4f38e",
   "metadata": {},
   "source": [
    "###  Gradient Boost w/poly featurer and PCA  Kaggle\n",
    "\n",
    "<img src=\"../images/submit_gbpca.png\" alt=\"not great\">"
   ]
  },
  {
   "cell_type": "markdown",
   "id": "92b2b65e",
   "metadata": {},
   "source": [
    "<a id = '2.5'><a/>\n",
    "### 2.5 Log Reg w/poly features+smote+PCA\n",
    "* [Back To Top](#Content)"
   ]
  },
  {
   "cell_type": "markdown",
   "id": "3951393c",
   "metadata": {},
   "source": [
    "- our run_models function does not handle PCA and SMOTE at the same time, so we'll do it below, 'manually'"
   ]
  },
  {
   "cell_type": "code",
   "execution_count": 46,
   "id": "d0539a6c",
   "metadata": {
    "ExecuteTime": {
     "end_time": "2022-02-04T10:03:54.510867Z",
     "start_time": "2022-02-04T10:03:54.495869Z"
    }
   },
   "outputs": [],
   "source": [
    "lr = LogisticRegression(\n",
    "    solver='liblinear',\n",
    "    random_state=42,\n",
    ")\n",
    "\n",
    "params_lr = {\n",
    "    'clsf__penalty': ['l1'],\n",
    "    'clsf__C': [0.1, 1.5],\n",
    "    'clsf__max_iter': [200]\n",
    "}\n",
    "\n",
    "pipe_lrpca = Pipeline_imb([\n",
    "            ('pf', PolynomialFeatures(degree=2, include_bias=True, interaction_only=True )),\n",
    "            ('sc', StandardScaler()),\n",
    "            ('pca', PCA(n_components=50, random_state=42)),\n",
    "            ('smpl', SMOTE(sampling_strategy='auto', random_state=42)),\n",
    "            ('clsf', lr)\n",
    "        ])\n",
    "\n"
   ]
  },
  {
   "cell_type": "code",
   "execution_count": 47,
   "id": "f24bf786",
   "metadata": {
    "ExecuteTime": {
     "end_time": "2022-02-04T10:04:08.099231Z",
     "start_time": "2022-02-04T10:04:08.088160Z"
    }
   },
   "outputs": [],
   "source": [
    "  grid_lrpca = GridSearchCV(\n",
    "        pipe_lrpca,\n",
    "        param_grid=params_lr,\n",
    "        scoring='roc_auc',\n",
    "        cv=4,\n",
    "        n_jobs=-1,\n",
    "        verbose=2)"
   ]
  },
  {
   "cell_type": "code",
   "execution_count": 48,
   "id": "49264e35",
   "metadata": {
    "ExecuteTime": {
     "end_time": "2022-02-04T10:04:27.936654Z",
     "start_time": "2022-02-04T10:04:24.715589Z"
    }
   },
   "outputs": [
    {
     "name": "stdout",
     "output_type": "stream",
     "text": [
      "Fitting 4 folds for each of 2 candidates, totalling 8 fits\n"
     ]
    },
    {
     "data": {
      "text/plain": [
       "GridSearchCV(cv=4,\n",
       "             estimator=Pipeline(steps=[('pf',\n",
       "                                        PolynomialFeatures(interaction_only=True)),\n",
       "                                       ('sc', StandardScaler()),\n",
       "                                       ('pca',\n",
       "                                        PCA(n_components=50, random_state=42)),\n",
       "                                       ('smpl', SMOTE(random_state=42)),\n",
       "                                       ('clsf',\n",
       "                                        LogisticRegression(random_state=42,\n",
       "                                                           solver='liblinear'))]),\n",
       "             n_jobs=-1,\n",
       "             param_grid={'clsf__C': [0.1, 1.5], 'clsf__max_iter': [200],\n",
       "                         'clsf__penalty': ['l1']},\n",
       "             scoring='roc_auc', verbose=2)"
      ]
     },
     "execution_count": 48,
     "metadata": {},
     "output_type": "execute_result"
    }
   ],
   "source": [
    "grid_lrpca.fit(X_train, y_train)"
   ]
  },
  {
   "cell_type": "code",
   "execution_count": 49,
   "id": "586d5efa",
   "metadata": {
    "ExecuteTime": {
     "end_time": "2022-02-04T10:04:49.766145Z",
     "start_time": "2022-02-04T10:04:49.633537Z"
    }
   },
   "outputs": [
    {
     "data": {
      "text/plain": [
       "<sklearn.metrics._plot.confusion_matrix.ConfusionMatrixDisplay at 0x1d82c5f6c40>"
      ]
     },
     "execution_count": 49,
     "metadata": {},
     "output_type": "execute_result"
    },
    {
     "data": {
      "image/png": "[encoded data removed]",
      "text/plain": [
       "<Figure size 432x288 with 2 Axes>"
      ]
     },
     "metadata": {
      "needs_background": "light"
     },
     "output_type": "display_data"
    }
   ],
   "source": [
    "plot_confusion_matrix(grid_lrpca, X_test, y_test)"
   ]
  },
  {
   "cell_type": "code",
   "execution_count": 50,
   "id": "8c4c22f9",
   "metadata": {
    "ExecuteTime": {
     "end_time": "2022-02-04T10:05:15.390561Z",
     "start_time": "2022-02-04T10:05:15.341326Z"
    }
   },
   "outputs": [],
   "source": [
    "# attach the results to our table list here, since we didn't use the run_models function\n",
    "pred = grid_lrpca.predict(X_test)\n",
    "pred_prob = grid_lrpca.predict_proba(X_test)[:, 1]\n",
    "\n",
    "table = {'Model': lr}\n",
    "table['Type'] = 'pcasmote'\n",
    "table['ROC-AUC'] = roc_auc_score(y_test, pred_prob)\n",
    "table['Precision'] = precision_score(y_test, pred)\n",
    "table['Recall'] = recall_score(y_test, pred)\n",
    "table['F1'] = f1_score(y_test, pred)\n",
    "\n",
    "for key, value in grid_lrpca.best_params_.items():\n",
    "        table[key] = value\n",
    "\n",
    "scoring_table.append(table)"
   ]
  },
  {
   "cell_type": "code",
   "execution_count": 51,
   "id": "c5fe0642",
   "metadata": {
    "ExecuteTime": {
     "end_time": "2022-02-04T10:05:17.303239Z",
     "start_time": "2022-02-04T10:05:16.421060Z"
    }
   },
   "outputs": [],
   "source": [
    "#submit_kaggle('submit_lrpca', grid_lrpca)"
   ]
  },
  {
   "cell_type": "markdown",
   "id": "10d6ac10",
   "metadata": {},
   "source": [
    "###  LogReg w/smote and PCA Kaggle\n",
    "\n",
    "<img src=\"../images/submit_lrpcasmote.png\" alt=\"not great\">"
   ]
  },
  {
   "cell_type": "markdown",
   "id": "727dc361",
   "metadata": {},
   "source": [
    "<a id = '2.6'><a/>\n",
    "### 2.6 Random Forest w/smotetomek+PCA\n",
    "* [Back To Top](#Content)"
   ]
  },
  {
   "cell_type": "code",
   "execution_count": 52,
   "id": "f54e9f46",
   "metadata": {
    "ExecuteTime": {
     "end_time": "2022-02-04T10:06:57.995980Z",
     "start_time": "2022-02-04T10:06:57.987999Z"
    }
   },
   "outputs": [],
   "source": [
    "rf = RandomForestClassifier(\n",
    "    random_state=42,\n",
    ")\n",
    "\n",
    "params_rfpca = {\n",
    "    'clsf__n_estimators': [ 200,300],\n",
    "    'clsf__max_depth': [ 7,10],\n",
    "    'clsf__min_samples_leaf':[4,10]\n",
    "}\n",
    "\n",
    "\n",
    "pipe_rfpca = Pipeline_imb([\n",
    "            ('pf', PolynomialFeatures(degree=2, include_bias=True, interaction_only=True )),\n",
    "            ('sc', StandardScaler()),\n",
    "            ('pca', PCA(n_components=50, random_state=42)),\n",
    "            ('smpl', SMOTETomek(random_state=42)),\n",
    "            ('clsf', rf)\n",
    "        ])"
   ]
  },
  {
   "cell_type": "code",
   "execution_count": 53,
   "id": "6beed037",
   "metadata": {
    "ExecuteTime": {
     "end_time": "2022-02-04T10:06:58.898779Z",
     "start_time": "2022-02-04T10:06:58.889624Z"
    }
   },
   "outputs": [],
   "source": [
    "grid_rfpca = GridSearchCV(\n",
    "        pipe_rfpca,\n",
    "        param_grid=params_rfpca,\n",
    "        scoring='roc_auc',\n",
    "        cv=4,\n",
    "        n_jobs=-1,\n",
    "        verbose=2)"
   ]
  },
  {
   "cell_type": "code",
   "execution_count": 54,
   "id": "9a85ae2b",
   "metadata": {
    "ExecuteTime": {
     "end_time": "2022-02-04T10:08:33.002357Z",
     "start_time": "2022-02-04T10:07:04.918785Z"
    }
   },
   "outputs": [
    {
     "name": "stdout",
     "output_type": "stream",
     "text": [
      "Fitting 4 folds for each of 8 candidates, totalling 32 fits\n"
     ]
    },
    {
     "data": {
      "text/plain": [
       "GridSearchCV(cv=4,\n",
       "             estimator=Pipeline(steps=[('pf',\n",
       "                                        PolynomialFeatures(interaction_only=True)),\n",
       "                                       ('sc', StandardScaler()),\n",
       "                                       ('pca',\n",
       "                                        PCA(n_components=50, random_state=42)),\n",
       "                                       ('smpl', SMOTETomek(random_state=42)),\n",
       "                                       ('clsf',\n",
       "                                        RandomForestClassifier(random_state=42))]),\n",
       "             n_jobs=-1,\n",
       "             param_grid={'clsf__max_depth': [7, 10],\n",
       "                         'clsf__min_samples_leaf': [4, 10],\n",
       "                         'clsf__n_estimators': [200, 300]},\n",
       "             scoring='roc_auc', verbose=2)"
      ]
     },
     "execution_count": 54,
     "metadata": {},
     "output_type": "execute_result"
    }
   ],
   "source": [
    "grid_rfpca.fit(X_train, y_train)"
   ]
  },
  {
   "cell_type": "code",
   "execution_count": 55,
   "id": "bdfc1c95",
   "metadata": {
    "ExecuteTime": {
     "end_time": "2022-02-04T10:08:42.703411Z",
     "start_time": "2022-02-04T10:08:42.448005Z"
    }
   },
   "outputs": [
    {
     "data": {
      "text/plain": [
       "<sklearn.metrics._plot.confusion_matrix.ConfusionMatrixDisplay at 0x1d82c5efbe0>"
      ]
     },
     "execution_count": 55,
     "metadata": {},
     "output_type": "execute_result"
    },
    {
     "data": {
      "image/png": "[encoded data removed]",
      "text/plain": [
       "<Figure size 432x288 with 2 Axes>"
      ]
     },
     "metadata": {
      "needs_background": "light"
     },
     "output_type": "display_data"
    }
   ],
   "source": [
    "plot_confusion_matrix(grid_rfpca, X_test, y_test)"
   ]
  },
  {
   "cell_type": "code",
   "execution_count": 56,
   "id": "75480deb",
   "metadata": {
    "ExecuteTime": {
     "end_time": "2022-02-04T10:08:55.725625Z",
     "start_time": "2022-02-04T10:08:53.326430Z"
    }
   },
   "outputs": [],
   "source": [
    "#submit_kaggle('submit_rfpca', grid_rfpca)"
   ]
  },
  {
   "cell_type": "markdown",
   "id": "a1cded84",
   "metadata": {},
   "source": [
    "###  Random Forest w/smote and pca50 Kaggle\n",
    "\n",
    "<img src=\"../images/submit_rfsmotepca.png\" alt=\"not great\">"
   ]
  },
  {
   "cell_type": "code",
   "execution_count": 57,
   "id": "c912ad0f",
   "metadata": {
    "ExecuteTime": {
     "end_time": "2022-02-04T10:08:59.672291Z",
     "start_time": "2022-02-04T10:08:59.499748Z"
    }
   },
   "outputs": [],
   "source": [
    "pred = grid_rfpca.predict(X_test)\n",
    "pred_prob = grid_rfpca.predict_proba(X_test)[:, 1]\n",
    "\n",
    "table = {'Model': rf}\n",
    "table['Type'] = 'pcasmote'\n",
    "table['ROC-AUC'] = roc_auc_score(y_test, pred_prob)\n",
    "table['Precision'] = precision_score(y_test, pred)\n",
    "table['Recall'] = recall_score(y_test, pred)\n",
    "table['F1'] = f1_score(y_test, pred)\n",
    "\n",
    "for key, value in grid_rfpca.best_params_.items():\n",
    "        table[key] = value\n",
    "\n",
    "scoring_table.append(table)"
   ]
  },
  {
   "cell_type": "markdown",
   "id": "48764381",
   "metadata": {},
   "source": [
    "<a id = '2.7'><a/>\n",
    "### 2.7 Log Reg w/smote\n",
    "* [Back To Top](#Content)"
   ]
  },
  {
   "cell_type": "code",
   "execution_count": 59,
   "id": "911f8101",
   "metadata": {
    "ExecuteTime": {
     "end_time": "2022-02-04T10:11:29.551424Z",
     "start_time": "2022-02-04T10:11:29.544447Z"
    }
   },
   "outputs": [],
   "source": [
    "lr = LogisticRegression(\n",
    "    solver='liblinear',\n",
    "    random_state=42,\n",
    ")\n",
    "\n",
    "params_lr_smote = {\n",
    "    'clsf__penalty': ['l1', 'l2'],\n",
    "    'clsf__C': [0.1, 1.5, 10, 40],\n",
    "    'clsf__max_iter': [50, 200, 1000],\n",
    "    'smpl__k_neighbors': [3, 5, 7],\n",
    "}"
   ]
  },
  {
   "cell_type": "code",
   "execution_count": 60,
   "id": "cd4099ff",
   "metadata": {
    "ExecuteTime": {
     "end_time": "2022-02-04T10:12:06.135129Z",
     "start_time": "2022-02-04T10:11:32.606826Z"
    },
    "scrolled": true
   },
   "outputs": [
    {
     "name": "stdout",
     "output_type": "stream",
     "text": [
      "Fitting 4 folds for each of 72 candidates, totalling 288 fits\n",
      "\n",
      "\n",
      "==============================\n",
      "\u001b[1m LogisticRegression(random_state=42, solver='liblinear') \u001b[0m\n",
      "==============================\n",
      "\n",
      " Best Parameters:\n",
      "------------------------------ \n",
      "\n",
      "clsf__C : 0.1\n",
      "clsf__max_iter : 50\n",
      "clsf__penalty : l2\n",
      "smpl__k_neighbors : 5\n",
      "[[1322  683]\n",
      " [  18   96]]\n"
     ]
    }
   ],
   "source": [
    "gs_lr_smote = run_model(lr, params_lr_smote, 'smote')"
   ]
  },
  {
   "cell_type": "code",
   "execution_count": 61,
   "id": "12bfaa93",
   "metadata": {
    "ExecuteTime": {
     "end_time": "2022-02-04T10:12:48.066018Z",
     "start_time": "2022-02-04T10:12:47.936115Z"
    }
   },
   "outputs": [
    {
     "data": {
      "text/plain": [
       "<sklearn.metrics._plot.confusion_matrix.ConfusionMatrixDisplay at 0x1d8239ae940>"
      ]
     },
     "execution_count": 61,
     "metadata": {},
     "output_type": "execute_result"
    },
    {
     "data": {
      "image/png": "[encoded data removed]",
      "text/plain": [
       "<Figure size 432x288 with 2 Axes>"
      ]
     },
     "metadata": {
      "needs_background": "light"
     },
     "output_type": "display_data"
    }
   ],
   "source": [
    "plot_confusion_matrix(gs_lr_smote, X_test, y_test)"
   ]
  },
  {
   "cell_type": "code",
   "execution_count": 63,
   "id": "84ce940e",
   "metadata": {
    "ExecuteTime": {
     "end_time": "2022-02-04T10:13:27.431697Z",
     "start_time": "2022-02-04T10:13:27.166401Z"
    }
   },
   "outputs": [],
   "source": [
    "#submit_kaggle('submit_lr_smote', gs_lr_smote)"
   ]
  },
  {
   "cell_type": "markdown",
   "id": "b8239dc7",
   "metadata": {
    "ExecuteTime": {
     "end_time": "2022-01-28T16:14:00.177294Z",
     "start_time": "2022-01-28T16:14:00.169434Z"
    }
   },
   "source": [
    "###  LogReg w/smote Kaggle\n",
    "\n",
    "<img src=\"../images/submit_lrsmote2.png\" alt=\"not great\">"
   ]
  },
  {
   "cell_type": "markdown",
   "id": "baf955d2",
   "metadata": {},
   "source": [
    "<a id = '2.8'><a/>\n",
    "### 2.8 Gradient Boost w/smote\n",
    "* [Back To Top](#Content)"
   ]
  },
  {
   "cell_type": "code",
   "execution_count": 64,
   "id": "1fb60c7d",
   "metadata": {
    "ExecuteTime": {
     "end_time": "2022-02-04T10:13:31.341776Z",
     "start_time": "2022-02-04T10:13:31.327732Z"
    }
   },
   "outputs": [],
   "source": [
    "gb = GradientBoostingClassifier(random_state=42)\n",
    "\n",
    "params_gb_smote = {\n",
    "    'clsf__learning_rate': [ 0.05, 0.1],\n",
    "    'clsf__max_depth': [7, 10],\n",
    "    'clsf__ccp_alpha':[0, 0.01],\n",
    "    'clsf__n_estimators':[150, 300],\n",
    "    'smpl__k_neighbors': [3, 5, 7],\n",
    "}"
   ]
  },
  {
   "cell_type": "code",
   "execution_count": 65,
   "id": "6b3aae29",
   "metadata": {
    "ExecuteTime": {
     "end_time": "2022-02-04T10:24:02.155027Z",
     "start_time": "2022-02-04T10:13:31.948101Z"
    },
    "scrolled": true
   },
   "outputs": [
    {
     "name": "stdout",
     "output_type": "stream",
     "text": [
      "Fitting 4 folds for each of 48 candidates, totalling 192 fits\n",
      "\n",
      "\n",
      "==============================\n",
      "\u001b[1m GradientBoostingClassifier(random_state=42) \u001b[0m\n",
      "==============================\n",
      "\n",
      " Best Parameters:\n",
      "------------------------------ \n",
      "\n",
      "clsf__ccp_alpha : 0\n",
      "clsf__learning_rate : 0.05\n",
      "clsf__max_depth : 7\n",
      "clsf__n_estimators : 150\n",
      "smpl__k_neighbors : 5\n",
      "[[1771  234]\n",
      " [  55   59]]\n"
     ]
    }
   ],
   "source": [
    "gs_gb_smote = run_model(gb, params_gb_smote, 'smote')"
   ]
  },
  {
   "cell_type": "code",
   "execution_count": 67,
   "id": "4bc37542",
   "metadata": {
    "ExecuteTime": {
     "end_time": "2022-02-04T10:24:54.598375Z",
     "start_time": "2022-02-04T10:24:54.115985Z"
    }
   },
   "outputs": [],
   "source": [
    "#submit_kaggle('submit_gb_smote', gs_gb_smote)"
   ]
  },
  {
   "cell_type": "markdown",
   "id": "6c8deec0",
   "metadata": {},
   "source": [
    "### Gradient Boost w/smote Kaggle\n",
    "\n",
    "<img src=\"../images/submit_gbsmote.png\" alt=\"not great\">"
   ]
  },
  {
   "cell_type": "markdown",
   "id": "e5480883",
   "metadata": {},
   "source": [
    "<a id = '2.9'><a/>\n",
    "### 2.9 Gradient Boost w/smotetomek\n",
    "* [Back To Top](#Content)"
   ]
  },
  {
   "cell_type": "code",
   "execution_count": 68,
   "id": "5fdbc819",
   "metadata": {
    "ExecuteTime": {
     "end_time": "2022-02-04T10:25:18.803309Z",
     "start_time": "2022-02-04T10:25:18.798230Z"
    }
   },
   "outputs": [],
   "source": [
    "gb = GradientBoostingClassifier(random_state=42)\n",
    "\n",
    "params_gb_smotetomek = {\n",
    "    'clsf__learning_rate': [0.025, 0.05],\n",
    "    'clsf__max_depth': [7, 10],\n",
    "    'clsf__ccp_alpha':[0, 0.01],\n",
    "    'clsf__n_estimators':[150, 250],\n",
    "    'smpl__sampling_strategy':['all', 'auto']\n",
    "}"
   ]
  },
  {
   "cell_type": "code",
   "execution_count": 69,
   "id": "b8fd18a7",
   "metadata": {
    "ExecuteTime": {
     "end_time": "2022-02-04T10:33:49.500870Z",
     "start_time": "2022-02-04T10:25:20.022627Z"
    }
   },
   "outputs": [
    {
     "name": "stdout",
     "output_type": "stream",
     "text": [
      "Fitting 4 folds for each of 32 candidates, totalling 128 fits\n",
      "\n",
      "\n",
      "==============================\n",
      "\u001b[1m GradientBoostingClassifier(random_state=42) \u001b[0m\n",
      "==============================\n",
      "\n",
      " Best Parameters:\n",
      "------------------------------ \n",
      "\n",
      "clsf__ccp_alpha : 0\n",
      "clsf__learning_rate : 0.025\n",
      "clsf__max_depth : 7\n",
      "clsf__n_estimators : 150\n",
      "smpl__sampling_strategy : all\n",
      "[[1676  329]\n",
      " [  42   72]]\n"
     ]
    }
   ],
   "source": [
    "gs_gb_smotetomek = run_model(gb, params_gb_smotetomek, 'smotetomek')"
   ]
  },
  {
   "cell_type": "code",
   "execution_count": 70,
   "id": "0092fb87",
   "metadata": {
    "ExecuteTime": {
     "end_time": "2022-02-04T10:34:28.858768Z",
     "start_time": "2022-02-04T10:34:28.338558Z"
    }
   },
   "outputs": [],
   "source": [
    "#submit_kaggle('submit_gbsmotetomek', gs_gb_smotetomek)"
   ]
  },
  {
   "cell_type": "markdown",
   "id": "3681d8bf",
   "metadata": {},
   "source": [
    "### Gradient boost w/smotetomek Kaggle\n",
    "\n",
    "<img src=\"../images/submit_gbsmotetomek.png\" alt=\"not great\">"
   ]
  },
  {
   "cell_type": "markdown",
   "id": "c69d242c",
   "metadata": {},
   "source": [
    "<a id = '2.10'><a/>\n",
    "### 2.10 Random Forest w/smote\n",
    "* [Back To Top](#Content)"
   ]
  },
  {
   "cell_type": "code",
   "execution_count": 71,
   "id": "4712125a",
   "metadata": {
    "ExecuteTime": {
     "end_time": "2022-02-04T10:36:54.798760Z",
     "start_time": "2022-02-04T10:36:54.780183Z"
    }
   },
   "outputs": [],
   "source": [
    "rf = RandomForestClassifier(random_state=42, n_jobs=4)\n",
    "\n",
    "params_rf_smote = {\n",
    "    'clsf__n_estimators': [150, 250],\n",
    "    'clsf__max_depth': [ 5, 7],\n",
    "    'clsf__ccp_alpha':[0, 0.01],\n",
    "    'smpl__k_neighbors': [3, 5, 7],\n",
    "}"
   ]
  },
  {
   "cell_type": "code",
   "execution_count": 72,
   "id": "aa07a99b",
   "metadata": {
    "ExecuteTime": {
     "end_time": "2022-02-04T10:37:42.920544Z",
     "start_time": "2022-02-04T10:37:18.926678Z"
    },
    "scrolled": true
   },
   "outputs": [
    {
     "name": "stdout",
     "output_type": "stream",
     "text": [
      "Fitting 4 folds for each of 24 candidates, totalling 96 fits\n",
      "\n",
      "\n",
      "==============================\n",
      "\u001b[1m RandomForestClassifier(n_jobs=4, random_state=42) \u001b[0m\n",
      "==============================\n",
      "\n",
      " Best Parameters:\n",
      "------------------------------ \n",
      "\n",
      "clsf__ccp_alpha : 0\n",
      "clsf__max_depth : 7\n",
      "clsf__n_estimators : 250\n",
      "smpl__k_neighbors : 3\n",
      "[[1423  582]\n",
      " [  24   90]]\n"
     ]
    }
   ],
   "source": [
    "gs_rf_smote = run_model(rf, params_rf_smote, 'smote')"
   ]
  },
  {
   "cell_type": "code",
   "execution_count": 115,
   "id": "6148d224",
   "metadata": {
    "ExecuteTime": {
     "end_time": "2022-02-04T11:28:03.206076Z",
     "start_time": "2022-02-04T11:28:02.978085Z"
    },
    "scrolled": true
   },
   "outputs": [
    {
     "data": {
      "text/plain": [
       "<sklearn.metrics._plot.confusion_matrix.ConfusionMatrixDisplay at 0x1d85fe536d0>"
      ]
     },
     "execution_count": 115,
     "metadata": {},
     "output_type": "execute_result"
    },
    {
     "data": {
      "image/png": "[encoded data removed]",
      "text/plain": [
       "<Figure size 432x288 with 2 Axes>"
      ]
     },
     "metadata": {
      "needs_background": "light"
     },
     "output_type": "display_data"
    }
   ],
   "source": [
    "plot_confusion_matrix(gs_rf_smote, X_test, y_test)"
   ]
  },
  {
   "cell_type": "code",
   "execution_count": 73,
   "id": "64324b1f",
   "metadata": {
    "ExecuteTime": {
     "end_time": "2022-02-04T10:38:09.773003Z",
     "start_time": "2022-02-04T10:38:09.158169Z"
    }
   },
   "outputs": [],
   "source": [
    "#submit_kaggle('rf_smote', gs_rf_smote)"
   ]
  },
  {
   "cell_type": "markdown",
   "id": "4e70bccc",
   "metadata": {},
   "source": [
    "### Random Forest w/smote Kaggle\n",
    "\n",
    "<img src=\"../images/submit_rfsmote2.png\" alt=\"not great\">"
   ]
  },
  {
   "cell_type": "markdown",
   "id": "83ef0f07",
   "metadata": {},
   "source": [
    "<a id = '2.11'><a/>\n",
    "### 2.11 XGBoost w/smotetomek\n",
    "* [Back To Top](#Content)"
   ]
  },
  {
   "cell_type": "code",
   "execution_count": 74,
   "id": "49dfda8d",
   "metadata": {
    "ExecuteTime": {
     "end_time": "2022-02-04T10:38:23.310089Z",
     "start_time": "2022-02-04T10:38:23.290063Z"
    }
   },
   "outputs": [],
   "source": [
    "xg_smotetomek = XGBClassifier(\n",
    "    use_label_encoder=False,\n",
    "    eval_metric='auc',\n",
    "    objective='binary:logistic',\n",
    "    random_state=42,\n",
    ")\n",
    "\n",
    "xg_smotetomek_params = { \n",
    "    'clsf__max_depth': [3, 5],\n",
    "    'clsf__gamma' : [0.15, 0.25],\n",
    "    'clsf__learning_rate' : [0.125, 0.2],\n",
    "    'clsf__n_estimators':[150, 200],\n",
    "    'clsf__reg_alpha':[5,10],\n",
    "    'smpl__sampling_strategy':['all', 'auto', 'not minority']\n",
    "}"
   ]
  },
  {
   "cell_type": "code",
   "execution_count": 75,
   "id": "ae2a8208",
   "metadata": {
    "ExecuteTime": {
     "end_time": "2022-02-04T10:46:31.576744Z",
     "start_time": "2022-02-04T10:38:31.131895Z"
    }
   },
   "outputs": [
    {
     "name": "stdout",
     "output_type": "stream",
     "text": [
      "Fitting 4 folds for each of 96 candidates, totalling 384 fits\n",
      "\n",
      "\n",
      "==============================\n",
      "\u001b[1m XGBClassifier(base_score=None, booster=None, colsample_bylevel=None,\n",
      "              colsample_bynode=None, colsample_bytree=None,\n",
      "              enable_categorical=False, eval_metric='auc', gamma=None,\n",
      "              gpu_id=None, importance_type=None, interaction_constraints=None,\n",
      "              learning_rate=None, max_delta_step=None, max_depth=None,\n",
      "              min_child_weight=None, missing=nan, monotone_constraints=None,\n",
      "              n_estimators=100, n_jobs=None, num_parallel_tree=None,\n",
      "              predictor=None, random_state=42, reg_alpha=None, reg_lambda=None,\n",
      "              scale_pos_weight=None, subsample=None, tree_method=None,\n",
      "              use_label_encoder=False, validate_parameters=None,\n",
      "              verbosity=None) \u001b[0m\n",
      "==============================\n",
      "\n",
      " Best Parameters:\n",
      "------------------------------ \n",
      "\n",
      "clsf__gamma : 0.15\n",
      "clsf__learning_rate : 0.125\n",
      "clsf__max_depth : 5\n",
      "clsf__n_estimators : 150\n",
      "clsf__reg_alpha : 10\n",
      "smpl__sampling_strategy : all\n",
      "[[1769  236]\n",
      " [  53   61]]\n"
     ]
    }
   ],
   "source": [
    "gs_xg_smotetomek = run_model(xg_smotetomek, xg_smotetomek_params, kind='smotetomek')"
   ]
  },
  {
   "cell_type": "code",
   "execution_count": 76,
   "id": "81898b97",
   "metadata": {
    "ExecuteTime": {
     "end_time": "2022-02-04T10:46:42.034656Z",
     "start_time": "2022-02-04T10:46:41.742350Z"
    }
   },
   "outputs": [],
   "source": [
    "#submit_kaggle('submit_xgsmotetomek', gs_xg_smotetomek)"
   ]
  },
  {
   "cell_type": "markdown",
   "id": "d51452de",
   "metadata": {
    "ExecuteTime": {
     "end_time": "2022-01-31T15:30:38.109289Z",
     "start_time": "2022-01-31T15:30:38.099411Z"
    }
   },
   "source": [
    "### XGBoost w/smote Kaggle\n",
    "\n",
    "<img src=\"../images/submit_xgsmotetomek.png\" alt=\"not great\">"
   ]
  },
  {
   "cell_type": "markdown",
   "id": "33e2834f",
   "metadata": {
    "ExecuteTime": {
     "end_time": "2022-02-01T09:59:27.521826Z",
     "start_time": "2022-02-01T09:59:27.515742Z"
    }
   },
   "source": [
    "<a id = '3.0'><a/>\n",
    "### 3.0 Make model table\n",
    "* [Back To Top](#Content)"
   ]
  },
  {
   "cell_type": "code",
   "execution_count": 125,
   "id": "6f4c1997",
   "metadata": {
    "ExecuteTime": {
     "end_time": "2022-02-04T11:40:14.727956Z",
     "start_time": "2022-02-04T11:40:14.712837Z"
    },
    "scrolled": true
   },
   "outputs": [],
   "source": [
    "Table = pd.DataFrame(scoring_table)\n",
    "\n",
    "#add Kaggle scores\n",
    "Table['Kaggle_AUC'] = [0.712, 0.718, 0.648, 0.676, 0.698, 0.686, 0.697, 0.700, 0.716, 0.707]"
   ]
  },
  {
   "cell_type": "code",
   "execution_count": 126,
   "id": "14324321",
   "metadata": {
    "ExecuteTime": {
     "end_time": "2022-02-04T11:40:15.118299Z",
     "start_time": "2022-02-04T11:40:15.105267Z"
    }
   },
   "outputs": [],
   "source": [
    "# change column order for better viewing\n",
    "Table.insert(6, 'Kaggle-AUC', Table['Kaggle_AUC'])\n",
    "Table.drop('Kaggle_AUC', axis=1, inplace=True)"
   ]
  },
  {
   "cell_type": "code",
   "execution_count": 127,
   "id": "446d42c4",
   "metadata": {
    "ExecuteTime": {
     "end_time": "2022-02-04T11:40:15.553179Z",
     "start_time": "2022-02-04T11:40:15.523966Z"
    },
    "scrolled": true
   },
   "outputs": [
    {
     "data": {
      "text/html": [
       "<div>\n",
       "<style scoped>\n",
       "    .dataframe tbody tr th:only-of-type {\n",
       "        vertical-align: middle;\n",
       "    }\n",
       "\n",
       "    .dataframe tbody tr th {\n",
       "        vertical-align: top;\n",
       "    }\n",
       "\n",
       "    .dataframe thead th {\n",
       "        text-align: right;\n",
       "    }\n",
       "</style>\n",
       "<table border=\"1\" class=\"dataframe\">\n",
       "  <thead>\n",
       "    <tr style=\"text-align: right;\">\n",
       "      <th></th>\n",
       "      <th>Model</th>\n",
       "      <th>Type</th>\n",
       "      <th>ROC-AUC</th>\n",
       "      <th>Precision</th>\n",
       "      <th>Recall</th>\n",
       "      <th>F1</th>\n",
       "      <th>Kaggle-AUC</th>\n",
       "      <th>clsf__ccp_alpha</th>\n",
       "      <th>clsf__max_depth</th>\n",
       "      <th>clsf__n_estimators</th>\n",
       "      <th>clsf__learning_rate</th>\n",
       "      <th>clsf__C</th>\n",
       "      <th>clsf__max_iter</th>\n",
       "      <th>clsf__penalty</th>\n",
       "      <th>clsf__min_samples_leaf</th>\n",
       "      <th>smpl__k_neighbors</th>\n",
       "      <th>smpl__sampling_strategy</th>\n",
       "      <th>clsf__gamma</th>\n",
       "      <th>clsf__reg_alpha</th>\n",
       "    </tr>\n",
       "  </thead>\n",
       "  <tbody>\n",
       "    <tr>\n",
       "      <th>1</th>\n",
       "      <td>RandomForestClassifier(n_jobs=4, random_state=42)</td>\n",
       "      <td>reg</td>\n",
       "      <td>0.855276</td>\n",
       "      <td>0.666667</td>\n",
       "      <td>0.052632</td>\n",
       "      <td>0.097561</td>\n",
       "      <td>0.712</td>\n",
       "      <td>0.0</td>\n",
       "      <td>10.0</td>\n",
       "      <td>300.0</td>\n",
       "      <td>NaN</td>\n",
       "      <td>NaN</td>\n",
       "      <td>NaN</td>\n",
       "      <td>NaN</td>\n",
       "      <td>NaN</td>\n",
       "      <td>NaN</td>\n",
       "      <td>NaN</td>\n",
       "      <td>NaN</td>\n",
       "      <td>NaN</td>\n",
       "    </tr>\n",
       "    <tr>\n",
       "      <th>2</th>\n",
       "      <td>GradientBoostingClassifier(random_state=42)</td>\n",
       "      <td>reg</td>\n",
       "      <td>0.823529</td>\n",
       "      <td>0.280000</td>\n",
       "      <td>0.184211</td>\n",
       "      <td>0.222222</td>\n",
       "      <td>0.718</td>\n",
       "      <td>0.0</td>\n",
       "      <td>7.0</td>\n",
       "      <td>200.0</td>\n",
       "      <td>0.100</td>\n",
       "      <td>NaN</td>\n",
       "      <td>NaN</td>\n",
       "      <td>NaN</td>\n",
       "      <td>NaN</td>\n",
       "      <td>NaN</td>\n",
       "      <td>NaN</td>\n",
       "      <td>NaN</td>\n",
       "      <td>NaN</td>\n",
       "    </tr>\n",
       "    <tr>\n",
       "      <th>3</th>\n",
       "      <td>GradientBoostingClassifier(random_state=42)</td>\n",
       "      <td>pca</td>\n",
       "      <td>0.835912</td>\n",
       "      <td>0.400000</td>\n",
       "      <td>0.122807</td>\n",
       "      <td>0.187919</td>\n",
       "      <td>0.648</td>\n",
       "      <td>0.0</td>\n",
       "      <td>7.0</td>\n",
       "      <td>350.0</td>\n",
       "      <td>0.010</td>\n",
       "      <td>NaN</td>\n",
       "      <td>NaN</td>\n",
       "      <td>NaN</td>\n",
       "      <td>NaN</td>\n",
       "      <td>NaN</td>\n",
       "      <td>NaN</td>\n",
       "      <td>NaN</td>\n",
       "      <td>NaN</td>\n",
       "    </tr>\n",
       "    <tr>\n",
       "      <th>4</th>\n",
       "      <td>LogisticRegression(random_state=42, solver='li...</td>\n",
       "      <td>pcasmote</td>\n",
       "      <td>0.809881</td>\n",
       "      <td>0.132847</td>\n",
       "      <td>0.798246</td>\n",
       "      <td>0.227785</td>\n",
       "      <td>0.676</td>\n",
       "      <td>NaN</td>\n",
       "      <td>NaN</td>\n",
       "      <td>NaN</td>\n",
       "      <td>NaN</td>\n",
       "      <td>0.1</td>\n",
       "      <td>200.0</td>\n",
       "      <td>l1</td>\n",
       "      <td>NaN</td>\n",
       "      <td>NaN</td>\n",
       "      <td>NaN</td>\n",
       "      <td>NaN</td>\n",
       "      <td>NaN</td>\n",
       "    </tr>\n",
       "    <tr>\n",
       "      <th>5</th>\n",
       "      <td>RandomForestClassifier(random_state=42)</td>\n",
       "      <td>pcasmote</td>\n",
       "      <td>0.828993</td>\n",
       "      <td>0.154762</td>\n",
       "      <td>0.684211</td>\n",
       "      <td>0.252427</td>\n",
       "      <td>0.698</td>\n",
       "      <td>NaN</td>\n",
       "      <td>7.0</td>\n",
       "      <td>300.0</td>\n",
       "      <td>NaN</td>\n",
       "      <td>NaN</td>\n",
       "      <td>NaN</td>\n",
       "      <td>NaN</td>\n",
       "      <td>10.0</td>\n",
       "      <td>NaN</td>\n",
       "      <td>NaN</td>\n",
       "      <td>NaN</td>\n",
       "      <td>NaN</td>\n",
       "    </tr>\n",
       "    <tr>\n",
       "      <th>6</th>\n",
       "      <td>LogisticRegression(random_state=42, solver='li...</td>\n",
       "      <td>smote</td>\n",
       "      <td>0.810903</td>\n",
       "      <td>0.123235</td>\n",
       "      <td>0.842105</td>\n",
       "      <td>0.215006</td>\n",
       "      <td>0.686</td>\n",
       "      <td>NaN</td>\n",
       "      <td>NaN</td>\n",
       "      <td>NaN</td>\n",
       "      <td>NaN</td>\n",
       "      <td>0.1</td>\n",
       "      <td>50.0</td>\n",
       "      <td>l2</td>\n",
       "      <td>NaN</td>\n",
       "      <td>5.0</td>\n",
       "      <td>NaN</td>\n",
       "      <td>NaN</td>\n",
       "      <td>NaN</td>\n",
       "    </tr>\n",
       "    <tr>\n",
       "      <th>7</th>\n",
       "      <td>GradientBoostingClassifier(random_state=42)</td>\n",
       "      <td>smote</td>\n",
       "      <td>0.831371</td>\n",
       "      <td>0.201365</td>\n",
       "      <td>0.517544</td>\n",
       "      <td>0.289926</td>\n",
       "      <td>0.697</td>\n",
       "      <td>0.0</td>\n",
       "      <td>7.0</td>\n",
       "      <td>150.0</td>\n",
       "      <td>0.050</td>\n",
       "      <td>NaN</td>\n",
       "      <td>NaN</td>\n",
       "      <td>NaN</td>\n",
       "      <td>NaN</td>\n",
       "      <td>5.0</td>\n",
       "      <td>NaN</td>\n",
       "      <td>NaN</td>\n",
       "      <td>NaN</td>\n",
       "    </tr>\n",
       "    <tr>\n",
       "      <th>8</th>\n",
       "      <td>GradientBoostingClassifier(random_state=42)</td>\n",
       "      <td>smotetomek</td>\n",
       "      <td>0.831839</td>\n",
       "      <td>0.179551</td>\n",
       "      <td>0.631579</td>\n",
       "      <td>0.279612</td>\n",
       "      <td>0.700</td>\n",
       "      <td>0.0</td>\n",
       "      <td>7.0</td>\n",
       "      <td>150.0</td>\n",
       "      <td>0.025</td>\n",
       "      <td>NaN</td>\n",
       "      <td>NaN</td>\n",
       "      <td>NaN</td>\n",
       "      <td>NaN</td>\n",
       "      <td>NaN</td>\n",
       "      <td>all</td>\n",
       "      <td>NaN</td>\n",
       "      <td>NaN</td>\n",
       "    </tr>\n",
       "    <tr>\n",
       "      <th>9</th>\n",
       "      <td>RandomForestClassifier(n_jobs=4, random_state=42)</td>\n",
       "      <td>smote</td>\n",
       "      <td>0.838520</td>\n",
       "      <td>0.133929</td>\n",
       "      <td>0.789474</td>\n",
       "      <td>0.229008</td>\n",
       "      <td>0.716</td>\n",
       "      <td>0.0</td>\n",
       "      <td>7.0</td>\n",
       "      <td>250.0</td>\n",
       "      <td>NaN</td>\n",
       "      <td>NaN</td>\n",
       "      <td>NaN</td>\n",
       "      <td>NaN</td>\n",
       "      <td>NaN</td>\n",
       "      <td>3.0</td>\n",
       "      <td>NaN</td>\n",
       "      <td>NaN</td>\n",
       "      <td>NaN</td>\n",
       "    </tr>\n",
       "    <tr>\n",
       "      <th>10</th>\n",
       "      <td>XGBClassifier(base_score=None, booster=None, c...</td>\n",
       "      <td>smotetomek</td>\n",
       "      <td>0.842333</td>\n",
       "      <td>0.205387</td>\n",
       "      <td>0.535088</td>\n",
       "      <td>0.296837</td>\n",
       "      <td>0.707</td>\n",
       "      <td>NaN</td>\n",
       "      <td>5.0</td>\n",
       "      <td>150.0</td>\n",
       "      <td>0.125</td>\n",
       "      <td>NaN</td>\n",
       "      <td>NaN</td>\n",
       "      <td>NaN</td>\n",
       "      <td>NaN</td>\n",
       "      <td>NaN</td>\n",
       "      <td>all</td>\n",
       "      <td>0.15</td>\n",
       "      <td>10.0</td>\n",
       "    </tr>\n",
       "  </tbody>\n",
       "</table>\n",
       "</div>"
      ],
      "text/plain": [
       "                                                Model        Type   ROC-AUC  \\\n",
       "1   RandomForestClassifier(n_jobs=4, random_state=42)         reg  0.855276   \n",
       "2         GradientBoostingClassifier(random_state=42)         reg  0.823529   \n",
       "3         GradientBoostingClassifier(random_state=42)         pca  0.835912   \n",
       "4   LogisticRegression(random_state=42, solver='li...    pcasmote  0.809881   \n",
       "5             RandomForestClassifier(random_state=42)    pcasmote  0.828993   \n",
       "6   LogisticRegression(random_state=42, solver='li...       smote  0.810903   \n",
       "7         GradientBoostingClassifier(random_state=42)       smote  0.831371   \n",
       "8         GradientBoostingClassifier(random_state=42)  smotetomek  0.831839   \n",
       "9   RandomForestClassifier(n_jobs=4, random_state=42)       smote  0.838520   \n",
       "10  XGBClassifier(base_score=None, booster=None, c...  smotetomek  0.842333   \n",
       "\n",
       "    Precision    Recall        F1  Kaggle-AUC  clsf__ccp_alpha  \\\n",
       "1    0.666667  0.052632  0.097561       0.712              0.0   \n",
       "2    0.280000  0.184211  0.222222       0.718              0.0   \n",
       "3    0.400000  0.122807  0.187919       0.648              0.0   \n",
       "4    0.132847  0.798246  0.227785       0.676              NaN   \n",
       "5    0.154762  0.684211  0.252427       0.698              NaN   \n",
       "6    0.123235  0.842105  0.215006       0.686              NaN   \n",
       "7    0.201365  0.517544  0.289926       0.697              0.0   \n",
       "8    0.179551  0.631579  0.279612       0.700              0.0   \n",
       "9    0.133929  0.789474  0.229008       0.716              0.0   \n",
       "10   0.205387  0.535088  0.296837       0.707              NaN   \n",
       "\n",
       "    clsf__max_depth  clsf__n_estimators  clsf__learning_rate  clsf__C  \\\n",
       "1              10.0               300.0                  NaN      NaN   \n",
       "2               7.0               200.0                0.100      NaN   \n",
       "3               7.0               350.0                0.010      NaN   \n",
       "4               NaN                 NaN                  NaN      0.1   \n",
       "5               7.0               300.0                  NaN      NaN   \n",
       "6               NaN                 NaN                  NaN      0.1   \n",
       "7               7.0               150.0                0.050      NaN   \n",
       "8               7.0               150.0                0.025      NaN   \n",
       "9               7.0               250.0                  NaN      NaN   \n",
       "10              5.0               150.0                0.125      NaN   \n",
       "\n",
       "    clsf__max_iter clsf__penalty  clsf__min_samples_leaf  smpl__k_neighbors  \\\n",
       "1              NaN           NaN                     NaN                NaN   \n",
       "2              NaN           NaN                     NaN                NaN   \n",
       "3              NaN           NaN                     NaN                NaN   \n",
       "4            200.0            l1                     NaN                NaN   \n",
       "5              NaN           NaN                    10.0                NaN   \n",
       "6             50.0            l2                     NaN                5.0   \n",
       "7              NaN           NaN                     NaN                5.0   \n",
       "8              NaN           NaN                     NaN                NaN   \n",
       "9              NaN           NaN                     NaN                3.0   \n",
       "10             NaN           NaN                     NaN                NaN   \n",
       "\n",
       "   smpl__sampling_strategy  clsf__gamma  clsf__reg_alpha  \n",
       "1                      NaN          NaN              NaN  \n",
       "2                      NaN          NaN              NaN  \n",
       "3                      NaN          NaN              NaN  \n",
       "4                      NaN          NaN              NaN  \n",
       "5                      NaN          NaN              NaN  \n",
       "6                      NaN          NaN              NaN  \n",
       "7                      NaN          NaN              NaN  \n",
       "8                      all          NaN              NaN  \n",
       "9                      NaN          NaN              NaN  \n",
       "10                     all         0.15             10.0  "
      ]
     },
     "execution_count": 127,
     "metadata": {},
     "output_type": "execute_result"
    }
   ],
   "source": [
    "Table.index +=1\n",
    "Table"
   ]
  },
  {
   "cell_type": "markdown",
   "id": "2000bf20",
   "metadata": {},
   "source": [
    "Formating the final table output"
   ]
  },
  {
   "cell_type": "code",
   "execution_count": 130,
   "id": "88543dc8",
   "metadata": {
    "ExecuteTime": {
     "end_time": "2022-02-04T11:41:18.912253Z",
     "start_time": "2022-02-04T11:41:18.896121Z"
    }
   },
   "outputs": [],
   "source": [
    "Table2 = round(Table.loc[:,['Model','Type', 'ROC-AUC', 'Precision', 'Recall', 'F1', 'Kaggle-AUC']], 3)"
   ]
  },
  {
   "cell_type": "code",
   "execution_count": 131,
   "id": "baca382e",
   "metadata": {
    "ExecuteTime": {
     "end_time": "2022-02-04T11:41:20.059369Z",
     "start_time": "2022-02-04T11:41:20.042005Z"
    }
   },
   "outputs": [],
   "source": [
    "Table2.loc[10, 'Model'] = 'XGBClassifier(random_state=42)'"
   ]
  },
  {
   "cell_type": "code",
   "execution_count": 134,
   "id": "3f283cdf",
   "metadata": {
    "ExecuteTime": {
     "end_time": "2022-02-04T11:41:39.984020Z",
     "start_time": "2022-02-04T11:41:39.976968Z"
    }
   },
   "outputs": [],
   "source": [
    "def highlight_model(s):\n",
    "    if s['Kaggle-AUC'] ==0.716:\n",
    "        return ['background-color: yellow']*7\n",
    "    else:\n",
    "        return ['background-color: white']*7\n"
   ]
  },
  {
   "cell_type": "code",
   "execution_count": 135,
   "id": "cef40f35",
   "metadata": {
    "ExecuteTime": {
     "end_time": "2022-02-04T11:41:40.962987Z",
     "start_time": "2022-02-04T11:41:40.935737Z"
    }
   },
   "outputs": [
    {
     "data": {
      "text/html": [
       "<style  type=\"text/css\" >\n",
       "#T_fc2b7_row0_col0,#T_fc2b7_row0_col1,#T_fc2b7_row0_col2,#T_fc2b7_row0_col3,#T_fc2b7_row0_col4,#T_fc2b7_row0_col5,#T_fc2b7_row0_col6,#T_fc2b7_row1_col0,#T_fc2b7_row1_col1,#T_fc2b7_row1_col2,#T_fc2b7_row1_col3,#T_fc2b7_row1_col4,#T_fc2b7_row1_col5,#T_fc2b7_row1_col6,#T_fc2b7_row2_col0,#T_fc2b7_row2_col1,#T_fc2b7_row2_col2,#T_fc2b7_row2_col3,#T_fc2b7_row2_col4,#T_fc2b7_row2_col5,#T_fc2b7_row2_col6,#T_fc2b7_row3_col0,#T_fc2b7_row3_col1,#T_fc2b7_row3_col2,#T_fc2b7_row3_col3,#T_fc2b7_row3_col4,#T_fc2b7_row3_col5,#T_fc2b7_row3_col6,#T_fc2b7_row4_col0,#T_fc2b7_row4_col1,#T_fc2b7_row4_col2,#T_fc2b7_row4_col3,#T_fc2b7_row4_col4,#T_fc2b7_row4_col5,#T_fc2b7_row4_col6,#T_fc2b7_row5_col0,#T_fc2b7_row5_col1,#T_fc2b7_row5_col2,#T_fc2b7_row5_col3,#T_fc2b7_row5_col4,#T_fc2b7_row5_col5,#T_fc2b7_row5_col6,#T_fc2b7_row6_col0,#T_fc2b7_row6_col1,#T_fc2b7_row6_col2,#T_fc2b7_row6_col3,#T_fc2b7_row6_col4,#T_fc2b7_row6_col5,#T_fc2b7_row6_col6,#T_fc2b7_row7_col0,#T_fc2b7_row7_col1,#T_fc2b7_row7_col2,#T_fc2b7_row7_col3,#T_fc2b7_row7_col4,#T_fc2b7_row7_col5,#T_fc2b7_row7_col6,#T_fc2b7_row9_col0,#T_fc2b7_row9_col1,#T_fc2b7_row9_col2,#T_fc2b7_row9_col3,#T_fc2b7_row9_col4,#T_fc2b7_row9_col5,#T_fc2b7_row9_col6{\n",
       "            background-color:  white;\n",
       "        }#T_fc2b7_row8_col0,#T_fc2b7_row8_col1,#T_fc2b7_row8_col2,#T_fc2b7_row8_col3,#T_fc2b7_row8_col4,#T_fc2b7_row8_col5,#T_fc2b7_row8_col6{\n",
       "            background-color:  yellow;\n",
       "        }</style><table id=\"T_fc2b7_\" ><thead>    <tr>        <th class=\"blank level0\" ></th>        <th class=\"col_heading level0 col0\" >Model</th>        <th class=\"col_heading level0 col1\" >Type</th>        <th class=\"col_heading level0 col2\" >ROC-AUC</th>        <th class=\"col_heading level0 col3\" >Precision</th>        <th class=\"col_heading level0 col4\" >Recall</th>        <th class=\"col_heading level0 col5\" >F1</th>        <th class=\"col_heading level0 col6\" >Kaggle-AUC</th>    </tr></thead><tbody>\n",
       "                <tr>\n",
       "                        <th id=\"T_fc2b7_level0_row0\" class=\"row_heading level0 row0\" >1</th>\n",
       "                        <td id=\"T_fc2b7_row0_col0\" class=\"data row0 col0\" >RandomForestClassifier(n_jobs=4, random_state=42)</td>\n",
       "                        <td id=\"T_fc2b7_row0_col1\" class=\"data row0 col1\" >reg</td>\n",
       "                        <td id=\"T_fc2b7_row0_col2\" class=\"data row0 col2\" >0.855000</td>\n",
       "                        <td id=\"T_fc2b7_row0_col3\" class=\"data row0 col3\" >0.667000</td>\n",
       "                        <td id=\"T_fc2b7_row0_col4\" class=\"data row0 col4\" >0.053000</td>\n",
       "                        <td id=\"T_fc2b7_row0_col5\" class=\"data row0 col5\" >0.098000</td>\n",
       "                        <td id=\"T_fc2b7_row0_col6\" class=\"data row0 col6\" >0.712000</td>\n",
       "            </tr>\n",
       "            <tr>\n",
       "                        <th id=\"T_fc2b7_level0_row1\" class=\"row_heading level0 row1\" >2</th>\n",
       "                        <td id=\"T_fc2b7_row1_col0\" class=\"data row1 col0\" >GradientBoostingClassifier(random_state=42)</td>\n",
       "                        <td id=\"T_fc2b7_row1_col1\" class=\"data row1 col1\" >reg</td>\n",
       "                        <td id=\"T_fc2b7_row1_col2\" class=\"data row1 col2\" >0.824000</td>\n",
       "                        <td id=\"T_fc2b7_row1_col3\" class=\"data row1 col3\" >0.280000</td>\n",
       "                        <td id=\"T_fc2b7_row1_col4\" class=\"data row1 col4\" >0.184000</td>\n",
       "                        <td id=\"T_fc2b7_row1_col5\" class=\"data row1 col5\" >0.222000</td>\n",
       "                        <td id=\"T_fc2b7_row1_col6\" class=\"data row1 col6\" >0.718000</td>\n",
       "            </tr>\n",
       "            <tr>\n",
       "                        <th id=\"T_fc2b7_level0_row2\" class=\"row_heading level0 row2\" >3</th>\n",
       "                        <td id=\"T_fc2b7_row2_col0\" class=\"data row2 col0\" >GradientBoostingClassifier(random_state=42)</td>\n",
       "                        <td id=\"T_fc2b7_row2_col1\" class=\"data row2 col1\" >pca</td>\n",
       "                        <td id=\"T_fc2b7_row2_col2\" class=\"data row2 col2\" >0.836000</td>\n",
       "                        <td id=\"T_fc2b7_row2_col3\" class=\"data row2 col3\" >0.400000</td>\n",
       "                        <td id=\"T_fc2b7_row2_col4\" class=\"data row2 col4\" >0.123000</td>\n",
       "                        <td id=\"T_fc2b7_row2_col5\" class=\"data row2 col5\" >0.188000</td>\n",
       "                        <td id=\"T_fc2b7_row2_col6\" class=\"data row2 col6\" >0.648000</td>\n",
       "            </tr>\n",
       "            <tr>\n",
       "                        <th id=\"T_fc2b7_level0_row3\" class=\"row_heading level0 row3\" >4</th>\n",
       "                        <td id=\"T_fc2b7_row3_col0\" class=\"data row3 col0\" >LogisticRegression(random_state=42, solver='liblinear')</td>\n",
       "                        <td id=\"T_fc2b7_row3_col1\" class=\"data row3 col1\" >pcasmote</td>\n",
       "                        <td id=\"T_fc2b7_row3_col2\" class=\"data row3 col2\" >0.810000</td>\n",
       "                        <td id=\"T_fc2b7_row3_col3\" class=\"data row3 col3\" >0.133000</td>\n",
       "                        <td id=\"T_fc2b7_row3_col4\" class=\"data row3 col4\" >0.798000</td>\n",
       "                        <td id=\"T_fc2b7_row3_col5\" class=\"data row3 col5\" >0.228000</td>\n",
       "                        <td id=\"T_fc2b7_row3_col6\" class=\"data row3 col6\" >0.676000</td>\n",
       "            </tr>\n",
       "            <tr>\n",
       "                        <th id=\"T_fc2b7_level0_row4\" class=\"row_heading level0 row4\" >5</th>\n",
       "                        <td id=\"T_fc2b7_row4_col0\" class=\"data row4 col0\" >RandomForestClassifier(random_state=42)</td>\n",
       "                        <td id=\"T_fc2b7_row4_col1\" class=\"data row4 col1\" >pcasmote</td>\n",
       "                        <td id=\"T_fc2b7_row4_col2\" class=\"data row4 col2\" >0.829000</td>\n",
       "                        <td id=\"T_fc2b7_row4_col3\" class=\"data row4 col3\" >0.155000</td>\n",
       "                        <td id=\"T_fc2b7_row4_col4\" class=\"data row4 col4\" >0.684000</td>\n",
       "                        <td id=\"T_fc2b7_row4_col5\" class=\"data row4 col5\" >0.252000</td>\n",
       "                        <td id=\"T_fc2b7_row4_col6\" class=\"data row4 col6\" >0.698000</td>\n",
       "            </tr>\n",
       "            <tr>\n",
       "                        <th id=\"T_fc2b7_level0_row5\" class=\"row_heading level0 row5\" >6</th>\n",
       "                        <td id=\"T_fc2b7_row5_col0\" class=\"data row5 col0\" >LogisticRegression(random_state=42, solver='liblinear')</td>\n",
       "                        <td id=\"T_fc2b7_row5_col1\" class=\"data row5 col1\" >smote</td>\n",
       "                        <td id=\"T_fc2b7_row5_col2\" class=\"data row5 col2\" >0.811000</td>\n",
       "                        <td id=\"T_fc2b7_row5_col3\" class=\"data row5 col3\" >0.123000</td>\n",
       "                        <td id=\"T_fc2b7_row5_col4\" class=\"data row5 col4\" >0.842000</td>\n",
       "                        <td id=\"T_fc2b7_row5_col5\" class=\"data row5 col5\" >0.215000</td>\n",
       "                        <td id=\"T_fc2b7_row5_col6\" class=\"data row5 col6\" >0.686000</td>\n",
       "            </tr>\n",
       "            <tr>\n",
       "                        <th id=\"T_fc2b7_level0_row6\" class=\"row_heading level0 row6\" >7</th>\n",
       "                        <td id=\"T_fc2b7_row6_col0\" class=\"data row6 col0\" >GradientBoostingClassifier(random_state=42)</td>\n",
       "                        <td id=\"T_fc2b7_row6_col1\" class=\"data row6 col1\" >smote</td>\n",
       "                        <td id=\"T_fc2b7_row6_col2\" class=\"data row6 col2\" >0.831000</td>\n",
       "                        <td id=\"T_fc2b7_row6_col3\" class=\"data row6 col3\" >0.201000</td>\n",
       "                        <td id=\"T_fc2b7_row6_col4\" class=\"data row6 col4\" >0.518000</td>\n",
       "                        <td id=\"T_fc2b7_row6_col5\" class=\"data row6 col5\" >0.290000</td>\n",
       "                        <td id=\"T_fc2b7_row6_col6\" class=\"data row6 col6\" >0.697000</td>\n",
       "            </tr>\n",
       "            <tr>\n",
       "                        <th id=\"T_fc2b7_level0_row7\" class=\"row_heading level0 row7\" >8</th>\n",
       "                        <td id=\"T_fc2b7_row7_col0\" class=\"data row7 col0\" >GradientBoostingClassifier(random_state=42)</td>\n",
       "                        <td id=\"T_fc2b7_row7_col1\" class=\"data row7 col1\" >smotetomek</td>\n",
       "                        <td id=\"T_fc2b7_row7_col2\" class=\"data row7 col2\" >0.832000</td>\n",
       "                        <td id=\"T_fc2b7_row7_col3\" class=\"data row7 col3\" >0.180000</td>\n",
       "                        <td id=\"T_fc2b7_row7_col4\" class=\"data row7 col4\" >0.632000</td>\n",
       "                        <td id=\"T_fc2b7_row7_col5\" class=\"data row7 col5\" >0.280000</td>\n",
       "                        <td id=\"T_fc2b7_row7_col6\" class=\"data row7 col6\" >0.700000</td>\n",
       "            </tr>\n",
       "            <tr>\n",
       "                        <th id=\"T_fc2b7_level0_row8\" class=\"row_heading level0 row8\" >9</th>\n",
       "                        <td id=\"T_fc2b7_row8_col0\" class=\"data row8 col0\" >RandomForestClassifier(n_jobs=4, random_state=42)</td>\n",
       "                        <td id=\"T_fc2b7_row8_col1\" class=\"data row8 col1\" >smote</td>\n",
       "                        <td id=\"T_fc2b7_row8_col2\" class=\"data row8 col2\" >0.839000</td>\n",
       "                        <td id=\"T_fc2b7_row8_col3\" class=\"data row8 col3\" >0.134000</td>\n",
       "                        <td id=\"T_fc2b7_row8_col4\" class=\"data row8 col4\" >0.789000</td>\n",
       "                        <td id=\"T_fc2b7_row8_col5\" class=\"data row8 col5\" >0.229000</td>\n",
       "                        <td id=\"T_fc2b7_row8_col6\" class=\"data row8 col6\" >0.716000</td>\n",
       "            </tr>\n",
       "            <tr>\n",
       "                        <th id=\"T_fc2b7_level0_row9\" class=\"row_heading level0 row9\" >10</th>\n",
       "                        <td id=\"T_fc2b7_row9_col0\" class=\"data row9 col0\" >XGBClassifier(random_state=42)</td>\n",
       "                        <td id=\"T_fc2b7_row9_col1\" class=\"data row9 col1\" >smotetomek</td>\n",
       "                        <td id=\"T_fc2b7_row9_col2\" class=\"data row9 col2\" >0.842000</td>\n",
       "                        <td id=\"T_fc2b7_row9_col3\" class=\"data row9 col3\" >0.205000</td>\n",
       "                        <td id=\"T_fc2b7_row9_col4\" class=\"data row9 col4\" >0.535000</td>\n",
       "                        <td id=\"T_fc2b7_row9_col5\" class=\"data row9 col5\" >0.297000</td>\n",
       "                        <td id=\"T_fc2b7_row9_col6\" class=\"data row9 col6\" >0.707000</td>\n",
       "            </tr>\n",
       "    </tbody></table>"
      ],
      "text/plain": [
       "<pandas.io.formats.style.Styler at 0x1d85fe35f10>"
      ]
     },
     "execution_count": 135,
     "metadata": {},
     "output_type": "execute_result"
    }
   ],
   "source": [
    "Table2.style.apply(highlight_model, axis=1)"
   ]
  },
  {
   "cell_type": "code",
   "execution_count": 136,
   "id": "d7e3280e",
   "metadata": {
    "ExecuteTime": {
     "end_time": "2022-02-04T11:42:15.981924Z",
     "start_time": "2022-02-04T11:42:15.974210Z"
    }
   },
   "outputs": [],
   "source": [
    "Table.to_csv('../datasets/modeltable2.csv', index=False)"
   ]
  },
  {
   "cell_type": "markdown",
   "id": "9becfad1",
   "metadata": {},
   "source": [
    "<a id = '4.0'><a/>\n",
    "### 4.0 Model Evaluations\n",
    "* [Back To Top](#Content)"
   ]
  },
  {
   "cell_type": "markdown",
   "id": "1a5a8e17",
   "metadata": {},
   "source": [
    "**Model conclusions:**\n",
    "\n",
    "- the real difficulty our models encountered is identifying west-nile carrying mosquitoes correctly, since only about 5% of them carry the virus\n",
    "- our goal is to avoid false negatives ( identifying west-nile mosquitoes as normal). we do not mind a high number of false positives (identifying normal mosquitoes as west-nile carrying ones)\n",
    "- there is a clear tradeoff between recall and precision. models employing smote score high on recall metrics, as smote trains them to uncover more positives, but that comes at the expense of precision\n",
    "- nevertheless, we do care about high recall score, and as such do not mind seeing our precision score dip\n",
    "- in addition to recall we also care about the overall soundness of the model. out of all the scores, we trust the Kaggle competition score the most - ROC-AUC on completely unseen data with 116k rows\n",
    "- **we thus choose Random Forest Classifier with SMOTE as our production model**\n",
    "- it scores among top two in Kaggle ROC-AUC and recall, at 0.716 and 0.789 respectively.\n",
    "- we are willing to tolerate low precision in our production model, as identifying as many Wnv mosquitoes as possible is the priority"
   ]
  },
  {
   "cell_type": "markdown",
   "id": "2f3fedcb",
   "metadata": {},
   "source": [
    "Production model's confusion matrix: 90 Wnv mosquitoes predicted, only 24 missed\n",
    "\n",
    "<img src=\"../images/rf_conf_matrix.png\" alt=\"not great\">"
   ]
  },
  {
   "cell_type": "markdown",
   "id": "1f2e46da",
   "metadata": {},
   "source": [
    "<a id = '5.0'><a/>\n",
    "### 5.0 Features Importances\n",
    "* [Back To Top](#Content)"
   ]
  },
  {
   "cell_type": "code",
   "execution_count": 248,
   "id": "754e7378",
   "metadata": {
    "ExecuteTime": {
     "end_time": "2022-02-01T13:40:09.368187Z",
     "start_time": "2022-02-01T13:40:09.333374Z"
    }
   },
   "outputs": [],
   "source": [
    "feat_imp = gs_rf_smote.best_estimator_.named_steps['clsf'].feature_importances_"
   ]
  },
  {
   "cell_type": "code",
   "execution_count": 251,
   "id": "07629d5f",
   "metadata": {
    "ExecuteTime": {
     "end_time": "2022-02-01T13:43:18.548279Z",
     "start_time": "2022-02-01T13:43:18.524568Z"
    }
   },
   "outputs": [
    {
     "data": {
      "text/html": [
       "<div>\n",
       "<style scoped>\n",
       "    .dataframe tbody tr th:only-of-type {\n",
       "        vertical-align: middle;\n",
       "    }\n",
       "\n",
       "    .dataframe tbody tr th {\n",
       "        vertical-align: top;\n",
       "    }\n",
       "\n",
       "    .dataframe thead th {\n",
       "        text-align: right;\n",
       "    }\n",
       "</style>\n",
       "<table border=\"1\" class=\"dataframe\">\n",
       "  <thead>\n",
       "    <tr style=\"text-align: right;\">\n",
       "      <th></th>\n",
       "      <th>top_features</th>\n",
       "      <th>coef</th>\n",
       "    </tr>\n",
       "  </thead>\n",
       "  <tbody>\n",
       "    <tr>\n",
       "      <th>11</th>\n",
       "      <td>daylength</td>\n",
       "      <td>0.239962</td>\n",
       "    </tr>\n",
       "    <tr>\n",
       "      <th>2</th>\n",
       "      <td>dum_species</td>\n",
       "      <td>0.143651</td>\n",
       "    </tr>\n",
       "    <tr>\n",
       "      <th>3</th>\n",
       "      <td>tavg</td>\n",
       "      <td>0.082475</td>\n",
       "    </tr>\n",
       "    <tr>\n",
       "      <th>12</th>\n",
       "      <td>tavg_lag14</td>\n",
       "      <td>0.081884</td>\n",
       "    </tr>\n",
       "    <tr>\n",
       "      <th>7</th>\n",
       "      <td>resultspeed</td>\n",
       "      <td>0.044318</td>\n",
       "    </tr>\n",
       "    <tr>\n",
       "      <th>9</th>\n",
       "      <td>avgspeed</td>\n",
       "      <td>0.042883</td>\n",
       "    </tr>\n",
       "    <tr>\n",
       "      <th>13</th>\n",
       "      <td>humidity_lag14</td>\n",
       "      <td>0.041539</td>\n",
       "    </tr>\n",
       "    <tr>\n",
       "      <th>10</th>\n",
       "      <td>humidity</td>\n",
       "      <td>0.041087</td>\n",
       "    </tr>\n",
       "    <tr>\n",
       "      <th>14</th>\n",
       "      <td>resultspeed_lag14</td>\n",
       "      <td>0.036409</td>\n",
       "    </tr>\n",
       "    <tr>\n",
       "      <th>1</th>\n",
       "      <td>longitude</td>\n",
       "      <td>0.032740</td>\n",
       "    </tr>\n",
       "    <tr>\n",
       "      <th>6</th>\n",
       "      <td>sealevel</td>\n",
       "      <td>0.030515</td>\n",
       "    </tr>\n",
       "    <tr>\n",
       "      <th>16</th>\n",
       "      <td>dumweek_28</td>\n",
       "      <td>0.027019</td>\n",
       "    </tr>\n",
       "    <tr>\n",
       "      <th>15</th>\n",
       "      <td>preciptotal_lag14</td>\n",
       "      <td>0.021848</td>\n",
       "    </tr>\n",
       "    <tr>\n",
       "      <th>5</th>\n",
       "      <td>stnpressure</td>\n",
       "      <td>0.021764</td>\n",
       "    </tr>\n",
       "    <tr>\n",
       "      <th>8</th>\n",
       "      <td>resultdir</td>\n",
       "      <td>0.020962</td>\n",
       "    </tr>\n",
       "    <tr>\n",
       "      <th>21</th>\n",
       "      <td>dumweek_33</td>\n",
       "      <td>0.020833</td>\n",
       "    </tr>\n",
       "    <tr>\n",
       "      <th>22</th>\n",
       "      <td>dumweek_34</td>\n",
       "      <td>0.019502</td>\n",
       "    </tr>\n",
       "    <tr>\n",
       "      <th>0</th>\n",
       "      <td>latitude</td>\n",
       "      <td>0.015784</td>\n",
       "    </tr>\n",
       "    <tr>\n",
       "      <th>27</th>\n",
       "      <td>dumweek_39</td>\n",
       "      <td>0.012987</td>\n",
       "    </tr>\n",
       "    <tr>\n",
       "      <th>4</th>\n",
       "      <td>preciptotal</td>\n",
       "      <td>0.009861</td>\n",
       "    </tr>\n",
       "    <tr>\n",
       "      <th>26</th>\n",
       "      <td>dumweek_38</td>\n",
       "      <td>0.003503</td>\n",
       "    </tr>\n",
       "    <tr>\n",
       "      <th>18</th>\n",
       "      <td>dumweek_30</td>\n",
       "      <td>0.002005</td>\n",
       "    </tr>\n",
       "    <tr>\n",
       "      <th>19</th>\n",
       "      <td>dumweek_31</td>\n",
       "      <td>0.001633</td>\n",
       "    </tr>\n",
       "    <tr>\n",
       "      <th>20</th>\n",
       "      <td>dumweek_32</td>\n",
       "      <td>0.001507</td>\n",
       "    </tr>\n",
       "    <tr>\n",
       "      <th>23</th>\n",
       "      <td>dumweek_35</td>\n",
       "      <td>0.001157</td>\n",
       "    </tr>\n",
       "    <tr>\n",
       "      <th>25</th>\n",
       "      <td>dumweek_37</td>\n",
       "      <td>0.001004</td>\n",
       "    </tr>\n",
       "    <tr>\n",
       "      <th>17</th>\n",
       "      <td>dumweek_29</td>\n",
       "      <td>0.000594</td>\n",
       "    </tr>\n",
       "    <tr>\n",
       "      <th>24</th>\n",
       "      <td>dumweek_36</td>\n",
       "      <td>0.000571</td>\n",
       "    </tr>\n",
       "  </tbody>\n",
       "</table>\n",
       "</div>"
      ],
      "text/plain": [
       "         top_features      coef\n",
       "11          daylength  0.239962\n",
       "2         dum_species  0.143651\n",
       "3                tavg  0.082475\n",
       "12         tavg_lag14  0.081884\n",
       "7         resultspeed  0.044318\n",
       "9            avgspeed  0.042883\n",
       "13     humidity_lag14  0.041539\n",
       "10           humidity  0.041087\n",
       "14  resultspeed_lag14  0.036409\n",
       "1           longitude  0.032740\n",
       "6            sealevel  0.030515\n",
       "16         dumweek_28  0.027019\n",
       "15  preciptotal_lag14  0.021848\n",
       "5         stnpressure  0.021764\n",
       "8           resultdir  0.020962\n",
       "21         dumweek_33  0.020833\n",
       "22         dumweek_34  0.019502\n",
       "0            latitude  0.015784\n",
       "27         dumweek_39  0.012987\n",
       "4         preciptotal  0.009861\n",
       "26         dumweek_38  0.003503\n",
       "18         dumweek_30  0.002005\n",
       "19         dumweek_31  0.001633\n",
       "20         dumweek_32  0.001507\n",
       "23         dumweek_35  0.001157\n",
       "25         dumweek_37  0.001004\n",
       "17         dumweek_29  0.000594\n",
       "24         dumweek_36  0.000571"
      ]
     },
     "execution_count": 251,
     "metadata": {},
     "output_type": "execute_result"
    }
   ],
   "source": [
    "top_features = pd.DataFrame({'top_features': X.columns , 'coef': feat_imp}).sort_values(\n",
    "    ['coef'], ascending=False)\n",
    "top_features"
   ]
  },
  {
   "cell_type": "code",
   "execution_count": 258,
   "id": "2c34e5df",
   "metadata": {
    "ExecuteTime": {
     "end_time": "2022-02-01T13:50:50.302798Z",
     "start_time": "2022-02-01T13:50:50.102735Z"
    },
    "scrolled": false
   },
   "outputs": [
    {
     "data": {
      "image/png": "[encoded data removed]",
      "text/plain": [
       "<Figure size 576x576 with 1 Axes>"
      ]
     },
     "metadata": {
      "needs_background": "light"
     },
     "output_type": "display_data"
    }
   ],
   "source": [
    "fig, ax = plt.subplots(figsize=(8,8))\n",
    "sns.barplot(x=top_features['coef'] , y = top_features['top_features'])\n",
    "plt.title('Top Features', fontsize=14, \n",
    "            color='Darkorchid')\n",
    "plt.xlabel(None)\n",
    "plt.ylabel(None)\n",
    "plt.show()"
   ]
  },
  {
   "cell_type": "markdown",
   "id": "7f7b2690",
   "metadata": {},
   "source": [
    "- length of the day and mosquito species turned out to have had the most influence in predicting the incidence of WnV. \n",
    "- the days are longest on June 21st, the Summer Solistice, and after that they get shorter, just as our West Nile season gets under way. this implies that any effort to kill mosquitos should be undertaken in July and early August, just before the peak west nile season in late summer\n",
    "- as far species are concerned, this knowledge is useful in predicting and modeling the spread of west nile. Spraying however, works on all mosquitoes species indiscriminately.\n",
    "- some dummy week variables have proven more useful than others. Namely, week28 - the first week in our dummy mosquito season, and weeks 33 and 34 (the peaks of the season) have most predictive power. this is consistent with our eda finding in notebook 1\n",
    "- we could have added some polynomial features, but we chose not to in order to maintain interpretability of our model and all of its features\n",
    "- the fact that the location of the trap (latitude and longitude) do not rank high, gives us a clue as to why overall model performance isn't very reliable. Being able to tell which trap would catch Wnv mosquitoes and which wouldn't is not something that this model was able to predict. The question we must ask as ourselves is: as mosquitoes fly around the city and are carried by wind, is there such a model which can reliably predict which traps in the city, some of them only a 1 or 2km away from each other, will record a Wnv mosquito, and which ones would not?"
   ]
  },
  {
   "cell_type": "markdown",
   "id": "81d1245c",
   "metadata": {
    "ExecuteTime": {
     "end_time": "2022-02-04T04:15:53.166926Z",
     "start_time": "2022-02-04T04:15:53.132699Z"
    }
   },
   "source": [
    "<a id = '6.0'><a/>\n",
    "### 6.0 Cost-Benifit analysis\n",
    "* [Back To Top](#Content)"
   ]
  },
  {
   "cell_type": "markdown",
   "id": "a6f34cb1",
   "metadata": {},
   "source": [
    "**COSTS**\n",
    "\n",
    "- city of Chicago uses Zenivex spray to control its mosquito population. The cost, under some assumptions, come out to around $200USD per km² per week. \n",
    "\n"
   ]
  },
  {
   "cell_type": "markdown",
   "id": "33de2768",
   "metadata": {},
   "source": [
    "**BENEFITS**\n",
    "\n",
    "- the benefits are somewhat harder to quantify, and are based on many assumptions (see image below), but we came up with the figure of $160,000USD in productivity and medical costs that would be saved if every single west-nile carrying mosquito were eliminated."
   ]
  },
  {
   "cell_type": "markdown",
   "id": "2ff11c6c",
   "metadata": {},
   "source": [
    "**RESULT**\n",
    "\n",
    "- 160000/200 gives us acceptable range of spraying of 800km². If we further assume that the summer spray season is about 8 weeks long, that gives us the upper limit for cost-effective spraying of 100km² per week. Anything more than 100km² per week and the City would be spending more money trying to eredicate the disease, then the disease, even in its most severe 2002 form, brings about in lost productivity and health-care costs.\n",
    "- 100km² is only 15% of the area of the city of Chicago proper.\n",
    "- calculations below:"
   ]
  },
  {
   "cell_type": "markdown",
   "id": "ebd15a33",
   "metadata": {
    "ExecuteTime": {
     "end_time": "2022-02-04T04:24:34.373211Z",
     "start_time": "2022-02-04T04:24:34.355574Z"
    }
   },
   "source": [
    "<img src=\"../images/cb-analysis.png\" alt=\"not great\">"
   ]
  },
  {
   "cell_type": "markdown",
   "id": "c4e970a1",
   "metadata": {},
   "source": [
    "<a id = '7.0'><a/>\n",
    "### 7.0 Conclusions\n",
    "* [Back To Top](#Content)"
   ]
  },
  {
   "cell_type": "markdown",
   "id": "9d7a8f75",
   "metadata": {},
   "source": [
    "**There are many reasons to suggest not spending resources on spraying:**\n",
    "\n",
    "- our charts made during EDA section show no significant decrease in either the mosquito number nor in the incidence of WnV after previous spraying\n",
    "- under any reasonable assumptions, we can only afford to spray 15% of the city area for 8 weeks during the peak mosquito season, which wouldn't make much of a difference, as mosquitoes from other parts of the city could easily migrate to replace them"
   ]
  },
  {
   "cell_type": "markdown",
   "id": "2e6e9d0b",
   "metadata": {},
   "source": [
    "**Still, we believe, and this is our final recommendation, that limited spraying should take place.**\n",
    "\n",
    "- even assuming that only 15% of the chicago area can be sprayed in any given week, we could use our model to maximize the efficiency of such a limited spray, by focusing on the areas in our model that give rise to highest 'WnV present' odds. (model.predic_proba) \n",
    "- scientifically speaking, the spray **does** kill off mosquitoes and their larvae, even if our charts/data do not show it. We choose to believe the science and use spraying as a mosquito-reduction technique. We will however use our findings of spray's lack of success, by deciding not spend too much money on it.\n",
    "- it is important for a city government to show that it cares about its people, so standing idly by while the virus is affecting its people is, politically speaking, not an option\n",
    "- lastly, even though spraying does not have substantial effect now, that does not mean that it will remain so in the future, especially if west nile virus were to start spreading at faster rates. that is why it is important to have a well-oiled  and functioning spraying program in place now, which can then easily be ramped up in the future if  need were suddendly to arise."
   ]
  },
  {
   "cell_type": "markdown",
   "id": "c06ddffc",
   "metadata": {
    "ExecuteTime": {
     "end_time": "2022-02-04T11:21:04.958541Z",
     "start_time": "2022-02-04T11:21:04.946446Z"
    }
   },
   "source": [
    "**Beyond the cost-benefit: What's next?**\n",
    "\n",
    "- the only way to substantially improve our model and make use of City's limited spraying finds, is to extend the model in such a way so that it is able to pinpoint the micro-location of where the Wnv mosquitoes will be present. This would include more advanced use of GPS data, as well teaming up with weather experts and entomologists to model the ways in which mosquitoes move around the city based on atmospheric data and their biological needs.\n"
   ]
  }
 ],
 "metadata": {
  "kernelspec": {
   "display_name": "Python 3 (ipykernel)",
   "language": "python",
   "name": "python3"
  },
  "language_info": {
   "codemirror_mode": {
    "name": "ipython",
    "version": 3
   },
   "file_extension": ".py",
   "mimetype": "text/x-python",
   "name": "python",
   "nbconvert_exporter": "python",
   "pygments_lexer": "ipython3",
   "version": "3.9.7"
  },
  "toc": {
   "base_numbering": 1,
   "nav_menu": {},
   "number_sections": false,
   "sideBar": true,
   "skip_h1_title": false,
   "title_cell": "Table of Contents",
   "title_sidebar": "Contents",
   "toc_cell": false,
   "toc_position": {
    "height": "calc(100% - 180px)",
    "left": "10px",
    "top": "150px",
    "width": "343.75px"
   },
   "toc_section_display": true,
   "toc_window_display": true
  },
  "varInspector": {
   "cols": {
    "lenName": 16,
    "lenType": 16,
    "lenVar": 40
   },
   "kernels_config": {
    "python": {
     "delete_cmd_postfix": "",
     "delete_cmd_prefix": "del ",
     "library": "var_list.py",
     "varRefreshCmd": "print(var_dic_list())"
    },
    "r": {
     "delete_cmd_postfix": ") ",
     "delete_cmd_prefix": "rm(",
     "library": "var_list.r",
     "varRefreshCmd": "cat(var_dic_list()) "
    }
   },
   "types_to_exclude": [
    "module",
    "function",
    "builtin_function_or_method",
    "instance",
    "_Feature"
   ],
   "window_display": false
  }
 },
 "nbformat": 4,
 "nbformat_minor": 5
}
