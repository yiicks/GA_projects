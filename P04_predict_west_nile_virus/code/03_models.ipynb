{
 "cells": [
  {
   "cell_type": "markdown",
   "id": "725840e1",
   "metadata": {},
   "source": [
    "<a id = 'Content'><a/>\n",
    "### Contents:\n",
    "- [1.0 Imports and Functions](#1.0)\n",
    "- [2.0 Models](#2.0)\n",
    "    - [2.1 Random Forest Regular](#2.1)\n",
    "    - [2.2 Gradient Boost Regular](#2.2)\n",
    "    - [2.3 PCA model setup](#2.3)\n",
    "    - [2.4 Gradient Boost w/poly features+PCA](#2.4)\n",
    "    - [2.5 Log Reg w/poly features+smote+PCA](#2.5)\n",
    "    - [2.6 Random Forest w/smotetomek+PCA](#2.6)\n",
    "    - [2.7 Log Reg w/smote](#2.7)\n",
    "    - [2.8 Gradient Boost w/smote](#2.8)\n",
    "    - [2.9 Gradient Boost w/smotetomek](#2.9)\n",
    "    - [2.10 Random Forest w/smote](#2.10)\n",
    "    - [2.11 XGBoost w/smotetomek](#2.11)\n",
    "- [3.0 Make Model Table](#3.0)\n",
    "- [4.0 Model Evaluations](#4.0)\n",
    "- [5.0 Feature Importances](#5.0)"
   ]
  },
  {
   "cell_type": "markdown",
   "id": "28a7cfbd",
   "metadata": {
    "ExecuteTime": {
     "end_time": "2022-01-28T12:01:50.589842Z",
     "start_time": "2022-01-28T12:01:50.558503Z"
    }
   },
   "source": [
    "<a id = '1.0'><a/>\n",
    "### 1.0 Imports and Functions\n",
    "* [Back To Top](#Content) "
   ]
  },
  {
   "cell_type": "code",
   "execution_count": 1,
   "id": "8518cb54",
   "metadata": {
    "ExecuteTime": {
     "end_time": "2022-02-04T09:21:31.383334Z",
     "start_time": "2022-02-04T09:21:31.378552Z"
    }
   },
   "outputs": [],
   "source": [
    "#!pip install xgboost"
   ]
  },
  {
   "cell_type": "code",
   "execution_count": 2,
   "id": "0d0aebcb",
   "metadata": {
    "ExecuteTime": {
     "end_time": "2022-02-04T09:21:39.457278Z",
     "start_time": "2022-02-04T09:21:34.987859Z"
    }
   },
   "outputs": [
    {
     "ename": "AttributeError",
     "evalue": "module 'keras.utils' has no attribute 'Sequence'",
     "output_type": "error",
     "traceback": [
      "\u001b[1;31m---------------------------------------------------------------------------\u001b[0m",
      "\u001b[1;31mAttributeError\u001b[0m                            Traceback (most recent call last)",
      "\u001b[1;32m~\\AppData\\Local\\Temp/ipykernel_29724/4149426418.py\u001b[0m in \u001b[0;36m<module>\u001b[1;34m\u001b[0m\n\u001b[0;32m     13\u001b[0m \u001b[1;32mfrom\u001b[0m \u001b[0msklearn\u001b[0m\u001b[1;33m.\u001b[0m\u001b[0mmetrics\u001b[0m \u001b[1;32mimport\u001b[0m \u001b[0mroc_auc_score\u001b[0m\u001b[1;33m,\u001b[0m \u001b[0mrecall_score\u001b[0m\u001b[1;33m,\u001b[0m \u001b[0mf1_score\u001b[0m\u001b[1;33m,\u001b[0m \u001b[0mprecision_score\u001b[0m\u001b[1;33m,\u001b[0m \u001b[0mconfusion_matrix\u001b[0m\u001b[1;33m,\u001b[0m \u001b[0mplot_confusion_matrix\u001b[0m\u001b[1;33m\u001b[0m\u001b[1;33m\u001b[0m\u001b[0m\n\u001b[0;32m     14\u001b[0m \u001b[1;32mfrom\u001b[0m \u001b[0msklearn\u001b[0m\u001b[1;33m.\u001b[0m\u001b[0mdecomposition\u001b[0m \u001b[1;32mimport\u001b[0m \u001b[0mPCA\u001b[0m\u001b[1;33m\u001b[0m\u001b[1;33m\u001b[0m\u001b[0m\n\u001b[1;32m---> 15\u001b[1;33m \u001b[1;32mfrom\u001b[0m \u001b[0mimblearn\u001b[0m\u001b[1;33m.\u001b[0m\u001b[0mpipeline\u001b[0m \u001b[1;32mimport\u001b[0m \u001b[0mPipeline\u001b[0m \u001b[1;32mas\u001b[0m \u001b[0mPipeline_imb\u001b[0m\u001b[1;33m\u001b[0m\u001b[1;33m\u001b[0m\u001b[0m\n\u001b[0m\u001b[0;32m     16\u001b[0m \u001b[1;33m\u001b[0m\u001b[0m\n\u001b[0;32m     17\u001b[0m \u001b[1;32mfrom\u001b[0m \u001b[0mimblearn\u001b[0m\u001b[1;33m.\u001b[0m\u001b[0mcombine\u001b[0m \u001b[1;32mimport\u001b[0m \u001b[0mSMOTETomek\u001b[0m\u001b[1;33m\u001b[0m\u001b[1;33m\u001b[0m\u001b[0m\n",
      "\u001b[1;32m~\\anaconda3\\lib\\site-packages\\imblearn\\__init__.py\u001b[0m in \u001b[0;36m<module>\u001b[1;34m\u001b[0m\n\u001b[0;32m     35\u001b[0m \u001b[1;32mfrom\u001b[0m \u001b[1;33m.\u001b[0m \u001b[1;32mimport\u001b[0m \u001b[0mensemble\u001b[0m\u001b[1;33m\u001b[0m\u001b[1;33m\u001b[0m\u001b[0m\n\u001b[0;32m     36\u001b[0m \u001b[1;32mfrom\u001b[0m \u001b[1;33m.\u001b[0m \u001b[1;32mimport\u001b[0m \u001b[0mexceptions\u001b[0m\u001b[1;33m\u001b[0m\u001b[1;33m\u001b[0m\u001b[0m\n\u001b[1;32m---> 37\u001b[1;33m \u001b[1;32mfrom\u001b[0m \u001b[1;33m.\u001b[0m \u001b[1;32mimport\u001b[0m \u001b[0mkeras\u001b[0m\u001b[1;33m\u001b[0m\u001b[1;33m\u001b[0m\u001b[0m\n\u001b[0m\u001b[0;32m     38\u001b[0m \u001b[1;32mfrom\u001b[0m \u001b[1;33m.\u001b[0m \u001b[1;32mimport\u001b[0m \u001b[0mmetrics\u001b[0m\u001b[1;33m\u001b[0m\u001b[1;33m\u001b[0m\u001b[0m\n\u001b[0;32m     39\u001b[0m \u001b[1;32mfrom\u001b[0m \u001b[1;33m.\u001b[0m \u001b[1;32mimport\u001b[0m \u001b[0mover_sampling\u001b[0m\u001b[1;33m\u001b[0m\u001b[1;33m\u001b[0m\u001b[0m\n",
      "\u001b[1;32m~\\anaconda3\\lib\\site-packages\\imblearn\\keras\\__init__.py\u001b[0m in \u001b[0;36m<module>\u001b[1;34m\u001b[0m\n\u001b[0;32m      2\u001b[0m in keras.\"\"\"\n\u001b[0;32m      3\u001b[0m \u001b[1;33m\u001b[0m\u001b[0m\n\u001b[1;32m----> 4\u001b[1;33m \u001b[1;32mfrom\u001b[0m \u001b[1;33m.\u001b[0m\u001b[0m_generator\u001b[0m \u001b[1;32mimport\u001b[0m \u001b[0mBalancedBatchGenerator\u001b[0m\u001b[1;33m\u001b[0m\u001b[1;33m\u001b[0m\u001b[0m\n\u001b[0m\u001b[0;32m      5\u001b[0m \u001b[1;32mfrom\u001b[0m \u001b[1;33m.\u001b[0m\u001b[0m_generator\u001b[0m \u001b[1;32mimport\u001b[0m \u001b[0mbalanced_batch_generator\u001b[0m\u001b[1;33m\u001b[0m\u001b[1;33m\u001b[0m\u001b[0m\n\u001b[0;32m      6\u001b[0m \u001b[1;33m\u001b[0m\u001b[0m\n",
      "\u001b[1;32m~\\anaconda3\\lib\\site-packages\\imblearn\\keras\\_generator.py\u001b[0m in \u001b[0;36m<module>\u001b[1;34m\u001b[0m\n\u001b[0;32m     40\u001b[0m \u001b[1;33m\u001b[0m\u001b[0m\n\u001b[0;32m     41\u001b[0m \u001b[1;33m\u001b[0m\u001b[0m\n\u001b[1;32m---> 42\u001b[1;33m \u001b[0mParentClass\u001b[0m\u001b[1;33m,\u001b[0m \u001b[0mHAS_KERAS\u001b[0m \u001b[1;33m=\u001b[0m \u001b[0mimport_keras\u001b[0m\u001b[1;33m(\u001b[0m\u001b[1;33m)\u001b[0m\u001b[1;33m\u001b[0m\u001b[1;33m\u001b[0m\u001b[0m\n\u001b[0m\u001b[0;32m     43\u001b[0m \u001b[1;33m\u001b[0m\u001b[0m\n\u001b[0;32m     44\u001b[0m \u001b[1;32mfrom\u001b[0m \u001b[0mscipy\u001b[0m\u001b[1;33m.\u001b[0m\u001b[0msparse\u001b[0m \u001b[1;32mimport\u001b[0m \u001b[0missparse\u001b[0m\u001b[1;33m\u001b[0m\u001b[1;33m\u001b[0m\u001b[0m\n",
      "\u001b[1;32m~\\anaconda3\\lib\\site-packages\\imblearn\\keras\\_generator.py\u001b[0m in \u001b[0;36mimport_keras\u001b[1;34m()\u001b[0m\n\u001b[0;32m     30\u001b[0m             \u001b[1;32mreturn\u001b[0m \u001b[0mtuple\u001b[0m\u001b[1;33m(\u001b[0m\u001b[1;33m)\u001b[0m\u001b[1;33m,\u001b[0m \u001b[1;32mFalse\u001b[0m\u001b[1;33m\u001b[0m\u001b[1;33m\u001b[0m\u001b[0m\n\u001b[0;32m     31\u001b[0m \u001b[1;33m\u001b[0m\u001b[0m\n\u001b[1;32m---> 32\u001b[1;33m     \u001b[0mParentClassKeras\u001b[0m\u001b[1;33m,\u001b[0m \u001b[0mhas_keras_k\u001b[0m \u001b[1;33m=\u001b[0m \u001b[0mimport_from_keras\u001b[0m\u001b[1;33m(\u001b[0m\u001b[1;33m)\u001b[0m\u001b[1;33m\u001b[0m\u001b[1;33m\u001b[0m\u001b[0m\n\u001b[0m\u001b[0;32m     33\u001b[0m     \u001b[0mParentClassTensorflow\u001b[0m\u001b[1;33m,\u001b[0m \u001b[0mhas_keras_tf\u001b[0m \u001b[1;33m=\u001b[0m \u001b[0mimport_from_tensforflow\u001b[0m\u001b[1;33m(\u001b[0m\u001b[1;33m)\u001b[0m\u001b[1;33m\u001b[0m\u001b[1;33m\u001b[0m\u001b[0m\n\u001b[0;32m     34\u001b[0m     \u001b[0mhas_keras\u001b[0m \u001b[1;33m=\u001b[0m \u001b[0mhas_keras_k\u001b[0m \u001b[1;32mor\u001b[0m \u001b[0mhas_keras_tf\u001b[0m\u001b[1;33m\u001b[0m\u001b[1;33m\u001b[0m\u001b[0m\n",
      "\u001b[1;32m~\\anaconda3\\lib\\site-packages\\imblearn\\keras\\_generator.py\u001b[0m in \u001b[0;36mimport_from_keras\u001b[1;34m()\u001b[0m\n\u001b[0;32m     18\u001b[0m             \u001b[1;32mimport\u001b[0m \u001b[0mkeras\u001b[0m\u001b[1;33m\u001b[0m\u001b[1;33m\u001b[0m\u001b[0m\n\u001b[0;32m     19\u001b[0m \u001b[1;33m\u001b[0m\u001b[0m\n\u001b[1;32m---> 20\u001b[1;33m             \u001b[1;32mreturn\u001b[0m \u001b[1;33m(\u001b[0m\u001b[0mkeras\u001b[0m\u001b[1;33m.\u001b[0m\u001b[0mutils\u001b[0m\u001b[1;33m.\u001b[0m\u001b[0mSequence\u001b[0m\u001b[1;33m,\u001b[0m\u001b[1;33m)\u001b[0m\u001b[1;33m,\u001b[0m \u001b[1;32mTrue\u001b[0m\u001b[1;33m\u001b[0m\u001b[1;33m\u001b[0m\u001b[0m\n\u001b[0m\u001b[0;32m     21\u001b[0m         \u001b[1;32mexcept\u001b[0m \u001b[0mImportError\u001b[0m\u001b[1;33m:\u001b[0m\u001b[1;33m\u001b[0m\u001b[1;33m\u001b[0m\u001b[0m\n\u001b[0;32m     22\u001b[0m             \u001b[1;32mreturn\u001b[0m \u001b[0mtuple\u001b[0m\u001b[1;33m(\u001b[0m\u001b[1;33m)\u001b[0m\u001b[1;33m,\u001b[0m \u001b[1;32mFalse\u001b[0m\u001b[1;33m\u001b[0m\u001b[1;33m\u001b[0m\u001b[0m\n",
      "\u001b[1;31mAttributeError\u001b[0m: module 'keras.utils' has no attribute 'Sequence'"
     ]
    }
   ],
   "source": [
    "# Necessary imports\n",
    "import pandas as pd\n",
    "import numpy as np\n",
    "import seaborn as sns\n",
    "import matplotlib.pyplot as plt\n",
    "\n",
    "from sklearn.model_selection import train_test_split, GridSearchCV\n",
    "from sklearn.preprocessing import StandardScaler, PolynomialFeatures\n",
    "from sklearn.linear_model import LogisticRegression\n",
    "from sklearn.pipeline import Pipeline\n",
    "from sklearn.ensemble import GradientBoostingClassifier, RandomForestClassifier\n",
    "from xgboost import XGBClassifier\n",
    "from sklearn.metrics import roc_auc_score, recall_score, f1_score, precision_score, confusion_matrix, plot_confusion_matrix\n",
    "from sklearn.decomposition import PCA\n",
    "from imblearn.pipeline import Pipeline as Pipeline_imb\n",
    "\n",
    "from imblearn.combine import SMOTETomek\n",
    "from imblearn.over_sampling import SMOTE"
   ]
  },
  {
   "cell_type": "code",
   "execution_count": null,
   "id": "30904c5d",
   "metadata": {
    "ExecuteTime": {
     "end_time": "2022-02-04T09:21:53.397503Z",
     "start_time": "2022-02-04T09:21:53.121956Z"
    }
   },
   "outputs": [],
   "source": [
    "# test = pd.read_csv('../datasets/test.csv', parse_dates=['Date'],index_col=['Id'])\n",
    "train = pd.read_csv(\"../datasets/final_train.csv\")\n",
    "test = pd.read_csv(\"../datasets/final_test.csv\", index_col='id')"
   ]
  },
  {
   "cell_type": "code",
   "execution_count": null,
   "id": "d3ce8d77",
   "metadata": {
    "ExecuteTime": {
     "end_time": "2022-02-04T09:22:29.662742Z",
     "start_time": "2022-02-04T09:22:29.651648Z"
    }
   },
   "outputs": [],
   "source": [
    "# this function is the heart of this notebook. it will be used to run all models,\n",
    "# except the ones that use both PCA and SMOTE\n",
    "\n",
    "def run_model(clsf, params, kind='reg'):\n",
    "    \"\"\" Input classifier, parameters, and \n",
    "    kind ('reg' (default), 'pca', 'smote',or 'smotetomek') \"\"\"\n",
    "\n",
    "# 'reg' stand for just a normal model, pipe with only a scaler and a classifier\n",
    "    if kind == 'reg':\n",
    "        pipe = Pipeline([\n",
    "            ('sc', StandardScaler()),\n",
    "            ('clsf', clsf)\n",
    "        ])\n",
    "\n",
    "# models with SMOTE\n",
    "    if kind == 'smote':\n",
    "        pipe = Pipeline_imb([\n",
    "            ('sc', StandardScaler()),\n",
    "            ('smpl', SMOTE(sampling_strategy='auto', random_state=42)),\n",
    "            ('clsf', clsf)\n",
    "        ])\n",
    "\n",
    "# pipe models with SMOTETOMEK\n",
    "    if kind == 'smotetomek':\n",
    "        pipe = Pipeline_imb([\n",
    "            ('sc', StandardScaler()),\n",
    "            ('smpl', SMOTETomek(random_state=42)),\n",
    "            ('clsf', clsf)\n",
    "        ])\n",
    "\n",
    "# pipe for models with PCA\n",
    "    if kind == 'pca':\n",
    "        pipe = Pipeline([\n",
    "            ('sc', StandardScaler()),\n",
    "            ('pca', PCA(n_components=50, random_state=42)),\n",
    "            ('clsf', clsf)\n",
    "        ])\n",
    "\n",
    "# initiate a gridsearch\n",
    "    grid = GridSearchCV(\n",
    "        pipe,\n",
    "        param_grid=params,\n",
    "        scoring='roc_auc',\n",
    "        cv=4,\n",
    "        n_jobs=-1,\n",
    "        verbose=2)\n",
    "\n",
    "# only PCA gets fitted with polynomial order 2 data, the rest with regular\n",
    "    if kind in ['reg', 'smote', 'smotetomek']:\n",
    "        grid.fit(X_train, y_train)\n",
    "        pred = grid.predict(X_test)\n",
    "        pred_prob = grid.predict_proba(X_test)[:, 1]\n",
    "\n",
    "    elif kind == 'pca':\n",
    "        grid.fit(Xp_train, y_train)\n",
    "        pred = grid.predict(Xp_test)\n",
    "        pred_prob = grid.predict_proba(Xp_test)[:, 1]\n",
    "\n",
    "    else:\n",
    "        print(\"Try again\")\n",
    "        return\n",
    "\n",
    "# initiate a dictionary called table to store all models scores and parameters\n",
    "    table = {'Model': clsf}\n",
    "    table['Type'] = kind\n",
    "\n",
    "    table['ROC-AUC'] = roc_auc_score(y_test, pred_prob)\n",
    "    table['Precision'] = precision_score(y_test, pred)\n",
    "    table['Recall'] = recall_score(y_test, pred)\n",
    "    table['F1'] = f1_score(y_test, pred)\n",
    "\n",
    "    for key, value in grid.best_params_.items():\n",
    "        table[key] = value\n",
    "\n",
    "\n",
    "# quick printout of parameters and confustion matrix, to aid in additinal parameterization\n",
    "    print('\\n')\n",
    "    print('='*30)\n",
    "    print(f\"\\033[1m {clsf} \\033[0m\".center(38, \"=\"))\n",
    "    print('='*30)\n",
    "    print('')\n",
    "    print(\" Best Parameters:\")\n",
    "    print('-'*30, '\\n')\n",
    "    for key, value in grid.best_params_.items():\n",
    "        print(key, ':', value)\n",
    "\n",
    "    print(confusion_matrix(y_test, pred))\n",
    "    scoring_table.append(table)\n",
    "    return grid"
   ]
  },
  {
   "cell_type": "markdown",
   "id": "a8864349",
   "metadata": {},
   "source": [
    "- Kaggle train set has over 100k rows of data, and is therefore vastly superior to our train/test sets we will obtain after train-test-split. Kaggle however, gives us only ROC-AUC score\n",
    "- we will therefore use the Kaggle submission to give us the superior ROC-AUC score. Other scores, unavailable from Kaggle, will be from our test set we split off from training data\n",
    "- as we will be submitting every model to Kaggle to get scores, we will create submit_kaggle function in the cell below"
   ]
  },
  {
   "cell_type": "code",
   "execution_count": null,
   "id": "4157f497",
   "metadata": {
    "ExecuteTime": {
     "end_time": "2022-02-04T09:23:03.924650Z",
     "start_time": "2022-02-04T09:23:03.919509Z"
    }
   },
   "outputs": [],
   "source": [
    "# function to submit a model to kaggle for scoring\n",
    "def submit_kaggle(name, gs):\n",
    "    \"\"\" the function takes filename and gridsearch (best estimator),\n",
    "    and creates a csv file ready for kaggle's WestNile competition\n",
    "    \"\"\"\n",
    "\n",
    "    submit = pd.DataFrame()\n",
    "    submit['Id'] = test.index\n",
    "    submit.set_index('Id', drop=True, inplace=True)\n",
    "    submit['WnvPresent'] = gs.predict_proba(test)[:, 1]\n",
    "    submit.to_csv(f'../datasets/{name}2.csv')"
   ]
  },
  {
   "cell_type": "code",
   "execution_count": null,
   "id": "c062f078",
   "metadata": {
    "ExecuteTime": {
     "end_time": "2022-02-04T09:23:21.197695Z",
     "start_time": "2022-02-04T09:23:21.176809Z"
    },
    "scrolled": true
   },
   "outputs": [],
   "source": [
    "train.info()"
   ]
  },
  {
   "cell_type": "code",
   "execution_count": null,
   "id": "99d7e550",
   "metadata": {
    "ExecuteTime": {
     "end_time": "2022-02-04T09:23:25.525922Z",
     "start_time": "2022-02-04T09:23:25.462959Z"
    },
    "scrolled": true
   },
   "outputs": [],
   "source": [
    "train.describe()"
   ]
  },
  {
   "cell_type": "code",
   "execution_count": null,
   "id": "b1caa422",
   "metadata": {
    "ExecuteTime": {
     "end_time": "2022-02-04T09:23:29.770924Z",
     "start_time": "2022-02-04T09:23:29.750676Z"
    },
    "scrolled": false
   },
   "outputs": [],
   "source": [
    "test.head()"
   ]
  },
  {
   "cell_type": "code",
   "execution_count": null,
   "id": "166596ef",
   "metadata": {
    "ExecuteTime": {
     "end_time": "2022-02-04T09:28:42.541751Z",
     "start_time": "2022-02-04T09:28:42.509107Z"
    }
   },
   "outputs": [],
   "source": [
    "# dropping columns: columns date, species, latlong and year are not part of features. column nummosquitos is not part of\n",
    "# the test set, so it can't be used in training. columns wnvpresent is our dependendent variable. finally, column\n",
    "# stnpressure will be removed due to its colinearity with sealevel, as uncovered during EDA\n",
    "X = train.drop(['wnvpresent', 'date', 'species',\n",
    "               'nummosquitos', 'year', 'stnpressure'], axis=1)\n",
    "y = train['wnvpresent']\n",
    "\n",
    "X_train, X_test, y_train, y_test = train_test_split(\n",
    "    X, y, stratify=y, random_state=42)"
   ]
  },
  {
   "cell_type": "code",
   "execution_count": null,
   "id": "ce122cf2",
   "metadata": {
    "ExecuteTime": {
     "end_time": "2022-02-04T09:29:12.027258Z",
     "start_time": "2022-02-04T09:29:12.012029Z"
    }
   },
   "outputs": [],
   "source": [
    "# create scoring_table. it will hold all our model data.\n",
    "scoring_table=[]"
   ]
  },
  {
   "cell_type": "code",
   "execution_count": null,
   "id": "b2fc8565",
   "metadata": {
    "ExecuteTime": {
     "end_time": "2022-02-04T09:29:12.616936Z",
     "start_time": "2022-02-04T09:29:12.607742Z"
    }
   },
   "outputs": [],
   "source": [
    "test.shape"
   ]
  },
  {
   "cell_type": "code",
   "execution_count": null,
   "id": "7b535f61",
   "metadata": {
    "ExecuteTime": {
     "end_time": "2022-02-04T09:29:14.959282Z",
     "start_time": "2022-02-04T09:29:14.948247Z"
    }
   },
   "outputs": [],
   "source": [
    "set(test.columns)-set(X_test.columns)"
   ]
  },
  {
   "cell_type": "code",
   "execution_count": null,
   "id": "cd750bb8",
   "metadata": {
    "ExecuteTime": {
     "end_time": "2022-02-04T09:30:45.787605Z",
     "start_time": "2022-02-04T09:30:45.569875Z"
    }
   },
   "outputs": [],
   "source": [
    "test.drop(columns=['date', 'species', 'year', 'stnpressure'], inplace=True)"
   ]
  },
  {
   "cell_type": "markdown",
   "id": "f1ea2889",
   "metadata": {},
   "source": [
    "after splitting the data, we plan to run about a dozen different models using the run_model function above\n",
    "\n",
    "section for each model will consist of the following:\n",
    "- initiate the model and it's parameters, include scaler and possible smote, pca \n",
    "- a brief output showing the essential model info regarding parameters and confustion matrix for possible further tuning\n",
    "- kaggle submission via submit_kaggle function\n",
    "- screenshot of the kaggle score\n",
    "- the entire score and other relevant info gets appended to a list. after we run all the models, the list will show us all the stats based on which we will decide what our production model will be."
   ]
  },
  {
   "cell_type": "markdown",
   "id": "140202c9",
   "metadata": {},
   "source": [
    "<a id = '2.0'><a/>\n",
    "### 2.0 Models\n",
    "* [Back To Top](#Content) "
   ]
  },
  {
   "cell_type": "markdown",
   "id": "d5e26684",
   "metadata": {},
   "source": [
    "- we plan to run about a dozen different models with different classifiers, SMOTE and PCA\n",
    "- for the sake of simplicity and readability of this notebook, we will hold off on commenting on individual models and their performance until all the models are run"
   ]
  },
  {
   "cell_type": "markdown",
   "id": "a82de9a2",
   "metadata": {},
   "source": [
    "<a id = '2.1'><a/>\n",
    "### 2.1 Random Forest regular\n",
    "* [Back To Top](#Content) "
   ]
  },
  {
   "cell_type": "code",
   "execution_count": null,
   "id": "d38d3395",
   "metadata": {
    "ExecuteTime": {
     "end_time": "2022-02-04T09:31:36.088148Z",
     "start_time": "2022-02-04T09:31:36.082121Z"
    }
   },
   "outputs": [],
   "source": [
    "rf = RandomForestClassifier(random_state=42, n_jobs=4)\n",
    "\n",
    "params_rf = {\n",
    "    'clsf__n_estimators': [200, 300],\n",
    "    'clsf__max_depth': [7, 10],\n",
    "    'clsf__ccp_alpha': [0, 0.01]\n",
    "}"
   ]
  },
  {
   "cell_type": "code",
   "execution_count": null,
   "id": "17485a9c",
   "metadata": {
    "ExecuteTime": {
     "end_time": "2022-02-04T09:31:47.100661Z",
     "start_time": "2022-02-04T09:31:39.074254Z"
    },
    "scrolled": true
   },
   "outputs": [],
   "source": [
    "gs = run_model(rf, params_rf)"
   ]
  },
  {
   "cell_type": "code",
   "execution_count": null,
   "id": "10d61b64",
   "metadata": {
    "ExecuteTime": {
     "end_time": "2022-02-04T09:31:59.111408Z",
     "start_time": "2022-02-04T09:31:58.932107Z"
    }
   },
   "outputs": [],
   "source": [
    "plot_confusion_matrix(gs, X_test, y_test)"
   ]
  },
  {
   "cell_type": "code",
   "execution_count": null,
   "id": "3ae8c0d1",
   "metadata": {
    "ExecuteTime": {
     "end_time": "2022-02-04T09:32:08.106746Z",
     "start_time": "2022-02-04T09:32:08.090050Z"
    },
    "scrolled": false
   },
   "outputs": [],
   "source": [
    "# make sure the scoring table works\n",
    "scoring_table"
   ]
  },
  {
   "cell_type": "code",
   "execution_count": null,
   "id": "e75bbaac",
   "metadata": {
    "ExecuteTime": {
     "end_time": "2022-02-04T09:32:31.780617Z",
     "start_time": "2022-02-04T09:32:31.062529Z"
    }
   },
   "outputs": [],
   "source": [
    "#submit to kaggle\n",
    "#submit_kaggle('submit_rf', gs)"
   ]
  },
  {
   "cell_type": "markdown",
   "id": "7b779474",
   "metadata": {},
   "source": [
    "###  RandomForest Kaggle\n",
    "\n",
    "<img  src=\"../images/submit_rf2.png\">"
   ]
  },
  {
   "cell_type": "markdown",
   "id": "c6bae039",
   "metadata": {},
   "source": [
    "<a id = '2.2'><a/>\n",
    "### 2.2 Gradient Boost regular\n",
    "* [Back To Top](#Content) "
   ]
  },
  {
   "cell_type": "code",
   "execution_count": null,
   "id": "a68fc8c2",
   "metadata": {
    "ExecuteTime": {
     "end_time": "2022-02-04T09:32:37.400898Z",
     "start_time": "2022-02-04T09:32:37.385760Z"
    }
   },
   "outputs": [],
   "source": [
    "# Gradient Boost\n",
    "gb = GradientBoostingClassifier(random_state=42)\n",
    "\n",
    "params_gb = {\n",
    "    'clsf__learning_rate': [ 0.01, 0.1],\n",
    "    'clsf__max_depth': [7, 10],\n",
    "    'clsf__ccp_alpha':[0, 0.1],\n",
    "    'clsf__n_estimators':[200, 350]\n",
    "}"
   ]
  },
  {
   "cell_type": "code",
   "execution_count": null,
   "id": "b7664dba",
   "metadata": {
    "ExecuteTime": {
     "end_time": "2022-02-04T09:33:51.265543Z",
     "start_time": "2022-02-04T09:32:41.095328Z"
    }
   },
   "outputs": [],
   "source": [
    "gs_gb=run_model(gb, params_gb)"
   ]
  },
  {
   "cell_type": "code",
   "execution_count": null,
   "id": "72745231",
   "metadata": {
    "ExecuteTime": {
     "end_time": "2022-02-04T09:35:05.113341Z",
     "start_time": "2022-02-04T09:35:04.987226Z"
    }
   },
   "outputs": [],
   "source": [
    "plot_confusion_matrix(gs_gb, X_test, y_test)"
   ]
  },
  {
   "cell_type": "code",
   "execution_count": null,
   "id": "332cf25c",
   "metadata": {
    "ExecuteTime": {
     "end_time": "2022-02-04T09:35:10.336089Z",
     "start_time": "2022-02-04T09:35:10.315569Z"
    }
   },
   "outputs": [],
   "source": [
    "pd.DataFrame(scoring_table).sort_values(by='ROC-AUC', ascending=False)"
   ]
  },
  {
   "cell_type": "markdown",
   "id": "eed12e3c",
   "metadata": {
    "ExecuteTime": {
     "end_time": "2022-02-02T03:24:17.219005Z",
     "start_time": "2022-02-02T03:24:17.214903Z"
    },
    "scrolled": true
   },
   "source": [
    "recall is quite low. smote will be needed."
   ]
  },
  {
   "cell_type": "code",
   "execution_count": null,
   "id": "e9e92c89",
   "metadata": {
    "ExecuteTime": {
     "end_time": "2022-02-04T09:35:45.603980Z",
     "start_time": "2022-02-04T09:35:45.050488Z"
    }
   },
   "outputs": [],
   "source": [
    "#submit_kaggle('submit_gb', gs_gb)"
   ]
  },
  {
   "cell_type": "markdown",
   "id": "bac703d1",
   "metadata": {},
   "source": [
    "###  GradientBoost Kaggle\n",
    "\n",
    "<img  src=\"../images/submit_gb.png\">"
   ]
  },
  {
   "cell_type": "markdown",
   "id": "e3ea166e",
   "metadata": {
    "ExecuteTime": {
     "end_time": "2022-01-28T06:38:35.750179Z",
     "start_time": "2022-01-28T06:38:35.662116Z"
    }
   },
   "source": [
    "<a id = '2.3'><a/>\n",
    "### 2.3 PCA model setup\n",
    "* [Back To Top](#Content) "
   ]
  },
  {
   "cell_type": "markdown",
   "id": "9fdf92c2",
   "metadata": {},
   "source": [
    "Runninng PCA models will be slighlty different:\n",
    "\n",
    "-  first we will see if any interaction terms look interesting in term of predictive power to be used in our other models\n",
    "- secondly, we will run 'explained variance' method to see how many PCA compenents are needed to explain 98%+ of the total variance\n",
    "- finally, we will use n_components number we get in step two to run several PCA models using our run_model function"
   ]
  },
  {
   "cell_type": "code",
   "execution_count": null,
   "id": "f98361f3",
   "metadata": {
    "ExecuteTime": {
     "end_time": "2022-02-04T09:43:33.565418Z",
     "start_time": "2022-02-04T09:43:33.031140Z"
    }
   },
   "outputs": [],
   "source": [
    "# Poly by power of 2.  \n",
    "pf = PolynomialFeatures(degree=2, include_bias=True, interaction_only=True )  \n",
    "# Fit and transform our X data using Polynomial Features.  \n",
    "X_poly = pf.fit_transform(X)\n",
    "\n",
    "#transform the real (Kaggle) test set\n",
    "test_poly = pf.transform(test)\n",
    "                         \n",
    "#Train/test split our data.\n",
    "Xp_train, Xp_test, y_train, y_test = train_test_split(X_poly,\n",
    "                                                            y,\n",
    "                                                            stratify=y,\n",
    "                                                            random_state=42)      \n",
    "\n",
    "# Instantiate our StandardScaler.\n",
    "sc = StandardScaler()\n",
    "# Scale X_train.\n",
    "Xp_trainsc = sc.fit_transform(Xp_train)\n",
    "# Scale X_test.\n",
    "Xp_testsc = sc.transform(Xp_test)\n",
    "# Scale the real Kaggle test set\n",
    "testsc = sc.transform(test_poly)"
   ]
  },
  {
   "cell_type": "code",
   "execution_count": null,
   "id": "6da96371",
   "metadata": {
    "ExecuteTime": {
     "end_time": "2022-02-04T09:43:37.225889Z",
     "start_time": "2022-02-04T09:43:37.205736Z"
    }
   },
   "outputs": [],
   "source": [
    "pf.get_feature_names(X.columns)"
   ]
  },
  {
   "cell_type": "code",
   "execution_count": null,
   "id": "a9adc707",
   "metadata": {
    "ExecuteTime": {
     "end_time": "2022-02-04T09:43:50.976364Z",
     "start_time": "2022-02-04T09:43:50.955665Z"
    }
   },
   "outputs": [],
   "source": [
    "# creat a new df with polynomial columns, interaction only\n",
    "new = pd.DataFrame(Xp_trainsc, columns = pf.get_feature_names(X.columns))"
   ]
  },
  {
   "cell_type": "code",
   "execution_count": null,
   "id": "9385ca22",
   "metadata": {
    "ExecuteTime": {
     "end_time": "2022-02-04T09:43:54.016271Z",
     "start_time": "2022-02-04T09:43:53.998442Z"
    }
   },
   "outputs": [],
   "source": [
    "new.head()"
   ]
  },
  {
   "cell_type": "code",
   "execution_count": null,
   "id": "46012ec9",
   "metadata": {
    "ExecuteTime": {
     "end_time": "2022-02-04T09:44:01.639375Z",
     "start_time": "2022-02-04T09:44:01.238237Z"
    }
   },
   "outputs": [],
   "source": [
    "# top polynomial columns with negative correlation to west nile\n",
    "new.corrwith(y_train).dropna().sort_values()[:10]"
   ]
  },
  {
   "cell_type": "code",
   "execution_count": null,
   "id": "02bf7443",
   "metadata": {
    "ExecuteTime": {
     "end_time": "2022-02-04T09:44:08.753596Z",
     "start_time": "2022-02-04T09:44:08.380221Z"
    }
   },
   "outputs": [],
   "source": [
    "# top polynomial columns with positive correlation to west nile\n",
    "new.corrwith(y_train).dropna().sort_values(ascending=False)[:10]"
   ]
  },
  {
   "cell_type": "markdown",
   "id": "443ace55",
   "metadata": {},
   "source": [
    "- none of the interaction columns look like they ought to be included in our other models. top interaction columns with negative correlation to y are all multiples of resultspeed, which itself has high negative correlation with y. similarly, top interaction features with positive correlation with y are multiples of dumweek_35, which itself has similarly high positive correlation with y\n",
    "- next, set up pca to find out how many pca components are needed to reach 98%+ explained variance ratio. use that n_components to input into our run_models"
   ]
  },
  {
   "cell_type": "code",
   "execution_count": null,
   "id": "9ab62661",
   "metadata": {
    "ExecuteTime": {
     "end_time": "2022-02-04T09:47:05.272688Z",
     "start_time": "2022-02-04T09:47:04.681037Z"
    }
   },
   "outputs": [],
   "source": [
    "# Instantiate PCA.\n",
    "pca = PCA(random_state=42)\n",
    "\n",
    "# Fit and transform PCA for train, transform for test\n",
    "Z_train = pca.fit_transform(Xp_trainsc)\n",
    "\n",
    "Z_test = pca.transform(Xp_testsc)\n",
    "Z_kaggle_test = pca.transform(testsc)\n"
   ]
  },
  {
   "cell_type": "code",
   "execution_count": null,
   "id": "6c5e9035",
   "metadata": {
    "ExecuteTime": {
     "end_time": "2022-02-04T09:47:08.163516Z",
     "start_time": "2022-02-04T09:47:08.147233Z"
    }
   },
   "outputs": [],
   "source": [
    "expl_var = np.cumsum(pca.explained_variance_ratio_)[:90]"
   ]
  },
  {
   "cell_type": "code",
   "execution_count": null,
   "id": "2ea3c46a",
   "metadata": {
    "ExecuteTime": {
     "end_time": "2022-02-04T09:47:10.847389Z",
     "start_time": "2022-02-04T09:47:10.766898Z"
    }
   },
   "outputs": [],
   "source": [
    "plt.figure(figsize=(10,7))\n",
    "plt.plot(range(len(expl_var)), expl_var)\n",
    "plt.show()"
   ]
  },
  {
   "cell_type": "code",
   "execution_count": null,
   "id": "858b4aa0",
   "metadata": {
    "ExecuteTime": {
     "end_time": "2022-02-04T09:47:13.969759Z",
     "start_time": "2022-02-04T09:47:13.961786Z"
    }
   },
   "outputs": [],
   "source": [
    "# 50 components give us around 99% of explained variance\n",
    "expl_var[50]"
   ]
  },
  {
   "cell_type": "markdown",
   "id": "4da9e838",
   "metadata": {},
   "source": [
    "- next we will run a few pipelines with PCA with our run_model function using n_components of 50."
   ]
  },
  {
   "cell_type": "markdown",
   "id": "5911a9b5",
   "metadata": {},
   "source": [
    "<a id = '2.4'><a/>\n",
    "### 2.4 Gradient Boost w/poly features+PCA\n",
    "* [Back To Top](#Content)"
   ]
  },
  {
   "cell_type": "code",
   "execution_count": null,
   "id": "fc729eab",
   "metadata": {
    "ExecuteTime": {
     "end_time": "2022-02-04T09:48:16.418127Z",
     "start_time": "2022-02-04T09:48:16.399976Z"
    }
   },
   "outputs": [],
   "source": [
    "params_gb"
   ]
  },
  {
   "cell_type": "code",
   "execution_count": null,
   "id": "8d8e7a2d",
   "metadata": {
    "ExecuteTime": {
     "end_time": "2022-02-04T10:03:24.499225Z",
     "start_time": "2022-02-04T09:48:23.218517Z"
    },
    "scrolled": true
   },
   "outputs": [],
   "source": [
    "gs_gb_pca=run_model(gb, params_gb, 'pca')"
   ]
  },
  {
   "cell_type": "code",
   "execution_count": null,
   "id": "c0744fcb",
   "metadata": {
    "ExecuteTime": {
     "end_time": "2022-02-04T10:03:41.296595Z",
     "start_time": "2022-02-04T10:03:39.884443Z"
    }
   },
   "outputs": [],
   "source": [
    "submit_gb_pca = pd.DataFrame()\n",
    "submit_gb_pca['Id'] = test.index\n",
    "submit_gb_pca.set_index('Id', drop=True,inplace=True)\n",
    "submit_gb_pca['WnvPresent'] =gs_gb_pca.predict_proba(test_poly)[:,1]\n",
    "submit_gb_pca.to_csv('../datasets/submit_gb_pca2.csv')"
   ]
  },
  {
   "cell_type": "markdown",
   "id": "afc4f38e",
   "metadata": {},
   "source": [
    "###  Gradient Boost w/poly featurer and PCA  Kaggle\n",
    "\n",
    "<img src=\"../images/submit_gbpca.png\" alt=\"not great\">"
   ]
  },
  {
   "cell_type": "markdown",
   "id": "92b2b65e",
   "metadata": {},
   "source": [
    "<a id = '2.5'><a/>\n",
    "### 2.5 Log Reg w/poly features+smote+PCA\n",
    "* [Back To Top](#Content)"
   ]
  },
  {
   "cell_type": "markdown",
   "id": "3951393c",
   "metadata": {},
   "source": [
    "- our run_models function does not handle PCA and SMOTE at the same time, so we'll do it below, 'manually'"
   ]
  },
  {
   "cell_type": "code",
   "execution_count": null,
   "id": "d0539a6c",
   "metadata": {
    "ExecuteTime": {
     "end_time": "2022-02-04T10:03:54.510867Z",
     "start_time": "2022-02-04T10:03:54.495869Z"
    }
   },
   "outputs": [],
   "source": [
    "lr = LogisticRegression(\n",
    "    solver='liblinear',\n",
    "    random_state=42,\n",
    ")\n",
    "\n",
    "params_lr = {\n",
    "    'clsf__penalty': ['l1'],\n",
    "    'clsf__C': [0.1, 1.5],\n",
    "    'clsf__max_iter': [200]\n",
    "}\n",
    "\n",
    "pipe_lrpca = Pipeline_imb([\n",
    "            ('pf', PolynomialFeatures(degree=2, include_bias=True, interaction_only=True )),\n",
    "            ('sc', StandardScaler()),\n",
    "            ('pca', PCA(n_components=50, random_state=42)),\n",
    "            ('smpl', SMOTE(sampling_strategy='auto', random_state=42)),\n",
    "            ('clsf', lr)\n",
    "        ])\n",
    "\n"
   ]
  },
  {
   "cell_type": "code",
   "execution_count": null,
   "id": "f24bf786",
   "metadata": {
    "ExecuteTime": {
     "end_time": "2022-02-04T10:04:08.099231Z",
     "start_time": "2022-02-04T10:04:08.088160Z"
    }
   },
   "outputs": [],
   "source": [
    "  grid_lrpca = GridSearchCV(\n",
    "        pipe_lrpca,\n",
    "        param_grid=params_lr,\n",
    "        scoring='roc_auc',\n",
    "        cv=4,\n",
    "        n_jobs=-1,\n",
    "        verbose=2)"
   ]
  },
  {
   "cell_type": "code",
   "execution_count": null,
   "id": "49264e35",
   "metadata": {
    "ExecuteTime": {
     "end_time": "2022-02-04T10:04:27.936654Z",
     "start_time": "2022-02-04T10:04:24.715589Z"
    }
   },
   "outputs": [],
   "source": [
    "grid_lrpca.fit(X_train, y_train)"
   ]
  },
  {
   "cell_type": "code",
   "execution_count": null,
   "id": "586d5efa",
   "metadata": {
    "ExecuteTime": {
     "end_time": "2022-02-04T10:04:49.766145Z",
     "start_time": "2022-02-04T10:04:49.633537Z"
    }
   },
   "outputs": [],
   "source": [
    "plot_confusion_matrix(grid_lrpca, X_test, y_test)"
   ]
  },
  {
   "cell_type": "code",
   "execution_count": null,
   "id": "8c4c22f9",
   "metadata": {
    "ExecuteTime": {
     "end_time": "2022-02-04T10:05:15.390561Z",
     "start_time": "2022-02-04T10:05:15.341326Z"
    }
   },
   "outputs": [],
   "source": [
    "# attach the results to our table list here, since we didn't use the run_models function\n",
    "pred = grid_lrpca.predict(X_test)\n",
    "pred_prob = grid_lrpca.predict_proba(X_test)[:, 1]\n",
    "\n",
    "table = {'Model': lr}\n",
    "table['Type'] = 'pcasmote'\n",
    "table['ROC-AUC'] = roc_auc_score(y_test, pred_prob)\n",
    "table['Precision'] = precision_score(y_test, pred)\n",
    "table['Recall'] = recall_score(y_test, pred)\n",
    "table['F1'] = f1_score(y_test, pred)\n",
    "\n",
    "for key, value in grid_lrpca.best_params_.items():\n",
    "        table[key] = value\n",
    "\n",
    "scoring_table.append(table)"
   ]
  },
  {
   "cell_type": "code",
   "execution_count": null,
   "id": "c5fe0642",
   "metadata": {
    "ExecuteTime": {
     "end_time": "2022-02-04T10:05:17.303239Z",
     "start_time": "2022-02-04T10:05:16.421060Z"
    }
   },
   "outputs": [],
   "source": [
    "#submit_kaggle('submit_lrpca', grid_lrpca)"
   ]
  },
  {
   "cell_type": "markdown",
   "id": "10d6ac10",
   "metadata": {},
   "source": [
    "###  LogReg w/smote and PCA Kaggle\n",
    "\n",
    "<img src=\"../images/submit_lrpcasmote.png\" alt=\"not great\">"
   ]
  },
  {
   "cell_type": "markdown",
   "id": "727dc361",
   "metadata": {},
   "source": [
    "<a id = '2.6'><a/>\n",
    "### 2.6 Random Forest w/smotetomek+PCA\n",
    "* [Back To Top](#Content)"
   ]
  },
  {
   "cell_type": "code",
   "execution_count": null,
   "id": "f54e9f46",
   "metadata": {
    "ExecuteTime": {
     "end_time": "2022-02-04T10:06:57.995980Z",
     "start_time": "2022-02-04T10:06:57.987999Z"
    }
   },
   "outputs": [],
   "source": [
    "rf = RandomForestClassifier(\n",
    "    random_state=42,\n",
    ")\n",
    "\n",
    "params_rfpca = {\n",
    "    'clsf__n_estimators': [ 200,300],\n",
    "    'clsf__max_depth': [ 7,10],\n",
    "    'clsf__min_samples_leaf':[4,10]\n",
    "}\n",
    "\n",
    "\n",
    "pipe_rfpca = Pipeline_imb([\n",
    "            ('pf', PolynomialFeatures(degree=2, include_bias=True, interaction_only=True )),\n",
    "            ('sc', StandardScaler()),\n",
    "            ('pca', PCA(n_components=50, random_state=42)),\n",
    "            ('smpl', SMOTETomek(random_state=42)),\n",
    "            ('clsf', rf)\n",
    "        ])"
   ]
  },
  {
   "cell_type": "code",
   "execution_count": null,
   "id": "6beed037",
   "metadata": {
    "ExecuteTime": {
     "end_time": "2022-02-04T10:06:58.898779Z",
     "start_time": "2022-02-04T10:06:58.889624Z"
    }
   },
   "outputs": [],
   "source": [
    "grid_rfpca = GridSearchCV(\n",
    "        pipe_rfpca,\n",
    "        param_grid=params_rfpca,\n",
    "        scoring='roc_auc',\n",
    "        cv=4,\n",
    "        n_jobs=-1,\n",
    "        verbose=2)"
   ]
  },
  {
   "cell_type": "code",
   "execution_count": null,
   "id": "9a85ae2b",
   "metadata": {
    "ExecuteTime": {
     "end_time": "2022-02-04T10:08:33.002357Z",
     "start_time": "2022-02-04T10:07:04.918785Z"
    }
   },
   "outputs": [],
   "source": [
    "grid_rfpca.fit(X_train, y_train)"
   ]
  },
  {
   "cell_type": "code",
   "execution_count": null,
   "id": "bdfc1c95",
   "metadata": {
    "ExecuteTime": {
     "end_time": "2022-02-04T10:08:42.703411Z",
     "start_time": "2022-02-04T10:08:42.448005Z"
    }
   },
   "outputs": [],
   "source": [
    "plot_confusion_matrix(grid_rfpca, X_test, y_test)"
   ]
  },
  {
   "cell_type": "code",
   "execution_count": null,
   "id": "75480deb",
   "metadata": {
    "ExecuteTime": {
     "end_time": "2022-02-04T10:08:55.725625Z",
     "start_time": "2022-02-04T10:08:53.326430Z"
    }
   },
   "outputs": [],
   "source": [
    "#submit_kaggle('submit_rfpca', grid_rfpca)"
   ]
  },
  {
   "cell_type": "markdown",
   "id": "a1cded84",
   "metadata": {},
   "source": [
    "###  Random Forest w/smote and pca50 Kaggle\n",
    "\n",
    "<img src=\"../images/submit_rfsmotepca.png\" alt=\"not great\">"
   ]
  },
  {
   "cell_type": "code",
   "execution_count": null,
   "id": "c912ad0f",
   "metadata": {
    "ExecuteTime": {
     "end_time": "2022-02-04T10:08:59.672291Z",
     "start_time": "2022-02-04T10:08:59.499748Z"
    }
   },
   "outputs": [],
   "source": [
    "pred = grid_rfpca.predict(X_test)\n",
    "pred_prob = grid_rfpca.predict_proba(X_test)[:, 1]\n",
    "\n",
    "table = {'Model': rf}\n",
    "table['Type'] = 'pcasmote'\n",
    "table['ROC-AUC'] = roc_auc_score(y_test, pred_prob)\n",
    "table['Precision'] = precision_score(y_test, pred)\n",
    "table['Recall'] = recall_score(y_test, pred)\n",
    "table['F1'] = f1_score(y_test, pred)\n",
    "\n",
    "for key, value in grid_rfpca.best_params_.items():\n",
    "        table[key] = value\n",
    "\n",
    "scoring_table.append(table)"
   ]
  },
  {
   "cell_type": "markdown",
   "id": "48764381",
   "metadata": {},
   "source": [
    "<a id = '2.7'><a/>\n",
    "### 2.7 Log Reg w/smote\n",
    "* [Back To Top](#Content)"
   ]
  },
  {
   "cell_type": "code",
   "execution_count": null,
   "id": "911f8101",
   "metadata": {
    "ExecuteTime": {
     "end_time": "2022-02-04T10:11:29.551424Z",
     "start_time": "2022-02-04T10:11:29.544447Z"
    }
   },
   "outputs": [],
   "source": [
    "lr = LogisticRegression(\n",
    "    solver='liblinear',\n",
    "    random_state=42,\n",
    ")\n",
    "\n",
    "params_lr_smote = {\n",
    "    'clsf__penalty': ['l1', 'l2'],\n",
    "    'clsf__C': [0.1, 1.5, 10, 40],\n",
    "    'clsf__max_iter': [50, 200, 1000],\n",
    "    'smpl__k_neighbors': [3, 5, 7],\n",
    "}"
   ]
  },
  {
   "cell_type": "code",
   "execution_count": null,
   "id": "cd4099ff",
   "metadata": {
    "ExecuteTime": {
     "end_time": "2022-02-04T10:12:06.135129Z",
     "start_time": "2022-02-04T10:11:32.606826Z"
    },
    "scrolled": true
   },
   "outputs": [],
   "source": [
    "gs_lr_smote = run_model(lr, params_lr_smote, 'smote')"
   ]
  },
  {
   "cell_type": "code",
   "execution_count": null,
   "id": "12bfaa93",
   "metadata": {
    "ExecuteTime": {
     "end_time": "2022-02-04T10:12:48.066018Z",
     "start_time": "2022-02-04T10:12:47.936115Z"
    }
   },
   "outputs": [],
   "source": [
    "plot_confusion_matrix(gs_lr_smote, X_test, y_test)"
   ]
  },
  {
   "cell_type": "code",
   "execution_count": null,
   "id": "84ce940e",
   "metadata": {
    "ExecuteTime": {
     "end_time": "2022-02-04T10:13:27.431697Z",
     "start_time": "2022-02-04T10:13:27.166401Z"
    }
   },
   "outputs": [],
   "source": [
    "#submit_kaggle('submit_lr_smote', gs_lr_smote)"
   ]
  },
  {
   "cell_type": "markdown",
   "id": "b8239dc7",
   "metadata": {
    "ExecuteTime": {
     "end_time": "2022-01-28T16:14:00.177294Z",
     "start_time": "2022-01-28T16:14:00.169434Z"
    }
   },
   "source": [
    "###  LogReg w/smote Kaggle\n",
    "\n",
    "<img src=\"../images/submit_lrsmote2.png\" alt=\"not great\">"
   ]
  },
  {
   "cell_type": "markdown",
   "id": "baf955d2",
   "metadata": {},
   "source": [
    "<a id = '2.8'><a/>\n",
    "### 2.8 Gradient Boost w/smote\n",
    "* [Back To Top](#Content)"
   ]
  },
  {
   "cell_type": "code",
   "execution_count": null,
   "id": "1fb60c7d",
   "metadata": {
    "ExecuteTime": {
     "end_time": "2022-02-04T10:13:31.341776Z",
     "start_time": "2022-02-04T10:13:31.327732Z"
    }
   },
   "outputs": [],
   "source": [
    "gb = GradientBoostingClassifier(random_state=42)\n",
    "\n",
    "params_gb_smote = {\n",
    "    'clsf__learning_rate': [ 0.05, 0.1],\n",
    "    'clsf__max_depth': [7, 10],\n",
    "    'clsf__ccp_alpha':[0, 0.01],\n",
    "    'clsf__n_estimators':[150, 300],\n",
    "    'smpl__k_neighbors': [3, 5, 7],\n",
    "}"
   ]
  },
  {
   "cell_type": "code",
   "execution_count": null,
   "id": "6b3aae29",
   "metadata": {
    "ExecuteTime": {
     "end_time": "2022-02-04T10:24:02.155027Z",
     "start_time": "2022-02-04T10:13:31.948101Z"
    },
    "scrolled": true
   },
   "outputs": [],
   "source": [
    "gs_gb_smote = run_model(gb, params_gb_smote, 'smote')"
   ]
  },
  {
   "cell_type": "code",
   "execution_count": null,
   "id": "4bc37542",
   "metadata": {
    "ExecuteTime": {
     "end_time": "2022-02-04T10:24:54.598375Z",
     "start_time": "2022-02-04T10:24:54.115985Z"
    }
   },
   "outputs": [],
   "source": [
    "#submit_kaggle('submit_gb_smote', gs_gb_smote)"
   ]
  },
  {
   "cell_type": "markdown",
   "id": "6c8deec0",
   "metadata": {},
   "source": [
    "### Gradient Boost w/smote Kaggle\n",
    "\n",
    "<img src=\"../images/submit_gbsmote.png\" alt=\"not great\">"
   ]
  },
  {
   "cell_type": "markdown",
   "id": "e5480883",
   "metadata": {},
   "source": [
    "<a id = '2.9'><a/>\n",
    "### 2.9 Gradient Boost w/smotetomek\n",
    "* [Back To Top](#Content)"
   ]
  },
  {
   "cell_type": "code",
   "execution_count": null,
   "id": "5fdbc819",
   "metadata": {
    "ExecuteTime": {
     "end_time": "2022-02-04T10:25:18.803309Z",
     "start_time": "2022-02-04T10:25:18.798230Z"
    }
   },
   "outputs": [],
   "source": [
    "gb = GradientBoostingClassifier(random_state=42)\n",
    "\n",
    "params_gb_smotetomek = {\n",
    "    'clsf__learning_rate': [0.025, 0.05],\n",
    "    'clsf__max_depth': [7, 10],\n",
    "    'clsf__ccp_alpha':[0, 0.01],\n",
    "    'clsf__n_estimators':[150, 250],\n",
    "    'smpl__sampling_strategy':['all', 'auto']\n",
    "}"
   ]
  },
  {
   "cell_type": "code",
   "execution_count": null,
   "id": "b8fd18a7",
   "metadata": {
    "ExecuteTime": {
     "end_time": "2022-02-04T10:33:49.500870Z",
     "start_time": "2022-02-04T10:25:20.022627Z"
    }
   },
   "outputs": [],
   "source": [
    "gs_gb_smotetomek = run_model(gb, params_gb_smotetomek, 'smotetomek')"
   ]
  },
  {
   "cell_type": "code",
   "execution_count": null,
   "id": "0092fb87",
   "metadata": {
    "ExecuteTime": {
     "end_time": "2022-02-04T10:34:28.858768Z",
     "start_time": "2022-02-04T10:34:28.338558Z"
    }
   },
   "outputs": [],
   "source": [
    "#submit_kaggle('submit_gbsmotetomek', gs_gb_smotetomek)"
   ]
  },
  {
   "cell_type": "markdown",
   "id": "3681d8bf",
   "metadata": {},
   "source": [
    "### Gradient boost w/smotetomek Kaggle\n",
    "\n",
    "<img src=\"../images/submit_gbsmotetomek.png\" alt=\"not great\">"
   ]
  },
  {
   "cell_type": "markdown",
   "id": "c69d242c",
   "metadata": {},
   "source": [
    "<a id = '2.10'><a/>\n",
    "### 2.10 Random Forest w/smote\n",
    "* [Back To Top](#Content)"
   ]
  },
  {
   "cell_type": "code",
   "execution_count": null,
   "id": "4712125a",
   "metadata": {
    "ExecuteTime": {
     "end_time": "2022-02-04T10:36:54.798760Z",
     "start_time": "2022-02-04T10:36:54.780183Z"
    }
   },
   "outputs": [],
   "source": [
    "rf = RandomForestClassifier(random_state=42, n_jobs=4)\n",
    "\n",
    "params_rf_smote = {\n",
    "    'clsf__n_estimators': [150, 250],\n",
    "    'clsf__max_depth': [ 5, 7],\n",
    "    'clsf__ccp_alpha':[0, 0.01],\n",
    "    'smpl__k_neighbors': [3, 5, 7],\n",
    "}"
   ]
  },
  {
   "cell_type": "code",
   "execution_count": null,
   "id": "aa07a99b",
   "metadata": {
    "ExecuteTime": {
     "end_time": "2022-02-04T10:37:42.920544Z",
     "start_time": "2022-02-04T10:37:18.926678Z"
    },
    "scrolled": true
   },
   "outputs": [],
   "source": [
    "gs_rf_smote = run_model(rf, params_rf_smote, 'smote')"
   ]
  },
  {
   "cell_type": "code",
   "execution_count": null,
   "id": "6148d224",
   "metadata": {
    "ExecuteTime": {
     "end_time": "2022-02-04T11:28:03.206076Z",
     "start_time": "2022-02-04T11:28:02.978085Z"
    },
    "scrolled": true
   },
   "outputs": [],
   "source": [
    "plot_confusion_matrix(gs_rf_smote, X_test, y_test)"
   ]
  },
  {
   "cell_type": "code",
   "execution_count": null,
   "id": "64324b1f",
   "metadata": {
    "ExecuteTime": {
     "end_time": "2022-02-04T10:38:09.773003Z",
     "start_time": "2022-02-04T10:38:09.158169Z"
    }
   },
   "outputs": [],
   "source": [
    "#submit_kaggle('rf_smote', gs_rf_smote)"
   ]
  },
  {
   "cell_type": "markdown",
   "id": "4e70bccc",
   "metadata": {},
   "source": [
    "### Random Forest w/smote Kaggle\n",
    "\n",
    "<img src=\"../images/submit_rfsmote2.png\" alt=\"not great\">"
   ]
  },
  {
   "cell_type": "markdown",
   "id": "83ef0f07",
   "metadata": {},
   "source": [
    "<a id = '2.11'><a/>\n",
    "### 2.11 XGBoost w/smotetomek\n",
    "* [Back To Top](#Content)"
   ]
  },
  {
   "cell_type": "code",
   "execution_count": null,
   "id": "49dfda8d",
   "metadata": {
    "ExecuteTime": {
     "end_time": "2022-02-04T10:38:23.310089Z",
     "start_time": "2022-02-04T10:38:23.290063Z"
    }
   },
   "outputs": [],
   "source": [
    "xg_smotetomek = XGBClassifier(\n",
    "    use_label_encoder=False,\n",
    "    eval_metric='auc',\n",
    "    objective='binary:logistic',\n",
    "    random_state=42,\n",
    ")\n",
    "\n",
    "xg_smotetomek_params = { \n",
    "    'clsf__max_depth': [3, 5],\n",
    "    'clsf__gamma' : [0.15, 0.25],\n",
    "    'clsf__learning_rate' : [0.125, 0.2],\n",
    "    'clsf__n_estimators':[150, 200],\n",
    "    'clsf__reg_alpha':[5,10],\n",
    "    'smpl__sampling_strategy':['all', 'auto', 'not minority']\n",
    "}"
   ]
  },
  {
   "cell_type": "code",
   "execution_count": null,
   "id": "ae2a8208",
   "metadata": {
    "ExecuteTime": {
     "end_time": "2022-02-04T10:46:31.576744Z",
     "start_time": "2022-02-04T10:38:31.131895Z"
    }
   },
   "outputs": [],
   "source": [
    "gs_xg_smotetomek = run_model(xg_smotetomek, xg_smotetomek_params, kind='smotetomek')"
   ]
  },
  {
   "cell_type": "code",
   "execution_count": null,
   "id": "81898b97",
   "metadata": {
    "ExecuteTime": {
     "end_time": "2022-02-04T10:46:42.034656Z",
     "start_time": "2022-02-04T10:46:41.742350Z"
    }
   },
   "outputs": [],
   "source": [
    "#submit_kaggle('submit_xgsmotetomek', gs_xg_smotetomek)"
   ]
  },
  {
   "cell_type": "markdown",
   "id": "d51452de",
   "metadata": {
    "ExecuteTime": {
     "end_time": "2022-01-31T15:30:38.109289Z",
     "start_time": "2022-01-31T15:30:38.099411Z"
    }
   },
   "source": [
    "### XGBoost w/smote Kaggle\n",
    "\n",
    "<img src=\"../images/submit_xgsmotetomek.png\" alt=\"not great\">"
   ]
  },
  {
   "cell_type": "markdown",
   "id": "33e2834f",
   "metadata": {
    "ExecuteTime": {
     "end_time": "2022-02-01T09:59:27.521826Z",
     "start_time": "2022-02-01T09:59:27.515742Z"
    }
   },
   "source": [
    "<a id = '3.0'><a/>\n",
    "### 3.0 Make model table\n",
    "* [Back To Top](#Content)"
   ]
  },
  {
   "cell_type": "code",
   "execution_count": null,
   "id": "6f4c1997",
   "metadata": {
    "ExecuteTime": {
     "end_time": "2022-02-04T11:40:14.727956Z",
     "start_time": "2022-02-04T11:40:14.712837Z"
    },
    "scrolled": true
   },
   "outputs": [],
   "source": [
    "Table = pd.DataFrame(scoring_table)\n",
    "\n",
    "#add Kaggle scores\n",
    "Table['Kaggle_AUC'] = [0.712, 0.718, 0.648, 0.676, 0.698, 0.686, 0.697, 0.700, 0.716, 0.707]"
   ]
  },
  {
   "cell_type": "code",
   "execution_count": null,
   "id": "14324321",
   "metadata": {
    "ExecuteTime": {
     "end_time": "2022-02-04T11:40:15.118299Z",
     "start_time": "2022-02-04T11:40:15.105267Z"
    }
   },
   "outputs": [],
   "source": [
    "# change column order for better viewing\n",
    "Table.insert(6, 'Kaggle-AUC', Table['Kaggle_AUC'])\n",
    "Table.drop('Kaggle_AUC', axis=1, inplace=True)"
   ]
  },
  {
   "cell_type": "code",
   "execution_count": null,
   "id": "446d42c4",
   "metadata": {
    "ExecuteTime": {
     "end_time": "2022-02-04T11:40:15.553179Z",
     "start_time": "2022-02-04T11:40:15.523966Z"
    },
    "scrolled": true
   },
   "outputs": [],
   "source": [
    "Table.index +=1\n",
    "Table"
   ]
  },
  {
   "cell_type": "markdown",
   "id": "2000bf20",
   "metadata": {},
   "source": [
    "Formating the final table output"
   ]
  },
  {
   "cell_type": "code",
   "execution_count": null,
   "id": "88543dc8",
   "metadata": {
    "ExecuteTime": {
     "end_time": "2022-02-04T11:41:18.912253Z",
     "start_time": "2022-02-04T11:41:18.896121Z"
    }
   },
   "outputs": [],
   "source": [
    "Table2 = round(Table.loc[:,['Model','Type', 'ROC-AUC', 'Precision', 'Recall', 'F1', 'Kaggle-AUC']], 3)"
   ]
  },
  {
   "cell_type": "code",
   "execution_count": null,
   "id": "baca382e",
   "metadata": {
    "ExecuteTime": {
     "end_time": "2022-02-04T11:41:20.059369Z",
     "start_time": "2022-02-04T11:41:20.042005Z"
    }
   },
   "outputs": [],
   "source": [
    "Table2.loc[10, 'Model'] = 'XGBClassifier(random_state=42)'"
   ]
  },
  {
   "cell_type": "code",
   "execution_count": null,
   "id": "3f283cdf",
   "metadata": {
    "ExecuteTime": {
     "end_time": "2022-02-04T11:41:39.984020Z",
     "start_time": "2022-02-04T11:41:39.976968Z"
    }
   },
   "outputs": [],
   "source": [
    "def highlight_model(s):\n",
    "    if s['Kaggle-AUC'] ==0.716:\n",
    "        return ['background-color: yellow']*7\n",
    "    else:\n",
    "        return ['background-color: white']*7\n"
   ]
  },
  {
   "cell_type": "code",
   "execution_count": null,
   "id": "cef40f35",
   "metadata": {
    "ExecuteTime": {
     "end_time": "2022-02-04T11:41:40.962987Z",
     "start_time": "2022-02-04T11:41:40.935737Z"
    }
   },
   "outputs": [],
   "source": [
    "Table2.style.apply(highlight_model, axis=1)"
   ]
  },
  {
   "cell_type": "code",
   "execution_count": null,
   "id": "d7e3280e",
   "metadata": {
    "ExecuteTime": {
     "end_time": "2022-02-04T11:42:15.981924Z",
     "start_time": "2022-02-04T11:42:15.974210Z"
    }
   },
   "outputs": [],
   "source": [
    "Table.to_csv('../datasets/modeltable2.csv', index=False)"
   ]
  },
  {
   "cell_type": "markdown",
   "id": "9becfad1",
   "metadata": {},
   "source": [
    "<a id = '4.0'><a/>\n",
    "### 4.0 Model Evaluations\n",
    "* [Back To Top](#Content)"
   ]
  },
  {
   "cell_type": "markdown",
   "id": "1a5a8e17",
   "metadata": {},
   "source": [
    "**Model conclusions:**\n",
    "\n",
    "- the real difficulty our models encountered is identifying west-nile carrying mosquitoes correctly, since only about 5% of them carry the virus\n",
    "- our goal is to avoid false negatives ( identifying west-nile mosquitoes as normal). we do not mind a high number of false positives (identifying normal mosquitoes as west-nile carrying ones)\n",
    "- there is a clear tradeoff between recall and precision. models employing smote score high on recall metrics, as smote trains them to uncover more positives, but that comes at the expense of precision\n",
    "- nevertheless, we do care about high recall score, and as such do not mind seeing our precision score dip\n",
    "- in addition to recall we also care about the overall soundness of the model. out of all the scores, we trust the Kaggle competition score the most - ROC-AUC on completely unseen data with 116k rows\n",
    "- **we thus choose Random Forest Classifier with SMOTE as our production model**\n",
    "- it scores among top two in Kaggle ROC-AUC and recall, at 0.716 and 0.789 respectively.\n",
    "- we are willing to tolerate low precision in our production model, as identifying as many Wnv mosquitoes as possible is the priority"
   ]
  },
  {
   "cell_type": "markdown",
   "id": "2f3fedcb",
   "metadata": {},
   "source": [
    "Production model's confusion matrix: 90 Wnv mosquitoes predicted, only 24 missed\n",
    "\n",
    "<img src=\"../images/rf_conf_matrix.png\" alt=\"not great\">"
   ]
  },
  {
   "cell_type": "markdown",
   "id": "1f2e46da",
   "metadata": {},
   "source": [
    "<a id = '5.0'><a/>\n",
    "### 5.0 Features Importances\n",
    "* [Back To Top](#Content)"
   ]
  },
  {
   "cell_type": "code",
   "execution_count": null,
   "id": "754e7378",
   "metadata": {
    "ExecuteTime": {
     "end_time": "2022-02-01T13:40:09.368187Z",
     "start_time": "2022-02-01T13:40:09.333374Z"
    }
   },
   "outputs": [],
   "source": [
    "feat_imp = gs_rf_smote.best_estimator_.named_steps['clsf'].feature_importances_"
   ]
  },
  {
   "cell_type": "code",
   "execution_count": null,
   "id": "07629d5f",
   "metadata": {
    "ExecuteTime": {
     "end_time": "2022-02-01T13:43:18.548279Z",
     "start_time": "2022-02-01T13:43:18.524568Z"
    }
   },
   "outputs": [],
   "source": [
    "top_features = pd.DataFrame({'top_features': X.columns , 'coef': feat_imp}).sort_values(\n",
    "    ['coef'], ascending=False)\n",
    "top_features"
   ]
  },
  {
   "cell_type": "code",
   "execution_count": null,
   "id": "2c34e5df",
   "metadata": {
    "ExecuteTime": {
     "end_time": "2022-02-01T13:50:50.302798Z",
     "start_time": "2022-02-01T13:50:50.102735Z"
    },
    "scrolled": false
   },
   "outputs": [],
   "source": [
    "fig, ax = plt.subplots(figsize=(8,8))\n",
    "sns.barplot(x=top_features['coef'] , y = top_features['top_features'])\n",
    "plt.title('Top Features', fontsize=14, \n",
    "            color='Darkorchid')\n",
    "plt.xlabel(None)\n",
    "plt.ylabel(None)\n",
    "plt.show()"
   ]
  },
  {
   "cell_type": "markdown",
   "id": "7f7b2690",
   "metadata": {},
   "source": [
    "- length of the day and mosquito species turned out to have had the most influence in predicting the incidence of WnV. \n",
    "- the days are longest on June 21st, the Summer Solistice, and after that they get shorter, just as our West Nile season gets under way. this implies that any effort to kill mosquitos should be undertaken in July and early August, just before the peak west nile season in late summer\n",
    "- as far species are concerned, this knowledge is useful in predicting and modeling the spread of west nile. Spraying however, works on all mosquitoes species indiscriminately.\n",
    "- some dummy week variables have proven more useful than others. Namely, week28 - the first week in our dummy mosquito season, and weeks 33 and 34 (the peaks of the season) have most predictive power. this is consistent with our eda finding in notebook 1\n",
    "- we could have added some polynomial features, but we chose not to in order to maintain interpretability of our model and all of its features\n",
    "- the fact that the location of the trap (latitude and longitude) do not rank high, gives us a clue as to why overall model performance isn't very reliable. Being able to tell which trap would catch Wnv mosquitoes and which wouldn't is not something that this model was able to predict. The question we must ask as ourselves is: as mosquitoes fly around the city and are carried by wind, is there such a model which can reliably predict which traps in the city, some of them only a 1 or 2km away from each other, will record a Wnv mosquito, and which ones would not?"
   ]
  },
  {
   "cell_type": "markdown",
   "id": "81d1245c",
   "metadata": {
    "ExecuteTime": {
     "end_time": "2022-02-04T04:15:53.166926Z",
     "start_time": "2022-02-04T04:15:53.132699Z"
    }
   },
   "source": [
    "<a id = '6.0'><a/>\n",
    "### 6.0 Cost-Benifit analysis\n",
    "* [Back To Top](#Content)"
   ]
  },
  {
   "cell_type": "markdown",
   "id": "a6f34cb1",
   "metadata": {},
   "source": [
    "**COSTS**\n",
    "\n",
    "- city of Chicago uses Zenivex spray to control its mosquito population. The cost, under some assumptions, come out to around $200USD per km² per week. \n",
    "\n"
   ]
  },
  {
   "cell_type": "markdown",
   "id": "33de2768",
   "metadata": {},
   "source": [
    "**BENEFITS**\n",
    "\n",
    "- the benefits are somewhat harder to quantify, and are based on many assumptions (see image below), but we came up with the figure of $160,000USD in productivity and medical costs that would be saved if every single west-nile carrying mosquito were eliminated."
   ]
  },
  {
   "cell_type": "markdown",
   "id": "2ff11c6c",
   "metadata": {},
   "source": [
    "**RESULT**\n",
    "\n",
    "- 160000/200 gives us acceptable range of spraying of 800km². If we further assume that the summer spray season is about 8 weeks long, that gives us the upper limit for cost-effective spraying of 100km² per week. Anything more than 100km² per week and the City would be spending more money trying to eredicate the disease, then the disease, even in its most severe 2002 form, brings about in lost productivity and health-care costs.\n",
    "- 100km² is only 15% of the area of the city of Chicago proper.\n",
    "- calculations below:"
   ]
  },
  {
   "cell_type": "markdown",
   "id": "ebd15a33",
   "metadata": {
    "ExecuteTime": {
     "end_time": "2022-02-04T04:24:34.373211Z",
     "start_time": "2022-02-04T04:24:34.355574Z"
    }
   },
   "source": [
    "<img src=\"../images/cb-analysis.png\" alt=\"not great\">"
   ]
  },
  {
   "cell_type": "markdown",
   "id": "c4e970a1",
   "metadata": {},
   "source": [
    "<a id = '7.0'><a/>\n",
    "### 7.0 Conclusions\n",
    "* [Back To Top](#Content)"
   ]
  },
  {
   "cell_type": "markdown",
   "id": "9d7a8f75",
   "metadata": {},
   "source": [
    "**There are many reasons to suggest not spending resources on spraying:**\n",
    "\n",
    "- our charts made during EDA section show no significant decrease in either the mosquito number nor in the incidence of WnV after previous spraying\n",
    "- under any reasonable assumptions, we can only afford to spray 15% of the city area for 8 weeks during the peak mosquito season, which wouldn't make much of a difference, as mosquitoes from other parts of the city could easily migrate to replace them"
   ]
  },
  {
   "cell_type": "markdown",
   "id": "2e6e9d0b",
   "metadata": {},
   "source": [
    "**Still, we believe, and this is our final recommendation, that limited spraying should take place.**\n",
    "\n",
    "- even assuming that only 15% of the chicago area can be sprayed in any given week, we could use our model to maximize the efficiency of such a limited spray, by focusing on the areas in our model that give rise to highest 'WnV present' odds. (model.predic_proba) \n",
    "- scientifically speaking, the spray **does** kill off mosquitoes and their larvae, even if our charts/data do not show it. We choose to believe the science and use spraying as a mosquito-reduction technique. We will however use our findings of spray's lack of success, by deciding not spend too much money on it.\n",
    "- it is important for a city government to show that it cares about its people, so standing idly by while the virus is affecting its people is, politically speaking, not an option\n",
    "- lastly, even though spraying does not have substantial effect now, that does not mean that it will remain so in the future, especially if west nile virus were to start spreading at faster rates. that is why it is important to have a well-oiled  and functioning spraying program in place now, which can then easily be ramped up in the future if  need were suddendly to arise."
   ]
  },
  {
   "cell_type": "markdown",
   "id": "c06ddffc",
   "metadata": {
    "ExecuteTime": {
     "end_time": "2022-02-04T11:21:04.958541Z",
     "start_time": "2022-02-04T11:21:04.946446Z"
    }
   },
   "source": [
    "**Beyond the cost-benefit: What's next?**\n",
    "\n",
    "- the only way to substantially improve our model and make use of City's limited spraying finds, is to extend the model in such a way so that it is able to pinpoint the micro-location of where the Wnv mosquitoes will be present. This would include more advanced use of GPS data, as well teaming up with weather experts and entomologists to model the ways in which mosquitoes move around the city based on atmospheric data and their biological needs.\n"
   ]
  }
 ],
 "metadata": {
  "kernelspec": {
   "display_name": "Python 3 (ipykernel)",
   "language": "python",
   "name": "python3"
  },
  "language_info": {
   "codemirror_mode": {
    "name": "ipython",
    "version": 3
   },
   "file_extension": ".py",
   "mimetype": "text/x-python",
   "name": "python",
   "nbconvert_exporter": "python",
   "pygments_lexer": "ipython3",
   "version": "3.9.7"
  },
  "toc": {
   "base_numbering": 1,
   "nav_menu": {},
   "number_sections": false,
   "sideBar": true,
   "skip_h1_title": false,
   "title_cell": "Table of Contents",
   "title_sidebar": "Contents",
   "toc_cell": false,
   "toc_position": {
    "height": "calc(100% - 180px)",
    "left": "10px",
    "top": "150px",
    "width": "343.75px"
   },
   "toc_section_display": true,
   "toc_window_display": true
  },
  "varInspector": {
   "cols": {
    "lenName": 16,
    "lenType": 16,
    "lenVar": 40
   },
   "kernels_config": {
    "python": {
     "delete_cmd_postfix": "",
     "delete_cmd_prefix": "del ",
     "library": "var_list.py",
     "varRefreshCmd": "print(var_dic_list())"
    },
    "r": {
     "delete_cmd_postfix": ") ",
     "delete_cmd_prefix": "rm(",
     "library": "var_list.r",
     "varRefreshCmd": "cat(var_dic_list()) "
    }
   },
   "types_to_exclude": [
    "module",
    "function",
    "builtin_function_or_method",
    "instance",
    "_Feature"
   ],
   "window_display": false
  }
 },
 "nbformat": 4,
 "nbformat_minor": 5
}
