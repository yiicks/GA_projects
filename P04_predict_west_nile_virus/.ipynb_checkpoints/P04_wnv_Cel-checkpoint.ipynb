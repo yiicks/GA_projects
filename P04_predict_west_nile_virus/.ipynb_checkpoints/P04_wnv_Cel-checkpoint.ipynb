{
 "cells": [
  {
   "cell_type": "code",
   "execution_count": 1,
   "id": "60f4e04c",
   "metadata": {
    "ExecuteTime": {
     "end_time": "2022-01-26T01:59:46.991674Z",
     "start_time": "2022-01-26T01:59:44.013895Z"
    }
   },
   "outputs": [],
   "source": [
    "import pandas as pd\n",
    "import seaborn as sns\n",
    "import matplotlib.pyplot as plt\n",
    "\n",
    "train = pd.read_csv(\"data/train.csv\")\n",
    "test = pd.read_csv(\"data/test.csv\")\n",
    "spray = pd.read_csv(\"data/spray.csv\")"
   ]
  },
  {
   "cell_type": "markdown",
   "id": "f277e69f",
   "metadata": {
    "heading_collapsed": true
   },
   "source": [
    "# checking duplicates for mosquitoes (in train)"
   ]
  },
  {
   "cell_type": "code",
   "execution_count": 2,
   "id": "052b14f6",
   "metadata": {
    "ExecuteTime": {
     "end_time": "2022-01-26T01:59:46.995530Z",
     "start_time": "2022-01-26T01:59:46.993068Z"
    },
    "hidden": true
   },
   "outputs": [],
   "source": [
    "pd.set_option('display.max_columns', None)"
   ]
  },
  {
   "cell_type": "code",
   "execution_count": 3,
   "id": "a9b9601a",
   "metadata": {
    "ExecuteTime": {
     "end_time": "2022-01-26T01:59:47.001508Z",
     "start_time": "2022-01-26T01:59:46.996756Z"
    },
    "hidden": true
   },
   "outputs": [
    {
     "data": {
      "text/plain": [
       "135039"
      ]
     },
     "execution_count": 3,
     "metadata": {},
     "output_type": "execute_result"
    }
   ],
   "source": [
    "# check total mosquitoes in sample\n",
    "train[\"NumMosquitos\"].sum()"
   ]
  },
  {
   "cell_type": "code",
   "execution_count": 4,
   "id": "4425bfdb",
   "metadata": {
    "ExecuteTime": {
     "end_time": "2022-01-26T01:59:47.030656Z",
     "start_time": "2022-01-26T01:59:47.003619Z"
    },
    "hidden": true,
    "scrolled": false
   },
   "outputs": [
    {
     "data": {
      "text/plain": [
       "36068"
      ]
     },
     "execution_count": 4,
     "metadata": {},
     "output_type": "execute_result"
    }
   ],
   "source": [
    "# duplicated rows with less than 50 mosquitoes\n",
    "duplicates = train[(train.duplicated())]\n",
    "\n",
    "duplicates[\"NumMosquitos\"].sum()"
   ]
  },
  {
   "cell_type": "code",
   "execution_count": 5,
   "id": "3400c30b",
   "metadata": {
    "ExecuteTime": {
     "end_time": "2022-01-26T01:59:47.055778Z",
     "start_time": "2022-01-26T01:59:47.033307Z"
    },
    "hidden": true,
    "scrolled": true
   },
   "outputs": [],
   "source": [
    "# aggregate all rows with duplicates\n",
    "\n",
    "train[\"totalmozzies\"] = duplicates.groupby(\n",
    "    [\n",
    "        \"Date\",\n",
    "        \"Address\",\n",
    "        \"Species\",\n",
    "        \"Block\",\n",
    "        \"Street\",\n",
    "        \"Trap\",\n",
    "        \"AddressNumberAndStreet\",\n",
    "        \"AddressAccuracy\",\n",
    "        \"WnvPresent\",\n",
    "    ]\n",
    ")[\"NumMosquitos\"].transform(\"sum\")\n",
    "\n",
    "train[\"totalmozzies\"].fillna(train[\"NumMosquitos\"], inplace=True)"
   ]
  },
  {
   "cell_type": "code",
   "execution_count": 6,
   "id": "8dbc578a",
   "metadata": {
    "ExecuteTime": {
     "end_time": "2022-01-26T01:59:47.069755Z",
     "start_time": "2022-01-26T01:59:47.063230Z"
    },
    "hidden": true
   },
   "outputs": [],
   "source": [
    "train.sort_values(by=[\"totalmozzies\"], ascending=True, inplace=True)"
   ]
  },
  {
   "cell_type": "code",
   "execution_count": 7,
   "id": "ceb4b601",
   "metadata": {
    "ExecuteTime": {
     "end_time": "2022-01-26T01:59:47.086746Z",
     "start_time": "2022-01-26T01:59:47.075080Z"
    },
    "hidden": true
   },
   "outputs": [
    {
     "data": {
      "text/plain": [
       "(10506, 13)"
      ]
     },
     "execution_count": 7,
     "metadata": {},
     "output_type": "execute_result"
    }
   ],
   "source": [
    "train.shape"
   ]
  },
  {
   "cell_type": "code",
   "execution_count": 8,
   "id": "6deedbd1",
   "metadata": {
    "ExecuteTime": {
     "end_time": "2022-01-26T01:59:47.108916Z",
     "start_time": "2022-01-26T01:59:47.089009Z"
    },
    "hidden": true
   },
   "outputs": [],
   "source": [
    "train.drop_duplicates(\n",
    "    subset=[\n",
    "        \"Date\",\n",
    "        \"Address\",\n",
    "        \"Species\",\n",
    "        \"Block\",\n",
    "        \"Street\",\n",
    "        \"Trap\",\n",
    "        \"AddressNumberAndStreet\",\n",
    "        \"AddressAccuracy\",\n",
    "        \"NumMosquitos\",\n",
    "        \"WnvPresent\",\n",
    "        \"totalmozzies\",\n",
    "    ],\n",
    "    inplace=True,\n",
    "    keep=\"last\",\n",
    ")"
   ]
  },
  {
   "cell_type": "code",
   "execution_count": 9,
   "id": "12981fb3",
   "metadata": {
    "ExecuteTime": {
     "end_time": "2022-01-26T01:59:47.121065Z",
     "start_time": "2022-01-26T01:59:47.112400Z"
    },
    "hidden": true
   },
   "outputs": [
    {
     "data": {
      "text/plain": [
       "134881.0"
      ]
     },
     "execution_count": 9,
     "metadata": {},
     "output_type": "execute_result"
    }
   ],
   "source": [
    "train[\"totalmozzies\"].sum()"
   ]
  },
  {
   "cell_type": "code",
   "execution_count": 10,
   "id": "273bbd77",
   "metadata": {
    "ExecuteTime": {
     "end_time": "2022-01-26T01:59:47.129081Z",
     "start_time": "2022-01-26T01:59:47.124152Z"
    },
    "hidden": true
   },
   "outputs": [
    {
     "data": {
      "text/plain": [
       "(9799, 13)"
      ]
     },
     "execution_count": 10,
     "metadata": {},
     "output_type": "execute_result"
    }
   ],
   "source": [
    "train.shape"
   ]
  },
  {
   "cell_type": "markdown",
   "id": "c4615993",
   "metadata": {
    "ExecuteTime": {
     "end_time": "2022-01-25T03:04:20.303849Z",
     "start_time": "2022-01-25T03:04:20.301028Z"
    },
    "heading_collapsed": true
   },
   "source": [
    "# write data cleaning function (for test and train)"
   ]
  },
  {
   "cell_type": "code",
   "execution_count": 11,
   "id": "765a894f",
   "metadata": {
    "ExecuteTime": {
     "end_time": "2022-01-26T01:59:47.245591Z",
     "start_time": "2022-01-26T01:59:47.133211Z"
    },
    "hidden": true
   },
   "outputs": [
    {
     "data": {
      "text/plain": [
       "Id                        0\n",
       "Date                      0\n",
       "Address                   0\n",
       "Species                   0\n",
       "Block                     0\n",
       "Street                    0\n",
       "Trap                      0\n",
       "AddressNumberAndStreet    0\n",
       "Latitude                  0\n",
       "Longitude                 0\n",
       "AddressAccuracy           0\n",
       "dtype: int64"
      ]
     },
     "execution_count": 11,
     "metadata": {},
     "output_type": "execute_result"
    }
   ],
   "source": [
    "test.isnull().sum()"
   ]
  },
  {
   "cell_type": "code",
   "execution_count": 12,
   "id": "0cbe71dd",
   "metadata": {
    "ExecuteTime": {
     "end_time": "2022-01-26T01:59:47.280593Z",
     "start_time": "2022-01-26T01:59:47.253419Z"
    },
    "hidden": true
   },
   "outputs": [
    {
     "data": {
      "text/plain": [
       "Date                      0\n",
       "Address                   0\n",
       "Species                   0\n",
       "Block                     0\n",
       "Street                    0\n",
       "Trap                      0\n",
       "AddressNumberAndStreet    0\n",
       "Latitude                  0\n",
       "Longitude                 0\n",
       "AddressAccuracy           0\n",
       "NumMosquitos              0\n",
       "WnvPresent                0\n",
       "totalmozzies              0\n",
       "dtype: int64"
      ]
     },
     "execution_count": 12,
     "metadata": {},
     "output_type": "execute_result"
    }
   ],
   "source": [
    "train.isnull().sum()"
   ]
  },
  {
   "cell_type": "code",
   "execution_count": 13,
   "id": "b290fb94",
   "metadata": {
    "ExecuteTime": {
     "end_time": "2022-01-26T01:59:47.315596Z",
     "start_time": "2022-01-26T01:59:47.296767Z"
    },
    "hidden": true
   },
   "outputs": [],
   "source": [
    "def cleaner(df):\n",
    "    # change title to lower case\n",
    "    df.columns = df.columns.str.lower()\n",
    "\n",
    "    # drop unnecessary columns\n",
    "    try:\n",
    "        df.drop(\n",
    "            columns=[\n",
    "                \"addressaccuracy\",\n",
    "                \"addressnumberandstreet\",\n",
    "                \"address\",\n",
    "                \"block\",\n",
    "                \"street\",\n",
    "            ],\n",
    "            inplace=True,\n",
    "        )\n",
    "    except KeyError:\n",
    "        pass\n",
    "\n",
    "    # convert date time\n",
    "    df[\"date\"] = pd.to_datetime(df[\"date\"], format=\"%Y-%m-%d\")\n",
    "\n",
    "    # create year, month/week in dataset\n",
    "    df[\"year\"] = (df[\"date\"].dt.strftime(\"%Y\")).astype(int)\n",
    "    df[\"weekofyear\"] = df.date.dt.isocalendar().week\n",
    "\n",
    "    # total mozzies as integer\n",
    "    try:\n",
    "        df[\"totalmozzies\"] = df[\"totalmozzies\"].astype(\"int64\")\n",
    "    except KeyError:\n",
    "        pass\n",
    "\n",
    "    # display final datatypes\n",
    "    display(df.dtypes)\n",
    "\n",
    "\n",
    "# keep in mind final submission is ID, prediction"
   ]
  },
  {
   "cell_type": "code",
   "execution_count": 14,
   "id": "43c283bf",
   "metadata": {
    "ExecuteTime": {
     "end_time": "2022-01-26T01:59:47.547135Z",
     "start_time": "2022-01-26T01:59:47.326291Z"
    },
    "hidden": true
   },
   "outputs": [
    {
     "data": {
      "text/plain": [
       "date            datetime64[ns]\n",
       "species                 object\n",
       "trap                    object\n",
       "latitude               float64\n",
       "longitude              float64\n",
       "nummosquitos             int64\n",
       "wnvpresent               int64\n",
       "totalmozzies             int64\n",
       "year                     int64\n",
       "weekofyear              UInt32\n",
       "dtype: object"
      ]
     },
     "metadata": {},
     "output_type": "display_data"
    }
   ],
   "source": [
    "cleaner(train)"
   ]
  },
  {
   "cell_type": "code",
   "execution_count": 15,
   "id": "68439604",
   "metadata": {
    "ExecuteTime": {
     "end_time": "2022-01-26T01:59:47.569569Z",
     "start_time": "2022-01-26T01:59:47.549085Z"
    },
    "hidden": true
   },
   "outputs": [
    {
     "data": {
      "text/html": [
       "<div>\n",
       "<style scoped>\n",
       "    .dataframe tbody tr th:only-of-type {\n",
       "        vertical-align: middle;\n",
       "    }\n",
       "\n",
       "    .dataframe tbody tr th {\n",
       "        vertical-align: top;\n",
       "    }\n",
       "\n",
       "    .dataframe thead th {\n",
       "        text-align: right;\n",
       "    }\n",
       "</style>\n",
       "<table border=\"1\" class=\"dataframe\">\n",
       "  <thead>\n",
       "    <tr style=\"text-align: right;\">\n",
       "      <th></th>\n",
       "      <th>date</th>\n",
       "      <th>species</th>\n",
       "      <th>trap</th>\n",
       "      <th>latitude</th>\n",
       "      <th>longitude</th>\n",
       "      <th>nummosquitos</th>\n",
       "      <th>wnvpresent</th>\n",
       "      <th>totalmozzies</th>\n",
       "      <th>year</th>\n",
       "      <th>weekofyear</th>\n",
       "    </tr>\n",
       "  </thead>\n",
       "  <tbody>\n",
       "    <tr>\n",
       "      <th>0</th>\n",
       "      <td>2007-05-29</td>\n",
       "      <td>CULEX PIPIENS/RESTUANS</td>\n",
       "      <td>T002</td>\n",
       "      <td>41.954690</td>\n",
       "      <td>-87.800991</td>\n",
       "      <td>1</td>\n",
       "      <td>0</td>\n",
       "      <td>1</td>\n",
       "      <td>2007</td>\n",
       "      <td>22</td>\n",
       "    </tr>\n",
       "    <tr>\n",
       "      <th>4703</th>\n",
       "      <td>2009-07-13</td>\n",
       "      <td>CULEX PIPIENS</td>\n",
       "      <td>T102</td>\n",
       "      <td>41.750498</td>\n",
       "      <td>-87.605294</td>\n",
       "      <td>1</td>\n",
       "      <td>0</td>\n",
       "      <td>1</td>\n",
       "      <td>2009</td>\n",
       "      <td>29</td>\n",
       "    </tr>\n",
       "    <tr>\n",
       "      <th>4730</th>\n",
       "      <td>2009-07-17</td>\n",
       "      <td>CULEX PIPIENS</td>\n",
       "      <td>T046</td>\n",
       "      <td>41.891118</td>\n",
       "      <td>-87.654491</td>\n",
       "      <td>1</td>\n",
       "      <td>0</td>\n",
       "      <td>1</td>\n",
       "      <td>2009</td>\n",
       "      <td>29</td>\n",
       "    </tr>\n",
       "    <tr>\n",
       "      <th>4731</th>\n",
       "      <td>2009-07-17</td>\n",
       "      <td>CULEX SALINARIUS</td>\n",
       "      <td>T046</td>\n",
       "      <td>41.891118</td>\n",
       "      <td>-87.654491</td>\n",
       "      <td>1</td>\n",
       "      <td>0</td>\n",
       "      <td>1</td>\n",
       "      <td>2009</td>\n",
       "      <td>29</td>\n",
       "    </tr>\n",
       "    <tr>\n",
       "      <th>4734</th>\n",
       "      <td>2009-07-17</td>\n",
       "      <td>CULEX PIPIENS/RESTUANS</td>\n",
       "      <td>T049</td>\n",
       "      <td>41.896282</td>\n",
       "      <td>-87.655232</td>\n",
       "      <td>1</td>\n",
       "      <td>0</td>\n",
       "      <td>1</td>\n",
       "      <td>2009</td>\n",
       "      <td>29</td>\n",
       "    </tr>\n",
       "    <tr>\n",
       "      <th>...</th>\n",
       "      <td>...</td>\n",
       "      <td>...</td>\n",
       "      <td>...</td>\n",
       "      <td>...</td>\n",
       "      <td>...</td>\n",
       "      <td>...</td>\n",
       "      <td>...</td>\n",
       "      <td>...</td>\n",
       "      <td>...</td>\n",
       "      <td>...</td>\n",
       "    </tr>\n",
       "    <tr>\n",
       "      <th>1227</th>\n",
       "      <td>2007-08-01</td>\n",
       "      <td>CULEX PIPIENS</td>\n",
       "      <td>T115</td>\n",
       "      <td>41.673408</td>\n",
       "      <td>-87.599862</td>\n",
       "      <td>50</td>\n",
       "      <td>0</td>\n",
       "      <td>1450</td>\n",
       "      <td>2007</td>\n",
       "      <td>31</td>\n",
       "    </tr>\n",
       "    <tr>\n",
       "      <th>1713</th>\n",
       "      <td>2007-08-08</td>\n",
       "      <td>CULEX PIPIENS</td>\n",
       "      <td>T138</td>\n",
       "      <td>41.726465</td>\n",
       "      <td>-87.585413</td>\n",
       "      <td>50</td>\n",
       "      <td>0</td>\n",
       "      <td>1500</td>\n",
       "      <td>2007</td>\n",
       "      <td>32</td>\n",
       "    </tr>\n",
       "    <tr>\n",
       "      <th>2067</th>\n",
       "      <td>2007-08-16</td>\n",
       "      <td>CULEX PIPIENS</td>\n",
       "      <td>T115</td>\n",
       "      <td>41.673408</td>\n",
       "      <td>-87.599862</td>\n",
       "      <td>50</td>\n",
       "      <td>0</td>\n",
       "      <td>2000</td>\n",
       "      <td>2007</td>\n",
       "      <td>33</td>\n",
       "    </tr>\n",
       "    <tr>\n",
       "      <th>2748</th>\n",
       "      <td>2007-08-28</td>\n",
       "      <td>CULEX PIPIENS</td>\n",
       "      <td>T115</td>\n",
       "      <td>41.673408</td>\n",
       "      <td>-87.599862</td>\n",
       "      <td>50</td>\n",
       "      <td>0</td>\n",
       "      <td>2000</td>\n",
       "      <td>2007</td>\n",
       "      <td>35</td>\n",
       "    </tr>\n",
       "    <tr>\n",
       "      <th>638</th>\n",
       "      <td>2007-07-25</td>\n",
       "      <td>CULEX PIPIENS</td>\n",
       "      <td>T115</td>\n",
       "      <td>41.673408</td>\n",
       "      <td>-87.599862</td>\n",
       "      <td>50</td>\n",
       "      <td>0</td>\n",
       "      <td>2100</td>\n",
       "      <td>2007</td>\n",
       "      <td>30</td>\n",
       "    </tr>\n",
       "  </tbody>\n",
       "</table>\n",
       "<p>9799 rows × 10 columns</p>\n",
       "</div>"
      ],
      "text/plain": [
       "           date                 species  trap   latitude  longitude  \\\n",
       "0    2007-05-29  CULEX PIPIENS/RESTUANS  T002  41.954690 -87.800991   \n",
       "4703 2009-07-13           CULEX PIPIENS  T102  41.750498 -87.605294   \n",
       "4730 2009-07-17           CULEX PIPIENS  T046  41.891118 -87.654491   \n",
       "4731 2009-07-17        CULEX SALINARIUS  T046  41.891118 -87.654491   \n",
       "4734 2009-07-17  CULEX PIPIENS/RESTUANS  T049  41.896282 -87.655232   \n",
       "...         ...                     ...   ...        ...        ...   \n",
       "1227 2007-08-01           CULEX PIPIENS  T115  41.673408 -87.599862   \n",
       "1713 2007-08-08           CULEX PIPIENS  T138  41.726465 -87.585413   \n",
       "2067 2007-08-16           CULEX PIPIENS  T115  41.673408 -87.599862   \n",
       "2748 2007-08-28           CULEX PIPIENS  T115  41.673408 -87.599862   \n",
       "638  2007-07-25           CULEX PIPIENS  T115  41.673408 -87.599862   \n",
       "\n",
       "      nummosquitos  wnvpresent  totalmozzies  year  weekofyear  \n",
       "0                1           0             1  2007          22  \n",
       "4703             1           0             1  2009          29  \n",
       "4730             1           0             1  2009          29  \n",
       "4731             1           0             1  2009          29  \n",
       "4734             1           0             1  2009          29  \n",
       "...            ...         ...           ...   ...         ...  \n",
       "1227            50           0          1450  2007          31  \n",
       "1713            50           0          1500  2007          32  \n",
       "2067            50           0          2000  2007          33  \n",
       "2748            50           0          2000  2007          35  \n",
       "638             50           0          2100  2007          30  \n",
       "\n",
       "[9799 rows x 10 columns]"
      ]
     },
     "execution_count": 15,
     "metadata": {},
     "output_type": "execute_result"
    }
   ],
   "source": [
    "train"
   ]
  },
  {
   "cell_type": "code",
   "execution_count": 16,
   "id": "eb80d5a2",
   "metadata": {
    "ExecuteTime": {
     "end_time": "2022-01-26T01:59:48.389035Z",
     "start_time": "2022-01-26T01:59:47.572197Z"
    },
    "hidden": true
   },
   "outputs": [
    {
     "data": {
      "text/plain": [
       "id                     int64\n",
       "date          datetime64[ns]\n",
       "species               object\n",
       "trap                  object\n",
       "latitude             float64\n",
       "longitude            float64\n",
       "year                   int64\n",
       "weekofyear            UInt32\n",
       "dtype: object"
      ]
     },
     "metadata": {},
     "output_type": "display_data"
    }
   ],
   "source": [
    "cleaner(test)"
   ]
  },
  {
   "cell_type": "code",
   "execution_count": 17,
   "id": "5b857bba",
   "metadata": {
    "ExecuteTime": {
     "end_time": "2022-01-26T01:59:48.406200Z",
     "start_time": "2022-01-26T01:59:48.391296Z"
    },
    "hidden": true,
    "scrolled": true
   },
   "outputs": [
    {
     "data": {
      "text/html": [
       "<div>\n",
       "<style scoped>\n",
       "    .dataframe tbody tr th:only-of-type {\n",
       "        vertical-align: middle;\n",
       "    }\n",
       "\n",
       "    .dataframe tbody tr th {\n",
       "        vertical-align: top;\n",
       "    }\n",
       "\n",
       "    .dataframe thead th {\n",
       "        text-align: right;\n",
       "    }\n",
       "</style>\n",
       "<table border=\"1\" class=\"dataframe\">\n",
       "  <thead>\n",
       "    <tr style=\"text-align: right;\">\n",
       "      <th></th>\n",
       "      <th>date</th>\n",
       "      <th>species</th>\n",
       "      <th>trap</th>\n",
       "      <th>latitude</th>\n",
       "      <th>longitude</th>\n",
       "      <th>nummosquitos</th>\n",
       "      <th>wnvpresent</th>\n",
       "      <th>totalmozzies</th>\n",
       "      <th>year</th>\n",
       "      <th>weekofyear</th>\n",
       "    </tr>\n",
       "  </thead>\n",
       "  <tbody>\n",
       "    <tr>\n",
       "      <th>0</th>\n",
       "      <td>2007-05-29</td>\n",
       "      <td>CULEX PIPIENS/RESTUANS</td>\n",
       "      <td>T002</td>\n",
       "      <td>41.954690</td>\n",
       "      <td>-87.800991</td>\n",
       "      <td>1</td>\n",
       "      <td>0</td>\n",
       "      <td>1</td>\n",
       "      <td>2007</td>\n",
       "      <td>22</td>\n",
       "    </tr>\n",
       "    <tr>\n",
       "      <th>4703</th>\n",
       "      <td>2009-07-13</td>\n",
       "      <td>CULEX PIPIENS</td>\n",
       "      <td>T102</td>\n",
       "      <td>41.750498</td>\n",
       "      <td>-87.605294</td>\n",
       "      <td>1</td>\n",
       "      <td>0</td>\n",
       "      <td>1</td>\n",
       "      <td>2009</td>\n",
       "      <td>29</td>\n",
       "    </tr>\n",
       "    <tr>\n",
       "      <th>4730</th>\n",
       "      <td>2009-07-17</td>\n",
       "      <td>CULEX PIPIENS</td>\n",
       "      <td>T046</td>\n",
       "      <td>41.891118</td>\n",
       "      <td>-87.654491</td>\n",
       "      <td>1</td>\n",
       "      <td>0</td>\n",
       "      <td>1</td>\n",
       "      <td>2009</td>\n",
       "      <td>29</td>\n",
       "    </tr>\n",
       "    <tr>\n",
       "      <th>4731</th>\n",
       "      <td>2009-07-17</td>\n",
       "      <td>CULEX SALINARIUS</td>\n",
       "      <td>T046</td>\n",
       "      <td>41.891118</td>\n",
       "      <td>-87.654491</td>\n",
       "      <td>1</td>\n",
       "      <td>0</td>\n",
       "      <td>1</td>\n",
       "      <td>2009</td>\n",
       "      <td>29</td>\n",
       "    </tr>\n",
       "    <tr>\n",
       "      <th>4734</th>\n",
       "      <td>2009-07-17</td>\n",
       "      <td>CULEX PIPIENS/RESTUANS</td>\n",
       "      <td>T049</td>\n",
       "      <td>41.896282</td>\n",
       "      <td>-87.655232</td>\n",
       "      <td>1</td>\n",
       "      <td>0</td>\n",
       "      <td>1</td>\n",
       "      <td>2009</td>\n",
       "      <td>29</td>\n",
       "    </tr>\n",
       "  </tbody>\n",
       "</table>\n",
       "</div>"
      ],
      "text/plain": [
       "           date                 species  trap   latitude  longitude  \\\n",
       "0    2007-05-29  CULEX PIPIENS/RESTUANS  T002  41.954690 -87.800991   \n",
       "4703 2009-07-13           CULEX PIPIENS  T102  41.750498 -87.605294   \n",
       "4730 2009-07-17           CULEX PIPIENS  T046  41.891118 -87.654491   \n",
       "4731 2009-07-17        CULEX SALINARIUS  T046  41.891118 -87.654491   \n",
       "4734 2009-07-17  CULEX PIPIENS/RESTUANS  T049  41.896282 -87.655232   \n",
       "\n",
       "      nummosquitos  wnvpresent  totalmozzies  year  weekofyear  \n",
       "0                1           0             1  2007          22  \n",
       "4703             1           0             1  2009          29  \n",
       "4730             1           0             1  2009          29  \n",
       "4731             1           0             1  2009          29  \n",
       "4734             1           0             1  2009          29  "
      ]
     },
     "metadata": {},
     "output_type": "display_data"
    },
    {
     "data": {
      "text/html": [
       "<div>\n",
       "<style scoped>\n",
       "    .dataframe tbody tr th:only-of-type {\n",
       "        vertical-align: middle;\n",
       "    }\n",
       "\n",
       "    .dataframe tbody tr th {\n",
       "        vertical-align: top;\n",
       "    }\n",
       "\n",
       "    .dataframe thead th {\n",
       "        text-align: right;\n",
       "    }\n",
       "</style>\n",
       "<table border=\"1\" class=\"dataframe\">\n",
       "  <thead>\n",
       "    <tr style=\"text-align: right;\">\n",
       "      <th></th>\n",
       "      <th>id</th>\n",
       "      <th>date</th>\n",
       "      <th>species</th>\n",
       "      <th>trap</th>\n",
       "      <th>latitude</th>\n",
       "      <th>longitude</th>\n",
       "      <th>year</th>\n",
       "      <th>weekofyear</th>\n",
       "    </tr>\n",
       "  </thead>\n",
       "  <tbody>\n",
       "    <tr>\n",
       "      <th>0</th>\n",
       "      <td>1</td>\n",
       "      <td>2008-06-11</td>\n",
       "      <td>CULEX PIPIENS/RESTUANS</td>\n",
       "      <td>T002</td>\n",
       "      <td>41.95469</td>\n",
       "      <td>-87.800991</td>\n",
       "      <td>2008</td>\n",
       "      <td>24</td>\n",
       "    </tr>\n",
       "    <tr>\n",
       "      <th>1</th>\n",
       "      <td>2</td>\n",
       "      <td>2008-06-11</td>\n",
       "      <td>CULEX RESTUANS</td>\n",
       "      <td>T002</td>\n",
       "      <td>41.95469</td>\n",
       "      <td>-87.800991</td>\n",
       "      <td>2008</td>\n",
       "      <td>24</td>\n",
       "    </tr>\n",
       "    <tr>\n",
       "      <th>2</th>\n",
       "      <td>3</td>\n",
       "      <td>2008-06-11</td>\n",
       "      <td>CULEX PIPIENS</td>\n",
       "      <td>T002</td>\n",
       "      <td>41.95469</td>\n",
       "      <td>-87.800991</td>\n",
       "      <td>2008</td>\n",
       "      <td>24</td>\n",
       "    </tr>\n",
       "    <tr>\n",
       "      <th>3</th>\n",
       "      <td>4</td>\n",
       "      <td>2008-06-11</td>\n",
       "      <td>CULEX SALINARIUS</td>\n",
       "      <td>T002</td>\n",
       "      <td>41.95469</td>\n",
       "      <td>-87.800991</td>\n",
       "      <td>2008</td>\n",
       "      <td>24</td>\n",
       "    </tr>\n",
       "    <tr>\n",
       "      <th>4</th>\n",
       "      <td>5</td>\n",
       "      <td>2008-06-11</td>\n",
       "      <td>CULEX TERRITANS</td>\n",
       "      <td>T002</td>\n",
       "      <td>41.95469</td>\n",
       "      <td>-87.800991</td>\n",
       "      <td>2008</td>\n",
       "      <td>24</td>\n",
       "    </tr>\n",
       "  </tbody>\n",
       "</table>\n",
       "</div>"
      ],
      "text/plain": [
       "   id       date                 species  trap  latitude  longitude  year  \\\n",
       "0   1 2008-06-11  CULEX PIPIENS/RESTUANS  T002  41.95469 -87.800991  2008   \n",
       "1   2 2008-06-11          CULEX RESTUANS  T002  41.95469 -87.800991  2008   \n",
       "2   3 2008-06-11           CULEX PIPIENS  T002  41.95469 -87.800991  2008   \n",
       "3   4 2008-06-11        CULEX SALINARIUS  T002  41.95469 -87.800991  2008   \n",
       "4   5 2008-06-11         CULEX TERRITANS  T002  41.95469 -87.800991  2008   \n",
       "\n",
       "   weekofyear  \n",
       "0          24  \n",
       "1          24  \n",
       "2          24  \n",
       "3          24  \n",
       "4          24  "
      ]
     },
     "metadata": {},
     "output_type": "display_data"
    }
   ],
   "source": [
    "display(train.head())\n",
    "display(test.head())"
   ]
  },
  {
   "cell_type": "markdown",
   "id": "e3467509",
   "metadata": {
    "heading_collapsed": true
   },
   "source": [
    "# EDA - train"
   ]
  },
  {
   "cell_type": "markdown",
   "id": "97652e8c",
   "metadata": {
    "hidden": true
   },
   "source": [
    "Only 3 species from the train data set seem to be carriers of the WNV: \n",
    "* Culex Pipens/Restuans\n",
    "* Culex Restuans\n",
    "* Culex Pipiens"
   ]
  },
  {
   "cell_type": "code",
   "execution_count": 18,
   "id": "1bc79aca",
   "metadata": {
    "ExecuteTime": {
     "end_time": "2022-01-26T01:59:50.002122Z",
     "start_time": "2022-01-26T01:59:48.408394Z"
    },
    "hidden": true
   },
   "outputs": [
    {
     "data": {
      "image/png": "[encoded data removed]",
      "text/plain": [
       "<Figure size 1008x720 with 1 Axes>"
      ]
     },
     "metadata": {
      "needs_background": "light"
     },
     "output_type": "display_data"
    }
   ],
   "source": [
    "# show total mozzies by species\n",
    "\n",
    "plt.figure(figsize=(14, 10))\n",
    "plot = sns.barplot(\n",
    "    x=\"species\", y=\"totalmozzies\", hue=\"wnvpresent\", data=train, estimator=sum\n",
    ")\n",
    "plt.xticks(rotation=90, fontsize=8)\n",
    "plt.ylabel(\"Total Number of Mozzies\", fontsize=14)\n",
    "plt.xlabel(\"Little Fcukers\", fontsize=14)\n",
    "plt.legend(loc=\"upper right\", title=\"Virus\")\n",
    "plt.title(\"Mozzies by Species (2007-2013)\", fontsize=20)\n",
    "plt.show()"
   ]
  },
  {
   "cell_type": "markdown",
   "id": "eb674277",
   "metadata": {
    "hidden": true
   },
   "source": [
    "Over the years, number of culex pipiens seem to have decreased, but increased again in 2013. \n",
    "\n",
    "Culex pipiens/restuans (no idea what these are) seem to have decreased then increased again. IF this is a combination of the 2 species of mosquitoes, then the pattern we are seeing seems to be congruent with our observations for culex pipiens and culex restuans.\n",
    "\n",
    "There seems to be no effect of spraying on culex restuans, in fact the population has steadily increased over the years. Possible things to explore: \n",
    "1) Did they develop a resistance to the sprays? \n",
    "\n",
    "2) Were the areas where culex restuans found even sprayed at all? \n",
    "\n",
    "3) Which areas were these found in? Did they have a different climate compared to the other species of mosquitoes? "
   ]
  },
  {
   "cell_type": "code",
   "execution_count": 19,
   "id": "d3b1be72",
   "metadata": {
    "ExecuteTime": {
     "end_time": "2022-01-26T01:59:50.310906Z",
     "start_time": "2022-01-26T01:59:50.003328Z"
    },
    "hidden": true
   },
   "outputs": [
    {
     "data": {
      "text/plain": [
       "Text(0, 0.5, 'Total Number of Mozzies')"
      ]
     },
     "execution_count": 19,
     "metadata": {},
     "output_type": "execute_result"
    },
    {
     "data": {
      "image/png": "[encoded data removed]",
      "text/plain": [
       "<Figure size 1008x720 with 1 Axes>"
      ]
     },
     "metadata": {
      "needs_background": "light"
     },
     "output_type": "display_data"
    }
   ],
   "source": [
    "# species by years\n",
    "\n",
    "moz_year = train.groupby([\"year\", \"species\"], as_index=False).sum()\n",
    "\n",
    "plt.figure(figsize=(14, 10))\n",
    "plt.title(\"Number of Mozzies (by year)\")\n",
    "sns.barplot(x=\"year\", y=\"totalmozzies\", hue=\"species\", data=moz_year)\n",
    "plt.xlabel(\"Year\")\n",
    "plt.ylabel(\"Total Number of Mozzies\")"
   ]
  },
  {
   "cell_type": "code",
   "execution_count": 20,
   "id": "73f90c99",
   "metadata": {
    "ExecuteTime": {
     "end_time": "2022-01-26T01:59:50.316822Z",
     "start_time": "2022-01-26T01:59:50.312283Z"
    },
    "hidden": true
   },
   "outputs": [
    {
     "data": {
      "text/plain": [
       "0    0.947852\n",
       "1    0.052148\n",
       "Name: wnvpresent, dtype: float64"
      ]
     },
     "execution_count": 20,
     "metadata": {},
     "output_type": "execute_result"
    }
   ],
   "source": [
    "# baseline accuracy\n",
    "\n",
    "train['wnvpresent'].value_counts(normalize=True)"
   ]
  },
  {
   "cell_type": "code",
   "execution_count": 21,
   "id": "eaf0ab04",
   "metadata": {
    "ExecuteTime": {
     "end_time": "2022-01-26T01:59:51.100913Z",
     "start_time": "2022-01-26T01:59:50.318147Z"
    },
    "hidden": true
   },
   "outputs": [
    {
     "data": {
      "text/plain": [
       "<AxesSubplot:xlabel='totalmozzies', ylabel='wnvpresent'>"
      ]
     },
     "execution_count": 21,
     "metadata": {},
     "output_type": "execute_result"
    },
    {
     "data": {
      "image/png": "[encoded data removed]",
      "text/plain": [
       "<Figure size 432x288 with 1 Axes>"
      ]
     },
     "metadata": {
      "needs_background": "light"
     },
     "output_type": "display_data"
    }
   ],
   "source": [
    "# correlation between total number of mosquitoes vs wnv \n",
    "\n",
    "# this is not a good representation? 1) binary 2) imbalanced class \n",
    "\n",
    "sns.regplot(x=train['totalmozzies'], y=train['wnvpresent'])\n"
   ]
  },
  {
   "cell_type": "code",
   "execution_count": 22,
   "id": "50781354",
   "metadata": {
    "ExecuteTime": {
     "end_time": "2022-01-26T01:59:51.104711Z",
     "start_time": "2022-01-26T01:59:51.102574Z"
    },
    "hidden": true,
    "scrolled": true
   },
   "outputs": [],
   "source": [
    "# mozzies by area? "
   ]
  },
  {
   "cell_type": "code",
   "execution_count": 23,
   "id": "94017854",
   "metadata": {
    "ExecuteTime": {
     "end_time": "2022-01-26T01:59:51.116618Z",
     "start_time": "2022-01-26T01:59:51.114470Z"
    },
    "hidden": true
   },
   "outputs": [],
   "source": [
    "# to decide if we should get_dummies for species that contribute to WNV\n",
    "\n",
    "# join train with weather dataset based on date (and close-ness to the weather station?)"
   ]
  },
  {
   "cell_type": "markdown",
   "id": "6c5c4b38",
   "metadata": {
    "heading_collapsed": true
   },
   "source": [
    "# clean spray + eda"
   ]
  },
  {
   "cell_type": "code",
   "execution_count": 24,
   "id": "7811a39f",
   "metadata": {
    "ExecuteTime": {
     "end_time": "2022-01-26T01:59:51.122509Z",
     "start_time": "2022-01-26T01:59:51.118596Z"
    },
    "hidden": true
   },
   "outputs": [
    {
     "data": {
      "text/plain": [
       "(14835, 4)"
      ]
     },
     "execution_count": 24,
     "metadata": {},
     "output_type": "execute_result"
    }
   ],
   "source": [
    "spray.shape"
   ]
  },
  {
   "cell_type": "code",
   "execution_count": 25,
   "id": "7fe15535",
   "metadata": {
    "ExecuteTime": {
     "end_time": "2022-01-26T01:59:51.135400Z",
     "start_time": "2022-01-26T01:59:51.124135Z"
    },
    "hidden": true
   },
   "outputs": [],
   "source": [
    "spray.dropna(inplace=True) \n",
    "\n",
    "# also drop time column as this is not present in any other dataset \n",
    "spray.drop(columns='Time', inplace=True)"
   ]
  },
  {
   "cell_type": "code",
   "execution_count": 26,
   "id": "3d0a141c",
   "metadata": {
    "ExecuteTime": {
     "end_time": "2022-01-26T01:59:51.140960Z",
     "start_time": "2022-01-26T01:59:51.137179Z"
    },
    "hidden": true
   },
   "outputs": [
    {
     "data": {
      "text/plain": [
       "(14251, 3)"
      ]
     },
     "execution_count": 26,
     "metadata": {},
     "output_type": "execute_result"
    }
   ],
   "source": [
    "spray.shape"
   ]
  },
  {
   "cell_type": "code",
   "execution_count": 27,
   "id": "6188940a",
   "metadata": {
    "ExecuteTime": {
     "end_time": "2022-01-26T01:59:51.256774Z",
     "start_time": "2022-01-26T01:59:51.143343Z"
    },
    "hidden": true
   },
   "outputs": [
    {
     "data": {
      "text/plain": [
       "date          datetime64[ns]\n",
       "latitude             float64\n",
       "longitude            float64\n",
       "year                   int64\n",
       "weekofyear            UInt32\n",
       "dtype: object"
      ]
     },
     "metadata": {},
     "output_type": "display_data"
    }
   ],
   "source": [
    "cleaner(spray)"
   ]
  },
  {
   "cell_type": "code",
   "execution_count": 28,
   "id": "40185ad9",
   "metadata": {
    "ExecuteTime": {
     "end_time": "2022-01-26T01:59:51.274901Z",
     "start_time": "2022-01-26T01:59:51.258582Z"
    },
    "hidden": true,
    "scrolled": true
   },
   "outputs": [
    {
     "data": {
      "text/html": [
       "<div>\n",
       "<style scoped>\n",
       "    .dataframe tbody tr th:only-of-type {\n",
       "        vertical-align: middle;\n",
       "    }\n",
       "\n",
       "    .dataframe tbody tr th {\n",
       "        vertical-align: top;\n",
       "    }\n",
       "\n",
       "    .dataframe thead th {\n",
       "        text-align: right;\n",
       "    }\n",
       "</style>\n",
       "<table border=\"1\" class=\"dataframe\">\n",
       "  <thead>\n",
       "    <tr style=\"text-align: right;\">\n",
       "      <th></th>\n",
       "      <th>date</th>\n",
       "      <th>latitude</th>\n",
       "      <th>longitude</th>\n",
       "      <th>year</th>\n",
       "      <th>weekofyear</th>\n",
       "    </tr>\n",
       "  </thead>\n",
       "  <tbody>\n",
       "    <tr>\n",
       "      <th>485</th>\n",
       "      <td>2011-09-07</td>\n",
       "      <td>41.983917</td>\n",
       "      <td>-87.793088</td>\n",
       "      <td>2011</td>\n",
       "      <td>36</td>\n",
       "    </tr>\n",
       "    <tr>\n",
       "      <th>490</th>\n",
       "      <td>2011-09-07</td>\n",
       "      <td>41.986460</td>\n",
       "      <td>-87.794225</td>\n",
       "      <td>2011</td>\n",
       "      <td>36</td>\n",
       "    </tr>\n",
       "    <tr>\n",
       "      <th>491</th>\n",
       "      <td>2011-09-07</td>\n",
       "      <td>41.986460</td>\n",
       "      <td>-87.794225</td>\n",
       "      <td>2011</td>\n",
       "      <td>36</td>\n",
       "    </tr>\n",
       "    <tr>\n",
       "      <th>492</th>\n",
       "      <td>2011-09-07</td>\n",
       "      <td>41.986460</td>\n",
       "      <td>-87.794225</td>\n",
       "      <td>2011</td>\n",
       "      <td>36</td>\n",
       "    </tr>\n",
       "    <tr>\n",
       "      <th>493</th>\n",
       "      <td>2011-09-07</td>\n",
       "      <td>41.986460</td>\n",
       "      <td>-87.794225</td>\n",
       "      <td>2011</td>\n",
       "      <td>36</td>\n",
       "    </tr>\n",
       "    <tr>\n",
       "      <th>...</th>\n",
       "      <td>...</td>\n",
       "      <td>...</td>\n",
       "      <td>...</td>\n",
       "      <td>...</td>\n",
       "      <td>...</td>\n",
       "    </tr>\n",
       "    <tr>\n",
       "      <th>1025</th>\n",
       "      <td>2011-09-07</td>\n",
       "      <td>41.986460</td>\n",
       "      <td>-87.794225</td>\n",
       "      <td>2011</td>\n",
       "      <td>36</td>\n",
       "    </tr>\n",
       "    <tr>\n",
       "      <th>1026</th>\n",
       "      <td>2011-09-07</td>\n",
       "      <td>41.986460</td>\n",
       "      <td>-87.794225</td>\n",
       "      <td>2011</td>\n",
       "      <td>36</td>\n",
       "    </tr>\n",
       "    <tr>\n",
       "      <th>1027</th>\n",
       "      <td>2011-09-07</td>\n",
       "      <td>41.986460</td>\n",
       "      <td>-87.794225</td>\n",
       "      <td>2011</td>\n",
       "      <td>36</td>\n",
       "    </tr>\n",
       "    <tr>\n",
       "      <th>1028</th>\n",
       "      <td>2011-09-07</td>\n",
       "      <td>41.986460</td>\n",
       "      <td>-87.794225</td>\n",
       "      <td>2011</td>\n",
       "      <td>36</td>\n",
       "    </tr>\n",
       "    <tr>\n",
       "      <th>1029</th>\n",
       "      <td>2011-09-07</td>\n",
       "      <td>41.986460</td>\n",
       "      <td>-87.794225</td>\n",
       "      <td>2011</td>\n",
       "      <td>36</td>\n",
       "    </tr>\n",
       "  </tbody>\n",
       "</table>\n",
       "<p>541 rows × 5 columns</p>\n",
       "</div>"
      ],
      "text/plain": [
       "           date   latitude  longitude  year  weekofyear\n",
       "485  2011-09-07  41.983917 -87.793088  2011          36\n",
       "490  2011-09-07  41.986460 -87.794225  2011          36\n",
       "491  2011-09-07  41.986460 -87.794225  2011          36\n",
       "492  2011-09-07  41.986460 -87.794225  2011          36\n",
       "493  2011-09-07  41.986460 -87.794225  2011          36\n",
       "...         ...        ...        ...   ...         ...\n",
       "1025 2011-09-07  41.986460 -87.794225  2011          36\n",
       "1026 2011-09-07  41.986460 -87.794225  2011          36\n",
       "1027 2011-09-07  41.986460 -87.794225  2011          36\n",
       "1028 2011-09-07  41.986460 -87.794225  2011          36\n",
       "1029 2011-09-07  41.986460 -87.794225  2011          36\n",
       "\n",
       "[541 rows x 5 columns]"
      ]
     },
     "execution_count": 28,
     "metadata": {},
     "output_type": "execute_result"
    }
   ],
   "source": [
    "spray[spray.duplicated()] # to drop these 541 rows"
   ]
  },
  {
   "cell_type": "code",
   "execution_count": 29,
   "id": "672730de",
   "metadata": {
    "ExecuteTime": {
     "end_time": "2022-01-26T01:59:51.284992Z",
     "start_time": "2022-01-26T01:59:51.276436Z"
    },
    "hidden": true
   },
   "outputs": [
    {
     "data": {
      "text/plain": [
       "(13710, 5)"
      ]
     },
     "execution_count": 29,
     "metadata": {},
     "output_type": "execute_result"
    }
   ],
   "source": [
    "spray.drop_duplicates(inplace=True)\n",
    "spray.shape"
   ]
  },
  {
   "cell_type": "code",
   "execution_count": 30,
   "id": "9544173f",
   "metadata": {
    "ExecuteTime": {
     "end_time": "2022-01-26T01:59:51.288639Z",
     "start_time": "2022-01-26T01:59:51.286329Z"
    },
    "hidden": true
   },
   "outputs": [],
   "source": [
    "# maybe can plot when each place was sprayed? frequency?"
   ]
  },
  {
   "cell_type": "code",
   "execution_count": 31,
   "id": "0babc737",
   "metadata": {
    "ExecuteTime": {
     "end_time": "2022-01-26T01:59:51.299847Z",
     "start_time": "2022-01-26T01:59:51.290258Z"
    },
    "hidden": true
   },
   "outputs": [
    {
     "data": {
      "text/plain": [
       "array(['2013-07-17T00:00:00.000000000', '2013-07-25T00:00:00.000000000',\n",
       "       '2013-08-08T00:00:00.000000000', '2013-08-15T00:00:00.000000000',\n",
       "       '2013-08-16T00:00:00.000000000', '2013-08-22T00:00:00.000000000',\n",
       "       '2013-08-29T00:00:00.000000000', '2013-09-05T00:00:00.000000000'],\n",
       "      dtype='datetime64[ns]')"
      ]
     },
     "execution_count": 31,
     "metadata": {},
     "output_type": "execute_result"
    }
   ],
   "source": [
    "# when were sprays implemented\n",
    "\n",
    "# Split the dataframe based on year\n",
    "spray_df_2013 = spray[spray['date'].dt.year == 2013]\n",
    "spray_df_2011 = spray[spray['date'].dt.year == 2011]\n",
    "\n",
    "spray_2011 = spray_df_2011['date'].unique()[:2]\n",
    "spray_2011\n",
    "\n",
    "spray_2013 = spray_df_2013['date'].unique()[:8]\n",
    "spray_2013"
   ]
  },
  {
   "cell_type": "markdown",
   "id": "53827dcb",
   "metadata": {
    "heading_collapsed": true
   },
   "source": [
    "# Spray vs Mozzies vs WNV"
   ]
  },
  {
   "cell_type": "code",
   "execution_count": 32,
   "id": "64db54fa",
   "metadata": {
    "ExecuteTime": {
     "end_time": "2022-01-26T01:59:51.615962Z",
     "start_time": "2022-01-26T01:59:51.301280Z"
    },
    "hidden": true
   },
   "outputs": [
    {
     "data": {
      "image/png": "[encoded data removed]",
      "text/plain": [
       "<Figure size 1080x432 with 2 Axes>"
      ]
     },
     "metadata": {
      "needs_background": "light"
     },
     "output_type": "display_data"
    }
   ],
   "source": [
    "moz_2013 = train[train['date'].dt.year==2013].groupby('date')['totalmozzies'].sum()\n",
    "wnv_2013 = train[train['date'].dt.year==2013].groupby('date')['wnvpresent'].sum()\n",
    "\n",
    "\n",
    "fig, ax = plt.subplots(nrows=2, figsize=(15,6))\n",
    "ax[0].plot(moz_2013.index, moz_2013.values, color='black')\n",
    "for date in spray_2013:\n",
    "    ax[0].axvline(x=date, color='green', ls='-')\n",
    "ax[0].set_title('total mosquitos 2013')\n",
    "ax[0].legend(['mosquitos','spray'], loc='upper right')\n",
    "\n",
    "\n",
    "ax[1].plot(wnv_2013.index, wnv_2013.values, color='blue')\n",
    "for date in spray_2013:\n",
    "    ax[1].axvline(x=date, color='green', ls='-')\n",
    "ax[1].set_title('wnv 2013')\n",
    "ax[1].legend(['wnv','spray'], loc='upper right')\n",
    "\n",
    "\n",
    "plt.tight_layout()"
   ]
  },
  {
   "cell_type": "markdown",
   "id": "23d0b703",
   "metadata": {
    "hidden": true
   },
   "source": [
    "For 2013, mosquitoes were sprayed mosquitoes extensively. It seemed to work in the beginning, but mid-August, despite spraying the mosquito population (that had WNV) went up although total number of mosquitoes kind of remained constant. Could it be due to weather factors? "
   ]
  },
  {
   "cell_type": "code",
   "execution_count": 33,
   "id": "11980d6d",
   "metadata": {
    "ExecuteTime": {
     "end_time": "2022-01-26T01:59:51.898659Z",
     "start_time": "2022-01-26T01:59:51.617198Z"
    },
    "hidden": true
   },
   "outputs": [
    {
     "data": {
      "image/png": "[encoded data removed]",
      "text/plain": [
       "<Figure size 1080x432 with 2 Axes>"
      ]
     },
     "metadata": {
      "needs_background": "light"
     },
     "output_type": "display_data"
    }
   ],
   "source": [
    "moz_2011 = train[train['date'].dt.year==2011].groupby('date')['totalmozzies'].sum()\n",
    "wnv_2011 = train[train['date'].dt.year==2011].groupby('date')['wnvpresent'].sum()\n",
    "\n",
    "\n",
    "fig, ax = plt.subplots(nrows=2, figsize=(15,6))\n",
    "ax[0].plot(moz_2011.index, moz_2011.values, color='black')\n",
    "for date in spray_2011:\n",
    "    ax[0].axvline(x=date, color='green', ls='-')\n",
    "ax[0].set_title('total mosquitos 2011')\n",
    "ax[0].legend(['mosquitos','spray'], loc='upper right')\n",
    "\n",
    "\n",
    "ax[1].plot(wnv_2011.index, wnv_2011.values, color='blue')\n",
    "for date in spray_2011:\n",
    "    ax[1].axvline(x=date, color='green', ls='-')\n",
    "ax[1].set_title('wnv 2011')\n",
    "ax[1].legend(['wnv','spray'], loc='upper right')\n",
    "\n",
    "\n",
    "plt.tight_layout()"
   ]
  },
  {
   "cell_type": "markdown",
   "id": "b99b598f",
   "metadata": {
    "hidden": true
   },
   "source": [
    "Only sprayed mosquitoes twice. It did not seem to work? For the first spray, total mosquito population decreased, but WNV was constant. After the 2nd spray, both mosquito population and WNV mosquitoes went up, suggesting that 1) the sprays are not effective, or 2) there could be other factors that increased mosquito breeding / propagation of WNV. "
   ]
  },
  {
   "cell_type": "markdown",
   "id": "b3d985c2",
   "metadata": {},
   "source": [
    "# Join train+test with weather_clean (from Harry)"
   ]
  },
  {
   "cell_type": "code",
   "execution_count": 34,
   "id": "487d3623",
   "metadata": {
    "ExecuteTime": {
     "end_time": "2022-01-26T01:59:51.908898Z",
     "start_time": "2022-01-26T01:59:51.899954Z"
    }
   },
   "outputs": [],
   "source": [
    "weather = pd.read_csv('data/weather_clean.csv')"
   ]
  },
  {
   "cell_type": "code",
   "execution_count": 35,
   "id": "4b23b1e3",
   "metadata": {
    "ExecuteTime": {
     "end_time": "2022-01-26T01:59:51.913473Z",
     "start_time": "2022-01-26T01:59:51.910141Z"
    }
   },
   "outputs": [],
   "source": [
    "weather.drop(columns='Unnamed: 0', inplace=True)"
   ]
  },
  {
   "cell_type": "code",
   "execution_count": 36,
   "id": "43121049",
   "metadata": {
    "ExecuteTime": {
     "end_time": "2022-01-26T01:59:51.922912Z",
     "start_time": "2022-01-26T01:59:51.914796Z"
    }
   },
   "outputs": [
    {
     "name": "stdout",
     "output_type": "stream",
     "text": [
      "<class 'pandas.core.frame.DataFrame'>\n",
      "RangeIndex: 1472 entries, 0 to 1471\n",
      "Data columns (total 20 columns):\n",
      " #   Column       Non-Null Count  Dtype  \n",
      "---  ------       --------------  -----  \n",
      " 0   Date         1472 non-null   object \n",
      " 1   Tmax         1472 non-null   float64\n",
      " 2   Tmin         1472 non-null   float64\n",
      " 3   Tavg         1472 non-null   float64\n",
      " 4   Depart       1472 non-null   float64\n",
      " 5   DewPoint     1472 non-null   float64\n",
      " 6   Heat         1472 non-null   float64\n",
      " 7   Cool         1472 non-null   float64\n",
      " 8   Sunrise      1472 non-null   float64\n",
      " 9   Sunset       1472 non-null   float64\n",
      " 10  SnowFall     1472 non-null   float64\n",
      " 11  PrecipTotal  1472 non-null   float64\n",
      " 12  StnPressure  1472 non-null   float64\n",
      " 13  SeaLevel     1472 non-null   float64\n",
      " 14  ResultSpeed  1472 non-null   float64\n",
      " 15  ResultDir    1472 non-null   float64\n",
      " 16  AvgSpeed     1472 non-null   float64\n",
      " 17  Humidity     1472 non-null   float64\n",
      " 18  daylength    1472 non-null   float64\n",
      " 19  CodeSum      755 non-null    object \n",
      "dtypes: float64(18), object(2)\n",
      "memory usage: 230.1+ KB\n"
     ]
    }
   ],
   "source": [
    "weather.info()"
   ]
  },
  {
   "cell_type": "code",
   "execution_count": 37,
   "id": "6e5a9f8a",
   "metadata": {
    "ExecuteTime": {
     "end_time": "2022-01-26T01:59:51.942522Z",
     "start_time": "2022-01-26T01:59:51.924287Z"
    }
   },
   "outputs": [
    {
     "data": {
      "text/plain": [
       "date           datetime64[ns]\n",
       "tmax                  float64\n",
       "tmin                  float64\n",
       "tavg                  float64\n",
       "depart                float64\n",
       "dewpoint              float64\n",
       "heat                  float64\n",
       "cool                  float64\n",
       "sunrise               float64\n",
       "sunset                float64\n",
       "snowfall              float64\n",
       "preciptotal           float64\n",
       "stnpressure           float64\n",
       "sealevel              float64\n",
       "resultspeed           float64\n",
       "resultdir             float64\n",
       "avgspeed              float64\n",
       "humidity              float64\n",
       "daylength             float64\n",
       "codesum                object\n",
       "year                    int64\n",
       "weekofyear             UInt32\n",
       "dtype: object"
      ]
     },
     "metadata": {},
     "output_type": "display_data"
    }
   ],
   "source": [
    "# clean weather columns & datatypes\n",
    "cleaner(weather)"
   ]
  },
  {
   "cell_type": "code",
   "execution_count": 38,
   "id": "a2648f52",
   "metadata": {
    "ExecuteTime": {
     "end_time": "2022-01-26T01:59:51.945697Z",
     "start_time": "2022-01-26T01:59:51.943737Z"
    }
   },
   "outputs": [],
   "source": [
    "# 717 null values in CodeSum (how to impute?)\n",
    "# weather.isnull().sum() "
   ]
  },
  {
   "cell_type": "code",
   "execution_count": 39,
   "id": "f74abe67",
   "metadata": {
    "ExecuteTime": {
     "end_time": "2022-01-26T01:59:51.984050Z",
     "start_time": "2022-01-26T01:59:51.947643Z"
    }
   },
   "outputs": [
    {
     "data": {
      "text/html": [
       "<div>\n",
       "<style scoped>\n",
       "    .dataframe tbody tr th:only-of-type {\n",
       "        vertical-align: middle;\n",
       "    }\n",
       "\n",
       "    .dataframe tbody tr th {\n",
       "        vertical-align: top;\n",
       "    }\n",
       "\n",
       "    .dataframe thead th {\n",
       "        text-align: right;\n",
       "    }\n",
       "</style>\n",
       "<table border=\"1\" class=\"dataframe\">\n",
       "  <thead>\n",
       "    <tr style=\"text-align: right;\">\n",
       "      <th></th>\n",
       "      <th>date</th>\n",
       "      <th>species</th>\n",
       "      <th>trap</th>\n",
       "      <th>latitude</th>\n",
       "      <th>longitude</th>\n",
       "      <th>nummosquitos</th>\n",
       "      <th>wnvpresent</th>\n",
       "      <th>totalmozzies</th>\n",
       "      <th>year</th>\n",
       "      <th>weekofyear</th>\n",
       "      <th>tmax</th>\n",
       "      <th>tmin</th>\n",
       "      <th>tavg</th>\n",
       "      <th>depart</th>\n",
       "      <th>dewpoint</th>\n",
       "      <th>heat</th>\n",
       "      <th>cool</th>\n",
       "      <th>sunrise</th>\n",
       "      <th>sunset</th>\n",
       "      <th>snowfall</th>\n",
       "      <th>preciptotal</th>\n",
       "      <th>stnpressure</th>\n",
       "      <th>sealevel</th>\n",
       "      <th>resultspeed</th>\n",
       "      <th>resultdir</th>\n",
       "      <th>avgspeed</th>\n",
       "      <th>humidity</th>\n",
       "      <th>daylength</th>\n",
       "      <th>codesum</th>\n",
       "    </tr>\n",
       "  </thead>\n",
       "  <tbody>\n",
       "    <tr>\n",
       "      <th>0</th>\n",
       "      <td>2007-05-29</td>\n",
       "      <td>CULEX PIPIENS/RESTUANS</td>\n",
       "      <td>T002</td>\n",
       "      <td>41.954690</td>\n",
       "      <td>-87.800991</td>\n",
       "      <td>1</td>\n",
       "      <td>0</td>\n",
       "      <td>1</td>\n",
       "      <td>2007</td>\n",
       "      <td>22</td>\n",
       "      <td>31.111111</td>\n",
       "      <td>16.944444</td>\n",
       "      <td>24.166667</td>\n",
       "      <td>10.0</td>\n",
       "      <td>14.722222</td>\n",
       "      <td>0.0</td>\n",
       "      <td>10.5</td>\n",
       "      <td>420.5</td>\n",
       "      <td>1917.0</td>\n",
       "      <td>0.0</td>\n",
       "      <td>0.0</td>\n",
       "      <td>29.415</td>\n",
       "      <td>30.1</td>\n",
       "      <td>5.8</td>\n",
       "      <td>17.0</td>\n",
       "      <td>6.95</td>\n",
       "      <td>55.5</td>\n",
       "      <td>896.5</td>\n",
       "      <td>BR HZ</td>\n",
       "    </tr>\n",
       "    <tr>\n",
       "      <th>1</th>\n",
       "      <td>2007-05-29</td>\n",
       "      <td>CULEX PIPIENS/RESTUANS</td>\n",
       "      <td>T148</td>\n",
       "      <td>42.017430</td>\n",
       "      <td>-87.687769</td>\n",
       "      <td>1</td>\n",
       "      <td>0</td>\n",
       "      <td>1</td>\n",
       "      <td>2007</td>\n",
       "      <td>22</td>\n",
       "      <td>31.111111</td>\n",
       "      <td>16.944444</td>\n",
       "      <td>24.166667</td>\n",
       "      <td>10.0</td>\n",
       "      <td>14.722222</td>\n",
       "      <td>0.0</td>\n",
       "      <td>10.5</td>\n",
       "      <td>420.5</td>\n",
       "      <td>1917.0</td>\n",
       "      <td>0.0</td>\n",
       "      <td>0.0</td>\n",
       "      <td>29.415</td>\n",
       "      <td>30.1</td>\n",
       "      <td>5.8</td>\n",
       "      <td>17.0</td>\n",
       "      <td>6.95</td>\n",
       "      <td>55.5</td>\n",
       "      <td>896.5</td>\n",
       "      <td>BR HZ</td>\n",
       "    </tr>\n",
       "    <tr>\n",
       "      <th>2</th>\n",
       "      <td>2007-05-29</td>\n",
       "      <td>CULEX RESTUANS</td>\n",
       "      <td>T153</td>\n",
       "      <td>41.907645</td>\n",
       "      <td>-87.760886</td>\n",
       "      <td>1</td>\n",
       "      <td>0</td>\n",
       "      <td>1</td>\n",
       "      <td>2007</td>\n",
       "      <td>22</td>\n",
       "      <td>31.111111</td>\n",
       "      <td>16.944444</td>\n",
       "      <td>24.166667</td>\n",
       "      <td>10.0</td>\n",
       "      <td>14.722222</td>\n",
       "      <td>0.0</td>\n",
       "      <td>10.5</td>\n",
       "      <td>420.5</td>\n",
       "      <td>1917.0</td>\n",
       "      <td>0.0</td>\n",
       "      <td>0.0</td>\n",
       "      <td>29.415</td>\n",
       "      <td>30.1</td>\n",
       "      <td>5.8</td>\n",
       "      <td>17.0</td>\n",
       "      <td>6.95</td>\n",
       "      <td>55.5</td>\n",
       "      <td>896.5</td>\n",
       "      <td>BR HZ</td>\n",
       "    </tr>\n",
       "    <tr>\n",
       "      <th>3</th>\n",
       "      <td>2007-05-29</td>\n",
       "      <td>CULEX RESTUANS</td>\n",
       "      <td>T159</td>\n",
       "      <td>41.732984</td>\n",
       "      <td>-87.649642</td>\n",
       "      <td>1</td>\n",
       "      <td>0</td>\n",
       "      <td>1</td>\n",
       "      <td>2007</td>\n",
       "      <td>22</td>\n",
       "      <td>31.111111</td>\n",
       "      <td>16.944444</td>\n",
       "      <td>24.166667</td>\n",
       "      <td>10.0</td>\n",
       "      <td>14.722222</td>\n",
       "      <td>0.0</td>\n",
       "      <td>10.5</td>\n",
       "      <td>420.5</td>\n",
       "      <td>1917.0</td>\n",
       "      <td>0.0</td>\n",
       "      <td>0.0</td>\n",
       "      <td>29.415</td>\n",
       "      <td>30.1</td>\n",
       "      <td>5.8</td>\n",
       "      <td>17.0</td>\n",
       "      <td>6.95</td>\n",
       "      <td>55.5</td>\n",
       "      <td>896.5</td>\n",
       "      <td>BR HZ</td>\n",
       "    </tr>\n",
       "    <tr>\n",
       "      <th>4</th>\n",
       "      <td>2007-05-29</td>\n",
       "      <td>CULEX PIPIENS/RESTUANS</td>\n",
       "      <td>T143</td>\n",
       "      <td>41.999129</td>\n",
       "      <td>-87.795585</td>\n",
       "      <td>1</td>\n",
       "      <td>0</td>\n",
       "      <td>1</td>\n",
       "      <td>2007</td>\n",
       "      <td>22</td>\n",
       "      <td>31.111111</td>\n",
       "      <td>16.944444</td>\n",
       "      <td>24.166667</td>\n",
       "      <td>10.0</td>\n",
       "      <td>14.722222</td>\n",
       "      <td>0.0</td>\n",
       "      <td>10.5</td>\n",
       "      <td>420.5</td>\n",
       "      <td>1917.0</td>\n",
       "      <td>0.0</td>\n",
       "      <td>0.0</td>\n",
       "      <td>29.415</td>\n",
       "      <td>30.1</td>\n",
       "      <td>5.8</td>\n",
       "      <td>17.0</td>\n",
       "      <td>6.95</td>\n",
       "      <td>55.5</td>\n",
       "      <td>896.5</td>\n",
       "      <td>BR HZ</td>\n",
       "    </tr>\n",
       "  </tbody>\n",
       "</table>\n",
       "</div>"
      ],
      "text/plain": [
       "        date                 species  trap   latitude  longitude  \\\n",
       "0 2007-05-29  CULEX PIPIENS/RESTUANS  T002  41.954690 -87.800991   \n",
       "1 2007-05-29  CULEX PIPIENS/RESTUANS  T148  42.017430 -87.687769   \n",
       "2 2007-05-29          CULEX RESTUANS  T153  41.907645 -87.760886   \n",
       "3 2007-05-29          CULEX RESTUANS  T159  41.732984 -87.649642   \n",
       "4 2007-05-29  CULEX PIPIENS/RESTUANS  T143  41.999129 -87.795585   \n",
       "\n",
       "   nummosquitos  wnvpresent  totalmozzies  year  weekofyear       tmax  \\\n",
       "0             1           0             1  2007          22  31.111111   \n",
       "1             1           0             1  2007          22  31.111111   \n",
       "2             1           0             1  2007          22  31.111111   \n",
       "3             1           0             1  2007          22  31.111111   \n",
       "4             1           0             1  2007          22  31.111111   \n",
       "\n",
       "        tmin       tavg  depart   dewpoint  heat  cool  sunrise  sunset  \\\n",
       "0  16.944444  24.166667    10.0  14.722222   0.0  10.5    420.5  1917.0   \n",
       "1  16.944444  24.166667    10.0  14.722222   0.0  10.5    420.5  1917.0   \n",
       "2  16.944444  24.166667    10.0  14.722222   0.0  10.5    420.5  1917.0   \n",
       "3  16.944444  24.166667    10.0  14.722222   0.0  10.5    420.5  1917.0   \n",
       "4  16.944444  24.166667    10.0  14.722222   0.0  10.5    420.5  1917.0   \n",
       "\n",
       "   snowfall  preciptotal  stnpressure  sealevel  resultspeed  resultdir  \\\n",
       "0       0.0          0.0       29.415      30.1          5.8       17.0   \n",
       "1       0.0          0.0       29.415      30.1          5.8       17.0   \n",
       "2       0.0          0.0       29.415      30.1          5.8       17.0   \n",
       "3       0.0          0.0       29.415      30.1          5.8       17.0   \n",
       "4       0.0          0.0       29.415      30.1          5.8       17.0   \n",
       "\n",
       "   avgspeed  humidity  daylength codesum  \n",
       "0      6.95      55.5      896.5   BR HZ  \n",
       "1      6.95      55.5      896.5   BR HZ  \n",
       "2      6.95      55.5      896.5   BR HZ  \n",
       "3      6.95      55.5      896.5   BR HZ  \n",
       "4      6.95      55.5      896.5   BR HZ  "
      ]
     },
     "execution_count": 39,
     "metadata": {},
     "output_type": "execute_result"
    }
   ],
   "source": [
    "# merge train dataset with weather\n",
    "final_train = pd.merge(train, weather, on='date')\n",
    "final_train.head()\n",
    "\n",
    "final_train.drop(columns=['year_y', 'weekofyear_y'], inplace=True)\n",
    "final_train.rename(columns={\"year_x\": \"year\", \"weekofyear_x\": \"weekofyear\"}, inplace=True)\n",
    "\n",
    "final_train.head()"
   ]
  },
  {
   "cell_type": "code",
   "execution_count": 40,
   "id": "a3737eaf",
   "metadata": {
    "ExecuteTime": {
     "end_time": "2022-01-26T01:59:51.998270Z",
     "start_time": "2022-01-26T01:59:51.987587Z"
    }
   },
   "outputs": [
    {
     "name": "stdout",
     "output_type": "stream",
     "text": [
      "<class 'pandas.core.frame.DataFrame'>\n",
      "Int64Index: 9799 entries, 0 to 9798\n",
      "Data columns (total 29 columns):\n",
      " #   Column        Non-Null Count  Dtype         \n",
      "---  ------        --------------  -----         \n",
      " 0   date          9799 non-null   datetime64[ns]\n",
      " 1   species       9799 non-null   object        \n",
      " 2   trap          9799 non-null   object        \n",
      " 3   latitude      9799 non-null   float64       \n",
      " 4   longitude     9799 non-null   float64       \n",
      " 5   nummosquitos  9799 non-null   int64         \n",
      " 6   wnvpresent    9799 non-null   int64         \n",
      " 7   totalmozzies  9799 non-null   int64         \n",
      " 8   year          9799 non-null   int64         \n",
      " 9   weekofyear    9799 non-null   UInt32        \n",
      " 10  tmax          9799 non-null   float64       \n",
      " 11  tmin          9799 non-null   float64       \n",
      " 12  tavg          9799 non-null   float64       \n",
      " 13  depart        9799 non-null   float64       \n",
      " 14  dewpoint      9799 non-null   float64       \n",
      " 15  heat          9799 non-null   float64       \n",
      " 16  cool          9799 non-null   float64       \n",
      " 17  sunrise       9799 non-null   float64       \n",
      " 18  sunset        9799 non-null   float64       \n",
      " 19  snowfall      9799 non-null   float64       \n",
      " 20  preciptotal   9799 non-null   float64       \n",
      " 21  stnpressure   9799 non-null   float64       \n",
      " 22  sealevel      9799 non-null   float64       \n",
      " 23  resultspeed   9799 non-null   float64       \n",
      " 24  resultdir     9799 non-null   float64       \n",
      " 25  avgspeed      9799 non-null   float64       \n",
      " 26  humidity      9799 non-null   float64       \n",
      " 27  daylength     9799 non-null   float64       \n",
      " 28  codesum       5430 non-null   object        \n",
      "dtypes: UInt32(1), datetime64[ns](1), float64(20), int64(4), object(3)\n",
      "memory usage: 2.2+ MB\n"
     ]
    }
   ],
   "source": [
    "final_train.info()"
   ]
  },
  {
   "cell_type": "code",
   "execution_count": 41,
   "id": "71624908",
   "metadata": {
    "ExecuteTime": {
     "end_time": "2022-01-26T01:59:52.109195Z",
     "start_time": "2022-01-26T01:59:51.999638Z"
    },
    "scrolled": true
   },
   "outputs": [
    {
     "data": {
      "text/html": [
       "<div>\n",
       "<style scoped>\n",
       "    .dataframe tbody tr th:only-of-type {\n",
       "        vertical-align: middle;\n",
       "    }\n",
       "\n",
       "    .dataframe tbody tr th {\n",
       "        vertical-align: top;\n",
       "    }\n",
       "\n",
       "    .dataframe thead th {\n",
       "        text-align: right;\n",
       "    }\n",
       "</style>\n",
       "<table border=\"1\" class=\"dataframe\">\n",
       "  <thead>\n",
       "    <tr style=\"text-align: right;\">\n",
       "      <th></th>\n",
       "      <th>id</th>\n",
       "      <th>date</th>\n",
       "      <th>species</th>\n",
       "      <th>trap</th>\n",
       "      <th>latitude</th>\n",
       "      <th>longitude</th>\n",
       "      <th>year</th>\n",
       "      <th>weekofyear</th>\n",
       "      <th>tmax</th>\n",
       "      <th>tmin</th>\n",
       "      <th>tavg</th>\n",
       "      <th>depart</th>\n",
       "      <th>dewpoint</th>\n",
       "      <th>heat</th>\n",
       "      <th>cool</th>\n",
       "      <th>sunrise</th>\n",
       "      <th>sunset</th>\n",
       "      <th>snowfall</th>\n",
       "      <th>preciptotal</th>\n",
       "      <th>stnpressure</th>\n",
       "      <th>sealevel</th>\n",
       "      <th>resultspeed</th>\n",
       "      <th>resultdir</th>\n",
       "      <th>avgspeed</th>\n",
       "      <th>humidity</th>\n",
       "      <th>daylength</th>\n",
       "      <th>codesum</th>\n",
       "    </tr>\n",
       "  </thead>\n",
       "  <tbody>\n",
       "    <tr>\n",
       "      <th>0</th>\n",
       "      <td>1</td>\n",
       "      <td>2008-06-11</td>\n",
       "      <td>CULEX PIPIENS/RESTUANS</td>\n",
       "      <td>T002</td>\n",
       "      <td>41.95469</td>\n",
       "      <td>-87.800991</td>\n",
       "      <td>2008</td>\n",
       "      <td>24</td>\n",
       "      <td>30.0</td>\n",
       "      <td>17.5</td>\n",
       "      <td>23.888889</td>\n",
       "      <td>7.0</td>\n",
       "      <td>13.055556</td>\n",
       "      <td>0.0</td>\n",
       "      <td>10.0</td>\n",
       "      <td>416.0</td>\n",
       "      <td>1926.0</td>\n",
       "      <td>0.0</td>\n",
       "      <td>0.0</td>\n",
       "      <td>29.31</td>\n",
       "      <td>29.98</td>\n",
       "      <td>9.15</td>\n",
       "      <td>18.0</td>\n",
       "      <td>10.2</td>\n",
       "      <td>50.5</td>\n",
       "      <td>910.0</td>\n",
       "      <td>NaN</td>\n",
       "    </tr>\n",
       "    <tr>\n",
       "      <th>1</th>\n",
       "      <td>2</td>\n",
       "      <td>2008-06-11</td>\n",
       "      <td>CULEX RESTUANS</td>\n",
       "      <td>T002</td>\n",
       "      <td>41.95469</td>\n",
       "      <td>-87.800991</td>\n",
       "      <td>2008</td>\n",
       "      <td>24</td>\n",
       "      <td>30.0</td>\n",
       "      <td>17.5</td>\n",
       "      <td>23.888889</td>\n",
       "      <td>7.0</td>\n",
       "      <td>13.055556</td>\n",
       "      <td>0.0</td>\n",
       "      <td>10.0</td>\n",
       "      <td>416.0</td>\n",
       "      <td>1926.0</td>\n",
       "      <td>0.0</td>\n",
       "      <td>0.0</td>\n",
       "      <td>29.31</td>\n",
       "      <td>29.98</td>\n",
       "      <td>9.15</td>\n",
       "      <td>18.0</td>\n",
       "      <td>10.2</td>\n",
       "      <td>50.5</td>\n",
       "      <td>910.0</td>\n",
       "      <td>NaN</td>\n",
       "    </tr>\n",
       "    <tr>\n",
       "      <th>2</th>\n",
       "      <td>3</td>\n",
       "      <td>2008-06-11</td>\n",
       "      <td>CULEX PIPIENS</td>\n",
       "      <td>T002</td>\n",
       "      <td>41.95469</td>\n",
       "      <td>-87.800991</td>\n",
       "      <td>2008</td>\n",
       "      <td>24</td>\n",
       "      <td>30.0</td>\n",
       "      <td>17.5</td>\n",
       "      <td>23.888889</td>\n",
       "      <td>7.0</td>\n",
       "      <td>13.055556</td>\n",
       "      <td>0.0</td>\n",
       "      <td>10.0</td>\n",
       "      <td>416.0</td>\n",
       "      <td>1926.0</td>\n",
       "      <td>0.0</td>\n",
       "      <td>0.0</td>\n",
       "      <td>29.31</td>\n",
       "      <td>29.98</td>\n",
       "      <td>9.15</td>\n",
       "      <td>18.0</td>\n",
       "      <td>10.2</td>\n",
       "      <td>50.5</td>\n",
       "      <td>910.0</td>\n",
       "      <td>NaN</td>\n",
       "    </tr>\n",
       "    <tr>\n",
       "      <th>3</th>\n",
       "      <td>4</td>\n",
       "      <td>2008-06-11</td>\n",
       "      <td>CULEX SALINARIUS</td>\n",
       "      <td>T002</td>\n",
       "      <td>41.95469</td>\n",
       "      <td>-87.800991</td>\n",
       "      <td>2008</td>\n",
       "      <td>24</td>\n",
       "      <td>30.0</td>\n",
       "      <td>17.5</td>\n",
       "      <td>23.888889</td>\n",
       "      <td>7.0</td>\n",
       "      <td>13.055556</td>\n",
       "      <td>0.0</td>\n",
       "      <td>10.0</td>\n",
       "      <td>416.0</td>\n",
       "      <td>1926.0</td>\n",
       "      <td>0.0</td>\n",
       "      <td>0.0</td>\n",
       "      <td>29.31</td>\n",
       "      <td>29.98</td>\n",
       "      <td>9.15</td>\n",
       "      <td>18.0</td>\n",
       "      <td>10.2</td>\n",
       "      <td>50.5</td>\n",
       "      <td>910.0</td>\n",
       "      <td>NaN</td>\n",
       "    </tr>\n",
       "    <tr>\n",
       "      <th>4</th>\n",
       "      <td>5</td>\n",
       "      <td>2008-06-11</td>\n",
       "      <td>CULEX TERRITANS</td>\n",
       "      <td>T002</td>\n",
       "      <td>41.95469</td>\n",
       "      <td>-87.800991</td>\n",
       "      <td>2008</td>\n",
       "      <td>24</td>\n",
       "      <td>30.0</td>\n",
       "      <td>17.5</td>\n",
       "      <td>23.888889</td>\n",
       "      <td>7.0</td>\n",
       "      <td>13.055556</td>\n",
       "      <td>0.0</td>\n",
       "      <td>10.0</td>\n",
       "      <td>416.0</td>\n",
       "      <td>1926.0</td>\n",
       "      <td>0.0</td>\n",
       "      <td>0.0</td>\n",
       "      <td>29.31</td>\n",
       "      <td>29.98</td>\n",
       "      <td>9.15</td>\n",
       "      <td>18.0</td>\n",
       "      <td>10.2</td>\n",
       "      <td>50.5</td>\n",
       "      <td>910.0</td>\n",
       "      <td>NaN</td>\n",
       "    </tr>\n",
       "  </tbody>\n",
       "</table>\n",
       "</div>"
      ],
      "text/plain": [
       "   id       date                 species  trap  latitude  longitude  year  \\\n",
       "0   1 2008-06-11  CULEX PIPIENS/RESTUANS  T002  41.95469 -87.800991  2008   \n",
       "1   2 2008-06-11          CULEX RESTUANS  T002  41.95469 -87.800991  2008   \n",
       "2   3 2008-06-11           CULEX PIPIENS  T002  41.95469 -87.800991  2008   \n",
       "3   4 2008-06-11        CULEX SALINARIUS  T002  41.95469 -87.800991  2008   \n",
       "4   5 2008-06-11         CULEX TERRITANS  T002  41.95469 -87.800991  2008   \n",
       "\n",
       "   weekofyear  tmax  tmin       tavg  depart   dewpoint  heat  cool  sunrise  \\\n",
       "0          24  30.0  17.5  23.888889     7.0  13.055556   0.0  10.0    416.0   \n",
       "1          24  30.0  17.5  23.888889     7.0  13.055556   0.0  10.0    416.0   \n",
       "2          24  30.0  17.5  23.888889     7.0  13.055556   0.0  10.0    416.0   \n",
       "3          24  30.0  17.5  23.888889     7.0  13.055556   0.0  10.0    416.0   \n",
       "4          24  30.0  17.5  23.888889     7.0  13.055556   0.0  10.0    416.0   \n",
       "\n",
       "   sunset  snowfall  preciptotal  stnpressure  sealevel  resultspeed  \\\n",
       "0  1926.0       0.0          0.0        29.31     29.98         9.15   \n",
       "1  1926.0       0.0          0.0        29.31     29.98         9.15   \n",
       "2  1926.0       0.0          0.0        29.31     29.98         9.15   \n",
       "3  1926.0       0.0          0.0        29.31     29.98         9.15   \n",
       "4  1926.0       0.0          0.0        29.31     29.98         9.15   \n",
       "\n",
       "   resultdir  avgspeed  humidity  daylength codesum  \n",
       "0       18.0      10.2      50.5      910.0     NaN  \n",
       "1       18.0      10.2      50.5      910.0     NaN  \n",
       "2       18.0      10.2      50.5      910.0     NaN  \n",
       "3       18.0      10.2      50.5      910.0     NaN  \n",
       "4       18.0      10.2      50.5      910.0     NaN  "
      ]
     },
     "execution_count": 41,
     "metadata": {},
     "output_type": "execute_result"
    }
   ],
   "source": [
    "# merge test dataset with weather\n",
    "final_test = pd.merge(test, weather, on='date')\n",
    "final_test.head()\n",
    "\n",
    "final_test.drop(columns=['year_y', 'weekofyear_y'], inplace=True)\n",
    "final_test.rename(columns={\"year_x\": \"year\", \"weekofyear_x\": \"weekofyear\"}, inplace=True)\n",
    "\n",
    "final_test.head()"
   ]
  },
  {
   "cell_type": "code",
   "execution_count": 42,
   "id": "195dd507",
   "metadata": {
    "ExecuteTime": {
     "end_time": "2022-01-26T01:59:52.144903Z",
     "start_time": "2022-01-26T01:59:52.110643Z"
    }
   },
   "outputs": [
    {
     "name": "stdout",
     "output_type": "stream",
     "text": [
      "<class 'pandas.core.frame.DataFrame'>\n",
      "Int64Index: 116293 entries, 0 to 116292\n",
      "Data columns (total 27 columns):\n",
      " #   Column       Non-Null Count   Dtype         \n",
      "---  ------       --------------   -----         \n",
      " 0   id           116293 non-null  int64         \n",
      " 1   date         116293 non-null  datetime64[ns]\n",
      " 2   species      116293 non-null  object        \n",
      " 3   trap         116293 non-null  object        \n",
      " 4   latitude     116293 non-null  float64       \n",
      " 5   longitude    116293 non-null  float64       \n",
      " 6   year         116293 non-null  int64         \n",
      " 7   weekofyear   116293 non-null  UInt32        \n",
      " 8   tmax         116293 non-null  float64       \n",
      " 9   tmin         116293 non-null  float64       \n",
      " 10  tavg         116293 non-null  float64       \n",
      " 11  depart       116293 non-null  float64       \n",
      " 12  dewpoint     116293 non-null  float64       \n",
      " 13  heat         116293 non-null  float64       \n",
      " 14  cool         116293 non-null  float64       \n",
      " 15  sunrise      116293 non-null  float64       \n",
      " 16  sunset       116293 non-null  float64       \n",
      " 17  snowfall     116293 non-null  float64       \n",
      " 18  preciptotal  116293 non-null  float64       \n",
      " 19  stnpressure  116293 non-null  float64       \n",
      " 20  sealevel     116293 non-null  float64       \n",
      " 21  resultspeed  116293 non-null  float64       \n",
      " 22  resultdir    116293 non-null  float64       \n",
      " 23  avgspeed     116293 non-null  float64       \n",
      " 24  humidity     116293 non-null  float64       \n",
      " 25  daylength    116293 non-null  float64       \n",
      " 26  codesum      56381 non-null   object        \n",
      "dtypes: UInt32(1), datetime64[ns](1), float64(20), int64(2), object(3)\n",
      "memory usage: 24.5+ MB\n"
     ]
    }
   ],
   "source": [
    "final_test.info()"
   ]
  },
  {
   "cell_type": "code",
   "execution_count": 43,
   "id": "8bcda6f4",
   "metadata": {
    "ExecuteTime": {
     "end_time": "2022-01-26T01:59:56.460647Z",
     "start_time": "2022-01-26T01:59:52.146587Z"
    }
   },
   "outputs": [],
   "source": [
    "# save both dataframes for feature engineering & modelling\n",
    "\n",
    "final_train.to_csv('data/final_train.csv')\n",
    "\n",
    "final_test.to_csv('data/final_test.csv')"
   ]
  }
 ],
 "metadata": {
  "kernelspec": {
   "display_name": "Python 3",
   "language": "python",
   "name": "python3"
  },
  "language_info": {
   "codemirror_mode": {
    "name": "ipython",
    "version": 3
   },
   "file_extension": ".py",
   "mimetype": "text/x-python",
   "name": "python",
   "nbconvert_exporter": "python",
   "pygments_lexer": "ipython3",
   "version": "3.8.8"
  },
  "toc": {
   "base_numbering": 1,
   "nav_menu": {},
   "number_sections": true,
   "sideBar": true,
   "skip_h1_title": false,
   "title_cell": "Table of Contents",
   "title_sidebar": "Contents",
   "toc_cell": false,
   "toc_position": {
    "height": "calc(100% - 180px)",
    "left": "10px",
    "top": "150px",
    "width": "165px"
   },
   "toc_section_display": true,
   "toc_window_display": true
  },
  "varInspector": {
   "cols": {
    "lenName": 16,
    "lenType": 16,
    "lenVar": 40
   },
   "kernels_config": {
    "python": {
     "delete_cmd_postfix": "",
     "delete_cmd_prefix": "del ",
     "library": "var_list.py",
     "varRefreshCmd": "print(var_dic_list())"
    },
    "r": {
     "delete_cmd_postfix": ") ",
     "delete_cmd_prefix": "rm(",
     "library": "var_list.r",
     "varRefreshCmd": "cat(var_dic_list()) "
    }
   },
   "types_to_exclude": [
    "module",
    "function",
    "builtin_function_or_method",
    "instance",
    "_Feature"
   ],
   "window_display": false
  }
 },
 "nbformat": 4,
 "nbformat_minor": 5
}
