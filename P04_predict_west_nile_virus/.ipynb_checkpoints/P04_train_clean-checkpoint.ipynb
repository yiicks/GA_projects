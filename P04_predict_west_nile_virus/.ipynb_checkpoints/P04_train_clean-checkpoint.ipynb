{
 "cells": [
  {
   "cell_type": "code",
   "execution_count": 10,
   "id": "60f4e04c",
   "metadata": {
    "ExecuteTime": {
     "end_time": "2022-01-25T03:13:09.799383Z",
     "start_time": "2022-01-25T03:13:07.081637Z"
    }
   },
   "outputs": [],
   "source": [
    "import pandas as pd\n",
    "\n",
    "train = pd.read_csv(\"data/train.csv\")\n",
    "test = pd.read_csv(\"data/test.csv\")"
   ]
  },
  {
   "cell_type": "code",
   "execution_count": 11,
   "id": "2a9946d1",
   "metadata": {
    "ExecuteTime": {
     "end_time": "2022-01-25T03:13:09.810085Z",
     "start_time": "2022-01-25T03:13:09.802126Z"
    }
   },
   "outputs": [
    {
     "data": {
      "text/plain": [
       "(10506, 12)"
      ]
     },
     "execution_count": 11,
     "metadata": {},
     "output_type": "execute_result"
    }
   ],
   "source": [
    "train.head(1)\n",
    "train.shape"
   ]
  },
  {
   "cell_type": "code",
   "execution_count": 12,
   "id": "4421d277",
   "metadata": {
    "ExecuteTime": {
     "end_time": "2022-01-25T03:13:09.816908Z",
     "start_time": "2022-01-25T03:13:09.813190Z"
    }
   },
   "outputs": [
    {
     "data": {
      "text/plain": [
       "Index(['Date', 'Address', 'Species', 'Block', 'Street', 'Trap',\n",
       "       'AddressNumberAndStreet', 'Latitude', 'Longitude', 'AddressAccuracy',\n",
       "       'NumMosquitos', 'WnvPresent'],\n",
       "      dtype='object')"
      ]
     },
     "execution_count": 12,
     "metadata": {},
     "output_type": "execute_result"
    }
   ],
   "source": [
    "train.columns"
   ]
  },
  {
   "cell_type": "markdown",
   "id": "08b7d52e",
   "metadata": {},
   "source": [
    "# checking duplicates for mosquitoes"
   ]
  },
  {
   "cell_type": "code",
   "execution_count": 13,
   "id": "a010a0d2",
   "metadata": {
    "ExecuteTime": {
     "end_time": "2022-01-25T03:13:09.824408Z",
     "start_time": "2022-01-25T03:13:09.818021Z"
    }
   },
   "outputs": [
    {
     "data": {
      "text/plain": [
       "135039"
      ]
     },
     "execution_count": 13,
     "metadata": {},
     "output_type": "execute_result"
    }
   ],
   "source": [
    "# check total mosquitoes in sample\n",
    "train[\"NumMosquitos\"].sum()"
   ]
  },
  {
   "cell_type": "code",
   "execution_count": 14,
   "id": "4425bfdb",
   "metadata": {
    "ExecuteTime": {
     "end_time": "2022-01-25T03:13:09.856985Z",
     "start_time": "2022-01-25T03:13:09.827533Z"
    },
    "scrolled": false
   },
   "outputs": [
    {
     "data": {
      "text/plain": [
       "36068"
      ]
     },
     "execution_count": 14,
     "metadata": {},
     "output_type": "execute_result"
    }
   ],
   "source": [
    "# duplicated rows with less than 50 mosquitoes\n",
    "duplicates = train[(train.duplicated())]\n",
    "\n",
    "duplicates[\"NumMosquitos\"].sum()"
   ]
  },
  {
   "cell_type": "code",
   "execution_count": 6,
   "id": "f4fe590f",
   "metadata": {
    "ExecuteTime": {
     "end_time": "2022-01-25T03:13:09.874722Z",
     "start_time": "2022-01-25T03:13:09.858604Z"
    },
    "scrolled": true
   },
   "outputs": [],
   "source": [
    "# aggregate all rows with duplicates\n",
    "\n",
    "train[\"totalmozzies\"] = duplicates.groupby(\n",
    "    [\n",
    "        \"Date\",\n",
    "        \"Address\",\n",
    "        \"Species\",\n",
    "        \"Block\",\n",
    "        \"Street\",\n",
    "        \"Trap\",\n",
    "        \"AddressNumberAndStreet\",\n",
    "        \"AddressAccuracy\",\n",
    "        \"WnvPresent\",\n",
    "    ]\n",
    ")[\"NumMosquitos\"].transform(\"sum\")\n",
    "\n"
   ]
  },
  {
   "cell_type": "code",
   "execution_count": 9,
   "id": "64d09168",
   "metadata": {},
   "outputs": [
    {
     "data": {
      "text/plain": [
       "135039"
      ]
     },
     "execution_count": 9,
     "metadata": {},
     "output_type": "execute_result"
    }
   ],
   "source": [
    "train[\"NumMosquitos\"].sum()"
   ]
  },
  {
   "cell_type": "code",
   "execution_count": 7,
   "id": "abff9ebc",
   "metadata": {
    "ExecuteTime": {
     "end_time": "2022-01-25T03:13:09.882219Z",
     "start_time": "2022-01-25T03:13:09.876637Z"
    }
   },
   "outputs": [],
   "source": [
    "train.sort_values(by=['totalmozzies'], ascending=True, inplace=True)"
   ]
  },
  {
   "cell_type": "code",
   "execution_count": 8,
   "id": "60fcebe6",
   "metadata": {
    "ExecuteTime": {
     "end_time": "2022-01-25T03:13:09.888368Z",
     "start_time": "2022-01-25T03:13:09.884849Z"
    }
   },
   "outputs": [
    {
     "data": {
      "text/plain": [
       "(10506, 13)"
      ]
     },
     "execution_count": 8,
     "metadata": {},
     "output_type": "execute_result"
    }
   ],
   "source": [
    "train.shape"
   ]
  },
  {
   "cell_type": "code",
   "execution_count": 9,
   "id": "e05ed550",
   "metadata": {
    "ExecuteTime": {
     "end_time": "2022-01-25T03:13:09.914546Z",
     "start_time": "2022-01-25T03:13:09.890636Z"
    }
   },
   "outputs": [],
   "source": [
    "train.drop_duplicates(\n",
    "    subset=[\n",
    "        \"Date\",\n",
    "        \"Address\",\n",
    "        \"Species\",\n",
    "        \"Block\",\n",
    "        \"Street\",\n",
    "        \"Trap\",\n",
    "        \"AddressNumberAndStreet\",\n",
    "        \"AddressAccuracy\",\n",
    "        \"NumMosquitos\",\n",
    "        \"WnvPresent\",\n",
    "    ],\n",
    "    inplace=True,\n",
    "    keep='last',\n",
    ")"
   ]
  },
  {
   "cell_type": "code",
   "execution_count": 10,
   "id": "5a01fc72",
   "metadata": {
    "ExecuteTime": {
     "end_time": "2022-01-25T03:13:09.934588Z",
     "start_time": "2022-01-25T03:13:09.922736Z"
    }
   },
   "outputs": [
    {
     "data": {
      "text/plain": [
       "130330.0"
      ]
     },
     "execution_count": 10,
     "metadata": {},
     "output_type": "execute_result"
    }
   ],
   "source": [
    "train[\"totalmozzies\"].sum()"
   ]
  },
  {
   "cell_type": "code",
   "execution_count": 11,
   "id": "39bad0d5",
   "metadata": {
    "ExecuteTime": {
     "end_time": "2022-01-25T03:13:09.941603Z",
     "start_time": "2022-01-25T03:13:09.937558Z"
    }
   },
   "outputs": [
    {
     "data": {
      "text/plain": [
       "(9693, 13)"
      ]
     },
     "execution_count": 11,
     "metadata": {},
     "output_type": "execute_result"
    }
   ],
   "source": [
    "train.shape"
   ]
  },
  {
   "cell_type": "code",
   "execution_count": 12,
   "id": "e66b3213",
   "metadata": {
    "ExecuteTime": {
     "end_time": "2022-01-25T03:13:09.969065Z",
     "start_time": "2022-01-25T03:13:09.943566Z"
    }
   },
   "outputs": [
    {
     "data": {
      "text/html": [
       "<div>\n",
       "<style scoped>\n",
       "    .dataframe tbody tr th:only-of-type {\n",
       "        vertical-align: middle;\n",
       "    }\n",
       "\n",
       "    .dataframe tbody tr th {\n",
       "        vertical-align: top;\n",
       "    }\n",
       "\n",
       "    .dataframe thead th {\n",
       "        text-align: right;\n",
       "    }\n",
       "</style>\n",
       "<table border=\"1\" class=\"dataframe\">\n",
       "  <thead>\n",
       "    <tr style=\"text-align: right;\">\n",
       "      <th></th>\n",
       "      <th>Date</th>\n",
       "      <th>Address</th>\n",
       "      <th>Species</th>\n",
       "      <th>Block</th>\n",
       "      <th>Street</th>\n",
       "      <th>Trap</th>\n",
       "      <th>AddressNumberAndStreet</th>\n",
       "      <th>Latitude</th>\n",
       "      <th>Longitude</th>\n",
       "      <th>AddressAccuracy</th>\n",
       "      <th>NumMosquitos</th>\n",
       "      <th>WnvPresent</th>\n",
       "      <th>totalmozzies</th>\n",
       "    </tr>\n",
       "  </thead>\n",
       "  <tbody>\n",
       "    <tr>\n",
       "      <th>8642</th>\n",
       "      <td>2013-07-08</td>\n",
       "      <td>ORD Terminal 5, O'Hare International Airport, ...</td>\n",
       "      <td>CULEX RESTUANS</td>\n",
       "      <td>10</td>\n",
       "      <td>W OHARE AIRPORT</td>\n",
       "      <td>T900</td>\n",
       "      <td>1000  W OHARE AIRPORT, Chicago, IL</td>\n",
       "      <td>41.974689</td>\n",
       "      <td>-87.890615</td>\n",
       "      <td>9</td>\n",
       "      <td>5</td>\n",
       "      <td>0</td>\n",
       "      <td>55.0</td>\n",
       "    </tr>\n",
       "    <tr>\n",
       "      <th>9150</th>\n",
       "      <td>2013-07-25</td>\n",
       "      <td>ORD Terminal 5, O'Hare International Airport, ...</td>\n",
       "      <td>CULEX RESTUANS</td>\n",
       "      <td>10</td>\n",
       "      <td>W OHARE AIRPORT</td>\n",
       "      <td>T900</td>\n",
       "      <td>1000  W OHARE AIRPORT, Chicago, IL</td>\n",
       "      <td>41.974689</td>\n",
       "      <td>-87.890615</td>\n",
       "      <td>9</td>\n",
       "      <td>50</td>\n",
       "      <td>0</td>\n",
       "      <td>55.0</td>\n",
       "    </tr>\n",
       "    <tr>\n",
       "      <th>8826</th>\n",
       "      <td>2013-07-12</td>\n",
       "      <td>East 91st Place, Chicago, IL, USA</td>\n",
       "      <td>CULEX RESTUANS</td>\n",
       "      <td>65</td>\n",
       "      <td>E 91ST PL</td>\n",
       "      <td>T227</td>\n",
       "      <td>6500  E 91ST PL, Chicago, IL</td>\n",
       "      <td>41.728495</td>\n",
       "      <td>-87.600963</td>\n",
       "      <td>5</td>\n",
       "      <td>48</td>\n",
       "      <td>0</td>\n",
       "      <td>98.0</td>\n",
       "    </tr>\n",
       "    <tr>\n",
       "      <th>8828</th>\n",
       "      <td>2013-07-12</td>\n",
       "      <td>East 91st Place, Chicago, IL, USA</td>\n",
       "      <td>CULEX RESTUANS</td>\n",
       "      <td>65</td>\n",
       "      <td>E 91ST PL</td>\n",
       "      <td>T227</td>\n",
       "      <td>6500  E 91ST PL, Chicago, IL</td>\n",
       "      <td>41.728495</td>\n",
       "      <td>-87.600963</td>\n",
       "      <td>5</td>\n",
       "      <td>50</td>\n",
       "      <td>0</td>\n",
       "      <td>98.0</td>\n",
       "    </tr>\n",
       "    <tr>\n",
       "      <th>1255</th>\n",
       "      <td>2007-08-01</td>\n",
       "      <td>South Stony Island Avenue, Chicago, IL, USA</td>\n",
       "      <td>CULEX PIPIENS/RESTUANS</td>\n",
       "      <td>10</td>\n",
       "      <td>S STONY ISLAND AVE</td>\n",
       "      <td>T138</td>\n",
       "      <td>1000  S STONY ISLAND AVE, Chicago, IL</td>\n",
       "      <td>41.726465</td>\n",
       "      <td>-87.585413</td>\n",
       "      <td>5</td>\n",
       "      <td>50</td>\n",
       "      <td>0</td>\n",
       "      <td>100.0</td>\n",
       "    </tr>\n",
       "    <tr>\n",
       "      <th>...</th>\n",
       "      <td>...</td>\n",
       "      <td>...</td>\n",
       "      <td>...</td>\n",
       "      <td>...</td>\n",
       "      <td>...</td>\n",
       "      <td>...</td>\n",
       "      <td>...</td>\n",
       "      <td>...</td>\n",
       "      <td>...</td>\n",
       "      <td>...</td>\n",
       "      <td>...</td>\n",
       "      <td>...</td>\n",
       "      <td>...</td>\n",
       "    </tr>\n",
       "    <tr>\n",
       "      <th>1227</th>\n",
       "      <td>2007-08-01</td>\n",
       "      <td>South Doty Avenue, Chicago, IL, USA</td>\n",
       "      <td>CULEX PIPIENS</td>\n",
       "      <td>12</td>\n",
       "      <td>S DOTY AVE</td>\n",
       "      <td>T115</td>\n",
       "      <td>1200  S DOTY AVE, Chicago, IL</td>\n",
       "      <td>41.673408</td>\n",
       "      <td>-87.599862</td>\n",
       "      <td>5</td>\n",
       "      <td>50</td>\n",
       "      <td>0</td>\n",
       "      <td>1450.0</td>\n",
       "    </tr>\n",
       "    <tr>\n",
       "      <th>1713</th>\n",
       "      <td>2007-08-08</td>\n",
       "      <td>South Stony Island Avenue, Chicago, IL, USA</td>\n",
       "      <td>CULEX PIPIENS</td>\n",
       "      <td>10</td>\n",
       "      <td>S STONY ISLAND AVE</td>\n",
       "      <td>T138</td>\n",
       "      <td>1000  S STONY ISLAND AVE, Chicago, IL</td>\n",
       "      <td>41.726465</td>\n",
       "      <td>-87.585413</td>\n",
       "      <td>5</td>\n",
       "      <td>50</td>\n",
       "      <td>0</td>\n",
       "      <td>1500.0</td>\n",
       "    </tr>\n",
       "    <tr>\n",
       "      <th>2067</th>\n",
       "      <td>2007-08-16</td>\n",
       "      <td>South Doty Avenue, Chicago, IL, USA</td>\n",
       "      <td>CULEX PIPIENS</td>\n",
       "      <td>12</td>\n",
       "      <td>S DOTY AVE</td>\n",
       "      <td>T115</td>\n",
       "      <td>1200  S DOTY AVE, Chicago, IL</td>\n",
       "      <td>41.673408</td>\n",
       "      <td>-87.599862</td>\n",
       "      <td>5</td>\n",
       "      <td>50</td>\n",
       "      <td>0</td>\n",
       "      <td>2000.0</td>\n",
       "    </tr>\n",
       "    <tr>\n",
       "      <th>2748</th>\n",
       "      <td>2007-08-28</td>\n",
       "      <td>South Doty Avenue, Chicago, IL, USA</td>\n",
       "      <td>CULEX PIPIENS</td>\n",
       "      <td>12</td>\n",
       "      <td>S DOTY AVE</td>\n",
       "      <td>T115</td>\n",
       "      <td>1200  S DOTY AVE, Chicago, IL</td>\n",
       "      <td>41.673408</td>\n",
       "      <td>-87.599862</td>\n",
       "      <td>5</td>\n",
       "      <td>50</td>\n",
       "      <td>0</td>\n",
       "      <td>2000.0</td>\n",
       "    </tr>\n",
       "    <tr>\n",
       "      <th>638</th>\n",
       "      <td>2007-07-25</td>\n",
       "      <td>South Doty Avenue, Chicago, IL, USA</td>\n",
       "      <td>CULEX PIPIENS</td>\n",
       "      <td>12</td>\n",
       "      <td>S DOTY AVE</td>\n",
       "      <td>T115</td>\n",
       "      <td>1200  S DOTY AVE, Chicago, IL</td>\n",
       "      <td>41.673408</td>\n",
       "      <td>-87.599862</td>\n",
       "      <td>5</td>\n",
       "      <td>50</td>\n",
       "      <td>0</td>\n",
       "      <td>2100.0</td>\n",
       "    </tr>\n",
       "  </tbody>\n",
       "</table>\n",
       "<p>93 rows × 13 columns</p>\n",
       "</div>"
      ],
      "text/plain": [
       "            Date                                            Address  \\\n",
       "8642  2013-07-08  ORD Terminal 5, O'Hare International Airport, ...   \n",
       "9150  2013-07-25  ORD Terminal 5, O'Hare International Airport, ...   \n",
       "8826  2013-07-12                  East 91st Place, Chicago, IL, USA   \n",
       "8828  2013-07-12                  East 91st Place, Chicago, IL, USA   \n",
       "1255  2007-08-01        South Stony Island Avenue, Chicago, IL, USA   \n",
       "...          ...                                                ...   \n",
       "1227  2007-08-01                South Doty Avenue, Chicago, IL, USA   \n",
       "1713  2007-08-08        South Stony Island Avenue, Chicago, IL, USA   \n",
       "2067  2007-08-16                South Doty Avenue, Chicago, IL, USA   \n",
       "2748  2007-08-28                South Doty Avenue, Chicago, IL, USA   \n",
       "638   2007-07-25                South Doty Avenue, Chicago, IL, USA   \n",
       "\n",
       "                     Species  Block               Street  Trap  \\\n",
       "8642          CULEX RESTUANS     10      W OHARE AIRPORT  T900   \n",
       "9150          CULEX RESTUANS     10      W OHARE AIRPORT  T900   \n",
       "8826          CULEX RESTUANS     65            E 91ST PL  T227   \n",
       "8828          CULEX RESTUANS     65            E 91ST PL  T227   \n",
       "1255  CULEX PIPIENS/RESTUANS     10   S STONY ISLAND AVE  T138   \n",
       "...                      ...    ...                  ...   ...   \n",
       "1227           CULEX PIPIENS     12           S DOTY AVE  T115   \n",
       "1713           CULEX PIPIENS     10   S STONY ISLAND AVE  T138   \n",
       "2067           CULEX PIPIENS     12           S DOTY AVE  T115   \n",
       "2748           CULEX PIPIENS     12           S DOTY AVE  T115   \n",
       "638            CULEX PIPIENS     12           S DOTY AVE  T115   \n",
       "\n",
       "                     AddressNumberAndStreet   Latitude  Longitude  \\\n",
       "8642     1000  W OHARE AIRPORT, Chicago, IL  41.974689 -87.890615   \n",
       "9150     1000  W OHARE AIRPORT, Chicago, IL  41.974689 -87.890615   \n",
       "8826           6500  E 91ST PL, Chicago, IL  41.728495 -87.600963   \n",
       "8828           6500  E 91ST PL, Chicago, IL  41.728495 -87.600963   \n",
       "1255  1000  S STONY ISLAND AVE, Chicago, IL  41.726465 -87.585413   \n",
       "...                                     ...        ...        ...   \n",
       "1227          1200  S DOTY AVE, Chicago, IL  41.673408 -87.599862   \n",
       "1713  1000  S STONY ISLAND AVE, Chicago, IL  41.726465 -87.585413   \n",
       "2067          1200  S DOTY AVE, Chicago, IL  41.673408 -87.599862   \n",
       "2748          1200  S DOTY AVE, Chicago, IL  41.673408 -87.599862   \n",
       "638           1200  S DOTY AVE, Chicago, IL  41.673408 -87.599862   \n",
       "\n",
       "      AddressAccuracy  NumMosquitos  WnvPresent  totalmozzies  \n",
       "8642                9             5           0          55.0  \n",
       "9150                9            50           0          55.0  \n",
       "8826                5            48           0          98.0  \n",
       "8828                5            50           0          98.0  \n",
       "1255                5            50           0         100.0  \n",
       "...               ...           ...         ...           ...  \n",
       "1227                5            50           0        1450.0  \n",
       "1713                5            50           0        1500.0  \n",
       "2067                5            50           0        2000.0  \n",
       "2748                5            50           0        2000.0  \n",
       "638                 5            50           0        2100.0  \n",
       "\n",
       "[93 rows x 13 columns]"
      ]
     },
     "execution_count": 12,
     "metadata": {},
     "output_type": "execute_result"
    }
   ],
   "source": [
    "train.iloc[9600:]"
   ]
  },
  {
   "cell_type": "markdown",
   "id": "a65eab6b",
   "metadata": {
    "ExecuteTime": {
     "end_time": "2022-01-25T03:04:20.303849Z",
     "start_time": "2022-01-25T03:04:20.301028Z"
    }
   },
   "source": [
    "# write data cleaning function"
   ]
  }
 ],
 "metadata": {
  "kernelspec": {
   "display_name": "Python 3",
   "language": "python",
   "name": "python3"
  },
  "language_info": {
   "codemirror_mode": {
    "name": "ipython",
    "version": 3
   },
   "file_extension": ".py",
   "mimetype": "text/x-python",
   "name": "python",
   "nbconvert_exporter": "python",
   "pygments_lexer": "ipython3",
   "version": "3.8.8"
  },
  "toc": {
   "base_numbering": 1,
   "nav_menu": {},
   "number_sections": true,
   "sideBar": true,
   "skip_h1_title": false,
   "title_cell": "Table of Contents",
   "title_sidebar": "Contents",
   "toc_cell": false,
   "toc_position": {
    "height": "calc(100% - 180px)",
    "left": "10px",
    "top": "150px",
    "width": "165px"
   },
   "toc_section_display": true,
   "toc_window_display": true
  },
  "varInspector": {
   "cols": {
    "lenName": 16,
    "lenType": 16,
    "lenVar": 40
   },
   "kernels_config": {
    "python": {
     "delete_cmd_postfix": "",
     "delete_cmd_prefix": "del ",
     "library": "var_list.py",
     "varRefreshCmd": "print(var_dic_list())"
    },
    "r": {
     "delete_cmd_postfix": ") ",
     "delete_cmd_prefix": "rm(",
     "library": "var_list.r",
     "varRefreshCmd": "cat(var_dic_list()) "
    }
   },
   "types_to_exclude": [
    "module",
    "function",
    "builtin_function_or_method",
    "instance",
    "_Feature"
   ],
   "window_display": false
  }
 },
 "nbformat": 4,
 "nbformat_minor": 5
}
