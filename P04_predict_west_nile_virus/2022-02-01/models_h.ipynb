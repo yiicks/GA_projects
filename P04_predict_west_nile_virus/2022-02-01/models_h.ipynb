{
 "cells": [
  {
   "cell_type": "markdown",
   "id": "28a7cfbd",
   "metadata": {
    "ExecuteTime": {
     "end_time": "2022-01-28T12:01:50.589842Z",
     "start_time": "2022-01-28T12:01:50.558503Z"
    }
   },
   "source": [
    "# Imports"
   ]
  },
  {
   "cell_type": "code",
   "execution_count": 108,
   "id": "3bf0cbd8",
   "metadata": {
    "ExecuteTime": {
     "end_time": "2022-01-31T14:07:50.737145Z",
     "start_time": "2022-01-31T14:07:48.769958Z"
    }
   },
   "outputs": [
    {
     "name": "stdout",
     "output_type": "stream",
     "text": [
      "Requirement already satisfied: xgboost in c:\\users\\hrvoj\\anaconda3\\lib\\site-packages (1.5.2)\n",
      "Requirement already satisfied: numpy in c:\\users\\hrvoj\\anaconda3\\lib\\site-packages (from xgboost) (1.20.1)\n",
      "Requirement already satisfied: scipy in c:\\users\\hrvoj\\anaconda3\\lib\\site-packages (from xgboost) (1.6.2)\n"
     ]
    }
   ],
   "source": [
    "#!pip install xgboost"
   ]
  },
  {
   "cell_type": "code",
   "execution_count": 106,
   "id": "0d0aebcb",
   "metadata": {
    "ExecuteTime": {
     "end_time": "2022-01-31T14:05:45.545933Z",
     "start_time": "2022-01-31T14:05:29.679511Z"
    }
   },
   "outputs": [],
   "source": [
    "# Necessary imports\n",
    "import pandas as pd\n",
    "import numpy as np\n",
    "import seaborn as sns\n",
    "import matplotlib.pyplot as plt\n",
    "\n",
    "from sklearn.model_selection import train_test_split, GridSearchCV\n",
    "from sklearn.preprocessing import StandardScaler, PolynomialFeatures\n",
    "from sklearn.linear_model import LogisticRegression\n",
    "from sklearn.feature_selection import RFE\n",
    "from sklearn.pipeline import Pipeline\n",
    "from sklearn.ensemble import GradientBoostingClassifier, RandomForestClassifier\n",
    "from xgboost import XGBClassifier\n",
    "from sklearn.svm import SVC\n",
    "# import sklearn.metrics as metrics\n",
    "from sklearn.metrics import roc_auc_score, recall_score, f1_score, precision_score, confusion_matrix, plot_confusion_matrix\n",
    "from sklearn.decomposition import PCA\n",
    "from imblearn.pipeline import Pipeline as Pipeline_imb\n",
    "\n",
    "from imblearn.combine import SMOTETomek\n",
    "\n",
    "from imblearn.over_sampling import SMOTE\n",
    "# from xgboost import XGBClassifier"
   ]
  },
  {
   "cell_type": "code",
   "execution_count": 44,
   "id": "30904c5d",
   "metadata": {
    "ExecuteTime": {
     "end_time": "2022-01-31T08:34:12.295443Z",
     "start_time": "2022-01-31T08:34:12.041340Z"
    }
   },
   "outputs": [],
   "source": [
    "# test = pd.read_csv('../datasets/test.csv', parse_dates=['Date'],index_col=['Id'])\n",
    "train = pd.read_csv(\"../datasets/final_train.csv\")\n",
    "test = pd.read_csv(\"../datasets/final_test.csv\", index_col='id')"
   ]
  },
  {
   "cell_type": "markdown",
   "id": "3afaecfb",
   "metadata": {},
   "source": [
    "# Run_Model Function"
   ]
  },
  {
   "cell_type": "code",
   "execution_count": 159,
   "id": "d3ce8d77",
   "metadata": {
    "ExecuteTime": {
     "end_time": "2022-01-31T15:46:19.594473Z",
     "start_time": "2022-01-31T15:46:19.571570Z"
    }
   },
   "outputs": [],
   "source": [
    "def run_model(clsf, params, kind='reg'):\n",
    "    \n",
    "    \"\"\" Input classifier, parameters, and \n",
    "    kind ('reg' (default), 'pca', 'smote',or 'smotetomek') \"\"\"\n",
    "\n",
    "    if kind == 'reg':\n",
    "        pipe = Pipeline([\n",
    "            ('sc', StandardScaler()),\n",
    "            ('clsf', clsf)\n",
    "        ])\n",
    "\n",
    "    if kind == 'smote':\n",
    "        pipe = Pipeline_imb([\n",
    "            ('sc', StandardScaler()),\n",
    "            ('smpl', SMOTE(sampling_strategy='auto', random_state=42)),\n",
    "            ('clsf', clsf)\n",
    "        ])\n",
    "        \n",
    "    if kind == 'smotetomek':\n",
    "        pipe = Pipeline_imb([\n",
    "            ('sc', StandardScaler()),\n",
    "            ('smpl', SMOTETomek(random_state=42)),\n",
    "            ('clsf', clsf)\n",
    "        ])\n",
    "\n",
    "    if kind == 'pca':\n",
    "        pipe = Pipeline([\n",
    "            ('sc', StandardScaler()),\n",
    "            ('pca', PCA(n_components=50, random_state=42)),\n",
    "            ('clsf', clsf)\n",
    "        ])\n",
    "\n",
    "    grid = GridSearchCV(\n",
    "        pipe,\n",
    "        param_grid=params,\n",
    "        scoring='roc_auc',\n",
    "        cv=4,\n",
    "        n_jobs=-1,\n",
    "        verbose=2)\n",
    "\n",
    "    if kind in ['reg', 'smote', 'smotetomek']:\n",
    "        grid.fit(X_train, y_train)\n",
    "        pred = grid.predict(X_test)\n",
    "        pred_prob = grid.predict_proba(X_test)[:, 1]\n",
    "\n",
    "    elif kind == 'pca':\n",
    "        grid.fit(Xp_train, y_train)\n",
    "        pred = grid.predict(Xp_test)\n",
    "        pred_prob = grid.predict_proba(Xp_test)[:, 1] \n",
    "        \n",
    "    else:\n",
    "        print(\"Try again\")\n",
    "        return\n",
    "\n",
    "    table = {'Model': clsf}\n",
    "    table['Type'] = kind\n",
    "\n",
    "    table['ROC-AUC'] = roc_auc_score(y_test, pred_prob)\n",
    "    table['Precision'] = precision_score(y_test, pred)\n",
    "    table['Recall'] = recall_score(y_test, pred)\n",
    "    table['F1'] = f1_score(y_test, pred)\n",
    "    \n",
    "    for key, value in grid.best_params_.items():\n",
    "        table[key] = value\n",
    "\n",
    "    \n",
    "    print('\\n')\n",
    "    print('='*30)\n",
    "    print(f\"\\033[1m {clsf} \\033[0m\".center(38, \"=\"))\n",
    "    print('='*30)\n",
    "    print('')\n",
    "    print(\" Best Parameters:\")\n",
    "    print('-'*30, '\\n')\n",
    "    for key, value in grid.best_params_.items():\n",
    "        print(key, ':', value)\n",
    "\n",
    "    print(confusion_matrix(y_test, pred))\n",
    "    scoring_table.append(table)\n",
    "    return grid"
   ]
  },
  {
   "cell_type": "code",
   "execution_count": 76,
   "id": "1b9472a5",
   "metadata": {
    "ExecuteTime": {
     "end_time": "2022-01-31T09:09:01.889211Z",
     "start_time": "2022-01-31T09:09:01.872828Z"
    }
   },
   "outputs": [],
   "source": [
    "def submit_kaggle(name, gs):\n",
    "    \"\"\" the function takes filename and gs best estimator,\n",
    "    and creates a csv file ready for kaggle's WestNile competition\n",
    "    \"\"\"\n",
    "    \n",
    "    submit= pd.DataFrame()\n",
    "    submit['Id'] = test.index\n",
    "    submit.set_index('Id', drop=True,inplace=True)\n",
    "    submit['WnvPresent'] =gs.predict_proba(test)[:,1]\n",
    "    submit.to_csv(f'../datasets/{name}2.csv')"
   ]
  },
  {
   "cell_type": "code",
   "execution_count": 46,
   "id": "c062f078",
   "metadata": {
    "ExecuteTime": {
     "end_time": "2022-01-31T08:34:14.733172Z",
     "start_time": "2022-01-31T08:34:14.718025Z"
    },
    "scrolled": true
   },
   "outputs": [
    {
     "name": "stdout",
     "output_type": "stream",
     "text": [
      "<class 'pandas.core.frame.DataFrame'>\n",
      "RangeIndex: 8475 entries, 0 to 8474\n",
      "Data columns (total 34 columns):\n",
      " #   Column             Non-Null Count  Dtype  \n",
      "---  ------             --------------  -----  \n",
      " 0   date               8475 non-null   object \n",
      " 1   species            8475 non-null   object \n",
      " 2   latitude           8475 non-null   float64\n",
      " 3   longitude          8475 non-null   float64\n",
      " 4   latlong            8475 non-null   object \n",
      " 5   nummosquitos       8475 non-null   int64  \n",
      " 6   wnvpresent         8475 non-null   int64  \n",
      " 7   year               8475 non-null   int64  \n",
      " 8   dum_species        8475 non-null   int64  \n",
      " 9   tavg               8475 non-null   float64\n",
      " 10  preciptotal        8475 non-null   float64\n",
      " 11  stnpressure        8475 non-null   float64\n",
      " 12  sealevel           8475 non-null   float64\n",
      " 13  resultspeed        8475 non-null   float64\n",
      " 14  resultdir          8475 non-null   float64\n",
      " 15  avgspeed           8475 non-null   float64\n",
      " 16  humidity           8475 non-null   float64\n",
      " 17  daylength          8475 non-null   float64\n",
      " 18  tavg_lag14         8475 non-null   float64\n",
      " 19  humidity_lag14     8475 non-null   float64\n",
      " 20  resultspeed_lag14  8475 non-null   float64\n",
      " 21  preciptotal_lag14  8475 non-null   float64\n",
      " 22  dumweek_28         8475 non-null   int64  \n",
      " 23  dumweek_29         8475 non-null   int64  \n",
      " 24  dumweek_30         8475 non-null   int64  \n",
      " 25  dumweek_31         8475 non-null   int64  \n",
      " 26  dumweek_32         8475 non-null   int64  \n",
      " 27  dumweek_33         8475 non-null   int64  \n",
      " 28  dumweek_34         8475 non-null   int64  \n",
      " 29  dumweek_35         8475 non-null   int64  \n",
      " 30  dumweek_36         8475 non-null   int64  \n",
      " 31  dumweek_37         8475 non-null   int64  \n",
      " 32  dumweek_38         8475 non-null   int64  \n",
      " 33  dumweek_39         8475 non-null   int64  \n",
      "dtypes: float64(15), int64(16), object(3)\n",
      "memory usage: 2.2+ MB\n"
     ]
    }
   ],
   "source": [
    "train.info()"
   ]
  },
  {
   "cell_type": "code",
   "execution_count": 47,
   "id": "661b5f91",
   "metadata": {
    "ExecuteTime": {
     "end_time": "2022-01-31T08:34:22.950815Z",
     "start_time": "2022-01-31T08:34:22.890163Z"
    }
   },
   "outputs": [
    {
     "data": {
      "text/html": [
       "<div>\n",
       "<style scoped>\n",
       "    .dataframe tbody tr th:only-of-type {\n",
       "        vertical-align: middle;\n",
       "    }\n",
       "\n",
       "    .dataframe tbody tr th {\n",
       "        vertical-align: top;\n",
       "    }\n",
       "\n",
       "    .dataframe thead th {\n",
       "        text-align: right;\n",
       "    }\n",
       "</style>\n",
       "<table border=\"1\" class=\"dataframe\">\n",
       "  <thead>\n",
       "    <tr style=\"text-align: right;\">\n",
       "      <th></th>\n",
       "      <th>latitude</th>\n",
       "      <th>longitude</th>\n",
       "      <th>nummosquitos</th>\n",
       "      <th>wnvpresent</th>\n",
       "      <th>year</th>\n",
       "      <th>dum_species</th>\n",
       "      <th>tavg</th>\n",
       "      <th>preciptotal</th>\n",
       "      <th>stnpressure</th>\n",
       "      <th>sealevel</th>\n",
       "      <th>...</th>\n",
       "      <th>dumweek_30</th>\n",
       "      <th>dumweek_31</th>\n",
       "      <th>dumweek_32</th>\n",
       "      <th>dumweek_33</th>\n",
       "      <th>dumweek_34</th>\n",
       "      <th>dumweek_35</th>\n",
       "      <th>dumweek_36</th>\n",
       "      <th>dumweek_37</th>\n",
       "      <th>dumweek_38</th>\n",
       "      <th>dumweek_39</th>\n",
       "    </tr>\n",
       "  </thead>\n",
       "  <tbody>\n",
       "    <tr>\n",
       "      <th>count</th>\n",
       "      <td>8475.000000</td>\n",
       "      <td>8475.000000</td>\n",
       "      <td>8475.000000</td>\n",
       "      <td>8475.000000</td>\n",
       "      <td>8475.000000</td>\n",
       "      <td>8475.000000</td>\n",
       "      <td>8475.000000</td>\n",
       "      <td>8475.000000</td>\n",
       "      <td>8475.000000</td>\n",
       "      <td>8475.000000</td>\n",
       "      <td>...</td>\n",
       "      <td>8475.000000</td>\n",
       "      <td>8475.000000</td>\n",
       "      <td>8475.000000</td>\n",
       "      <td>8475.000000</td>\n",
       "      <td>8475.000000</td>\n",
       "      <td>8475.000000</td>\n",
       "      <td>8475.000000</td>\n",
       "      <td>8475.000000</td>\n",
       "      <td>8475.000000</td>\n",
       "      <td>8475.000000</td>\n",
       "    </tr>\n",
       "    <tr>\n",
       "      <th>mean</th>\n",
       "      <td>41.844618</td>\n",
       "      <td>-87.694788</td>\n",
       "      <td>15.933805</td>\n",
       "      <td>0.053923</td>\n",
       "      <td>2009.713156</td>\n",
       "      <td>1.246254</td>\n",
       "      <td>22.460505</td>\n",
       "      <td>0.156117</td>\n",
       "      <td>29.281345</td>\n",
       "      <td>29.961765</td>\n",
       "      <td>...</td>\n",
       "      <td>0.066903</td>\n",
       "      <td>0.094395</td>\n",
       "      <td>0.070678</td>\n",
       "      <td>0.070324</td>\n",
       "      <td>0.078938</td>\n",
       "      <td>0.041298</td>\n",
       "      <td>0.040472</td>\n",
       "      <td>0.056755</td>\n",
       "      <td>0.071504</td>\n",
       "      <td>0.049794</td>\n",
       "    </tr>\n",
       "    <tr>\n",
       "      <th>std</th>\n",
       "      <td>0.106609</td>\n",
       "      <td>0.084063</td>\n",
       "      <td>75.084707</td>\n",
       "      <td>0.225880</td>\n",
       "      <td>2.331751</td>\n",
       "      <td>0.507795</td>\n",
       "      <td>4.217497</td>\n",
       "      <td>0.339540</td>\n",
       "      <td>0.116693</td>\n",
       "      <td>0.120210</td>\n",
       "      <td>...</td>\n",
       "      <td>0.249868</td>\n",
       "      <td>0.292395</td>\n",
       "      <td>0.256302</td>\n",
       "      <td>0.255708</td>\n",
       "      <td>0.269658</td>\n",
       "      <td>0.198990</td>\n",
       "      <td>0.197075</td>\n",
       "      <td>0.231388</td>\n",
       "      <td>0.257681</td>\n",
       "      <td>0.217531</td>\n",
       "    </tr>\n",
       "    <tr>\n",
       "      <th>min</th>\n",
       "      <td>41.644612</td>\n",
       "      <td>-87.930995</td>\n",
       "      <td>1.000000</td>\n",
       "      <td>0.000000</td>\n",
       "      <td>2007.000000</td>\n",
       "      <td>0.000000</td>\n",
       "      <td>10.555556</td>\n",
       "      <td>0.000000</td>\n",
       "      <td>28.920000</td>\n",
       "      <td>29.595000</td>\n",
       "      <td>...</td>\n",
       "      <td>0.000000</td>\n",
       "      <td>0.000000</td>\n",
       "      <td>0.000000</td>\n",
       "      <td>0.000000</td>\n",
       "      <td>0.000000</td>\n",
       "      <td>0.000000</td>\n",
       "      <td>0.000000</td>\n",
       "      <td>0.000000</td>\n",
       "      <td>0.000000</td>\n",
       "      <td>0.000000</td>\n",
       "    </tr>\n",
       "    <tr>\n",
       "      <th>25%</th>\n",
       "      <td>41.750498</td>\n",
       "      <td>-87.752329</td>\n",
       "      <td>2.000000</td>\n",
       "      <td>0.000000</td>\n",
       "      <td>2007.000000</td>\n",
       "      <td>1.000000</td>\n",
       "      <td>20.277778</td>\n",
       "      <td>0.000000</td>\n",
       "      <td>29.200000</td>\n",
       "      <td>29.880000</td>\n",
       "      <td>...</td>\n",
       "      <td>0.000000</td>\n",
       "      <td>0.000000</td>\n",
       "      <td>0.000000</td>\n",
       "      <td>0.000000</td>\n",
       "      <td>0.000000</td>\n",
       "      <td>0.000000</td>\n",
       "      <td>0.000000</td>\n",
       "      <td>0.000000</td>\n",
       "      <td>0.000000</td>\n",
       "      <td>0.000000</td>\n",
       "    </tr>\n",
       "    <tr>\n",
       "      <th>50%</th>\n",
       "      <td>41.857402</td>\n",
       "      <td>-87.694991</td>\n",
       "      <td>4.000000</td>\n",
       "      <td>0.000000</td>\n",
       "      <td>2009.000000</td>\n",
       "      <td>1.000000</td>\n",
       "      <td>23.055556</td>\n",
       "      <td>0.000000</td>\n",
       "      <td>29.290000</td>\n",
       "      <td>29.970000</td>\n",
       "      <td>...</td>\n",
       "      <td>0.000000</td>\n",
       "      <td>0.000000</td>\n",
       "      <td>0.000000</td>\n",
       "      <td>0.000000</td>\n",
       "      <td>0.000000</td>\n",
       "      <td>0.000000</td>\n",
       "      <td>0.000000</td>\n",
       "      <td>0.000000</td>\n",
       "      <td>0.000000</td>\n",
       "      <td>0.000000</td>\n",
       "    </tr>\n",
       "    <tr>\n",
       "      <th>75%</th>\n",
       "      <td>41.944869</td>\n",
       "      <td>-87.642984</td>\n",
       "      <td>11.000000</td>\n",
       "      <td>0.000000</td>\n",
       "      <td>2011.000000</td>\n",
       "      <td>2.000000</td>\n",
       "      <td>25.277778</td>\n",
       "      <td>0.165000</td>\n",
       "      <td>29.370000</td>\n",
       "      <td>30.050000</td>\n",
       "      <td>...</td>\n",
       "      <td>0.000000</td>\n",
       "      <td>0.000000</td>\n",
       "      <td>0.000000</td>\n",
       "      <td>0.000000</td>\n",
       "      <td>0.000000</td>\n",
       "      <td>0.000000</td>\n",
       "      <td>0.000000</td>\n",
       "      <td>0.000000</td>\n",
       "      <td>0.000000</td>\n",
       "      <td>0.000000</td>\n",
       "    </tr>\n",
       "    <tr>\n",
       "      <th>max</th>\n",
       "      <td>42.017430</td>\n",
       "      <td>-87.531635</td>\n",
       "      <td>2532.000000</td>\n",
       "      <td>1.000000</td>\n",
       "      <td>2013.000000</td>\n",
       "      <td>2.000000</td>\n",
       "      <td>29.722222</td>\n",
       "      <td>2.420000</td>\n",
       "      <td>29.620000</td>\n",
       "      <td>30.330000</td>\n",
       "      <td>...</td>\n",
       "      <td>1.000000</td>\n",
       "      <td>1.000000</td>\n",
       "      <td>1.000000</td>\n",
       "      <td>1.000000</td>\n",
       "      <td>1.000000</td>\n",
       "      <td>1.000000</td>\n",
       "      <td>1.000000</td>\n",
       "      <td>1.000000</td>\n",
       "      <td>1.000000</td>\n",
       "      <td>1.000000</td>\n",
       "    </tr>\n",
       "  </tbody>\n",
       "</table>\n",
       "<p>8 rows × 31 columns</p>\n",
       "</div>"
      ],
      "text/plain": [
       "          latitude    longitude  nummosquitos   wnvpresent         year  \\\n",
       "count  8475.000000  8475.000000   8475.000000  8475.000000  8475.000000   \n",
       "mean     41.844618   -87.694788     15.933805     0.053923  2009.713156   \n",
       "std       0.106609     0.084063     75.084707     0.225880     2.331751   \n",
       "min      41.644612   -87.930995      1.000000     0.000000  2007.000000   \n",
       "25%      41.750498   -87.752329      2.000000     0.000000  2007.000000   \n",
       "50%      41.857402   -87.694991      4.000000     0.000000  2009.000000   \n",
       "75%      41.944869   -87.642984     11.000000     0.000000  2011.000000   \n",
       "max      42.017430   -87.531635   2532.000000     1.000000  2013.000000   \n",
       "\n",
       "       dum_species         tavg  preciptotal  stnpressure     sealevel  ...  \\\n",
       "count  8475.000000  8475.000000  8475.000000  8475.000000  8475.000000  ...   \n",
       "mean      1.246254    22.460505     0.156117    29.281345    29.961765  ...   \n",
       "std       0.507795     4.217497     0.339540     0.116693     0.120210  ...   \n",
       "min       0.000000    10.555556     0.000000    28.920000    29.595000  ...   \n",
       "25%       1.000000    20.277778     0.000000    29.200000    29.880000  ...   \n",
       "50%       1.000000    23.055556     0.000000    29.290000    29.970000  ...   \n",
       "75%       2.000000    25.277778     0.165000    29.370000    30.050000  ...   \n",
       "max       2.000000    29.722222     2.420000    29.620000    30.330000  ...   \n",
       "\n",
       "        dumweek_30   dumweek_31   dumweek_32   dumweek_33   dumweek_34  \\\n",
       "count  8475.000000  8475.000000  8475.000000  8475.000000  8475.000000   \n",
       "mean      0.066903     0.094395     0.070678     0.070324     0.078938   \n",
       "std       0.249868     0.292395     0.256302     0.255708     0.269658   \n",
       "min       0.000000     0.000000     0.000000     0.000000     0.000000   \n",
       "25%       0.000000     0.000000     0.000000     0.000000     0.000000   \n",
       "50%       0.000000     0.000000     0.000000     0.000000     0.000000   \n",
       "75%       0.000000     0.000000     0.000000     0.000000     0.000000   \n",
       "max       1.000000     1.000000     1.000000     1.000000     1.000000   \n",
       "\n",
       "        dumweek_35   dumweek_36   dumweek_37   dumweek_38   dumweek_39  \n",
       "count  8475.000000  8475.000000  8475.000000  8475.000000  8475.000000  \n",
       "mean      0.041298     0.040472     0.056755     0.071504     0.049794  \n",
       "std       0.198990     0.197075     0.231388     0.257681     0.217531  \n",
       "min       0.000000     0.000000     0.000000     0.000000     0.000000  \n",
       "25%       0.000000     0.000000     0.000000     0.000000     0.000000  \n",
       "50%       0.000000     0.000000     0.000000     0.000000     0.000000  \n",
       "75%       0.000000     0.000000     0.000000     0.000000     0.000000  \n",
       "max       1.000000     1.000000     1.000000     1.000000     1.000000  \n",
       "\n",
       "[8 rows x 31 columns]"
      ]
     },
     "execution_count": 47,
     "metadata": {},
     "output_type": "execute_result"
    }
   ],
   "source": [
    "train.describe()"
   ]
  },
  {
   "cell_type": "code",
   "execution_count": 49,
   "id": "b1caa422",
   "metadata": {
    "ExecuteTime": {
     "end_time": "2022-01-31T08:34:28.719126Z",
     "start_time": "2022-01-31T08:34:28.690429Z"
    },
    "scrolled": true
   },
   "outputs": [
    {
     "data": {
      "text/html": [
       "<div>\n",
       "<style scoped>\n",
       "    .dataframe tbody tr th:only-of-type {\n",
       "        vertical-align: middle;\n",
       "    }\n",
       "\n",
       "    .dataframe tbody tr th {\n",
       "        vertical-align: top;\n",
       "    }\n",
       "\n",
       "    .dataframe thead th {\n",
       "        text-align: right;\n",
       "    }\n",
       "</style>\n",
       "<table border=\"1\" class=\"dataframe\">\n",
       "  <thead>\n",
       "    <tr style=\"text-align: right;\">\n",
       "      <th></th>\n",
       "      <th>date</th>\n",
       "      <th>species</th>\n",
       "      <th>latitude</th>\n",
       "      <th>longitude</th>\n",
       "      <th>year</th>\n",
       "      <th>latlong</th>\n",
       "      <th>dum_species</th>\n",
       "      <th>tavg</th>\n",
       "      <th>preciptotal</th>\n",
       "      <th>stnpressure</th>\n",
       "      <th>...</th>\n",
       "      <th>dumweek_30</th>\n",
       "      <th>dumweek_31</th>\n",
       "      <th>dumweek_32</th>\n",
       "      <th>dumweek_33</th>\n",
       "      <th>dumweek_34</th>\n",
       "      <th>dumweek_35</th>\n",
       "      <th>dumweek_36</th>\n",
       "      <th>dumweek_37</th>\n",
       "      <th>dumweek_38</th>\n",
       "      <th>dumweek_39</th>\n",
       "    </tr>\n",
       "    <tr>\n",
       "      <th>id</th>\n",
       "      <th></th>\n",
       "      <th></th>\n",
       "      <th></th>\n",
       "      <th></th>\n",
       "      <th></th>\n",
       "      <th></th>\n",
       "      <th></th>\n",
       "      <th></th>\n",
       "      <th></th>\n",
       "      <th></th>\n",
       "      <th></th>\n",
       "      <th></th>\n",
       "      <th></th>\n",
       "      <th></th>\n",
       "      <th></th>\n",
       "      <th></th>\n",
       "      <th></th>\n",
       "      <th></th>\n",
       "      <th></th>\n",
       "      <th></th>\n",
       "      <th></th>\n",
       "    </tr>\n",
       "  </thead>\n",
       "  <tbody>\n",
       "    <tr>\n",
       "      <th>1</th>\n",
       "      <td>2008-06-11</td>\n",
       "      <td>CULEX PIPIENS/RESTUANS</td>\n",
       "      <td>41.95469</td>\n",
       "      <td>-87.800991</td>\n",
       "      <td>2008</td>\n",
       "      <td>41.95469, -87.800991</td>\n",
       "      <td>1</td>\n",
       "      <td>23.888889</td>\n",
       "      <td>0.0</td>\n",
       "      <td>29.31</td>\n",
       "      <td>...</td>\n",
       "      <td>0</td>\n",
       "      <td>0</td>\n",
       "      <td>0</td>\n",
       "      <td>0</td>\n",
       "      <td>0</td>\n",
       "      <td>0</td>\n",
       "      <td>0</td>\n",
       "      <td>0</td>\n",
       "      <td>0</td>\n",
       "      <td>0</td>\n",
       "    </tr>\n",
       "    <tr>\n",
       "      <th>2</th>\n",
       "      <td>2008-06-11</td>\n",
       "      <td>CULEX RESTUANS</td>\n",
       "      <td>41.95469</td>\n",
       "      <td>-87.800991</td>\n",
       "      <td>2008</td>\n",
       "      <td>41.95469, -87.800991</td>\n",
       "      <td>2</td>\n",
       "      <td>23.888889</td>\n",
       "      <td>0.0</td>\n",
       "      <td>29.31</td>\n",
       "      <td>...</td>\n",
       "      <td>0</td>\n",
       "      <td>0</td>\n",
       "      <td>0</td>\n",
       "      <td>0</td>\n",
       "      <td>0</td>\n",
       "      <td>0</td>\n",
       "      <td>0</td>\n",
       "      <td>0</td>\n",
       "      <td>0</td>\n",
       "      <td>0</td>\n",
       "    </tr>\n",
       "    <tr>\n",
       "      <th>3</th>\n",
       "      <td>2008-06-11</td>\n",
       "      <td>CULEX PIPIENS</td>\n",
       "      <td>41.95469</td>\n",
       "      <td>-87.800991</td>\n",
       "      <td>2008</td>\n",
       "      <td>41.95469, -87.800991</td>\n",
       "      <td>1</td>\n",
       "      <td>23.888889</td>\n",
       "      <td>0.0</td>\n",
       "      <td>29.31</td>\n",
       "      <td>...</td>\n",
       "      <td>0</td>\n",
       "      <td>0</td>\n",
       "      <td>0</td>\n",
       "      <td>0</td>\n",
       "      <td>0</td>\n",
       "      <td>0</td>\n",
       "      <td>0</td>\n",
       "      <td>0</td>\n",
       "      <td>0</td>\n",
       "      <td>0</td>\n",
       "    </tr>\n",
       "    <tr>\n",
       "      <th>4</th>\n",
       "      <td>2008-06-11</td>\n",
       "      <td>CULEX SALINARIUS</td>\n",
       "      <td>41.95469</td>\n",
       "      <td>-87.800991</td>\n",
       "      <td>2008</td>\n",
       "      <td>41.95469, -87.800991</td>\n",
       "      <td>0</td>\n",
       "      <td>23.888889</td>\n",
       "      <td>0.0</td>\n",
       "      <td>29.31</td>\n",
       "      <td>...</td>\n",
       "      <td>0</td>\n",
       "      <td>0</td>\n",
       "      <td>0</td>\n",
       "      <td>0</td>\n",
       "      <td>0</td>\n",
       "      <td>0</td>\n",
       "      <td>0</td>\n",
       "      <td>0</td>\n",
       "      <td>0</td>\n",
       "      <td>0</td>\n",
       "    </tr>\n",
       "    <tr>\n",
       "      <th>5</th>\n",
       "      <td>2008-06-11</td>\n",
       "      <td>CULEX TERRITANS</td>\n",
       "      <td>41.95469</td>\n",
       "      <td>-87.800991</td>\n",
       "      <td>2008</td>\n",
       "      <td>41.95469, -87.800991</td>\n",
       "      <td>0</td>\n",
       "      <td>23.888889</td>\n",
       "      <td>0.0</td>\n",
       "      <td>29.31</td>\n",
       "      <td>...</td>\n",
       "      <td>0</td>\n",
       "      <td>0</td>\n",
       "      <td>0</td>\n",
       "      <td>0</td>\n",
       "      <td>0</td>\n",
       "      <td>0</td>\n",
       "      <td>0</td>\n",
       "      <td>0</td>\n",
       "      <td>0</td>\n",
       "      <td>0</td>\n",
       "    </tr>\n",
       "  </tbody>\n",
       "</table>\n",
       "<p>5 rows × 32 columns</p>\n",
       "</div>"
      ],
      "text/plain": [
       "          date                 species  latitude  longitude  year  \\\n",
       "id                                                                  \n",
       "1   2008-06-11  CULEX PIPIENS/RESTUANS  41.95469 -87.800991  2008   \n",
       "2   2008-06-11          CULEX RESTUANS  41.95469 -87.800991  2008   \n",
       "3   2008-06-11           CULEX PIPIENS  41.95469 -87.800991  2008   \n",
       "4   2008-06-11        CULEX SALINARIUS  41.95469 -87.800991  2008   \n",
       "5   2008-06-11         CULEX TERRITANS  41.95469 -87.800991  2008   \n",
       "\n",
       "                 latlong  dum_species       tavg  preciptotal  stnpressure  \\\n",
       "id                                                                           \n",
       "1   41.95469, -87.800991            1  23.888889          0.0        29.31   \n",
       "2   41.95469, -87.800991            2  23.888889          0.0        29.31   \n",
       "3   41.95469, -87.800991            1  23.888889          0.0        29.31   \n",
       "4   41.95469, -87.800991            0  23.888889          0.0        29.31   \n",
       "5   41.95469, -87.800991            0  23.888889          0.0        29.31   \n",
       "\n",
       "    ...  dumweek_30  dumweek_31  dumweek_32  dumweek_33  dumweek_34  \\\n",
       "id  ...                                                               \n",
       "1   ...           0           0           0           0           0   \n",
       "2   ...           0           0           0           0           0   \n",
       "3   ...           0           0           0           0           0   \n",
       "4   ...           0           0           0           0           0   \n",
       "5   ...           0           0           0           0           0   \n",
       "\n",
       "    dumweek_35  dumweek_36  dumweek_37  dumweek_38  dumweek_39  \n",
       "id                                                              \n",
       "1            0           0           0           0           0  \n",
       "2            0           0           0           0           0  \n",
       "3            0           0           0           0           0  \n",
       "4            0           0           0           0           0  \n",
       "5            0           0           0           0           0  \n",
       "\n",
       "[5 rows x 32 columns]"
      ]
     },
     "execution_count": 49,
     "metadata": {},
     "output_type": "execute_result"
    }
   ],
   "source": [
    "test.head()"
   ]
  },
  {
   "cell_type": "code",
   "execution_count": 50,
   "id": "4a92ab38",
   "metadata": {
    "ExecuteTime": {
     "end_time": "2022-01-31T08:34:30.045017Z",
     "start_time": "2022-01-31T08:34:30.027010Z"
    },
    "scrolled": true
   },
   "outputs": [
    {
     "name": "stdout",
     "output_type": "stream",
     "text": [
      "<class 'pandas.core.frame.DataFrame'>\n",
      "RangeIndex: 8475 entries, 0 to 8474\n",
      "Data columns (total 34 columns):\n",
      " #   Column             Non-Null Count  Dtype  \n",
      "---  ------             --------------  -----  \n",
      " 0   date               8475 non-null   object \n",
      " 1   species            8475 non-null   object \n",
      " 2   latitude           8475 non-null   float64\n",
      " 3   longitude          8475 non-null   float64\n",
      " 4   latlong            8475 non-null   object \n",
      " 5   nummosquitos       8475 non-null   int64  \n",
      " 6   wnvpresent         8475 non-null   int64  \n",
      " 7   year               8475 non-null   int64  \n",
      " 8   dum_species        8475 non-null   int64  \n",
      " 9   tavg               8475 non-null   float64\n",
      " 10  preciptotal        8475 non-null   float64\n",
      " 11  stnpressure        8475 non-null   float64\n",
      " 12  sealevel           8475 non-null   float64\n",
      " 13  resultspeed        8475 non-null   float64\n",
      " 14  resultdir          8475 non-null   float64\n",
      " 15  avgspeed           8475 non-null   float64\n",
      " 16  humidity           8475 non-null   float64\n",
      " 17  daylength          8475 non-null   float64\n",
      " 18  tavg_lag14         8475 non-null   float64\n",
      " 19  humidity_lag14     8475 non-null   float64\n",
      " 20  resultspeed_lag14  8475 non-null   float64\n",
      " 21  preciptotal_lag14  8475 non-null   float64\n",
      " 22  dumweek_28         8475 non-null   int64  \n",
      " 23  dumweek_29         8475 non-null   int64  \n",
      " 24  dumweek_30         8475 non-null   int64  \n",
      " 25  dumweek_31         8475 non-null   int64  \n",
      " 26  dumweek_32         8475 non-null   int64  \n",
      " 27  dumweek_33         8475 non-null   int64  \n",
      " 28  dumweek_34         8475 non-null   int64  \n",
      " 29  dumweek_35         8475 non-null   int64  \n",
      " 30  dumweek_36         8475 non-null   int64  \n",
      " 31  dumweek_37         8475 non-null   int64  \n",
      " 32  dumweek_38         8475 non-null   int64  \n",
      " 33  dumweek_39         8475 non-null   int64  \n",
      "dtypes: float64(15), int64(16), object(3)\n",
      "memory usage: 2.2+ MB\n"
     ]
    }
   ],
   "source": [
    "train.info()"
   ]
  },
  {
   "cell_type": "code",
   "execution_count": 51,
   "id": "ef8d71c6",
   "metadata": {
    "ExecuteTime": {
     "end_time": "2022-01-31T08:35:37.703541Z",
     "start_time": "2022-01-31T08:35:37.675649Z"
    }
   },
   "outputs": [
    {
     "data": {
      "text/html": [
       "<div>\n",
       "<style scoped>\n",
       "    .dataframe tbody tr th:only-of-type {\n",
       "        vertical-align: middle;\n",
       "    }\n",
       "\n",
       "    .dataframe tbody tr th {\n",
       "        vertical-align: top;\n",
       "    }\n",
       "\n",
       "    .dataframe thead th {\n",
       "        text-align: right;\n",
       "    }\n",
       "</style>\n",
       "<table border=\"1\" class=\"dataframe\">\n",
       "  <thead>\n",
       "    <tr style=\"text-align: right;\">\n",
       "      <th></th>\n",
       "      <th>date</th>\n",
       "      <th>species</th>\n",
       "      <th>latitude</th>\n",
       "      <th>longitude</th>\n",
       "      <th>year</th>\n",
       "      <th>latlong</th>\n",
       "      <th>dum_species</th>\n",
       "      <th>tavg</th>\n",
       "      <th>preciptotal</th>\n",
       "      <th>stnpressure</th>\n",
       "      <th>...</th>\n",
       "      <th>dumweek_30</th>\n",
       "      <th>dumweek_31</th>\n",
       "      <th>dumweek_32</th>\n",
       "      <th>dumweek_33</th>\n",
       "      <th>dumweek_34</th>\n",
       "      <th>dumweek_35</th>\n",
       "      <th>dumweek_36</th>\n",
       "      <th>dumweek_37</th>\n",
       "      <th>dumweek_38</th>\n",
       "      <th>dumweek_39</th>\n",
       "    </tr>\n",
       "    <tr>\n",
       "      <th>id</th>\n",
       "      <th></th>\n",
       "      <th></th>\n",
       "      <th></th>\n",
       "      <th></th>\n",
       "      <th></th>\n",
       "      <th></th>\n",
       "      <th></th>\n",
       "      <th></th>\n",
       "      <th></th>\n",
       "      <th></th>\n",
       "      <th></th>\n",
       "      <th></th>\n",
       "      <th></th>\n",
       "      <th></th>\n",
       "      <th></th>\n",
       "      <th></th>\n",
       "      <th></th>\n",
       "      <th></th>\n",
       "      <th></th>\n",
       "      <th></th>\n",
       "      <th></th>\n",
       "    </tr>\n",
       "  </thead>\n",
       "  <tbody>\n",
       "    <tr>\n",
       "      <th>1</th>\n",
       "      <td>2008-06-11</td>\n",
       "      <td>CULEX PIPIENS/RESTUANS</td>\n",
       "      <td>41.95469</td>\n",
       "      <td>-87.800991</td>\n",
       "      <td>2008</td>\n",
       "      <td>41.95469, -87.800991</td>\n",
       "      <td>1</td>\n",
       "      <td>23.888889</td>\n",
       "      <td>0.0</td>\n",
       "      <td>29.31</td>\n",
       "      <td>...</td>\n",
       "      <td>0</td>\n",
       "      <td>0</td>\n",
       "      <td>0</td>\n",
       "      <td>0</td>\n",
       "      <td>0</td>\n",
       "      <td>0</td>\n",
       "      <td>0</td>\n",
       "      <td>0</td>\n",
       "      <td>0</td>\n",
       "      <td>0</td>\n",
       "    </tr>\n",
       "    <tr>\n",
       "      <th>2</th>\n",
       "      <td>2008-06-11</td>\n",
       "      <td>CULEX RESTUANS</td>\n",
       "      <td>41.95469</td>\n",
       "      <td>-87.800991</td>\n",
       "      <td>2008</td>\n",
       "      <td>41.95469, -87.800991</td>\n",
       "      <td>2</td>\n",
       "      <td>23.888889</td>\n",
       "      <td>0.0</td>\n",
       "      <td>29.31</td>\n",
       "      <td>...</td>\n",
       "      <td>0</td>\n",
       "      <td>0</td>\n",
       "      <td>0</td>\n",
       "      <td>0</td>\n",
       "      <td>0</td>\n",
       "      <td>0</td>\n",
       "      <td>0</td>\n",
       "      <td>0</td>\n",
       "      <td>0</td>\n",
       "      <td>0</td>\n",
       "    </tr>\n",
       "    <tr>\n",
       "      <th>3</th>\n",
       "      <td>2008-06-11</td>\n",
       "      <td>CULEX PIPIENS</td>\n",
       "      <td>41.95469</td>\n",
       "      <td>-87.800991</td>\n",
       "      <td>2008</td>\n",
       "      <td>41.95469, -87.800991</td>\n",
       "      <td>1</td>\n",
       "      <td>23.888889</td>\n",
       "      <td>0.0</td>\n",
       "      <td>29.31</td>\n",
       "      <td>...</td>\n",
       "      <td>0</td>\n",
       "      <td>0</td>\n",
       "      <td>0</td>\n",
       "      <td>0</td>\n",
       "      <td>0</td>\n",
       "      <td>0</td>\n",
       "      <td>0</td>\n",
       "      <td>0</td>\n",
       "      <td>0</td>\n",
       "      <td>0</td>\n",
       "    </tr>\n",
       "    <tr>\n",
       "      <th>4</th>\n",
       "      <td>2008-06-11</td>\n",
       "      <td>CULEX SALINARIUS</td>\n",
       "      <td>41.95469</td>\n",
       "      <td>-87.800991</td>\n",
       "      <td>2008</td>\n",
       "      <td>41.95469, -87.800991</td>\n",
       "      <td>0</td>\n",
       "      <td>23.888889</td>\n",
       "      <td>0.0</td>\n",
       "      <td>29.31</td>\n",
       "      <td>...</td>\n",
       "      <td>0</td>\n",
       "      <td>0</td>\n",
       "      <td>0</td>\n",
       "      <td>0</td>\n",
       "      <td>0</td>\n",
       "      <td>0</td>\n",
       "      <td>0</td>\n",
       "      <td>0</td>\n",
       "      <td>0</td>\n",
       "      <td>0</td>\n",
       "    </tr>\n",
       "    <tr>\n",
       "      <th>5</th>\n",
       "      <td>2008-06-11</td>\n",
       "      <td>CULEX TERRITANS</td>\n",
       "      <td>41.95469</td>\n",
       "      <td>-87.800991</td>\n",
       "      <td>2008</td>\n",
       "      <td>41.95469, -87.800991</td>\n",
       "      <td>0</td>\n",
       "      <td>23.888889</td>\n",
       "      <td>0.0</td>\n",
       "      <td>29.31</td>\n",
       "      <td>...</td>\n",
       "      <td>0</td>\n",
       "      <td>0</td>\n",
       "      <td>0</td>\n",
       "      <td>0</td>\n",
       "      <td>0</td>\n",
       "      <td>0</td>\n",
       "      <td>0</td>\n",
       "      <td>0</td>\n",
       "      <td>0</td>\n",
       "      <td>0</td>\n",
       "    </tr>\n",
       "  </tbody>\n",
       "</table>\n",
       "<p>5 rows × 32 columns</p>\n",
       "</div>"
      ],
      "text/plain": [
       "          date                 species  latitude  longitude  year  \\\n",
       "id                                                                  \n",
       "1   2008-06-11  CULEX PIPIENS/RESTUANS  41.95469 -87.800991  2008   \n",
       "2   2008-06-11          CULEX RESTUANS  41.95469 -87.800991  2008   \n",
       "3   2008-06-11           CULEX PIPIENS  41.95469 -87.800991  2008   \n",
       "4   2008-06-11        CULEX SALINARIUS  41.95469 -87.800991  2008   \n",
       "5   2008-06-11         CULEX TERRITANS  41.95469 -87.800991  2008   \n",
       "\n",
       "                 latlong  dum_species       tavg  preciptotal  stnpressure  \\\n",
       "id                                                                           \n",
       "1   41.95469, -87.800991            1  23.888889          0.0        29.31   \n",
       "2   41.95469, -87.800991            2  23.888889          0.0        29.31   \n",
       "3   41.95469, -87.800991            1  23.888889          0.0        29.31   \n",
       "4   41.95469, -87.800991            0  23.888889          0.0        29.31   \n",
       "5   41.95469, -87.800991            0  23.888889          0.0        29.31   \n",
       "\n",
       "    ...  dumweek_30  dumweek_31  dumweek_32  dumweek_33  dumweek_34  \\\n",
       "id  ...                                                               \n",
       "1   ...           0           0           0           0           0   \n",
       "2   ...           0           0           0           0           0   \n",
       "3   ...           0           0           0           0           0   \n",
       "4   ...           0           0           0           0           0   \n",
       "5   ...           0           0           0           0           0   \n",
       "\n",
       "    dumweek_35  dumweek_36  dumweek_37  dumweek_38  dumweek_39  \n",
       "id                                                              \n",
       "1            0           0           0           0           0  \n",
       "2            0           0           0           0           0  \n",
       "3            0           0           0           0           0  \n",
       "4            0           0           0           0           0  \n",
       "5            0           0           0           0           0  \n",
       "\n",
       "[5 rows x 32 columns]"
      ]
     },
     "execution_count": 51,
     "metadata": {},
     "output_type": "execute_result"
    }
   ],
   "source": [
    "test.head()"
   ]
  },
  {
   "cell_type": "code",
   "execution_count": 52,
   "id": "166596ef",
   "metadata": {
    "ExecuteTime": {
     "end_time": "2022-01-31T08:36:21.800661Z",
     "start_time": "2022-01-31T08:36:21.782497Z"
    }
   },
   "outputs": [],
   "source": [
    "X = train.drop(['wnvpresent','date','species', 'latlong', 'nummosquitos', 'year'], axis=1)\n",
    "y = train['wnvpresent']\n",
    "\n",
    "X_train, X_test, y_train, y_test = train_test_split(X, y, stratify=y, random_state=42)"
   ]
  },
  {
   "cell_type": "code",
   "execution_count": 53,
   "id": "ce122cf2",
   "metadata": {
    "ExecuteTime": {
     "end_time": "2022-01-31T08:36:22.747085Z",
     "start_time": "2022-01-31T08:36:22.729989Z"
    }
   },
   "outputs": [],
   "source": [
    "scoring_table=[]"
   ]
  },
  {
   "cell_type": "code",
   "execution_count": 55,
   "id": "cc63f943",
   "metadata": {
    "ExecuteTime": {
     "end_time": "2022-01-31T08:36:46.455847Z",
     "start_time": "2022-01-31T08:36:46.437210Z"
    }
   },
   "outputs": [
    {
     "data": {
      "text/plain": [
       "(116293, 32)"
      ]
     },
     "execution_count": 55,
     "metadata": {},
     "output_type": "execute_result"
    }
   ],
   "source": [
    "test.shape"
   ]
  },
  {
   "cell_type": "code",
   "execution_count": 69,
   "id": "edb20b55",
   "metadata": {
    "ExecuteTime": {
     "end_time": "2022-01-31T08:57:32.396726Z",
     "start_time": "2022-01-31T08:57:32.387626Z"
    }
   },
   "outputs": [
    {
     "data": {
      "text/plain": [
       "{'date', 'latlong', 'species', 'year'}"
      ]
     },
     "execution_count": 69,
     "metadata": {},
     "output_type": "execute_result"
    }
   ],
   "source": [
    "set(test.columns)-set(X_test.columns)"
   ]
  },
  {
   "cell_type": "code",
   "execution_count": 70,
   "id": "6d513a3c",
   "metadata": {
    "ExecuteTime": {
     "end_time": "2022-01-31T08:58:41.002222Z",
     "start_time": "2022-01-31T08:58:40.963607Z"
    }
   },
   "outputs": [],
   "source": [
    "test.drop(columns=['date', 'latlong', 'species', 'year'], inplace=True)"
   ]
  },
  {
   "cell_type": "markdown",
   "id": "140202c9",
   "metadata": {},
   "source": [
    "# Models"
   ]
  },
  {
   "cell_type": "markdown",
   "id": "a82de9a2",
   "metadata": {},
   "source": [
    "## Random Forest"
   ]
  },
  {
   "cell_type": "code",
   "execution_count": 57,
   "id": "d38d3395",
   "metadata": {
    "ExecuteTime": {
     "end_time": "2022-01-31T08:45:38.849953Z",
     "start_time": "2022-01-31T08:45:38.841077Z"
    }
   },
   "outputs": [],
   "source": [
    "rf = RandomForestClassifier(random_state=42, n_jobs=4)\n",
    "\n",
    "params_rf = {\n",
    "    'clsf__n_estimators': [ 200,300],\n",
    "    'clsf__max_depth': [ 7,10],\n",
    "    'clsf__ccp_alpha':[0, 0.01]\n",
    "}\n",
    "\n"
   ]
  },
  {
   "cell_type": "code",
   "execution_count": 58,
   "id": "17485a9c",
   "metadata": {
    "ExecuteTime": {
     "end_time": "2022-01-31T08:45:57.780610Z",
     "start_time": "2022-01-31T08:45:48.715240Z"
    },
    "scrolled": true
   },
   "outputs": [
    {
     "name": "stdout",
     "output_type": "stream",
     "text": [
      "Fitting 4 folds for each of 8 candidates, totalling 32 fits\n",
      "\n",
      "\n",
      "==============================\n",
      "\u001b[1m RandomForestClassifier(n_jobs=4, random_state=42) \u001b[0m\n",
      "==============================\n",
      "\n",
      " Best Parameters:\n",
      "------------------------------ \n",
      "\n",
      "clsf__ccp_alpha : 0\n",
      "clsf__max_depth : 10\n",
      "clsf__n_estimators : 300\n",
      "[[2003    2]\n",
      " [ 108    6]]\n"
     ]
    }
   ],
   "source": [
    "gs = run_model(rf, params_rf)"
   ]
  },
  {
   "cell_type": "code",
   "execution_count": 59,
   "id": "10d61b64",
   "metadata": {
    "ExecuteTime": {
     "end_time": "2022-01-31T08:46:09.666689Z",
     "start_time": "2022-01-31T08:46:09.086002Z"
    }
   },
   "outputs": [
    {
     "data": {
      "text/plain": [
       "<sklearn.metrics._plot.confusion_matrix.ConfusionMatrixDisplay at 0x202fcee1d30>"
      ]
     },
     "execution_count": 59,
     "metadata": {},
     "output_type": "execute_result"
    },
    {
     "data": {
      "image/png": "[encoded data removed]",
      "text/plain": [
       "<Figure size 432x288 with 2 Axes>"
      ]
     },
     "metadata": {
      "needs_background": "light"
     },
     "output_type": "display_data"
    }
   ],
   "source": [
    "plot_confusion_matrix(gs, X_test, y_test)"
   ]
  },
  {
   "cell_type": "code",
   "execution_count": 60,
   "id": "9944593f",
   "metadata": {
    "ExecuteTime": {
     "end_time": "2022-01-31T08:46:48.753169Z",
     "start_time": "2022-01-31T08:46:48.740415Z"
    },
    "scrolled": true
   },
   "outputs": [
    {
     "data": {
      "text/plain": [
       "[{'Model': RandomForestClassifier(n_jobs=4, random_state=42),\n",
       "  'Type': 'reg',\n",
       "  'ROC-AUC': 0.8560812880080502,\n",
       "  'Precision': 0.75,\n",
       "  'Recall': 0.05263157894736842,\n",
       "  'F1': 0.09836065573770492,\n",
       "  'clsf__ccp_alpha': 0,\n",
       "  'clsf__max_depth': 10,\n",
       "  'clsf__n_estimators': 300}]"
      ]
     },
     "execution_count": 60,
     "metadata": {},
     "output_type": "execute_result"
    }
   ],
   "source": [
    "scoring_table"
   ]
  },
  {
   "cell_type": "code",
   "execution_count": 77,
   "id": "89c91a36",
   "metadata": {
    "ExecuteTime": {
     "end_time": "2022-01-31T09:12:08.716331Z",
     "start_time": "2022-01-31T09:12:06.346838Z"
    }
   },
   "outputs": [],
   "source": [
    "submit_kaggle('submit_rf', gs)"
   ]
  },
  {
   "cell_type": "markdown",
   "id": "f8275ba3",
   "metadata": {},
   "source": [
    "###  RandomForest Kaggle\n",
    "\n",
    "<img  src=\"../images/submit_rf2.png\">"
   ]
  },
  {
   "cell_type": "markdown",
   "id": "c6bae039",
   "metadata": {},
   "source": [
    "## Gradient Boost"
   ]
  },
  {
   "cell_type": "code",
   "execution_count": 61,
   "id": "a68fc8c2",
   "metadata": {
    "ExecuteTime": {
     "end_time": "2022-01-31T08:47:18.074887Z",
     "start_time": "2022-01-31T08:47:18.062918Z"
    }
   },
   "outputs": [],
   "source": [
    "# Gradient Boost\n",
    "gb = GradientBoostingClassifier(random_state=42)\n",
    "\n",
    "params_gb = {\n",
    "    'clsf__learning_rate': [ 0.01, 0.1],\n",
    "    'clsf__max_depth': [7, 10],\n",
    "    'clsf__ccp_alpha':[0, 0.1],\n",
    "    'clsf__n_estimators':[200, 350]\n",
    "}"
   ]
  },
  {
   "cell_type": "code",
   "execution_count": 62,
   "id": "b7664dba",
   "metadata": {
    "ExecuteTime": {
     "end_time": "2022-01-31T08:52:05.578300Z",
     "start_time": "2022-01-31T08:47:33.681542Z"
    }
   },
   "outputs": [
    {
     "name": "stdout",
     "output_type": "stream",
     "text": [
      "Fitting 4 folds for each of 16 candidates, totalling 64 fits\n",
      "\n",
      "\n",
      "==============================\n",
      "\u001b[1m GradientBoostingClassifier(random_state=42) \u001b[0m\n",
      "==============================\n",
      "\n",
      " Best Parameters:\n",
      "------------------------------ \n",
      "\n",
      "clsf__ccp_alpha : 0\n",
      "clsf__learning_rate : 0.01\n",
      "clsf__max_depth : 7\n",
      "clsf__n_estimators : 350\n",
      "[[1995   10]\n",
      " [ 103   11]]\n"
     ]
    }
   ],
   "source": [
    "gs_gb=run_model(gb, params_gb)"
   ]
  },
  {
   "cell_type": "code",
   "execution_count": 64,
   "id": "72745231",
   "metadata": {
    "ExecuteTime": {
     "end_time": "2022-01-31T08:52:51.361354Z",
     "start_time": "2022-01-31T08:52:50.945957Z"
    }
   },
   "outputs": [
    {
     "data": {
      "text/plain": [
       "<sklearn.metrics._plot.confusion_matrix.ConfusionMatrixDisplay at 0x20280869580>"
      ]
     },
     "execution_count": 64,
     "metadata": {},
     "output_type": "execute_result"
    },
    {
     "data": {
      "image/png": "[encoded data removed]",
      "text/plain": [
       "<Figure size 432x288 with 2 Axes>"
      ]
     },
     "metadata": {
      "needs_background": "light"
     },
     "output_type": "display_data"
    }
   ],
   "source": [
    "plot_confusion_matrix(gs_gb, X_test, y_test)"
   ]
  },
  {
   "cell_type": "code",
   "execution_count": 65,
   "id": "332cf25c",
   "metadata": {
    "ExecuteTime": {
     "end_time": "2022-01-31T08:53:17.626212Z",
     "start_time": "2022-01-31T08:53:17.586246Z"
    }
   },
   "outputs": [
    {
     "data": {
      "text/html": [
       "<div>\n",
       "<style scoped>\n",
       "    .dataframe tbody tr th:only-of-type {\n",
       "        vertical-align: middle;\n",
       "    }\n",
       "\n",
       "    .dataframe tbody tr th {\n",
       "        vertical-align: top;\n",
       "    }\n",
       "\n",
       "    .dataframe thead th {\n",
       "        text-align: right;\n",
       "    }\n",
       "</style>\n",
       "<table border=\"1\" class=\"dataframe\">\n",
       "  <thead>\n",
       "    <tr style=\"text-align: right;\">\n",
       "      <th></th>\n",
       "      <th>Model</th>\n",
       "      <th>Type</th>\n",
       "      <th>ROC-AUC</th>\n",
       "      <th>Precision</th>\n",
       "      <th>Recall</th>\n",
       "      <th>F1</th>\n",
       "      <th>clsf__ccp_alpha</th>\n",
       "      <th>clsf__max_depth</th>\n",
       "      <th>clsf__n_estimators</th>\n",
       "      <th>clsf__learning_rate</th>\n",
       "    </tr>\n",
       "  </thead>\n",
       "  <tbody>\n",
       "    <tr>\n",
       "      <th>0</th>\n",
       "      <td>RandomForestClassifier(n_jobs=4, random_state=42)</td>\n",
       "      <td>reg</td>\n",
       "      <td>0.856081</td>\n",
       "      <td>0.75000</td>\n",
       "      <td>0.052632</td>\n",
       "      <td>0.098361</td>\n",
       "      <td>0</td>\n",
       "      <td>10</td>\n",
       "      <td>300</td>\n",
       "      <td>NaN</td>\n",
       "    </tr>\n",
       "    <tr>\n",
       "      <th>1</th>\n",
       "      <td>GradientBoostingClassifier(random_state=42)</td>\n",
       "      <td>reg</td>\n",
       "      <td>0.835177</td>\n",
       "      <td>0.52381</td>\n",
       "      <td>0.096491</td>\n",
       "      <td>0.162963</td>\n",
       "      <td>0</td>\n",
       "      <td>7</td>\n",
       "      <td>350</td>\n",
       "      <td>0.01</td>\n",
       "    </tr>\n",
       "  </tbody>\n",
       "</table>\n",
       "</div>"
      ],
      "text/plain": [
       "                                               Model Type   ROC-AUC  \\\n",
       "0  RandomForestClassifier(n_jobs=4, random_state=42)  reg  0.856081   \n",
       "1        GradientBoostingClassifier(random_state=42)  reg  0.835177   \n",
       "\n",
       "   Precision    Recall        F1  clsf__ccp_alpha  clsf__max_depth  \\\n",
       "0    0.75000  0.052632  0.098361                0               10   \n",
       "1    0.52381  0.096491  0.162963                0                7   \n",
       "\n",
       "   clsf__n_estimators  clsf__learning_rate  \n",
       "0                 300                  NaN  \n",
       "1                 350                 0.01  "
      ]
     },
     "execution_count": 65,
     "metadata": {},
     "output_type": "execute_result"
    }
   ],
   "source": [
    "pd.DataFrame(scoring_table).sort_values(by='ROC-AUC', ascending=False)"
   ]
  },
  {
   "cell_type": "code",
   "execution_count": 71,
   "id": "09340d97",
   "metadata": {
    "ExecuteTime": {
     "end_time": "2022-01-28T08:09:17.385741Z",
     "start_time": "2022-01-28T08:09:17.357436Z"
    },
    "scrolled": true
   },
   "outputs": [
    {
     "data": {
      "text/plain": [
       "GridSearchCV(cv=4,\n",
       "             estimator=Pipeline(steps=[('sc', StandardScaler()),\n",
       "                                       ('clsf',\n",
       "                                        GradientBoostingClassifier(random_state=42))]),\n",
       "             n_jobs=4,\n",
       "             param_grid={'clsf__ccp_alpha': [0, 0.01],\n",
       "                         'clsf__max_depth': [7, 10],\n",
       "                         'clsf__n_estimators': [200, 300]},\n",
       "             scoring='roc_auc', verbose=3)"
      ]
     },
     "execution_count": 71,
     "metadata": {},
     "output_type": "execute_result"
    }
   ],
   "source": []
  },
  {
   "cell_type": "code",
   "execution_count": null,
   "id": "00c1e98a",
   "metadata": {},
   "outputs": [],
   "source": [
    "submit_kaggle('submit_gb', gs_gb)"
   ]
  },
  {
   "cell_type": "markdown",
   "id": "bac703d1",
   "metadata": {},
   "source": [
    "###  GradientBoost Kaggle\n",
    "\n",
    "<img  src=\"../images/submit_gb.png\">"
   ]
  },
  {
   "cell_type": "code",
   "execution_count": 110,
   "id": "0d64bb8e",
   "metadata": {
    "ExecuteTime": {
     "end_time": "2022-01-28T09:17:43.684167Z",
     "start_time": "2022-01-28T09:17:43.674935Z"
    }
   },
   "outputs": [
    {
     "data": {
      "text/plain": [
       "[{'Model': GradientBoostingClassifier(random_state=42),\n",
       "  'ROC-AUC': 0.8305639410246313,\n",
       "  'Precision': 0.2911392405063291,\n",
       "  'Recall': 0.20175438596491227,\n",
       "  'F1': 0.23834196891191708},\n",
       " {'Model': RandomForestClassifier(n_jobs=4, random_state=42),\n",
       "  'ROC-AUC': 0.8626110163188518,\n",
       "  'Precision': 0.0,\n",
       "  'Recall': 0.0,\n",
       "  'F1': 0.0}]"
      ]
     },
     "execution_count": 110,
     "metadata": {},
     "output_type": "execute_result"
    }
   ],
   "source": [
    "scoring_table"
   ]
  },
  {
   "cell_type": "markdown",
   "id": "e3ea166e",
   "metadata": {
    "ExecuteTime": {
     "end_time": "2022-01-28T06:38:35.750179Z",
     "start_time": "2022-01-28T06:38:35.662116Z"
    }
   },
   "source": [
    "# PCA model setup"
   ]
  },
  {
   "cell_type": "code",
   "execution_count": 149,
   "id": "f98361f3",
   "metadata": {
    "ExecuteTime": {
     "end_time": "2022-01-31T15:37:36.646556Z",
     "start_time": "2022-01-31T15:37:35.697226Z"
    }
   },
   "outputs": [],
   "source": [
    "# Poly by power of 2.  \n",
    "pf = PolynomialFeatures(degree=2, include_bias=True, interaction_only=True )  \n",
    "# Fit and transform our X data using Polynomial Features.  \n",
    "X_poly = pf.fit_transform(X)\n",
    "\n",
    "#transform the real (Kaggle) test set\n",
    "test_poly = pf.transform(test)\n",
    "                         \n",
    "#Train/test split our data.\n",
    "Xp_train, Xp_test, y_train, y_test = train_test_split(X_poly,\n",
    "                                                            y,\n",
    "                                                            stratify=y,\n",
    "                                                            random_state=42)      \n",
    "\n",
    "# Instantiate our StandardScaler.\n",
    "sc = StandardScaler()\n",
    "# Scale X_train.\n",
    "Xp_trainsc = sc.fit_transform(Xp_train)\n",
    "# Scale X_test.\n",
    "Xp_testsc = sc.transform(Xp_test)\n",
    "# Scale the real Kaggle test set\n",
    "testsc = sc.transform(test_poly)"
   ]
  },
  {
   "cell_type": "code",
   "execution_count": 179,
   "id": "f7e6758f",
   "metadata": {
    "ExecuteTime": {
     "end_time": "2022-02-01T08:22:16.558705Z",
     "start_time": "2022-02-01T08:22:16.536201Z"
    }
   },
   "outputs": [
    {
     "data": {
      "text/plain": [
       "['1',\n",
       " 'latitude',\n",
       " 'longitude',\n",
       " 'dum_species',\n",
       " 'tavg',\n",
       " 'preciptotal',\n",
       " 'stnpressure',\n",
       " 'sealevel',\n",
       " 'resultspeed',\n",
       " 'resultdir',\n",
       " 'avgspeed',\n",
       " 'humidity',\n",
       " 'daylength',\n",
       " 'tavg_lag14',\n",
       " 'humidity_lag14',\n",
       " 'resultspeed_lag14',\n",
       " 'preciptotal_lag14',\n",
       " 'dumweek_28',\n",
       " 'dumweek_29',\n",
       " 'dumweek_30',\n",
       " 'dumweek_31',\n",
       " 'dumweek_32',\n",
       " 'dumweek_33',\n",
       " 'dumweek_34',\n",
       " 'dumweek_35',\n",
       " 'dumweek_36',\n",
       " 'dumweek_37',\n",
       " 'dumweek_38',\n",
       " 'dumweek_39',\n",
       " 'latitude longitude',\n",
       " 'latitude dum_species',\n",
       " 'latitude tavg',\n",
       " 'latitude preciptotal',\n",
       " 'latitude stnpressure',\n",
       " 'latitude sealevel',\n",
       " 'latitude resultspeed',\n",
       " 'latitude resultdir',\n",
       " 'latitude avgspeed',\n",
       " 'latitude humidity',\n",
       " 'latitude daylength',\n",
       " 'latitude tavg_lag14',\n",
       " 'latitude humidity_lag14',\n",
       " 'latitude resultspeed_lag14',\n",
       " 'latitude preciptotal_lag14',\n",
       " 'latitude dumweek_28',\n",
       " 'latitude dumweek_29',\n",
       " 'latitude dumweek_30',\n",
       " 'latitude dumweek_31',\n",
       " 'latitude dumweek_32',\n",
       " 'latitude dumweek_33',\n",
       " 'latitude dumweek_34',\n",
       " 'latitude dumweek_35',\n",
       " 'latitude dumweek_36',\n",
       " 'latitude dumweek_37',\n",
       " 'latitude dumweek_38',\n",
       " 'latitude dumweek_39',\n",
       " 'longitude dum_species',\n",
       " 'longitude tavg',\n",
       " 'longitude preciptotal',\n",
       " 'longitude stnpressure',\n",
       " 'longitude sealevel',\n",
       " 'longitude resultspeed',\n",
       " 'longitude resultdir',\n",
       " 'longitude avgspeed',\n",
       " 'longitude humidity',\n",
       " 'longitude daylength',\n",
       " 'longitude tavg_lag14',\n",
       " 'longitude humidity_lag14',\n",
       " 'longitude resultspeed_lag14',\n",
       " 'longitude preciptotal_lag14',\n",
       " 'longitude dumweek_28',\n",
       " 'longitude dumweek_29',\n",
       " 'longitude dumweek_30',\n",
       " 'longitude dumweek_31',\n",
       " 'longitude dumweek_32',\n",
       " 'longitude dumweek_33',\n",
       " 'longitude dumweek_34',\n",
       " 'longitude dumweek_35',\n",
       " 'longitude dumweek_36',\n",
       " 'longitude dumweek_37',\n",
       " 'longitude dumweek_38',\n",
       " 'longitude dumweek_39',\n",
       " 'dum_species tavg',\n",
       " 'dum_species preciptotal',\n",
       " 'dum_species stnpressure',\n",
       " 'dum_species sealevel',\n",
       " 'dum_species resultspeed',\n",
       " 'dum_species resultdir',\n",
       " 'dum_species avgspeed',\n",
       " 'dum_species humidity',\n",
       " 'dum_species daylength',\n",
       " 'dum_species tavg_lag14',\n",
       " 'dum_species humidity_lag14',\n",
       " 'dum_species resultspeed_lag14',\n",
       " 'dum_species preciptotal_lag14',\n",
       " 'dum_species dumweek_28',\n",
       " 'dum_species dumweek_29',\n",
       " 'dum_species dumweek_30',\n",
       " 'dum_species dumweek_31',\n",
       " 'dum_species dumweek_32',\n",
       " 'dum_species dumweek_33',\n",
       " 'dum_species dumweek_34',\n",
       " 'dum_species dumweek_35',\n",
       " 'dum_species dumweek_36',\n",
       " 'dum_species dumweek_37',\n",
       " 'dum_species dumweek_38',\n",
       " 'dum_species dumweek_39',\n",
       " 'tavg preciptotal',\n",
       " 'tavg stnpressure',\n",
       " 'tavg sealevel',\n",
       " 'tavg resultspeed',\n",
       " 'tavg resultdir',\n",
       " 'tavg avgspeed',\n",
       " 'tavg humidity',\n",
       " 'tavg daylength',\n",
       " 'tavg tavg_lag14',\n",
       " 'tavg humidity_lag14',\n",
       " 'tavg resultspeed_lag14',\n",
       " 'tavg preciptotal_lag14',\n",
       " 'tavg dumweek_28',\n",
       " 'tavg dumweek_29',\n",
       " 'tavg dumweek_30',\n",
       " 'tavg dumweek_31',\n",
       " 'tavg dumweek_32',\n",
       " 'tavg dumweek_33',\n",
       " 'tavg dumweek_34',\n",
       " 'tavg dumweek_35',\n",
       " 'tavg dumweek_36',\n",
       " 'tavg dumweek_37',\n",
       " 'tavg dumweek_38',\n",
       " 'tavg dumweek_39',\n",
       " 'preciptotal stnpressure',\n",
       " 'preciptotal sealevel',\n",
       " 'preciptotal resultspeed',\n",
       " 'preciptotal resultdir',\n",
       " 'preciptotal avgspeed',\n",
       " 'preciptotal humidity',\n",
       " 'preciptotal daylength',\n",
       " 'preciptotal tavg_lag14',\n",
       " 'preciptotal humidity_lag14',\n",
       " 'preciptotal resultspeed_lag14',\n",
       " 'preciptotal preciptotal_lag14',\n",
       " 'preciptotal dumweek_28',\n",
       " 'preciptotal dumweek_29',\n",
       " 'preciptotal dumweek_30',\n",
       " 'preciptotal dumweek_31',\n",
       " 'preciptotal dumweek_32',\n",
       " 'preciptotal dumweek_33',\n",
       " 'preciptotal dumweek_34',\n",
       " 'preciptotal dumweek_35',\n",
       " 'preciptotal dumweek_36',\n",
       " 'preciptotal dumweek_37',\n",
       " 'preciptotal dumweek_38',\n",
       " 'preciptotal dumweek_39',\n",
       " 'stnpressure sealevel',\n",
       " 'stnpressure resultspeed',\n",
       " 'stnpressure resultdir',\n",
       " 'stnpressure avgspeed',\n",
       " 'stnpressure humidity',\n",
       " 'stnpressure daylength',\n",
       " 'stnpressure tavg_lag14',\n",
       " 'stnpressure humidity_lag14',\n",
       " 'stnpressure resultspeed_lag14',\n",
       " 'stnpressure preciptotal_lag14',\n",
       " 'stnpressure dumweek_28',\n",
       " 'stnpressure dumweek_29',\n",
       " 'stnpressure dumweek_30',\n",
       " 'stnpressure dumweek_31',\n",
       " 'stnpressure dumweek_32',\n",
       " 'stnpressure dumweek_33',\n",
       " 'stnpressure dumweek_34',\n",
       " 'stnpressure dumweek_35',\n",
       " 'stnpressure dumweek_36',\n",
       " 'stnpressure dumweek_37',\n",
       " 'stnpressure dumweek_38',\n",
       " 'stnpressure dumweek_39',\n",
       " 'sealevel resultspeed',\n",
       " 'sealevel resultdir',\n",
       " 'sealevel avgspeed',\n",
       " 'sealevel humidity',\n",
       " 'sealevel daylength',\n",
       " 'sealevel tavg_lag14',\n",
       " 'sealevel humidity_lag14',\n",
       " 'sealevel resultspeed_lag14',\n",
       " 'sealevel preciptotal_lag14',\n",
       " 'sealevel dumweek_28',\n",
       " 'sealevel dumweek_29',\n",
       " 'sealevel dumweek_30',\n",
       " 'sealevel dumweek_31',\n",
       " 'sealevel dumweek_32',\n",
       " 'sealevel dumweek_33',\n",
       " 'sealevel dumweek_34',\n",
       " 'sealevel dumweek_35',\n",
       " 'sealevel dumweek_36',\n",
       " 'sealevel dumweek_37',\n",
       " 'sealevel dumweek_38',\n",
       " 'sealevel dumweek_39',\n",
       " 'resultspeed resultdir',\n",
       " 'resultspeed avgspeed',\n",
       " 'resultspeed humidity',\n",
       " 'resultspeed daylength',\n",
       " 'resultspeed tavg_lag14',\n",
       " 'resultspeed humidity_lag14',\n",
       " 'resultspeed resultspeed_lag14',\n",
       " 'resultspeed preciptotal_lag14',\n",
       " 'resultspeed dumweek_28',\n",
       " 'resultspeed dumweek_29',\n",
       " 'resultspeed dumweek_30',\n",
       " 'resultspeed dumweek_31',\n",
       " 'resultspeed dumweek_32',\n",
       " 'resultspeed dumweek_33',\n",
       " 'resultspeed dumweek_34',\n",
       " 'resultspeed dumweek_35',\n",
       " 'resultspeed dumweek_36',\n",
       " 'resultspeed dumweek_37',\n",
       " 'resultspeed dumweek_38',\n",
       " 'resultspeed dumweek_39',\n",
       " 'resultdir avgspeed',\n",
       " 'resultdir humidity',\n",
       " 'resultdir daylength',\n",
       " 'resultdir tavg_lag14',\n",
       " 'resultdir humidity_lag14',\n",
       " 'resultdir resultspeed_lag14',\n",
       " 'resultdir preciptotal_lag14',\n",
       " 'resultdir dumweek_28',\n",
       " 'resultdir dumweek_29',\n",
       " 'resultdir dumweek_30',\n",
       " 'resultdir dumweek_31',\n",
       " 'resultdir dumweek_32',\n",
       " 'resultdir dumweek_33',\n",
       " 'resultdir dumweek_34',\n",
       " 'resultdir dumweek_35',\n",
       " 'resultdir dumweek_36',\n",
       " 'resultdir dumweek_37',\n",
       " 'resultdir dumweek_38',\n",
       " 'resultdir dumweek_39',\n",
       " 'avgspeed humidity',\n",
       " 'avgspeed daylength',\n",
       " 'avgspeed tavg_lag14',\n",
       " 'avgspeed humidity_lag14',\n",
       " 'avgspeed resultspeed_lag14',\n",
       " 'avgspeed preciptotal_lag14',\n",
       " 'avgspeed dumweek_28',\n",
       " 'avgspeed dumweek_29',\n",
       " 'avgspeed dumweek_30',\n",
       " 'avgspeed dumweek_31',\n",
       " 'avgspeed dumweek_32',\n",
       " 'avgspeed dumweek_33',\n",
       " 'avgspeed dumweek_34',\n",
       " 'avgspeed dumweek_35',\n",
       " 'avgspeed dumweek_36',\n",
       " 'avgspeed dumweek_37',\n",
       " 'avgspeed dumweek_38',\n",
       " 'avgspeed dumweek_39',\n",
       " 'humidity daylength',\n",
       " 'humidity tavg_lag14',\n",
       " 'humidity humidity_lag14',\n",
       " 'humidity resultspeed_lag14',\n",
       " 'humidity preciptotal_lag14',\n",
       " 'humidity dumweek_28',\n",
       " 'humidity dumweek_29',\n",
       " 'humidity dumweek_30',\n",
       " 'humidity dumweek_31',\n",
       " 'humidity dumweek_32',\n",
       " 'humidity dumweek_33',\n",
       " 'humidity dumweek_34',\n",
       " 'humidity dumweek_35',\n",
       " 'humidity dumweek_36',\n",
       " 'humidity dumweek_37',\n",
       " 'humidity dumweek_38',\n",
       " 'humidity dumweek_39',\n",
       " 'daylength tavg_lag14',\n",
       " 'daylength humidity_lag14',\n",
       " 'daylength resultspeed_lag14',\n",
       " 'daylength preciptotal_lag14',\n",
       " 'daylength dumweek_28',\n",
       " 'daylength dumweek_29',\n",
       " 'daylength dumweek_30',\n",
       " 'daylength dumweek_31',\n",
       " 'daylength dumweek_32',\n",
       " 'daylength dumweek_33',\n",
       " 'daylength dumweek_34',\n",
       " 'daylength dumweek_35',\n",
       " 'daylength dumweek_36',\n",
       " 'daylength dumweek_37',\n",
       " 'daylength dumweek_38',\n",
       " 'daylength dumweek_39',\n",
       " 'tavg_lag14 humidity_lag14',\n",
       " 'tavg_lag14 resultspeed_lag14',\n",
       " 'tavg_lag14 preciptotal_lag14',\n",
       " 'tavg_lag14 dumweek_28',\n",
       " 'tavg_lag14 dumweek_29',\n",
       " 'tavg_lag14 dumweek_30',\n",
       " 'tavg_lag14 dumweek_31',\n",
       " 'tavg_lag14 dumweek_32',\n",
       " 'tavg_lag14 dumweek_33',\n",
       " 'tavg_lag14 dumweek_34',\n",
       " 'tavg_lag14 dumweek_35',\n",
       " 'tavg_lag14 dumweek_36',\n",
       " 'tavg_lag14 dumweek_37',\n",
       " 'tavg_lag14 dumweek_38',\n",
       " 'tavg_lag14 dumweek_39',\n",
       " 'humidity_lag14 resultspeed_lag14',\n",
       " 'humidity_lag14 preciptotal_lag14',\n",
       " 'humidity_lag14 dumweek_28',\n",
       " 'humidity_lag14 dumweek_29',\n",
       " 'humidity_lag14 dumweek_30',\n",
       " 'humidity_lag14 dumweek_31',\n",
       " 'humidity_lag14 dumweek_32',\n",
       " 'humidity_lag14 dumweek_33',\n",
       " 'humidity_lag14 dumweek_34',\n",
       " 'humidity_lag14 dumweek_35',\n",
       " 'humidity_lag14 dumweek_36',\n",
       " 'humidity_lag14 dumweek_37',\n",
       " 'humidity_lag14 dumweek_38',\n",
       " 'humidity_lag14 dumweek_39',\n",
       " 'resultspeed_lag14 preciptotal_lag14',\n",
       " 'resultspeed_lag14 dumweek_28',\n",
       " 'resultspeed_lag14 dumweek_29',\n",
       " 'resultspeed_lag14 dumweek_30',\n",
       " 'resultspeed_lag14 dumweek_31',\n",
       " 'resultspeed_lag14 dumweek_32',\n",
       " 'resultspeed_lag14 dumweek_33',\n",
       " 'resultspeed_lag14 dumweek_34',\n",
       " 'resultspeed_lag14 dumweek_35',\n",
       " 'resultspeed_lag14 dumweek_36',\n",
       " 'resultspeed_lag14 dumweek_37',\n",
       " 'resultspeed_lag14 dumweek_38',\n",
       " 'resultspeed_lag14 dumweek_39',\n",
       " 'preciptotal_lag14 dumweek_28',\n",
       " 'preciptotal_lag14 dumweek_29',\n",
       " 'preciptotal_lag14 dumweek_30',\n",
       " 'preciptotal_lag14 dumweek_31',\n",
       " 'preciptotal_lag14 dumweek_32',\n",
       " 'preciptotal_lag14 dumweek_33',\n",
       " 'preciptotal_lag14 dumweek_34',\n",
       " 'preciptotal_lag14 dumweek_35',\n",
       " 'preciptotal_lag14 dumweek_36',\n",
       " 'preciptotal_lag14 dumweek_37',\n",
       " 'preciptotal_lag14 dumweek_38',\n",
       " 'preciptotal_lag14 dumweek_39',\n",
       " 'dumweek_28 dumweek_29',\n",
       " 'dumweek_28 dumweek_30',\n",
       " 'dumweek_28 dumweek_31',\n",
       " 'dumweek_28 dumweek_32',\n",
       " 'dumweek_28 dumweek_33',\n",
       " 'dumweek_28 dumweek_34',\n",
       " 'dumweek_28 dumweek_35',\n",
       " 'dumweek_28 dumweek_36',\n",
       " 'dumweek_28 dumweek_37',\n",
       " 'dumweek_28 dumweek_38',\n",
       " 'dumweek_28 dumweek_39',\n",
       " 'dumweek_29 dumweek_30',\n",
       " 'dumweek_29 dumweek_31',\n",
       " 'dumweek_29 dumweek_32',\n",
       " 'dumweek_29 dumweek_33',\n",
       " 'dumweek_29 dumweek_34',\n",
       " 'dumweek_29 dumweek_35',\n",
       " 'dumweek_29 dumweek_36',\n",
       " 'dumweek_29 dumweek_37',\n",
       " 'dumweek_29 dumweek_38',\n",
       " 'dumweek_29 dumweek_39',\n",
       " 'dumweek_30 dumweek_31',\n",
       " 'dumweek_30 dumweek_32',\n",
       " 'dumweek_30 dumweek_33',\n",
       " 'dumweek_30 dumweek_34',\n",
       " 'dumweek_30 dumweek_35',\n",
       " 'dumweek_30 dumweek_36',\n",
       " 'dumweek_30 dumweek_37',\n",
       " 'dumweek_30 dumweek_38',\n",
       " 'dumweek_30 dumweek_39',\n",
       " 'dumweek_31 dumweek_32',\n",
       " 'dumweek_31 dumweek_33',\n",
       " 'dumweek_31 dumweek_34',\n",
       " 'dumweek_31 dumweek_35',\n",
       " 'dumweek_31 dumweek_36',\n",
       " 'dumweek_31 dumweek_37',\n",
       " 'dumweek_31 dumweek_38',\n",
       " 'dumweek_31 dumweek_39',\n",
       " 'dumweek_32 dumweek_33',\n",
       " 'dumweek_32 dumweek_34',\n",
       " 'dumweek_32 dumweek_35',\n",
       " 'dumweek_32 dumweek_36',\n",
       " 'dumweek_32 dumweek_37',\n",
       " 'dumweek_32 dumweek_38',\n",
       " 'dumweek_32 dumweek_39',\n",
       " 'dumweek_33 dumweek_34',\n",
       " 'dumweek_33 dumweek_35',\n",
       " 'dumweek_33 dumweek_36',\n",
       " 'dumweek_33 dumweek_37',\n",
       " 'dumweek_33 dumweek_38',\n",
       " 'dumweek_33 dumweek_39',\n",
       " 'dumweek_34 dumweek_35',\n",
       " 'dumweek_34 dumweek_36',\n",
       " 'dumweek_34 dumweek_37',\n",
       " 'dumweek_34 dumweek_38',\n",
       " 'dumweek_34 dumweek_39',\n",
       " 'dumweek_35 dumweek_36',\n",
       " 'dumweek_35 dumweek_37',\n",
       " 'dumweek_35 dumweek_38',\n",
       " 'dumweek_35 dumweek_39',\n",
       " 'dumweek_36 dumweek_37',\n",
       " 'dumweek_36 dumweek_38',\n",
       " 'dumweek_36 dumweek_39',\n",
       " 'dumweek_37 dumweek_38',\n",
       " 'dumweek_37 dumweek_39',\n",
       " 'dumweek_38 dumweek_39']"
      ]
     },
     "execution_count": 179,
     "metadata": {},
     "output_type": "execute_result"
    }
   ],
   "source": [
    "pf.get_feature_names(X.columns)"
   ]
  },
  {
   "cell_type": "code",
   "execution_count": 182,
   "id": "c0c05e71",
   "metadata": {
    "ExecuteTime": {
     "end_time": "2022-02-01T08:24:36.460050Z",
     "start_time": "2022-02-01T08:24:36.453059Z"
    }
   },
   "outputs": [],
   "source": [
    "new = pd.DataFrame(Xp_trainsc, columns = pf.get_feature_names(X.columns))"
   ]
  },
  {
   "cell_type": "code",
   "execution_count": 183,
   "id": "20a1c0a1",
   "metadata": {
    "ExecuteTime": {
     "end_time": "2022-02-01T08:24:43.412526Z",
     "start_time": "2022-02-01T08:24:43.381911Z"
    }
   },
   "outputs": [
    {
     "data": {
      "text/html": [
       "<div>\n",
       "<style scoped>\n",
       "    .dataframe tbody tr th:only-of-type {\n",
       "        vertical-align: middle;\n",
       "    }\n",
       "\n",
       "    .dataframe tbody tr th {\n",
       "        vertical-align: top;\n",
       "    }\n",
       "\n",
       "    .dataframe thead th {\n",
       "        text-align: right;\n",
       "    }\n",
       "</style>\n",
       "<table border=\"1\" class=\"dataframe\">\n",
       "  <thead>\n",
       "    <tr style=\"text-align: right;\">\n",
       "      <th></th>\n",
       "      <th>1</th>\n",
       "      <th>latitude</th>\n",
       "      <th>longitude</th>\n",
       "      <th>dum_species</th>\n",
       "      <th>tavg</th>\n",
       "      <th>preciptotal</th>\n",
       "      <th>stnpressure</th>\n",
       "      <th>sealevel</th>\n",
       "      <th>resultspeed</th>\n",
       "      <th>resultdir</th>\n",
       "      <th>...</th>\n",
       "      <th>dumweek_35 dumweek_36</th>\n",
       "      <th>dumweek_35 dumweek_37</th>\n",
       "      <th>dumweek_35 dumweek_38</th>\n",
       "      <th>dumweek_35 dumweek_39</th>\n",
       "      <th>dumweek_36 dumweek_37</th>\n",
       "      <th>dumweek_36 dumweek_38</th>\n",
       "      <th>dumweek_36 dumweek_39</th>\n",
       "      <th>dumweek_37 dumweek_38</th>\n",
       "      <th>dumweek_37 dumweek_39</th>\n",
       "      <th>dumweek_38 dumweek_39</th>\n",
       "    </tr>\n",
       "  </thead>\n",
       "  <tbody>\n",
       "    <tr>\n",
       "      <th>0</th>\n",
       "      <td>0.0</td>\n",
       "      <td>-1.602313</td>\n",
       "      <td>1.133388</td>\n",
       "      <td>-0.489074</td>\n",
       "      <td>-1.122594</td>\n",
       "      <td>-0.464266</td>\n",
       "      <td>-1.514397</td>\n",
       "      <td>-1.681249</td>\n",
       "      <td>1.036524</td>\n",
       "      <td>1.236051</td>\n",
       "      <td>...</td>\n",
       "      <td>0.0</td>\n",
       "      <td>0.0</td>\n",
       "      <td>0.0</td>\n",
       "      <td>0.0</td>\n",
       "      <td>0.0</td>\n",
       "      <td>0.0</td>\n",
       "      <td>0.0</td>\n",
       "      <td>0.0</td>\n",
       "      <td>0.0</td>\n",
       "      <td>0.0</td>\n",
       "    </tr>\n",
       "    <tr>\n",
       "      <th>1</th>\n",
       "      <td>0.0</td>\n",
       "      <td>-0.946417</td>\n",
       "      <td>-0.430646</td>\n",
       "      <td>1.493423</td>\n",
       "      <td>0.790436</td>\n",
       "      <td>1.525244</td>\n",
       "      <td>-0.046916</td>\n",
       "      <td>-0.090089</td>\n",
       "      <td>1.018858</td>\n",
       "      <td>0.507860</td>\n",
       "      <td>...</td>\n",
       "      <td>0.0</td>\n",
       "      <td>0.0</td>\n",
       "      <td>0.0</td>\n",
       "      <td>0.0</td>\n",
       "      <td>0.0</td>\n",
       "      <td>0.0</td>\n",
       "      <td>0.0</td>\n",
       "      <td>0.0</td>\n",
       "      <td>0.0</td>\n",
       "      <td>0.0</td>\n",
       "    </tr>\n",
       "    <tr>\n",
       "      <th>2</th>\n",
       "      <td>0.0</td>\n",
       "      <td>1.120524</td>\n",
       "      <td>0.040384</td>\n",
       "      <td>-0.489074</td>\n",
       "      <td>0.658503</td>\n",
       "      <td>-0.464266</td>\n",
       "      <td>0.255212</td>\n",
       "      <td>0.286764</td>\n",
       "      <td>-1.242348</td>\n",
       "      <td>0.563875</td>\n",
       "      <td>...</td>\n",
       "      <td>0.0</td>\n",
       "      <td>0.0</td>\n",
       "      <td>0.0</td>\n",
       "      <td>0.0</td>\n",
       "      <td>0.0</td>\n",
       "      <td>0.0</td>\n",
       "      <td>0.0</td>\n",
       "      <td>0.0</td>\n",
       "      <td>0.0</td>\n",
       "      <td>0.0</td>\n",
       "    </tr>\n",
       "    <tr>\n",
       "      <th>3</th>\n",
       "      <td>0.0</td>\n",
       "      <td>-0.879923</td>\n",
       "      <td>1.068817</td>\n",
       "      <td>-0.489074</td>\n",
       "      <td>1.054303</td>\n",
       "      <td>-0.464266</td>\n",
       "      <td>0.298373</td>\n",
       "      <td>0.244892</td>\n",
       "      <td>-1.136354</td>\n",
       "      <td>-0.780478</td>\n",
       "      <td>...</td>\n",
       "      <td>0.0</td>\n",
       "      <td>0.0</td>\n",
       "      <td>0.0</td>\n",
       "      <td>0.0</td>\n",
       "      <td>0.0</td>\n",
       "      <td>0.0</td>\n",
       "      <td>0.0</td>\n",
       "      <td>0.0</td>\n",
       "      <td>0.0</td>\n",
       "      <td>0.0</td>\n",
       "    </tr>\n",
       "    <tr>\n",
       "      <th>4</th>\n",
       "      <td>0.0</td>\n",
       "      <td>1.263587</td>\n",
       "      <td>-0.662482</td>\n",
       "      <td>-0.489074</td>\n",
       "      <td>1.054303</td>\n",
       "      <td>-0.464266</td>\n",
       "      <td>0.298373</td>\n",
       "      <td>0.244892</td>\n",
       "      <td>-1.136354</td>\n",
       "      <td>-0.780478</td>\n",
       "      <td>...</td>\n",
       "      <td>0.0</td>\n",
       "      <td>0.0</td>\n",
       "      <td>0.0</td>\n",
       "      <td>0.0</td>\n",
       "      <td>0.0</td>\n",
       "      <td>0.0</td>\n",
       "      <td>0.0</td>\n",
       "      <td>0.0</td>\n",
       "      <td>0.0</td>\n",
       "      <td>0.0</td>\n",
       "    </tr>\n",
       "  </tbody>\n",
       "</table>\n",
       "<p>5 rows × 407 columns</p>\n",
       "</div>"
      ],
      "text/plain": [
       "     1  latitude  longitude  dum_species      tavg  preciptotal  stnpressure  \\\n",
       "0  0.0 -1.602313   1.133388    -0.489074 -1.122594    -0.464266    -1.514397   \n",
       "1  0.0 -0.946417  -0.430646     1.493423  0.790436     1.525244    -0.046916   \n",
       "2  0.0  1.120524   0.040384    -0.489074  0.658503    -0.464266     0.255212   \n",
       "3  0.0 -0.879923   1.068817    -0.489074  1.054303    -0.464266     0.298373   \n",
       "4  0.0  1.263587  -0.662482    -0.489074  1.054303    -0.464266     0.298373   \n",
       "\n",
       "   sealevel  resultspeed  resultdir  ...  dumweek_35 dumweek_36  \\\n",
       "0 -1.681249     1.036524   1.236051  ...                    0.0   \n",
       "1 -0.090089     1.018858   0.507860  ...                    0.0   \n",
       "2  0.286764    -1.242348   0.563875  ...                    0.0   \n",
       "3  0.244892    -1.136354  -0.780478  ...                    0.0   \n",
       "4  0.244892    -1.136354  -0.780478  ...                    0.0   \n",
       "\n",
       "   dumweek_35 dumweek_37  dumweek_35 dumweek_38  dumweek_35 dumweek_39  \\\n",
       "0                    0.0                    0.0                    0.0   \n",
       "1                    0.0                    0.0                    0.0   \n",
       "2                    0.0                    0.0                    0.0   \n",
       "3                    0.0                    0.0                    0.0   \n",
       "4                    0.0                    0.0                    0.0   \n",
       "\n",
       "   dumweek_36 dumweek_37  dumweek_36 dumweek_38  dumweek_36 dumweek_39  \\\n",
       "0                    0.0                    0.0                    0.0   \n",
       "1                    0.0                    0.0                    0.0   \n",
       "2                    0.0                    0.0                    0.0   \n",
       "3                    0.0                    0.0                    0.0   \n",
       "4                    0.0                    0.0                    0.0   \n",
       "\n",
       "   dumweek_37 dumweek_38  dumweek_37 dumweek_39  dumweek_38 dumweek_39  \n",
       "0                    0.0                    0.0                    0.0  \n",
       "1                    0.0                    0.0                    0.0  \n",
       "2                    0.0                    0.0                    0.0  \n",
       "3                    0.0                    0.0                    0.0  \n",
       "4                    0.0                    0.0                    0.0  \n",
       "\n",
       "[5 rows x 407 columns]"
      ]
     },
     "execution_count": 183,
     "metadata": {},
     "output_type": "execute_result"
    }
   ],
   "source": [
    "new.head()"
   ]
  },
  {
   "cell_type": "code",
   "execution_count": 188,
   "id": "12428f5c",
   "metadata": {
    "ExecuteTime": {
     "end_time": "2022-02-01T08:28:12.462074Z",
     "start_time": "2022-02-01T08:28:12.047310Z"
    }
   },
   "outputs": [
    {
     "data": {
      "text/plain": [
       "resultspeed humidity         -0.048481\n",
       "resultspeed humidity_lag14   -0.045561\n",
       "resultspeed                  -0.041324\n",
       "latitude resultspeed         -0.041271\n",
       "sealevel resultspeed         -0.041232\n",
       "stnpressure resultspeed      -0.041224\n",
       "humidity resultspeed_lag14   -0.040749\n",
       "dum_species resultspeed      -0.039273\n",
       "resultspeed daylength        -0.039261\n",
       "avgspeed humidity            -0.038062\n",
       "dtype: float64"
      ]
     },
     "execution_count": 188,
     "metadata": {},
     "output_type": "execute_result"
    }
   ],
   "source": [
    "new.corrwith(y_train).dropna().sort_values()[:10]"
   ]
  },
  {
   "cell_type": "code",
   "execution_count": 189,
   "id": "fa29dcf3",
   "metadata": {
    "ExecuteTime": {
     "end_time": "2022-02-01T08:28:29.775247Z",
     "start_time": "2022-02-01T08:28:29.362072Z"
    }
   },
   "outputs": [
    {
     "data": {
      "text/plain": [
       "tavg_lag14 dumweek_35     0.042380\n",
       "tavg dumweek_35           0.042053\n",
       "longitude resultspeed     0.041301\n",
       "resultdir dumweek_35      0.039605\n",
       "latitude dumweek_35       0.034497\n",
       "dumweek_35                0.034483\n",
       "stnpressure dumweek_35    0.034364\n",
       "sealevel dumweek_35       0.034355\n",
       "daylength dumweek_35      0.033983\n",
       "latitude stnpressure      0.033611\n",
       "dtype: float64"
      ]
     },
     "execution_count": 189,
     "metadata": {},
     "output_type": "execute_result"
    }
   ],
   "source": [
    "new.corrwith(y_train).dropna().sort_values(ascending=False)[:10]"
   ]
  },
  {
   "cell_type": "code",
   "execution_count": null,
   "id": "c41e78b5",
   "metadata": {},
   "outputs": [],
   "source": []
  },
  {
   "cell_type": "code",
   "execution_count": 152,
   "id": "9ab62661",
   "metadata": {
    "ExecuteTime": {
     "end_time": "2022-01-31T15:44:20.886082Z",
     "start_time": "2022-01-31T15:44:19.993536Z"
    }
   },
   "outputs": [],
   "source": [
    "# Instantiate PCA.\n",
    "pca = PCA(random_state=42)\n",
    "\n",
    "# Fit and transform PCA for train, transform for test\n",
    "Z_train = pca.fit_transform(Xp_trainsc)\n",
    "\n",
    "Z_test = pca.transform(Xp_testsc)\n",
    "Z_kaggle_test = pca.transform(testsc)\n"
   ]
  },
  {
   "cell_type": "code",
   "execution_count": null,
   "id": "8e0d6035",
   "metadata": {},
   "outputs": [],
   "source": []
  },
  {
   "cell_type": "code",
   "execution_count": null,
   "id": "e51e7859",
   "metadata": {},
   "outputs": [],
   "source": []
  },
  {
   "cell_type": "code",
   "execution_count": 154,
   "id": "6c5e9035",
   "metadata": {
    "ExecuteTime": {
     "end_time": "2022-01-31T15:44:48.218032Z",
     "start_time": "2022-01-31T15:44:48.200426Z"
    }
   },
   "outputs": [],
   "source": [
    "expl_var = np.cumsum(pca.explained_variance_ratio_)[:90]"
   ]
  },
  {
   "cell_type": "code",
   "execution_count": 155,
   "id": "2ea3c46a",
   "metadata": {
    "ExecuteTime": {
     "end_time": "2022-01-31T15:45:09.442757Z",
     "start_time": "2022-01-31T15:45:09.256836Z"
    }
   },
   "outputs": [
    {
     "data": {
      "image/png": "[encoded data removed]",
      "text/plain": [
       "<Figure size 720x504 with 1 Axes>"
      ]
     },
     "metadata": {
      "needs_background": "light"
     },
     "output_type": "display_data"
    }
   ],
   "source": [
    "plt.figure(figsize=(10,7))\n",
    "plt.plot(range(len(expl_var)), expl_var)\n",
    "plt.show()"
   ]
  },
  {
   "cell_type": "code",
   "execution_count": 158,
   "id": "858b4aa0",
   "metadata": {
    "ExecuteTime": {
     "end_time": "2022-01-31T15:45:38.881705Z",
     "start_time": "2022-01-31T15:45:38.870196Z"
    }
   },
   "outputs": [
    {
     "data": {
      "text/plain": [
       "0.9893366557127165"
      ]
     },
     "execution_count": 158,
     "metadata": {},
     "output_type": "execute_result"
    }
   ],
   "source": [
    "expl_var[50]"
   ]
  },
  {
   "cell_type": "markdown",
   "id": "5911a9b5",
   "metadata": {},
   "source": [
    "# Gradient Boost, w/ poly features+PCA"
   ]
  },
  {
   "cell_type": "code",
   "execution_count": 160,
   "id": "fc729eab",
   "metadata": {
    "ExecuteTime": {
     "end_time": "2022-01-31T15:47:03.136854Z",
     "start_time": "2022-01-31T15:47:03.126590Z"
    }
   },
   "outputs": [
    {
     "data": {
      "text/plain": [
       "{'clsf__learning_rate': [0.01, 0.1],\n",
       " 'clsf__max_depth': [7, 10],\n",
       " 'clsf__ccp_alpha': [0, 0.1],\n",
       " 'clsf__n_estimators': [200, 350]}"
      ]
     },
     "execution_count": 160,
     "metadata": {},
     "output_type": "execute_result"
    }
   ],
   "source": [
    "params_gb"
   ]
  },
  {
   "cell_type": "code",
   "execution_count": 161,
   "id": "8d8e7a2d",
   "metadata": {
    "ExecuteTime": {
     "end_time": "2022-01-31T16:05:30.099309Z",
     "start_time": "2022-01-31T15:49:09.672865Z"
    },
    "scrolled": true
   },
   "outputs": [
    {
     "name": "stdout",
     "output_type": "stream",
     "text": [
      "Fitting 4 folds for each of 16 candidates, totalling 64 fits\n",
      "\n",
      "\n",
      "==============================\n",
      "\u001b[1m GradientBoostingClassifier(random_state=42) \u001b[0m\n",
      "==============================\n",
      "\n",
      " Best Parameters:\n",
      "------------------------------ \n",
      "\n",
      "clsf__ccp_alpha : 0\n",
      "clsf__learning_rate : 0.01\n",
      "clsf__max_depth : 7\n",
      "clsf__n_estimators : 350\n",
      "[[1981   24]\n",
      " [  99   15]]\n"
     ]
    }
   ],
   "source": [
    "gs_gb_pca=run_model(gb, params_gb, 'pca')"
   ]
  },
  {
   "cell_type": "code",
   "execution_count": 162,
   "id": "c0744fcb",
   "metadata": {
    "ExecuteTime": {
     "end_time": "2022-01-31T22:35:08.053658Z",
     "start_time": "2022-01-31T22:35:05.641905Z"
    }
   },
   "outputs": [],
   "source": [
    "submit_gb_pca = pd.DataFrame()\n",
    "submit_gb_pca['Id'] = test.index\n",
    "submit_gb_pca.set_index('Id', drop=True,inplace=True)\n",
    "submit_gb_pca['WnvPresent'] =gs_gb_pca.predict_proba(test_poly)[:,1]\n",
    "submit_gb_pca.to_csv('../datasets/submit_gb_pca2.csv')"
   ]
  },
  {
   "cell_type": "markdown",
   "id": "dc9759d6",
   "metadata": {},
   "source": [
    "###  Gradient Boost w/smote Kaggle\n",
    "\n",
    "<img src=\"../images/submit_gbpca.png\" alt=\"not great\">"
   ]
  },
  {
   "cell_type": "markdown",
   "id": "92b2b65e",
   "metadata": {},
   "source": [
    "## LogReg, w/ poly features + PCA"
   ]
  },
  {
   "cell_type": "code",
   "execution_count": 225,
   "id": "d0539a6c",
   "metadata": {
    "ExecuteTime": {
     "end_time": "2022-02-01T09:58:01.240945Z",
     "start_time": "2022-02-01T09:58:01.234876Z"
    }
   },
   "outputs": [],
   "source": [
    "lr = LogisticRegression(\n",
    "    solver='liblinear',\n",
    "    random_state=42,\n",
    ")\n",
    "\n",
    "params_lr = {\n",
    "    'clsf__penalty': ['l1'],\n",
    "    'clsf__C': [0.1, 1.5],\n",
    "    'clsf__max_iter': [200]\n",
    "}\n",
    "\n",
    "pipe_lrpca = Pipeline_imb([\n",
    "            ('pf', PolynomialFeatures(degree=2, include_bias=True, interaction_only=True )),\n",
    "            ('sc', StandardScaler()),\n",
    "            ('pca', PCA(n_components=50, random_state=42)),\n",
    "            ('smpl', SMOTE(sampling_strategy='auto', random_state=42)),\n",
    "            ('clsf', lr)\n",
    "        ])\n",
    "\n"
   ]
  },
  {
   "cell_type": "code",
   "execution_count": 226,
   "id": "3ef66bd7",
   "metadata": {
    "ExecuteTime": {
     "end_time": "2022-02-01T09:58:02.927300Z",
     "start_time": "2022-02-01T09:58:02.923188Z"
    }
   },
   "outputs": [],
   "source": [
    "  grid_lrpca = GridSearchCV(\n",
    "        pipe_lrpca,\n",
    "        param_grid=params_lr,\n",
    "        scoring='roc_auc',\n",
    "        cv=4,\n",
    "        n_jobs=-1,\n",
    "        verbose=2)"
   ]
  },
  {
   "cell_type": "code",
   "execution_count": 227,
   "id": "0173dd9e",
   "metadata": {
    "ExecuteTime": {
     "end_time": "2022-02-01T09:58:09.475916Z",
     "start_time": "2022-02-01T09:58:04.550246Z"
    }
   },
   "outputs": [
    {
     "name": "stdout",
     "output_type": "stream",
     "text": [
      "Fitting 4 folds for each of 2 candidates, totalling 8 fits\n"
     ]
    },
    {
     "data": {
      "text/plain": [
       "GridSearchCV(cv=4,\n",
       "             estimator=Pipeline(steps=[('pf',\n",
       "                                        PolynomialFeatures(interaction_only=True)),\n",
       "                                       ('sc', StandardScaler()),\n",
       "                                       ('pca',\n",
       "                                        PCA(n_components=50, random_state=42)),\n",
       "                                       ('smpl', SMOTE(random_state=42)),\n",
       "                                       ('clsf',\n",
       "                                        LogisticRegression(random_state=42,\n",
       "                                                           solver='liblinear'))]),\n",
       "             n_jobs=-1,\n",
       "             param_grid={'clsf__C': [0.1, 1.5], 'clsf__max_iter': [200],\n",
       "                         'clsf__penalty': ['l1']},\n",
       "             scoring='roc_auc', verbose=2)"
      ]
     },
     "execution_count": 227,
     "metadata": {},
     "output_type": "execute_result"
    }
   ],
   "source": [
    "grid_lrpca.fit(X_train, y_train)"
   ]
  },
  {
   "cell_type": "code",
   "execution_count": 228,
   "id": "43c9f099",
   "metadata": {
    "ExecuteTime": {
     "end_time": "2022-02-01T09:58:14.035429Z",
     "start_time": "2022-02-01T09:58:13.882604Z"
    }
   },
   "outputs": [
    {
     "data": {
      "text/plain": [
       "<sklearn.metrics._plot.confusion_matrix.ConfusionMatrixDisplay at 0x20282a52910>"
      ]
     },
     "execution_count": 228,
     "metadata": {},
     "output_type": "execute_result"
    },
    {
     "data": {
      "image/png": "[encoded data removed]",
      "text/plain": [
       "<Figure size 432x288 with 2 Axes>"
      ]
     },
     "metadata": {
      "needs_background": "light"
     },
     "output_type": "display_data"
    }
   ],
   "source": [
    "plot_confusion_matrix(grid_lrpca, X_test, y_test)"
   ]
  },
  {
   "cell_type": "code",
   "execution_count": 229,
   "id": "74d70030",
   "metadata": {
    "ExecuteTime": {
     "end_time": "2022-02-01T09:58:17.821282Z",
     "start_time": "2022-02-01T09:58:17.781730Z"
    }
   },
   "outputs": [],
   "source": [
    "pred = grid_lrpca.predict(X_test)\n",
    "pred_prob = grid_lrpca.predict_proba(X_test)[:, 1]\n",
    "\n",
    "table = {'Model': lr}\n",
    "table['Type'] = 'pcasmote'\n",
    "table['ROC-AUC'] = roc_auc_score(y_test, pred_prob)\n",
    "table['Precision'] = precision_score(y_test, pred)\n",
    "table['Recall'] = recall_score(y_test, pred)\n",
    "table['F1'] = f1_score(y_test, pred)\n",
    "\n",
    "for key, value in grid_lrpca.best_params_.items():\n",
    "        table[key] = value\n",
    "\n",
    "scoring_table.append(table)"
   ]
  },
  {
   "cell_type": "code",
   "execution_count": 211,
   "id": "1c30aaa1",
   "metadata": {
    "ExecuteTime": {
     "end_time": "2022-02-01T09:34:16.540363Z",
     "start_time": "2022-02-01T09:34:15.410348Z"
    }
   },
   "outputs": [],
   "source": [
    "submit_kaggle('submit_lrpca', grid_lrpca)"
   ]
  },
  {
   "cell_type": "markdown",
   "id": "a203bdfa",
   "metadata": {},
   "source": [
    "###  LogReg w/smote and PCA Kaggle\n",
    "\n",
    "<img src=\"../images/submit_lrpcasmote.png\" alt=\"not great\">"
   ]
  },
  {
   "cell_type": "markdown",
   "id": "c4f48317",
   "metadata": {},
   "source": [
    "# Random Forest w/smotetek and PCA"
   ]
  },
  {
   "cell_type": "code",
   "execution_count": 216,
   "id": "90583789",
   "metadata": {
    "ExecuteTime": {
     "end_time": "2022-02-01T09:46:34.878629Z",
     "start_time": "2022-02-01T09:46:34.868007Z"
    }
   },
   "outputs": [],
   "source": [
    "rf = RandomForestClassifier(\n",
    "    random_state=42,\n",
    ")\n",
    "\n",
    "params_rfpca = {\n",
    "    'clsf__n_estimators': [ 200,300],\n",
    "    'clsf__max_depth': [ 7,10],\n",
    "    'clsf__min_samples_leaf':[4,10]\n",
    "}\n",
    "\n",
    "\n",
    "pipe_rfpca = Pipeline_imb([\n",
    "            ('pf', PolynomialFeatures(degree=2, include_bias=True, interaction_only=True )),\n",
    "            ('sc', StandardScaler()),\n",
    "            ('pca', PCA(n_components=50, random_state=42)),\n",
    "            ('smpl', SMOTETomek(random_state=42)),\n",
    "            ('clsf', rf)\n",
    "        ])"
   ]
  },
  {
   "cell_type": "code",
   "execution_count": 217,
   "id": "3cd0efa8",
   "metadata": {
    "ExecuteTime": {
     "end_time": "2022-02-01T09:46:35.893907Z",
     "start_time": "2022-02-01T09:46:35.880780Z"
    }
   },
   "outputs": [],
   "source": [
    "grid_rfpca = GridSearchCV(\n",
    "        pipe_rfpca,\n",
    "        param_grid=params_rfpca,\n",
    "        scoring='roc_auc',\n",
    "        cv=4,\n",
    "        n_jobs=-1,\n",
    "        verbose=2)"
   ]
  },
  {
   "cell_type": "code",
   "execution_count": 218,
   "id": "a678c12e",
   "metadata": {
    "ExecuteTime": {
     "end_time": "2022-02-01T09:47:50.322226Z",
     "start_time": "2022-02-01T09:46:36.921838Z"
    }
   },
   "outputs": [
    {
     "name": "stdout",
     "output_type": "stream",
     "text": [
      "Fitting 4 folds for each of 8 candidates, totalling 32 fits\n"
     ]
    },
    {
     "data": {
      "text/plain": [
       "GridSearchCV(cv=4,\n",
       "             estimator=Pipeline(steps=[('pf',\n",
       "                                        PolynomialFeatures(interaction_only=True)),\n",
       "                                       ('sc', StandardScaler()),\n",
       "                                       ('pca',\n",
       "                                        PCA(n_components=50, random_state=42)),\n",
       "                                       ('smpl', SMOTETomek(random_state=42)),\n",
       "                                       ('clsf',\n",
       "                                        RandomForestClassifier(random_state=42))]),\n",
       "             n_jobs=-1,\n",
       "             param_grid={'clsf__max_depth': [7, 10],\n",
       "                         'clsf__min_samples_leaf': [4, 10],\n",
       "                         'clsf__n_estimators': [200, 300]},\n",
       "             scoring='roc_auc', verbose=2)"
      ]
     },
     "execution_count": 218,
     "metadata": {},
     "output_type": "execute_result"
    }
   ],
   "source": [
    "grid_rfpca.fit(X_train, y_train)"
   ]
  },
  {
   "cell_type": "code",
   "execution_count": 220,
   "id": "5ce21af8",
   "metadata": {
    "ExecuteTime": {
     "end_time": "2022-02-01T09:48:29.691350Z",
     "start_time": "2022-02-01T09:48:29.496375Z"
    }
   },
   "outputs": [
    {
     "data": {
      "text/plain": [
       "<sklearn.metrics._plot.confusion_matrix.ConfusionMatrixDisplay at 0x20289b865e0>"
      ]
     },
     "execution_count": 220,
     "metadata": {},
     "output_type": "execute_result"
    },
    {
     "data": {
      "image/png": "[encoded data removed]",
      "text/plain": [
       "<Figure size 432x288 with 2 Axes>"
      ]
     },
     "metadata": {
      "needs_background": "light"
     },
     "output_type": "display_data"
    }
   ],
   "source": [
    "plot_confusion_matrix(grid_rfpca, X_test, y_test)"
   ]
  },
  {
   "cell_type": "code",
   "execution_count": 221,
   "id": "f2674d22",
   "metadata": {
    "ExecuteTime": {
     "end_time": "2022-02-01T09:48:42.968249Z",
     "start_time": "2022-02-01T09:48:41.077710Z"
    }
   },
   "outputs": [],
   "source": [
    "submit_kaggle('submit_rfpca', grid_rfpca)"
   ]
  },
  {
   "cell_type": "markdown",
   "id": "9d78504d",
   "metadata": {},
   "source": [
    "###  Random Forest w/smote and pca50 Kaggle\n",
    "\n",
    "<img src=\"../images/submit_rfsmotepca.png\" alt=\"not great\">"
   ]
  },
  {
   "cell_type": "code",
   "execution_count": 223,
   "id": "e588070f",
   "metadata": {
    "ExecuteTime": {
     "end_time": "2022-02-01T09:56:13.738998Z",
     "start_time": "2022-02-01T09:56:13.598763Z"
    }
   },
   "outputs": [],
   "source": [
    "pred = grid_rfpca.predict(X_test)\n",
    "pred_prob = grid_rfpca.predict_proba(X_test)[:, 1]\n",
    "\n",
    "table = {'Model': rf}\n",
    "table['Type'] = 'pcasmote'\n",
    "table['ROC-AUC'] = roc_auc_score(y_test, pred_prob)\n",
    "table['Precision'] = precision_score(y_test, pred)\n",
    "table['Recall'] = recall_score(y_test, pred)\n",
    "table['F1'] = f1_score(y_test, pred)\n",
    "\n",
    "for key, value in grid_rfpca.best_params_.items():\n",
    "        table[key] = value\n",
    "\n",
    "scoring_table.append(table)"
   ]
  },
  {
   "cell_type": "markdown",
   "id": "48764381",
   "metadata": {},
   "source": [
    "# Log Reg w/SMOTE"
   ]
  },
  {
   "cell_type": "code",
   "execution_count": 78,
   "id": "911f8101",
   "metadata": {
    "ExecuteTime": {
     "end_time": "2022-01-31T09:18:17.957257Z",
     "start_time": "2022-01-31T09:18:17.946602Z"
    }
   },
   "outputs": [],
   "source": [
    "lr = LogisticRegression(\n",
    "    solver='liblinear',\n",
    "    random_state=42,\n",
    ")\n",
    "\n",
    "params_lr_smote = {\n",
    "    'clsf__penalty': ['l1', 'l2'],\n",
    "    'clsf__C': [0.1, 1.5, 10, 40],\n",
    "    'clsf__max_iter': [50, 200, 1000],\n",
    "    'smpl__k_neighbors': [3, 5, 7],\n",
    "}"
   ]
  },
  {
   "cell_type": "code",
   "execution_count": 79,
   "id": "cd4099ff",
   "metadata": {
    "ExecuteTime": {
     "end_time": "2022-01-31T09:20:10.669122Z",
     "start_time": "2022-01-31T09:18:22.334605Z"
    },
    "scrolled": true
   },
   "outputs": [
    {
     "name": "stdout",
     "output_type": "stream",
     "text": [
      "Fitting 4 folds for each of 72 candidates, totalling 288 fits\n",
      "\n",
      "\n",
      "==============================\n",
      "\u001b[1m LogisticRegression(random_state=42, solver='liblinear') \u001b[0m\n",
      "==============================\n",
      "\n",
      " Best Parameters:\n",
      "------------------------------ \n",
      "\n",
      "clsf__C : 0.1\n",
      "clsf__max_iter : 50\n",
      "clsf__penalty : l2\n",
      "smpl__k_neighbors : 5\n",
      "[[1323  682]\n",
      " [  18   96]]\n"
     ]
    }
   ],
   "source": [
    "gs_lr_smote = run_model(lr, params_lr_smote, 'smote')"
   ]
  },
  {
   "cell_type": "code",
   "execution_count": 80,
   "id": "c4ca3b40",
   "metadata": {
    "ExecuteTime": {
     "end_time": "2022-01-31T09:20:59.898711Z",
     "start_time": "2022-01-31T09:20:59.400182Z"
    }
   },
   "outputs": [
    {
     "data": {
      "text/plain": [
       "<sklearn.metrics._plot.confusion_matrix.ConfusionMatrixDisplay at 0x202fcee1fa0>"
      ]
     },
     "execution_count": 80,
     "metadata": {},
     "output_type": "execute_result"
    },
    {
     "data": {
      "image/png": "[encoded data removed]",
      "text/plain": [
       "<Figure size 432x288 with 2 Axes>"
      ]
     },
     "metadata": {
      "needs_background": "light"
     },
     "output_type": "display_data"
    }
   ],
   "source": [
    "plot_confusion_matrix(gs_lr_smote, X_test, y_test)"
   ]
  },
  {
   "cell_type": "code",
   "execution_count": 81,
   "id": "8e3c2ab0",
   "metadata": {
    "ExecuteTime": {
     "end_time": "2022-01-31T09:21:11.840077Z",
     "start_time": "2022-01-31T09:21:11.797147Z"
    }
   },
   "outputs": [
    {
     "data": {
      "text/html": [
       "<div>\n",
       "<style scoped>\n",
       "    .dataframe tbody tr th:only-of-type {\n",
       "        vertical-align: middle;\n",
       "    }\n",
       "\n",
       "    .dataframe tbody tr th {\n",
       "        vertical-align: top;\n",
       "    }\n",
       "\n",
       "    .dataframe thead th {\n",
       "        text-align: right;\n",
       "    }\n",
       "</style>\n",
       "<table border=\"1\" class=\"dataframe\">\n",
       "  <thead>\n",
       "    <tr style=\"text-align: right;\">\n",
       "      <th></th>\n",
       "      <th>Model</th>\n",
       "      <th>Type</th>\n",
       "      <th>ROC-AUC</th>\n",
       "      <th>Precision</th>\n",
       "      <th>Recall</th>\n",
       "      <th>F1</th>\n",
       "      <th>clsf__ccp_alpha</th>\n",
       "      <th>clsf__max_depth</th>\n",
       "      <th>clsf__n_estimators</th>\n",
       "      <th>clsf__learning_rate</th>\n",
       "      <th>clsf__C</th>\n",
       "      <th>clsf__max_iter</th>\n",
       "      <th>clsf__penalty</th>\n",
       "      <th>smpl__k_neighbors</th>\n",
       "    </tr>\n",
       "  </thead>\n",
       "  <tbody>\n",
       "    <tr>\n",
       "      <th>0</th>\n",
       "      <td>RandomForestClassifier(n_jobs=4, random_state=42)</td>\n",
       "      <td>reg</td>\n",
       "      <td>0.856081</td>\n",
       "      <td>0.750000</td>\n",
       "      <td>0.052632</td>\n",
       "      <td>0.098361</td>\n",
       "      <td>0.0</td>\n",
       "      <td>10.0</td>\n",
       "      <td>300.0</td>\n",
       "      <td>NaN</td>\n",
       "      <td>NaN</td>\n",
       "      <td>NaN</td>\n",
       "      <td>NaN</td>\n",
       "      <td>NaN</td>\n",
       "    </tr>\n",
       "    <tr>\n",
       "      <th>1</th>\n",
       "      <td>GradientBoostingClassifier(random_state=42)</td>\n",
       "      <td>reg</td>\n",
       "      <td>0.835177</td>\n",
       "      <td>0.523810</td>\n",
       "      <td>0.096491</td>\n",
       "      <td>0.162963</td>\n",
       "      <td>0.0</td>\n",
       "      <td>7.0</td>\n",
       "      <td>350.0</td>\n",
       "      <td>0.01</td>\n",
       "      <td>NaN</td>\n",
       "      <td>NaN</td>\n",
       "      <td>NaN</td>\n",
       "      <td>NaN</td>\n",
       "    </tr>\n",
       "    <tr>\n",
       "      <th>2</th>\n",
       "      <td>LogisticRegression(random_state=42, solver='li...</td>\n",
       "      <td>smote</td>\n",
       "      <td>0.811014</td>\n",
       "      <td>0.123393</td>\n",
       "      <td>0.842105</td>\n",
       "      <td>0.215247</td>\n",
       "      <td>NaN</td>\n",
       "      <td>NaN</td>\n",
       "      <td>NaN</td>\n",
       "      <td>NaN</td>\n",
       "      <td>0.1</td>\n",
       "      <td>50.0</td>\n",
       "      <td>l2</td>\n",
       "      <td>5.0</td>\n",
       "    </tr>\n",
       "  </tbody>\n",
       "</table>\n",
       "</div>"
      ],
      "text/plain": [
       "                                               Model   Type   ROC-AUC  \\\n",
       "0  RandomForestClassifier(n_jobs=4, random_state=42)    reg  0.856081   \n",
       "1        GradientBoostingClassifier(random_state=42)    reg  0.835177   \n",
       "2  LogisticRegression(random_state=42, solver='li...  smote  0.811014   \n",
       "\n",
       "   Precision    Recall        F1  clsf__ccp_alpha  clsf__max_depth  \\\n",
       "0   0.750000  0.052632  0.098361              0.0             10.0   \n",
       "1   0.523810  0.096491  0.162963              0.0              7.0   \n",
       "2   0.123393  0.842105  0.215247              NaN              NaN   \n",
       "\n",
       "   clsf__n_estimators  clsf__learning_rate  clsf__C  clsf__max_iter  \\\n",
       "0               300.0                  NaN      NaN             NaN   \n",
       "1               350.0                 0.01      NaN             NaN   \n",
       "2                 NaN                  NaN      0.1            50.0   \n",
       "\n",
       "  clsf__penalty  smpl__k_neighbors  \n",
       "0           NaN                NaN  \n",
       "1           NaN                NaN  \n",
       "2            l2                5.0  "
      ]
     },
     "execution_count": 81,
     "metadata": {},
     "output_type": "execute_result"
    }
   ],
   "source": [
    "pd.DataFrame(scoring_table)"
   ]
  },
  {
   "cell_type": "code",
   "execution_count": 462,
   "id": "1b50e306",
   "metadata": {
    "ExecuteTime": {
     "end_time": "2022-01-30T14:16:24.660510Z",
     "start_time": "2022-01-30T14:16:24.626191Z"
    }
   },
   "outputs": [
    {
     "data": {
      "text/html": [
       "<div>\n",
       "<style scoped>\n",
       "    .dataframe tbody tr th:only-of-type {\n",
       "        vertical-align: middle;\n",
       "    }\n",
       "\n",
       "    .dataframe tbody tr th {\n",
       "        vertical-align: top;\n",
       "    }\n",
       "\n",
       "    .dataframe thead th {\n",
       "        text-align: right;\n",
       "    }\n",
       "</style>\n",
       "<table border=\"1\" class=\"dataframe\">\n",
       "  <thead>\n",
       "    <tr style=\"text-align: right;\">\n",
       "      <th></th>\n",
       "      <th>Model</th>\n",
       "      <th>Type</th>\n",
       "      <th>ROC-AUC</th>\n",
       "      <th>Precision</th>\n",
       "      <th>Recall</th>\n",
       "      <th>F1</th>\n",
       "      <th>clsf__ccp_alpha</th>\n",
       "      <th>clsf__max_depth</th>\n",
       "      <th>clsf__n_estimators</th>\n",
       "      <th>clsf__learning_rate</th>\n",
       "      <th>clsf__C</th>\n",
       "      <th>clsf__max_iter</th>\n",
       "      <th>clsf__penalty</th>\n",
       "      <th>smpl__k_neighbors</th>\n",
       "      <th>smpl__sampling_strategy</th>\n",
       "    </tr>\n",
       "  </thead>\n",
       "  <tbody>\n",
       "    <tr>\n",
       "      <th>0</th>\n",
       "      <td>RandomForestClassifier(n_jobs=4, random_state=42)</td>\n",
       "      <td>reg</td>\n",
       "      <td>0.862611</td>\n",
       "      <td>0.000000</td>\n",
       "      <td>0.000000</td>\n",
       "      <td>0.000000</td>\n",
       "      <td>0.0</td>\n",
       "      <td>7.0</td>\n",
       "      <td>300.0</td>\n",
       "      <td>NaN</td>\n",
       "      <td>NaN</td>\n",
       "      <td>NaN</td>\n",
       "      <td>NaN</td>\n",
       "      <td>NaN</td>\n",
       "      <td>NaN</td>\n",
       "    </tr>\n",
       "    <tr>\n",
       "      <th>1</th>\n",
       "      <td>GradientBoostingClassifier(random_state=42)</td>\n",
       "      <td>reg</td>\n",
       "      <td>0.830564</td>\n",
       "      <td>0.291139</td>\n",
       "      <td>0.201754</td>\n",
       "      <td>0.238342</td>\n",
       "      <td>0.0</td>\n",
       "      <td>7.0</td>\n",
       "      <td>200.0</td>\n",
       "      <td>0.10</td>\n",
       "      <td>NaN</td>\n",
       "      <td>NaN</td>\n",
       "      <td>NaN</td>\n",
       "      <td>NaN</td>\n",
       "      <td>NaN</td>\n",
       "    </tr>\n",
       "    <tr>\n",
       "      <th>2</th>\n",
       "      <td>GradientBoostingClassifier(random_state=42)</td>\n",
       "      <td>pca</td>\n",
       "      <td>0.835033</td>\n",
       "      <td>0.480000</td>\n",
       "      <td>0.105263</td>\n",
       "      <td>0.172662</td>\n",
       "      <td>0.0</td>\n",
       "      <td>7.0</td>\n",
       "      <td>350.0</td>\n",
       "      <td>0.01</td>\n",
       "      <td>NaN</td>\n",
       "      <td>NaN</td>\n",
       "      <td>NaN</td>\n",
       "      <td>NaN</td>\n",
       "      <td>NaN</td>\n",
       "    </tr>\n",
       "    <tr>\n",
       "      <th>3</th>\n",
       "      <td>LogisticRegression(random_state=42, solver='li...</td>\n",
       "      <td>pca</td>\n",
       "      <td>0.783445</td>\n",
       "      <td>0.000000</td>\n",
       "      <td>0.000000</td>\n",
       "      <td>0.000000</td>\n",
       "      <td>NaN</td>\n",
       "      <td>NaN</td>\n",
       "      <td>NaN</td>\n",
       "      <td>NaN</td>\n",
       "      <td>10.0</td>\n",
       "      <td>50.0</td>\n",
       "      <td>l2</td>\n",
       "      <td>NaN</td>\n",
       "      <td>NaN</td>\n",
       "    </tr>\n",
       "    <tr>\n",
       "      <th>4</th>\n",
       "      <td>LogisticRegression(random_state=42, solver='sa...</td>\n",
       "      <td>pca</td>\n",
       "      <td>0.783388</td>\n",
       "      <td>0.000000</td>\n",
       "      <td>0.000000</td>\n",
       "      <td>0.000000</td>\n",
       "      <td>NaN</td>\n",
       "      <td>NaN</td>\n",
       "      <td>NaN</td>\n",
       "      <td>NaN</td>\n",
       "      <td>40.0</td>\n",
       "      <td>1000.0</td>\n",
       "      <td>l2</td>\n",
       "      <td>NaN</td>\n",
       "      <td>NaN</td>\n",
       "    </tr>\n",
       "    <tr>\n",
       "      <th>5</th>\n",
       "      <td>LogisticRegression(random_state=42, solver='li...</td>\n",
       "      <td>smote</td>\n",
       "      <td>0.782898</td>\n",
       "      <td>0.113842</td>\n",
       "      <td>0.771930</td>\n",
       "      <td>0.198422</td>\n",
       "      <td>NaN</td>\n",
       "      <td>NaN</td>\n",
       "      <td>NaN</td>\n",
       "      <td>NaN</td>\n",
       "      <td>0.1</td>\n",
       "      <td>50.0</td>\n",
       "      <td>l1</td>\n",
       "      <td>5.0</td>\n",
       "      <td>minority</td>\n",
       "    </tr>\n",
       "    <tr>\n",
       "      <th>6</th>\n",
       "      <td>GradientBoostingClassifier(random_state=42)</td>\n",
       "      <td>smote</td>\n",
       "      <td>0.843306</td>\n",
       "      <td>0.223350</td>\n",
       "      <td>0.385965</td>\n",
       "      <td>0.282958</td>\n",
       "      <td>0.0</td>\n",
       "      <td>7.0</td>\n",
       "      <td>150.0</td>\n",
       "      <td>0.10</td>\n",
       "      <td>NaN</td>\n",
       "      <td>NaN</td>\n",
       "      <td>NaN</td>\n",
       "      <td>NaN</td>\n",
       "      <td>NaN</td>\n",
       "    </tr>\n",
       "  </tbody>\n",
       "</table>\n",
       "</div>"
      ],
      "text/plain": [
       "                                               Model   Type   ROC-AUC  \\\n",
       "0  RandomForestClassifier(n_jobs=4, random_state=42)    reg  0.862611   \n",
       "1        GradientBoostingClassifier(random_state=42)    reg  0.830564   \n",
       "2        GradientBoostingClassifier(random_state=42)    pca  0.835033   \n",
       "3  LogisticRegression(random_state=42, solver='li...    pca  0.783445   \n",
       "4  LogisticRegression(random_state=42, solver='sa...    pca  0.783388   \n",
       "5  LogisticRegression(random_state=42, solver='li...  smote  0.782898   \n",
       "6        GradientBoostingClassifier(random_state=42)  smote  0.843306   \n",
       "\n",
       "   Precision    Recall        F1  clsf__ccp_alpha  clsf__max_depth  \\\n",
       "0   0.000000  0.000000  0.000000              0.0              7.0   \n",
       "1   0.291139  0.201754  0.238342              0.0              7.0   \n",
       "2   0.480000  0.105263  0.172662              0.0              7.0   \n",
       "3   0.000000  0.000000  0.000000              NaN              NaN   \n",
       "4   0.000000  0.000000  0.000000              NaN              NaN   \n",
       "5   0.113842  0.771930  0.198422              NaN              NaN   \n",
       "6   0.223350  0.385965  0.282958              0.0              7.0   \n",
       "\n",
       "   clsf__n_estimators  clsf__learning_rate  clsf__C  clsf__max_iter  \\\n",
       "0               300.0                  NaN      NaN             NaN   \n",
       "1               200.0                 0.10      NaN             NaN   \n",
       "2               350.0                 0.01      NaN             NaN   \n",
       "3                 NaN                  NaN     10.0            50.0   \n",
       "4                 NaN                  NaN     40.0          1000.0   \n",
       "5                 NaN                  NaN      0.1            50.0   \n",
       "6               150.0                 0.10      NaN             NaN   \n",
       "\n",
       "  clsf__penalty  smpl__k_neighbors smpl__sampling_strategy  \n",
       "0           NaN                NaN                     NaN  \n",
       "1           NaN                NaN                     NaN  \n",
       "2           NaN                NaN                     NaN  \n",
       "3            l2                NaN                     NaN  \n",
       "4            l2                NaN                     NaN  \n",
       "5            l1                5.0                minority  \n",
       "6           NaN                NaN                     NaN  "
      ]
     },
     "execution_count": 462,
     "metadata": {},
     "output_type": "execute_result"
    }
   ],
   "source": [
    "pd.DataFrame(scoring_table)"
   ]
  },
  {
   "cell_type": "code",
   "execution_count": 82,
   "id": "84ce940e",
   "metadata": {
    "ExecuteTime": {
     "end_time": "2022-01-31T09:22:09.724253Z",
     "start_time": "2022-01-31T09:22:08.942174Z"
    }
   },
   "outputs": [],
   "source": [
    "submit_kaggle('submit_lr_smote', gs_lr_smote)"
   ]
  },
  {
   "cell_type": "markdown",
   "id": "b8239dc7",
   "metadata": {
    "ExecuteTime": {
     "end_time": "2022-01-28T16:14:00.177294Z",
     "start_time": "2022-01-28T16:14:00.169434Z"
    }
   },
   "source": [
    "###  LogReg w/smote Kaggle\n",
    "\n",
    "<img src=\"../images/submit_lrsmote2.png\" alt=\"not great\">"
   ]
  },
  {
   "cell_type": "markdown",
   "id": "baf955d2",
   "metadata": {},
   "source": [
    "# Gradient boost w/SMOTE\n"
   ]
  },
  {
   "cell_type": "code",
   "execution_count": 94,
   "id": "1fb60c7d",
   "metadata": {
    "ExecuteTime": {
     "end_time": "2022-01-31T13:21:35.688555Z",
     "start_time": "2022-01-31T13:21:35.679395Z"
    }
   },
   "outputs": [],
   "source": [
    "gb = GradientBoostingClassifier(random_state=42)\n",
    "\n",
    "params_gb_smote = {\n",
    "    'clsf__learning_rate': [ 0.05, 0.1],\n",
    "    'clsf__max_depth': [7, 10],\n",
    "    'clsf__ccp_alpha':[0, 0.01],\n",
    "    'clsf__n_estimators':[150, 300],\n",
    "    'smpl__k_neighbors': [3, 5, 7],\n",
    "}"
   ]
  },
  {
   "cell_type": "code",
   "execution_count": 95,
   "id": "6b3aae29",
   "metadata": {
    "ExecuteTime": {
     "end_time": "2022-01-31T13:29:50.341387Z",
     "start_time": "2022-01-31T13:21:43.472338Z"
    },
    "scrolled": true
   },
   "outputs": [
    {
     "name": "stdout",
     "output_type": "stream",
     "text": [
      "Fitting 4 folds for each of 16 candidates, totalling 64 fits\n",
      "\n",
      "\n",
      "==============================\n",
      "\u001b[1m GradientBoostingClassifier(random_state=42) \u001b[0m\n",
      "==============================\n",
      "\n",
      " Best Parameters:\n",
      "------------------------------ \n",
      "\n",
      "clsf__ccp_alpha : 0\n",
      "clsf__learning_rate : 0.05\n",
      "clsf__max_depth : 7\n",
      "clsf__n_estimators : 150\n",
      "[[1763  242]\n",
      " [  57   57]]\n"
     ]
    }
   ],
   "source": [
    "gs_gb_smote = run_model(gb, params_gb_smote, 'smote')"
   ]
  },
  {
   "cell_type": "code",
   "execution_count": 87,
   "id": "1642472e",
   "metadata": {
    "ExecuteTime": {
     "end_time": "2022-01-31T09:33:47.225413Z",
     "start_time": "2022-01-31T09:33:46.261628Z"
    }
   },
   "outputs": [],
   "source": [
    "submit_kaggle('submit_gb_smote', gs_gb_smotetomek)"
   ]
  },
  {
   "cell_type": "markdown",
   "id": "6c8deec0",
   "metadata": {},
   "source": [
    "### Gradient Boost w/smote Kaggle\n",
    "\n",
    "<img src=\"../images/submit_gbsmote.png\" alt=\"not great\">"
   ]
  },
  {
   "cell_type": "code",
   "execution_count": 99,
   "id": "ba1a85ab",
   "metadata": {
    "ExecuteTime": {
     "end_time": "2022-01-31T13:42:25.309617Z",
     "start_time": "2022-01-31T13:42:25.298875Z"
    }
   },
   "outputs": [],
   "source": [
    "gb = GradientBoostingClassifier(random_state=42)\n",
    "\n",
    "params_gb_smotetomek = {\n",
    "    'clsf__learning_rate': [0.025, 0.05],\n",
    "    'clsf__max_depth': [7, 10],\n",
    "    'clsf__ccp_alpha':[0, 0.01],\n",
    "    'clsf__n_estimators':[150, 250],\n",
    "    'smpl__sampling_strategy':['all', 'auto']\n",
    "}"
   ]
  },
  {
   "cell_type": "code",
   "execution_count": 100,
   "id": "fb35ab1b",
   "metadata": {
    "ExecuteTime": {
     "end_time": "2022-01-31T13:56:19.045884Z",
     "start_time": "2022-01-31T13:42:27.225518Z"
    }
   },
   "outputs": [
    {
     "name": "stdout",
     "output_type": "stream",
     "text": [
      "Fitting 4 folds for each of 32 candidates, totalling 128 fits\n",
      "\n",
      "\n",
      "==============================\n",
      "\u001b[1m GradientBoostingClassifier(random_state=42) \u001b[0m\n",
      "==============================\n",
      "\n",
      " Best Parameters:\n",
      "------------------------------ \n",
      "\n",
      "clsf__ccp_alpha : 0\n",
      "clsf__learning_rate : 0.05\n",
      "clsf__max_depth : 7\n",
      "clsf__n_estimators : 150\n",
      "smpl__sampling_strategy : all\n",
      "[[1756  249]\n",
      " [  53   61]]\n"
     ]
    }
   ],
   "source": [
    "gs_gb_smotetomek = run_model(gb, params_gb_smotetomek, 'smotetomek')"
   ]
  },
  {
   "cell_type": "code",
   "execution_count": 98,
   "id": "e62027f5",
   "metadata": {
    "ExecuteTime": {
     "end_time": "2022-01-31T13:34:16.567174Z",
     "start_time": "2022-01-31T13:34:14.975859Z"
    }
   },
   "outputs": [],
   "source": [
    "submit_kaggle('submit_gbsmotetomek', gs_gb_smotetomek)"
   ]
  },
  {
   "cell_type": "markdown",
   "id": "0b555820",
   "metadata": {},
   "source": [
    "### Gradient boost w/smotetomek Kaggle\n",
    "\n",
    "<img src=\"../images/submit_gbsmotetomek.png\" alt=\"not great\">"
   ]
  },
  {
   "cell_type": "markdown",
   "id": "c69d242c",
   "metadata": {},
   "source": [
    "## Random Forest w/smote"
   ]
  },
  {
   "cell_type": "code",
   "execution_count": 101,
   "id": "4712125a",
   "metadata": {
    "ExecuteTime": {
     "end_time": "2022-01-31T13:57:58.335541Z",
     "start_time": "2022-01-31T13:57:58.320193Z"
    }
   },
   "outputs": [],
   "source": [
    "rf = RandomForestClassifier(random_state=42, n_jobs=4)\n",
    "\n",
    "params_rf_smote = {\n",
    "    'clsf__n_estimators': [150, 250],\n",
    "    'clsf__max_depth': [ 5, 7],\n",
    "    'clsf__ccp_alpha':[0, 0.01],\n",
    "    'smpl__k_neighbors': [3, 5, 7],\n",
    "}"
   ]
  },
  {
   "cell_type": "code",
   "execution_count": 102,
   "id": "aa07a99b",
   "metadata": {
    "ExecuteTime": {
     "end_time": "2022-01-31T13:59:21.697251Z",
     "start_time": "2022-01-31T13:58:40.663050Z"
    },
    "scrolled": true
   },
   "outputs": [
    {
     "name": "stdout",
     "output_type": "stream",
     "text": [
      "Fitting 4 folds for each of 24 candidates, totalling 96 fits\n",
      "\n",
      "\n",
      "==============================\n",
      "\u001b[1m RandomForestClassifier(n_jobs=4, random_state=42) \u001b[0m\n",
      "==============================\n",
      "\n",
      " Best Parameters:\n",
      "------------------------------ \n",
      "\n",
      "clsf__ccp_alpha : 0\n",
      "clsf__max_depth : 7\n",
      "clsf__n_estimators : 250\n",
      "smpl__k_neighbors : 5\n",
      "[[1429  576]\n",
      " [  24   90]]\n"
     ]
    }
   ],
   "source": [
    "gs_rf_smote = run_model(rf, params_rf_smote, 'smote')"
   ]
  },
  {
   "cell_type": "code",
   "execution_count": 103,
   "id": "507a655b",
   "metadata": {
    "ExecuteTime": {
     "end_time": "2022-01-31T14:01:51.737884Z",
     "start_time": "2022-01-31T14:01:50.553519Z"
    }
   },
   "outputs": [],
   "source": [
    "submit_kaggle('rf_smote', gs_rf_smote)"
   ]
  },
  {
   "cell_type": "markdown",
   "id": "4e70bccc",
   "metadata": {},
   "source": [
    "### Random Forest w/smote Kaggle\n",
    "\n",
    "<img src=\"../images/submit_rfsmote2.png\" alt=\"not great\">"
   ]
  },
  {
   "cell_type": "markdown",
   "id": "f6e56910",
   "metadata": {},
   "source": [
    "## XGboost w smotetomek"
   ]
  },
  {
   "cell_type": "code",
   "execution_count": 116,
   "id": "967c5341",
   "metadata": {
    "ExecuteTime": {
     "end_time": "2022-01-31T15:09:32.696617Z",
     "start_time": "2022-01-31T15:09:32.685656Z"
    }
   },
   "outputs": [],
   "source": [
    "xg_smotetomek = XGBClassifier(\n",
    "    use_label_encoder=False,\n",
    "    eval_metric='auc',\n",
    "    objective='binary:logistic',\n",
    "    random_state=42,\n",
    ")\n",
    "\n",
    "xg_smotetomek_params = { \n",
    "    'clsf__max_depth': [3, 5],\n",
    "    'clsf__gamma' : [0.15, 0.25],\n",
    "    'clsf__learning_rate' : [0.125, 0.2],\n",
    "    'clsf__n_estimators':[150, 200],\n",
    "    'clsf__reg_alpha':[5,10],\n",
    "    'smpl__sampling_strategy':['all', 'auto', 'not minority']\n",
    "}"
   ]
  },
  {
   "cell_type": "code",
   "execution_count": 117,
   "id": "6108814f",
   "metadata": {
    "ExecuteTime": {
     "end_time": "2022-01-31T15:10:17.068812Z",
     "start_time": "2022-01-31T15:09:40.696530Z"
    }
   },
   "outputs": [
    {
     "name": "stdout",
     "output_type": "stream",
     "text": [
      "Fitting 4 folds for each of 8 candidates, totalling 32 fits\n",
      "\n",
      "\n",
      "==============================\n",
      "\u001b[1m XGBClassifier(base_score=None, booster=None, colsample_bylevel=None,\n",
      "              colsample_bynode=None, colsample_bytree=None,\n",
      "              enable_categorical=False, eval_metric='auc', gamma=None,\n",
      "              gpu_id=None, importance_type=None, interaction_constraints=None,\n",
      "              learning_rate=None, max_delta_step=None, max_depth=None,\n",
      "              min_child_weight=None, missing=nan, monotone_constraints=None,\n",
      "              n_estimators=100, n_jobs=None, num_parallel_tree=None,\n",
      "              predictor=None, random_state=42, reg_alpha=None, reg_lambda=None,\n",
      "              scale_pos_weight=None, subsample=None, tree_method=None,\n",
      "              use_label_encoder=False, validate_parameters=None,\n",
      "              verbosity=None) \u001b[0m\n",
      "==============================\n",
      "\n",
      " Best Parameters:\n",
      "------------------------------ \n",
      "\n",
      "clsf__gamma : 0.15\n",
      "clsf__learning_rate : 0.125\n",
      "clsf__max_depth : 5\n",
      "clsf__n_estimators : 150\n",
      "clsf__reg_alpha : 10\n",
      "smpl__sampling_strategy : all\n",
      "[[1761  244]\n",
      " [  51   63]]\n"
     ]
    }
   ],
   "source": [
    "gs_xg_smotetomek = run_model(xg_smotetomek, xg_smotetomek_params, kind='smotetomek')"
   ]
  },
  {
   "cell_type": "code",
   "execution_count": 118,
   "id": "ba03da67",
   "metadata": {
    "ExecuteTime": {
     "end_time": "2022-01-31T15:13:31.119217Z",
     "start_time": "2022-01-31T15:13:30.406645Z"
    }
   },
   "outputs": [],
   "source": [
    "submit_kaggle('submit_xgsmotetomek', gs_xg_smotetomek)"
   ]
  },
  {
   "cell_type": "markdown",
   "id": "4fa88176",
   "metadata": {
    "ExecuteTime": {
     "end_time": "2022-01-31T15:30:38.109289Z",
     "start_time": "2022-01-31T15:30:38.099411Z"
    }
   },
   "source": [
    "### XGBoost w/smote Kaggle\n",
    "\n",
    "<img src=\"../images/submit_xgsmotetomek.png\" alt=\"not great\">"
   ]
  },
  {
   "cell_type": "code",
   "execution_count": 231,
   "id": "2997065b",
   "metadata": {
    "ExecuteTime": {
     "end_time": "2022-02-01T09:59:27.521826Z",
     "start_time": "2022-02-01T09:59:27.515742Z"
    }
   },
   "outputs": [],
   "source": [
    "# del scoring_table[8]"
   ]
  },
  {
   "cell_type": "code",
   "execution_count": 237,
   "id": "73edf05d",
   "metadata": {
    "ExecuteTime": {
     "end_time": "2022-02-01T10:23:04.100310Z",
     "start_time": "2022-02-01T10:23:04.076958Z"
    },
    "scrolled": false
   },
   "outputs": [
    {
     "data": {
      "text/html": [
       "<div>\n",
       "<style scoped>\n",
       "    .dataframe tbody tr th:only-of-type {\n",
       "        vertical-align: middle;\n",
       "    }\n",
       "\n",
       "    .dataframe tbody tr th {\n",
       "        vertical-align: top;\n",
       "    }\n",
       "\n",
       "    .dataframe thead th {\n",
       "        text-align: right;\n",
       "    }\n",
       "</style>\n",
       "<table border=\"1\" class=\"dataframe\">\n",
       "  <thead>\n",
       "    <tr style=\"text-align: right;\">\n",
       "      <th></th>\n",
       "      <th>Model</th>\n",
       "      <th>Type</th>\n",
       "      <th>ROC-AUC</th>\n",
       "      <th>Precision</th>\n",
       "      <th>Recall</th>\n",
       "      <th>F1</th>\n",
       "      <th>clsf__ccp_alpha</th>\n",
       "      <th>clsf__max_depth</th>\n",
       "      <th>clsf__n_estimators</th>\n",
       "      <th>clsf__learning_rate</th>\n",
       "      <th>clsf__C</th>\n",
       "      <th>clsf__max_iter</th>\n",
       "      <th>clsf__penalty</th>\n",
       "      <th>smpl__k_neighbors</th>\n",
       "      <th>smpl__sampling_strategy</th>\n",
       "      <th>clsf__gamma</th>\n",
       "      <th>clsf__reg_alpha</th>\n",
       "      <th>clsf__min_samples_leaf</th>\n",
       "      <th>Kaggle_AUC</th>\n",
       "    </tr>\n",
       "  </thead>\n",
       "  <tbody>\n",
       "    <tr>\n",
       "      <th>0</th>\n",
       "      <td>RandomForestClassifier(n_jobs=4, random_state=42)</td>\n",
       "      <td>reg</td>\n",
       "      <td>0.856081</td>\n",
       "      <td>0.750000</td>\n",
       "      <td>0.052632</td>\n",
       "      <td>0.098361</td>\n",
       "      <td>0.0</td>\n",
       "      <td>10.0</td>\n",
       "      <td>300.0</td>\n",
       "      <td>NaN</td>\n",
       "      <td>NaN</td>\n",
       "      <td>NaN</td>\n",
       "      <td>NaN</td>\n",
       "      <td>NaN</td>\n",
       "      <td>NaN</td>\n",
       "      <td>NaN</td>\n",
       "      <td>NaN</td>\n",
       "      <td>NaN</td>\n",
       "      <td>0.712</td>\n",
       "    </tr>\n",
       "    <tr>\n",
       "      <th>1</th>\n",
       "      <td>GradientBoostingClassifier(random_state=42)</td>\n",
       "      <td>reg</td>\n",
       "      <td>0.835177</td>\n",
       "      <td>0.523810</td>\n",
       "      <td>0.096491</td>\n",
       "      <td>0.162963</td>\n",
       "      <td>0.0</td>\n",
       "      <td>7.0</td>\n",
       "      <td>350.0</td>\n",
       "      <td>0.010</td>\n",
       "      <td>NaN</td>\n",
       "      <td>NaN</td>\n",
       "      <td>NaN</td>\n",
       "      <td>NaN</td>\n",
       "      <td>NaN</td>\n",
       "      <td>NaN</td>\n",
       "      <td>NaN</td>\n",
       "      <td>NaN</td>\n",
       "      <td>0.718</td>\n",
       "    </tr>\n",
       "    <tr>\n",
       "      <th>2</th>\n",
       "      <td>LogisticRegression(random_state=42, solver='li...</td>\n",
       "      <td>smote</td>\n",
       "      <td>0.811014</td>\n",
       "      <td>0.123393</td>\n",
       "      <td>0.842105</td>\n",
       "      <td>0.215247</td>\n",
       "      <td>NaN</td>\n",
       "      <td>NaN</td>\n",
       "      <td>NaN</td>\n",
       "      <td>NaN</td>\n",
       "      <td>0.1</td>\n",
       "      <td>50.0</td>\n",
       "      <td>l2</td>\n",
       "      <td>5.0</td>\n",
       "      <td>NaN</td>\n",
       "      <td>NaN</td>\n",
       "      <td>NaN</td>\n",
       "      <td>NaN</td>\n",
       "      <td>0.685</td>\n",
       "    </tr>\n",
       "    <tr>\n",
       "      <th>3</th>\n",
       "      <td>GradientBoostingClassifier(random_state=42)</td>\n",
       "      <td>smote</td>\n",
       "      <td>0.835501</td>\n",
       "      <td>0.190635</td>\n",
       "      <td>0.500000</td>\n",
       "      <td>0.276029</td>\n",
       "      <td>0.0</td>\n",
       "      <td>7.0</td>\n",
       "      <td>150.0</td>\n",
       "      <td>0.050</td>\n",
       "      <td>NaN</td>\n",
       "      <td>NaN</td>\n",
       "      <td>NaN</td>\n",
       "      <td>NaN</td>\n",
       "      <td>NaN</td>\n",
       "      <td>NaN</td>\n",
       "      <td>NaN</td>\n",
       "      <td>NaN</td>\n",
       "      <td>0.697</td>\n",
       "    </tr>\n",
       "    <tr>\n",
       "      <th>4</th>\n",
       "      <td>GradientBoostingClassifier(random_state=42)</td>\n",
       "      <td>smotetomek</td>\n",
       "      <td>0.837258</td>\n",
       "      <td>0.196774</td>\n",
       "      <td>0.535088</td>\n",
       "      <td>0.287736</td>\n",
       "      <td>0.0</td>\n",
       "      <td>7.0</td>\n",
       "      <td>150.0</td>\n",
       "      <td>0.050</td>\n",
       "      <td>NaN</td>\n",
       "      <td>NaN</td>\n",
       "      <td>NaN</td>\n",
       "      <td>NaN</td>\n",
       "      <td>all</td>\n",
       "      <td>NaN</td>\n",
       "      <td>NaN</td>\n",
       "      <td>NaN</td>\n",
       "      <td>0.700</td>\n",
       "    </tr>\n",
       "    <tr>\n",
       "      <th>5</th>\n",
       "      <td>RandomForestClassifier(n_jobs=4, random_state=42)</td>\n",
       "      <td>smote</td>\n",
       "      <td>0.829269</td>\n",
       "      <td>0.135135</td>\n",
       "      <td>0.789474</td>\n",
       "      <td>0.230769</td>\n",
       "      <td>0.0</td>\n",
       "      <td>7.0</td>\n",
       "      <td>250.0</td>\n",
       "      <td>NaN</td>\n",
       "      <td>NaN</td>\n",
       "      <td>NaN</td>\n",
       "      <td>NaN</td>\n",
       "      <td>5.0</td>\n",
       "      <td>NaN</td>\n",
       "      <td>NaN</td>\n",
       "      <td>NaN</td>\n",
       "      <td>NaN</td>\n",
       "      <td>0.716</td>\n",
       "    </tr>\n",
       "    <tr>\n",
       "      <th>6</th>\n",
       "      <td>XGBClassifier(base_score=None, booster=None, c...</td>\n",
       "      <td>smotetomek</td>\n",
       "      <td>0.840869</td>\n",
       "      <td>0.205212</td>\n",
       "      <td>0.552632</td>\n",
       "      <td>0.299287</td>\n",
       "      <td>NaN</td>\n",
       "      <td>5.0</td>\n",
       "      <td>150.0</td>\n",
       "      <td>0.125</td>\n",
       "      <td>NaN</td>\n",
       "      <td>NaN</td>\n",
       "      <td>NaN</td>\n",
       "      <td>NaN</td>\n",
       "      <td>all</td>\n",
       "      <td>0.15</td>\n",
       "      <td>10.0</td>\n",
       "      <td>NaN</td>\n",
       "      <td>0.707</td>\n",
       "    </tr>\n",
       "    <tr>\n",
       "      <th>7</th>\n",
       "      <td>GradientBoostingClassifier(random_state=42)</td>\n",
       "      <td>pca</td>\n",
       "      <td>0.831113</td>\n",
       "      <td>0.384615</td>\n",
       "      <td>0.131579</td>\n",
       "      <td>0.196078</td>\n",
       "      <td>0.0</td>\n",
       "      <td>7.0</td>\n",
       "      <td>350.0</td>\n",
       "      <td>0.010</td>\n",
       "      <td>NaN</td>\n",
       "      <td>NaN</td>\n",
       "      <td>NaN</td>\n",
       "      <td>NaN</td>\n",
       "      <td>NaN</td>\n",
       "      <td>NaN</td>\n",
       "      <td>NaN</td>\n",
       "      <td>NaN</td>\n",
       "      <td>0.648</td>\n",
       "    </tr>\n",
       "    <tr>\n",
       "      <th>8</th>\n",
       "      <td>RandomForestClassifier(random_state=42)</td>\n",
       "      <td>pcasmote</td>\n",
       "      <td>0.828420</td>\n",
       "      <td>0.160569</td>\n",
       "      <td>0.692982</td>\n",
       "      <td>0.260726</td>\n",
       "      <td>NaN</td>\n",
       "      <td>7.0</td>\n",
       "      <td>200.0</td>\n",
       "      <td>NaN</td>\n",
       "      <td>NaN</td>\n",
       "      <td>NaN</td>\n",
       "      <td>NaN</td>\n",
       "      <td>NaN</td>\n",
       "      <td>NaN</td>\n",
       "      <td>NaN</td>\n",
       "      <td>NaN</td>\n",
       "      <td>4.0</td>\n",
       "      <td>0.698</td>\n",
       "    </tr>\n",
       "    <tr>\n",
       "      <th>9</th>\n",
       "      <td>LogisticRegression(random_state=42, solver='li...</td>\n",
       "      <td>pcasmote</td>\n",
       "      <td>0.808610</td>\n",
       "      <td>0.132353</td>\n",
       "      <td>0.789474</td>\n",
       "      <td>0.226700</td>\n",
       "      <td>NaN</td>\n",
       "      <td>NaN</td>\n",
       "      <td>NaN</td>\n",
       "      <td>NaN</td>\n",
       "      <td>0.1</td>\n",
       "      <td>200.0</td>\n",
       "      <td>l1</td>\n",
       "      <td>NaN</td>\n",
       "      <td>NaN</td>\n",
       "      <td>NaN</td>\n",
       "      <td>NaN</td>\n",
       "      <td>NaN</td>\n",
       "      <td>0.676</td>\n",
       "    </tr>\n",
       "  </tbody>\n",
       "</table>\n",
       "</div>"
      ],
      "text/plain": [
       "                                               Model        Type   ROC-AUC  \\\n",
       "0  RandomForestClassifier(n_jobs=4, random_state=42)         reg  0.856081   \n",
       "1        GradientBoostingClassifier(random_state=42)         reg  0.835177   \n",
       "2  LogisticRegression(random_state=42, solver='li...       smote  0.811014   \n",
       "3        GradientBoostingClassifier(random_state=42)       smote  0.835501   \n",
       "4        GradientBoostingClassifier(random_state=42)  smotetomek  0.837258   \n",
       "5  RandomForestClassifier(n_jobs=4, random_state=42)       smote  0.829269   \n",
       "6  XGBClassifier(base_score=None, booster=None, c...  smotetomek  0.840869   \n",
       "7        GradientBoostingClassifier(random_state=42)         pca  0.831113   \n",
       "8            RandomForestClassifier(random_state=42)    pcasmote  0.828420   \n",
       "9  LogisticRegression(random_state=42, solver='li...    pcasmote  0.808610   \n",
       "\n",
       "   Precision    Recall        F1  clsf__ccp_alpha  clsf__max_depth  \\\n",
       "0   0.750000  0.052632  0.098361              0.0             10.0   \n",
       "1   0.523810  0.096491  0.162963              0.0              7.0   \n",
       "2   0.123393  0.842105  0.215247              NaN              NaN   \n",
       "3   0.190635  0.500000  0.276029              0.0              7.0   \n",
       "4   0.196774  0.535088  0.287736              0.0              7.0   \n",
       "5   0.135135  0.789474  0.230769              0.0              7.0   \n",
       "6   0.205212  0.552632  0.299287              NaN              5.0   \n",
       "7   0.384615  0.131579  0.196078              0.0              7.0   \n",
       "8   0.160569  0.692982  0.260726              NaN              7.0   \n",
       "9   0.132353  0.789474  0.226700              NaN              NaN   \n",
       "\n",
       "   clsf__n_estimators  clsf__learning_rate  clsf__C  clsf__max_iter  \\\n",
       "0               300.0                  NaN      NaN             NaN   \n",
       "1               350.0                0.010      NaN             NaN   \n",
       "2                 NaN                  NaN      0.1            50.0   \n",
       "3               150.0                0.050      NaN             NaN   \n",
       "4               150.0                0.050      NaN             NaN   \n",
       "5               250.0                  NaN      NaN             NaN   \n",
       "6               150.0                0.125      NaN             NaN   \n",
       "7               350.0                0.010      NaN             NaN   \n",
       "8               200.0                  NaN      NaN             NaN   \n",
       "9                 NaN                  NaN      0.1           200.0   \n",
       "\n",
       "  clsf__penalty  smpl__k_neighbors smpl__sampling_strategy  clsf__gamma  \\\n",
       "0           NaN                NaN                     NaN          NaN   \n",
       "1           NaN                NaN                     NaN          NaN   \n",
       "2            l2                5.0                     NaN          NaN   \n",
       "3           NaN                NaN                     NaN          NaN   \n",
       "4           NaN                NaN                     all          NaN   \n",
       "5           NaN                5.0                     NaN          NaN   \n",
       "6           NaN                NaN                     all         0.15   \n",
       "7           NaN                NaN                     NaN          NaN   \n",
       "8           NaN                NaN                     NaN          NaN   \n",
       "9            l1                NaN                     NaN          NaN   \n",
       "\n",
       "   clsf__reg_alpha  clsf__min_samples_leaf  Kaggle_AUC  \n",
       "0              NaN                     NaN       0.712  \n",
       "1              NaN                     NaN       0.718  \n",
       "2              NaN                     NaN       0.685  \n",
       "3              NaN                     NaN       0.697  \n",
       "4              NaN                     NaN       0.700  \n",
       "5              NaN                     NaN       0.716  \n",
       "6             10.0                     NaN       0.707  \n",
       "7              NaN                     NaN       0.648  \n",
       "8              NaN                     4.0       0.698  \n",
       "9              NaN                     NaN       0.676  "
      ]
     },
     "execution_count": 237,
     "metadata": {},
     "output_type": "execute_result"
    }
   ],
   "source": [
    "Table = pd.DataFrame(scoring_table)\n",
    "Table"
   ]
  },
  {
   "cell_type": "code",
   "execution_count": 233,
   "id": "0086a645",
   "metadata": {
    "ExecuteTime": {
     "end_time": "2022-02-01T10:08:05.838769Z",
     "start_time": "2022-02-01T10:08:05.829832Z"
    }
   },
   "outputs": [],
   "source": [
    "Table['Kaggle_AUC'] = [0.712, 0.718, 0.648, 0.676, 0.698, 0.686, 0.697, 0.700, 0.716, 0.707]"
   ]
  },
  {
   "cell_type": "code",
   "execution_count": 238,
   "id": "e8a1402f",
   "metadata": {
    "ExecuteTime": {
     "end_time": "2022-02-01T10:23:20.053006Z",
     "start_time": "2022-02-01T10:23:20.036332Z"
    }
   },
   "outputs": [],
   "source": [
    "Table.to_csv('../datasets/modeltable2.csv', index=False)"
   ]
  },
  {
   "cell_type": "code",
   "execution_count": 235,
   "id": "f736e54d",
   "metadata": {
    "ExecuteTime": {
     "end_time": "2022-02-01T10:18:44.855875Z",
     "start_time": "2022-02-01T10:18:44.850798Z"
    }
   },
   "outputs": [],
   "source": [
    "# Table['Kaggle_AUC'] = [0.712, 0.718, 0.685, 0.697, 0.700, 0.716, 0.707, 0.648, 0.698, 0.676]"
   ]
  },
  {
   "cell_type": "code",
   "execution_count": null,
   "id": "e323ea4f",
   "metadata": {},
   "outputs": [],
   "source": []
  }
 ],
 "metadata": {
  "kernelspec": {
   "display_name": "Python 3",
   "language": "python",
   "name": "python3"
  },
  "language_info": {
   "codemirror_mode": {
    "name": "ipython",
    "version": 3
   },
   "file_extension": ".py",
   "mimetype": "text/x-python",
   "name": "python",
   "nbconvert_exporter": "python",
   "pygments_lexer": "ipython3",
   "version": "3.8.8"
  },
  "toc": {
   "base_numbering": 1,
   "nav_menu": {},
   "number_sections": false,
   "sideBar": true,
   "skip_h1_title": false,
   "title_cell": "Table of Contents",
   "title_sidebar": "Contents",
   "toc_cell": false,
   "toc_position": {
    "height": "calc(100% - 180px)",
    "left": "10px",
    "top": "150px",
    "width": "281.747px"
   },
   "toc_section_display": true,
   "toc_window_display": true
  },
  "varInspector": {
   "cols": {
    "lenName": 16,
    "lenType": 16,
    "lenVar": 40
   },
   "kernels_config": {
    "python": {
     "delete_cmd_postfix": "",
     "delete_cmd_prefix": "del ",
     "library": "var_list.py",
     "varRefreshCmd": "print(var_dic_list())"
    },
    "r": {
     "delete_cmd_postfix": ") ",
     "delete_cmd_prefix": "rm(",
     "library": "var_list.r",
     "varRefreshCmd": "cat(var_dic_list()) "
    }
   },
   "types_to_exclude": [
    "module",
    "function",
    "builtin_function_or_method",
    "instance",
    "_Feature"
   ],
   "window_display": false
  }
 },
 "nbformat": 4,
 "nbformat_minor": 5
}
